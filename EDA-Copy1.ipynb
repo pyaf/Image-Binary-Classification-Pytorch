{
 "cells": [
  {
   "cell_type": "code",
   "execution_count": 30,
   "metadata": {
    "ExecuteTime": {
     "end_time": "2019-03-11T15:46:32.009897Z",
     "start_time": "2019-03-11T15:46:32.002466Z"
    }
   },
   "outputs": [],
   "source": [
    "import pdb\n",
    "import torch\n",
    "from torch import nn\n",
    "import cv2\n",
    "import os\n",
    "from PIL import Image\n",
    "from skimage import io, transform\n",
    "import matplotlib.pyplot as plt\n",
    "import matplotlib.image as mpimg\n",
    "import pandas as pd\n",
    "from torchvision.datasets.folder import pil_loader\n",
    "import random\n",
    "import numpy as np\n",
    "from torchsummary import summary\n",
    "import pretrainedmodels\n",
    "from sklearn.model_selection import KFold, StratifiedKFold\n",
    "\n",
    "\n",
    "from albumentations import torch as AT\n",
    "os.environ['CUDA_VISIBLE_DEVICES']=\"\"\n",
    "%matplotlib inline"
   ]
  },
  {
   "cell_type": "code",
   "execution_count": 2,
   "metadata": {
    "ExecuteTime": {
     "end_time": "2019-03-10T07:37:34.823215Z",
     "start_time": "2019-03-10T07:37:34.694235Z"
    }
   },
   "outputs": [
    {
     "name": "stdout",
     "output_type": "stream",
     "text": [
      "sample_submission.csv  test  train  train_labels.csv\r\n"
     ]
    }
   ],
   "source": [
    "!ls data"
   ]
  },
  {
   "cell_type": "code",
   "execution_count": 3,
   "metadata": {
    "ExecuteTime": {
     "end_time": "2019-03-10T07:37:35.040492Z",
     "start_time": "2019-03-10T07:37:34.824387Z"
    }
   },
   "outputs": [],
   "source": [
    "train_df = pd.read_csv('data/train_labels.csv')\n",
    "test_df = pd.read_csv('data/sample_submission.csv')"
   ]
  },
  {
   "cell_type": "code",
   "execution_count": 4,
   "metadata": {
    "ExecuteTime": {
     "end_time": "2019-03-10T07:37:35.045887Z",
     "start_time": "2019-03-10T07:37:35.041858Z"
    }
   },
   "outputs": [
    {
     "data": {
      "text/plain": [
       "(57458, 2)"
      ]
     },
     "execution_count": 4,
     "metadata": {},
     "output_type": "execute_result"
    }
   ],
   "source": [
    "test_df.shape"
   ]
  },
  {
   "cell_type": "code",
   "execution_count": 5,
   "metadata": {
    "ExecuteTime": {
     "end_time": "2019-03-10T07:37:35.066250Z",
     "start_time": "2019-03-10T07:37:35.047455Z"
    }
   },
   "outputs": [
    {
     "data": {
      "text/html": [
       "<div>\n",
       "<style scoped>\n",
       "    .dataframe tbody tr th:only-of-type {\n",
       "        vertical-align: middle;\n",
       "    }\n",
       "\n",
       "    .dataframe tbody tr th {\n",
       "        vertical-align: top;\n",
       "    }\n",
       "\n",
       "    .dataframe thead th {\n",
       "        text-align: right;\n",
       "    }\n",
       "</style>\n",
       "<table border=\"1\" class=\"dataframe\">\n",
       "  <thead>\n",
       "    <tr style=\"text-align: right;\">\n",
       "      <th></th>\n",
       "      <th>id</th>\n",
       "      <th>label</th>\n",
       "    </tr>\n",
       "  </thead>\n",
       "  <tbody>\n",
       "    <tr>\n",
       "      <th>0</th>\n",
       "      <td>f38a6374c348f90b587e046aac6079959adf3835</td>\n",
       "      <td>0</td>\n",
       "    </tr>\n",
       "    <tr>\n",
       "      <th>1</th>\n",
       "      <td>c18f2d887b7ae4f6742ee445113fa1aef383ed77</td>\n",
       "      <td>1</td>\n",
       "    </tr>\n",
       "    <tr>\n",
       "      <th>2</th>\n",
       "      <td>755db6279dae599ebb4d39a9123cce439965282d</td>\n",
       "      <td>0</td>\n",
       "    </tr>\n",
       "    <tr>\n",
       "      <th>3</th>\n",
       "      <td>bc3f0c64fb968ff4a8bd33af6971ecae77c75e08</td>\n",
       "      <td>0</td>\n",
       "    </tr>\n",
       "    <tr>\n",
       "      <th>4</th>\n",
       "      <td>068aba587a4950175d04c680d38943fd488d6a9d</td>\n",
       "      <td>0</td>\n",
       "    </tr>\n",
       "  </tbody>\n",
       "</table>\n",
       "</div>"
      ],
      "text/plain": [
       "                                         id  label\n",
       "0  f38a6374c348f90b587e046aac6079959adf3835      0\n",
       "1  c18f2d887b7ae4f6742ee445113fa1aef383ed77      1\n",
       "2  755db6279dae599ebb4d39a9123cce439965282d      0\n",
       "3  bc3f0c64fb968ff4a8bd33af6971ecae77c75e08      0\n",
       "4  068aba587a4950175d04c680d38943fd488d6a9d      0"
      ]
     },
     "execution_count": 5,
     "metadata": {},
     "output_type": "execute_result"
    }
   ],
   "source": [
    "train_df.head()"
   ]
  },
  {
   "cell_type": "code",
   "execution_count": 6,
   "metadata": {
    "ExecuteTime": {
     "end_time": "2019-03-10T07:37:35.092505Z",
     "start_time": "2019-03-10T07:37:35.067475Z"
    }
   },
   "outputs": [],
   "source": [
    "train_df.at[0, 'label'] = 1"
   ]
  },
  {
   "cell_type": "code",
   "execution_count": 7,
   "metadata": {
    "ExecuteTime": {
     "end_time": "2019-03-10T07:37:35.568774Z",
     "start_time": "2019-03-10T07:37:35.566916Z"
    }
   },
   "outputs": [],
   "source": [
    "kfold = StratifiedKFold(20, shuffle=True, random_state=69)"
   ]
  },
  {
   "cell_type": "code",
   "execution_count": 8,
   "metadata": {
    "ExecuteTime": {
     "end_time": "2019-03-10T07:37:36.231318Z",
     "start_time": "2019-03-10T07:37:36.228385Z"
    }
   },
   "outputs": [
    {
     "data": {
      "text/plain": [
       "<generator object _BaseKFold.split at 0x7fe662ddc8b8>"
      ]
     },
     "execution_count": 8,
     "metadata": {},
     "output_type": "execute_result"
    }
   ],
   "source": [
    "kfold.split(train_df['id'], train_df['label'])"
   ]
  },
  {
   "cell_type": "code",
   "execution_count": 9,
   "metadata": {
    "ExecuteTime": {
     "end_time": "2019-03-10T07:37:37.386995Z",
     "start_time": "2019-03-10T07:37:37.290942Z"
    }
   },
   "outputs": [
    {
     "ename": "NameError",
     "evalue": "name 'test' is not defined",
     "output_type": "error",
     "traceback": [
      "\u001b[0;31m---------------------------------------------------------------------------\u001b[0m",
      "\u001b[0;31mNameError\u001b[0m                                 Traceback (most recent call last)",
      "\u001b[0;32m<ipython-input-9-7b728837b751>\u001b[0m in \u001b[0;36m<module>\u001b[0;34m\u001b[0m\n\u001b[0;32m----> 1\u001b[0;31m \u001b[0mtrain_df\u001b[0m\u001b[0;34m.\u001b[0m\u001b[0miloc\u001b[0m\u001b[0;34m[\u001b[0m\u001b[0mtest\u001b[0m\u001b[0;34m]\u001b[0m\u001b[0;34m\u001b[0m\u001b[0;34m\u001b[0m\u001b[0m\n\u001b[0m",
      "\u001b[0;31mNameError\u001b[0m: name 'test' is not defined"
     ]
    }
   ],
   "source": [
    "train_df.iloc[test]"
   ]
  },
  {
   "cell_type": "code",
   "execution_count": 10,
   "metadata": {
    "ExecuteTime": {
     "end_time": "2019-03-10T07:37:37.832366Z",
     "start_time": "2019-03-10T07:37:37.826287Z"
    }
   },
   "outputs": [
    {
     "data": {
      "text/html": [
       "<div>\n",
       "<style scoped>\n",
       "    .dataframe tbody tr th:only-of-type {\n",
       "        vertical-align: middle;\n",
       "    }\n",
       "\n",
       "    .dataframe tbody tr th {\n",
       "        vertical-align: top;\n",
       "    }\n",
       "\n",
       "    .dataframe thead th {\n",
       "        text-align: right;\n",
       "    }\n",
       "</style>\n",
       "<table border=\"1\" class=\"dataframe\">\n",
       "  <thead>\n",
       "    <tr style=\"text-align: right;\">\n",
       "      <th></th>\n",
       "      <th>id</th>\n",
       "      <th>label</th>\n",
       "    </tr>\n",
       "  </thead>\n",
       "  <tbody>\n",
       "    <tr>\n",
       "      <th>0</th>\n",
       "      <td>f38a6374c348f90b587e046aac6079959adf3835</td>\n",
       "      <td>1</td>\n",
       "    </tr>\n",
       "    <tr>\n",
       "      <th>1</th>\n",
       "      <td>c18f2d887b7ae4f6742ee445113fa1aef383ed77</td>\n",
       "      <td>1</td>\n",
       "    </tr>\n",
       "    <tr>\n",
       "      <th>2</th>\n",
       "      <td>755db6279dae599ebb4d39a9123cce439965282d</td>\n",
       "      <td>0</td>\n",
       "    </tr>\n",
       "    <tr>\n",
       "      <th>3</th>\n",
       "      <td>bc3f0c64fb968ff4a8bd33af6971ecae77c75e08</td>\n",
       "      <td>0</td>\n",
       "    </tr>\n",
       "    <tr>\n",
       "      <th>4</th>\n",
       "      <td>068aba587a4950175d04c680d38943fd488d6a9d</td>\n",
       "      <td>0</td>\n",
       "    </tr>\n",
       "  </tbody>\n",
       "</table>\n",
       "</div>"
      ],
      "text/plain": [
       "                                         id  label\n",
       "0  f38a6374c348f90b587e046aac6079959adf3835      1\n",
       "1  c18f2d887b7ae4f6742ee445113fa1aef383ed77      1\n",
       "2  755db6279dae599ebb4d39a9123cce439965282d      0\n",
       "3  bc3f0c64fb968ff4a8bd33af6971ecae77c75e08      0\n",
       "4  068aba587a4950175d04c680d38943fd488d6a9d      0"
      ]
     },
     "execution_count": 10,
     "metadata": {},
     "output_type": "execute_result"
    }
   ],
   "source": [
    "train_df.head()"
   ]
  },
  {
   "cell_type": "code",
   "execution_count": 11,
   "metadata": {
    "ExecuteTime": {
     "end_time": "2019-03-10T07:37:38.925097Z",
     "start_time": "2019-03-10T07:37:38.890891Z"
    }
   },
   "outputs": [
    {
     "name": "stdout",
     "output_type": "stream",
     "text": [
      "<class 'pandas.core.frame.DataFrame'>\n",
      "RangeIndex: 220025 entries, 0 to 220024\n",
      "Data columns (total 2 columns):\n",
      "id       220025 non-null object\n",
      "label    220025 non-null int64\n",
      "dtypes: int64(1), object(1)\n",
      "memory usage: 3.4+ MB\n",
      "<class 'pandas.core.frame.DataFrame'>\n",
      "RangeIndex: 57458 entries, 0 to 57457\n",
      "Data columns (total 2 columns):\n",
      "id       57458 non-null object\n",
      "label    57458 non-null int64\n",
      "dtypes: int64(1), object(1)\n",
      "memory usage: 897.9+ KB\n"
     ]
    },
    {
     "data": {
      "text/plain": [
       "(None, None)"
      ]
     },
     "execution_count": 11,
     "metadata": {},
     "output_type": "execute_result"
    }
   ],
   "source": [
    "train_df.info(), test_df.info()"
   ]
  },
  {
   "cell_type": "code",
   "execution_count": 12,
   "metadata": {
    "ExecuteTime": {
     "end_time": "2019-03-10T07:37:39.821810Z",
     "start_time": "2019-03-10T07:37:39.801762Z"
    }
   },
   "outputs": [
    {
     "name": "stdout",
     "output_type": "stream",
     "text": [
      "CPU times: user 5.96 ms, sys: 0 ns, total: 5.96 ms\n",
      "Wall time: 17.8 ms\n"
     ]
    }
   ],
   "source": [
    "%%time\n",
    "img = mpimg.imread('data/train/00001b2b5609af42ab0ab276dd4cd41c3e7745b5.tif')"
   ]
  },
  {
   "cell_type": "code",
   "execution_count": 13,
   "metadata": {
    "ExecuteTime": {
     "end_time": "2019-03-10T07:37:55.077161Z",
     "start_time": "2019-03-10T07:37:40.249308Z"
    }
   },
   "outputs": [
    {
     "name": "stdout",
     "output_type": "stream",
     "text": [
      "183 µs ± 1.13 µs per loop (mean ± std. dev. of 7 runs, 10000 loops each)\n"
     ]
    }
   ],
   "source": [
    "timeit mpimg.imread('data/train/00001b2b5609af42ab0ab276dd4cd41c3e7745b5.tif')"
   ]
  },
  {
   "cell_type": "code",
   "execution_count": null,
   "metadata": {
    "ExecuteTime": {
     "end_time": "2019-03-07T16:27:58.535990Z",
     "start_time": "2019-03-07T16:27:46.299666Z"
    }
   },
   "outputs": [],
   "source": [
    "timeit pil_loader('data/train/00001b2b5609af42ab0ab276dd4cd41c3e7745b5.tif')"
   ]
  },
  {
   "cell_type": "code",
   "execution_count": null,
   "metadata": {
    "ExecuteTime": {
     "end_time": "2019-03-06T15:12:50.961133Z",
     "start_time": "2019-03-06T15:12:47.191514Z"
    }
   },
   "outputs": [],
   "source": [
    "timeit cv2.imread('data/train/00001b2b5609af42ab0ab276dd4cd41c3e7745b5.tif', flags=cv2.IMREAD_COLOR)"
   ]
  },
  {
   "cell_type": "code",
   "execution_count": null,
   "metadata": {
    "ExecuteTime": {
     "end_time": "2019-03-06T15:18:21.212233Z",
     "start_time": "2019-03-06T15:18:19.341059Z"
    }
   },
   "outputs": [],
   "source": [
    "timeit io.imread(\"data/train/00001b2b5609af42ab0ab276dd4cd41c3e7745b5.tif\")"
   ]
  },
  {
   "cell_type": "code",
   "execution_count": 15,
   "metadata": {
    "ExecuteTime": {
     "end_time": "2019-03-10T07:38:05.189234Z",
     "start_time": "2019-03-10T07:38:05.187374Z"
    }
   },
   "outputs": [],
   "source": [
    "img = torch.Tensor(img)"
   ]
  },
  {
   "cell_type": "code",
   "execution_count": 17,
   "metadata": {
    "ExecuteTime": {
     "end_time": "2019-03-10T07:38:17.317412Z",
     "start_time": "2019-03-10T07:38:17.314828Z"
    }
   },
   "outputs": [],
   "source": [
    "img.flip?"
   ]
  },
  {
   "cell_type": "code",
   "execution_count": 18,
   "metadata": {
    "ExecuteTime": {
     "end_time": "2019-03-10T07:38:28.007592Z",
     "start_time": "2019-03-10T07:38:28.005511Z"
    }
   },
   "outputs": [],
   "source": [
    "torch.flip?"
   ]
  },
  {
   "cell_type": "code",
   "execution_count": null,
   "metadata": {},
   "outputs": [],
   "source": []
  },
  {
   "cell_type": "markdown",
   "metadata": {},
   "source": [
    "##### use cv2.imread for reading images "
   ]
  },
  {
   "cell_type": "code",
   "execution_count": null,
   "metadata": {
    "ExecuteTime": {
     "end_time": "2019-03-04T14:35:01.494063Z",
     "start_time": "2019-03-04T14:35:01.490754Z"
    }
   },
   "outputs": [],
   "source": [
    "img.shape\n"
   ]
  },
  {
   "cell_type": "code",
   "execution_count": null,
   "metadata": {
    "ExecuteTime": {
     "end_time": "2019-03-06T15:03:55.009058Z",
     "start_time": "2019-03-06T15:03:54.893133Z"
    }
   },
   "outputs": [],
   "source": [
    "plt.imshow(img)"
   ]
  },
  {
   "cell_type": "code",
   "execution_count": null,
   "metadata": {
    "ExecuteTime": {
     "end_time": "2019-03-04T14:35:02.359686Z",
     "start_time": "2019-03-04T14:35:02.264286Z"
    }
   },
   "outputs": [],
   "source": [
    "# plot some random training images with their ground truth labels\n",
    "i = random.choice(range(train_df.shape[0]))\n",
    "img = mpimg.imread('data/train/' + train_df.iloc[i]['id'] + '.tif')\n",
    "plt.imshow(img)\n",
    "plt.title(train_df.iloc[i]['label'])\n",
    "plt.show()"
   ]
  },
  {
   "cell_type": "code",
   "execution_count": null,
   "metadata": {
    "ExecuteTime": {
     "end_time": "2019-03-04T14:35:02.474089Z",
     "start_time": "2019-03-04T14:35:02.468284Z"
    }
   },
   "outputs": [],
   "source": [
    "train_df['label'].value_counts()"
   ]
  },
  {
   "cell_type": "code",
   "execution_count": null,
   "metadata": {
    "ExecuteTime": {
     "end_time": "2019-03-04T14:35:02.723464Z",
     "start_time": "2019-03-04T14:35:02.718236Z"
    }
   },
   "outputs": [],
   "source": [
    "train_df['label'].hist"
   ]
  },
  {
   "cell_type": "code",
   "execution_count": null,
   "metadata": {
    "ExecuteTime": {
     "end_time": "2019-03-06T19:56:24.770069Z",
     "start_time": "2019-03-06T19:56:24.574486Z"
    }
   },
   "outputs": [],
   "source": [
    "img = mpimg.imread('data/train/dd6dfed324f9fcb6f93f46f32fc800f2ec196be2.tif')\n",
    "plt.imshow(img)\n",
    "plt.show();\n",
    "aug_img = train_aug(image=img)\n",
    "plt.imshow(aug_img['image'])\n",
    "plt.show();"
   ]
  },
  {
   "cell_type": "markdown",
   "metadata": {},
   "source": [
    "#### Dataloader analysis\n"
   ]
  },
  {
   "cell_type": "code",
   "execution_count": null,
   "metadata": {
    "ExecuteTime": {
     "end_time": "2019-03-04T15:04:35.660823Z",
     "start_time": "2019-03-04T15:04:35.658468Z"
    }
   },
   "outputs": [],
   "source": [
    "from dataloader import get_dataloader"
   ]
  },
  {
   "cell_type": "code",
   "execution_count": null,
   "metadata": {
    "ExecuteTime": {
     "end_time": "2019-03-04T15:19:40.947455Z",
     "start_time": "2019-03-04T15:19:40.945006Z"
    }
   },
   "outputs": [],
   "source": [
    "def unnormalize(img):\n",
    "    mean = torch.as_tensor([0.485, 0.456, 0.406])\n",
    "    std = torch.as_tensor([0.229, 0.224, 0.225])\n",
    "    #return (img * std) + mean\n",
    "    for t, m, s in zip(img, mean, std):    \n",
    "        t.mul_(s).add_(m)\n",
    "    return img"
   ]
  },
  {
   "cell_type": "code",
   "execution_count": null,
   "metadata": {
    "ExecuteTime": {
     "end_time": "2019-03-04T15:19:41.612809Z",
     "start_time": "2019-03-04T15:19:41.407453Z"
    }
   },
   "outputs": [],
   "source": [
    "phase = \"train\"\n",
    "dataloader = get_dataloader(phase)"
   ]
  },
  {
   "cell_type": "code",
   "execution_count": null,
   "metadata": {
    "ExecuteTime": {
     "end_time": "2019-03-04T15:20:17.195944Z",
     "start_time": "2019-03-04T15:20:17.036183Z"
    }
   },
   "outputs": [],
   "source": [
    "batch = next(iter(dataloader))"
   ]
  },
  {
   "cell_type": "code",
   "execution_count": null,
   "metadata": {
    "ExecuteTime": {
     "end_time": "2019-03-04T15:20:17.523118Z",
     "start_time": "2019-03-04T15:20:17.516120Z"
    }
   },
   "outputs": [],
   "source": [
    "images, labels = batch\n",
    "labels"
   ]
  },
  {
   "cell_type": "code",
   "execution_count": null,
   "metadata": {
    "ExecuteTime": {
     "end_time": "2019-03-04T15:20:21.861098Z",
     "start_time": "2019-03-04T15:20:21.728257Z"
    }
   },
   "outputs": [],
   "source": [
    "# plot some random training images with their ground truth labels\n",
    "i = random.choice(range(len(images)))\n",
    "img = images[i].clone()\n",
    "img = unnormalize(img)\n",
    "plt.imshow(img.permute(1, 2, 0))\n",
    "plt.title(labels[i].item())\n",
    "plt.show()"
   ]
  },
  {
   "cell_type": "code",
   "execution_count": null,
   "metadata": {},
   "outputs": [],
   "source": []
  },
  {
   "cell_type": "code",
   "execution_count": null,
   "metadata": {},
   "outputs": [],
   "source": []
  },
  {
   "cell_type": "code",
   "execution_count": null,
   "metadata": {},
   "outputs": [],
   "source": []
  },
  {
   "cell_type": "code",
   "execution_count": null,
   "metadata": {},
   "outputs": [],
   "source": []
  },
  {
   "cell_type": "code",
   "execution_count": null,
   "metadata": {},
   "outputs": [],
   "source": []
  },
  {
   "cell_type": "code",
   "execution_count": null,
   "metadata": {
    "ExecuteTime": {
     "end_time": "2019-03-04T15:20:19.088630Z",
     "start_time": "2019-03-04T15:20:19.077897Z"
    }
   },
   "outputs": [],
   "source": [
    "mean = torch.as_tensor([0.485, 0.456, 0.406])\n",
    "std = torch.as_tensor([0.229, 0.224, 0.225])\n",
    "#return (img * std) + mean\n",
    "#return img.mul_(std).add_(mean)\n",
    "labels[i].item()"
   ]
  },
  {
   "cell_type": "code",
   "execution_count": null,
   "metadata": {
    "ExecuteTime": {
     "end_time": "2019-03-04T15:15:32.950081Z",
     "start_time": "2019-03-04T15:15:32.946752Z"
    }
   },
   "outputs": [],
   "source": [
    "mean, std, mean.shape, std.shape"
   ]
  },
  {
   "cell_type": "code",
   "execution_count": null,
   "metadata": {
    "ExecuteTime": {
     "end_time": "2019-03-04T15:15:40.550792Z",
     "start_time": "2019-03-04T15:15:40.545982Z"
    }
   },
   "outputs": [],
   "source": []
  },
  {
   "cell_type": "raw",
   "metadata": {},
   "source": [
    "Model testing"
   ]
  },
  {
   "cell_type": "code",
   "execution_count": 9,
   "metadata": {
    "ExecuteTime": {
     "end_time": "2019-03-11T14:05:02.334014Z",
     "start_time": "2019-03-11T14:05:02.331536Z"
    }
   },
   "outputs": [
    {
     "data": {
      "text/plain": [
       "['fbresnet152',\n",
       " 'bninception',\n",
       " 'resnext101_32x4d',\n",
       " 'resnext101_64x4d',\n",
       " 'inceptionv4',\n",
       " 'inceptionresnetv2',\n",
       " 'alexnet',\n",
       " 'densenet121',\n",
       " 'densenet169',\n",
       " 'densenet201',\n",
       " 'densenet161',\n",
       " 'resnet18',\n",
       " 'resnet34',\n",
       " 'resnet50',\n",
       " 'resnet101',\n",
       " 'resnet152',\n",
       " 'inceptionv3',\n",
       " 'squeezenet1_0',\n",
       " 'squeezenet1_1',\n",
       " 'vgg11',\n",
       " 'vgg11_bn',\n",
       " 'vgg13',\n",
       " 'vgg13_bn',\n",
       " 'vgg16',\n",
       " 'vgg16_bn',\n",
       " 'vgg19_bn',\n",
       " 'vgg19',\n",
       " 'nasnetamobile',\n",
       " 'nasnetalarge',\n",
       " 'dpn68',\n",
       " 'dpn68b',\n",
       " 'dpn92',\n",
       " 'dpn98',\n",
       " 'dpn131',\n",
       " 'dpn107',\n",
       " 'xception',\n",
       " 'senet154',\n",
       " 'se_resnet50',\n",
       " 'se_resnet101',\n",
       " 'se_resnet152',\n",
       " 'se_resnext50_32x4d',\n",
       " 'se_resnext101_32x4d',\n",
       " 'cafferesnet101',\n",
       " 'pnasnet5large',\n",
       " 'polynet']"
      ]
     },
     "execution_count": 9,
     "metadata": {},
     "output_type": "execute_result"
    }
   ],
   "source": [
    "import pretrainedmodels\n",
    "pretrainedmodels.model_names"
   ]
  },
  {
   "cell_type": "code",
   "execution_count": 20,
   "metadata": {
    "ExecuteTime": {
     "end_time": "2019-03-11T15:06:16.796173Z",
     "start_time": "2019-03-11T15:06:16.488060Z"
    }
   },
   "outputs": [],
   "source": [
    "# model_name='se_resnext50_32x4d'\n",
    "model_name='nasnetamobile'\n",
    "\n",
    "model = pretrainedmodels.__dict__[model_name](num_classes=1000)"
   ]
  },
  {
   "cell_type": "code",
   "execution_count": 16,
   "metadata": {
    "ExecuteTime": {
     "end_time": "2019-03-11T14:06:04.241508Z",
     "start_time": "2019-03-11T14:06:04.232602Z"
    }
   },
   "outputs": [
    {
     "ename": "TypeError",
     "evalue": "features() missing 1 required positional argument: 'input'",
     "output_type": "error",
     "traceback": [
      "\u001b[0;31m---------------------------------------------------------------------------\u001b[0m",
      "\u001b[0;31mTypeError\u001b[0m                                 Traceback (most recent call last)",
      "\u001b[0;32m<ipython-input-16-6399877c368d>\u001b[0m in \u001b[0;36m<module>\u001b[0;34m\u001b[0m\n\u001b[0;32m----> 1\u001b[0;31m \u001b[0mmodel\u001b[0m\u001b[0;34m.\u001b[0m\u001b[0mfeatures\u001b[0m\u001b[0;34m(\u001b[0m\u001b[0;34m)\u001b[0m\u001b[0;34m\u001b[0m\u001b[0;34m\u001b[0m\u001b[0m\n\u001b[0m",
      "\u001b[0;31mTypeError\u001b[0m: features() missing 1 required positional argument: 'input'"
     ]
    }
   ],
   "source": [
    "model.features"
   ]
  },
  {
   "cell_type": "code",
   "execution_count": 17,
   "metadata": {
    "ExecuteTime": {
     "end_time": "2019-03-11T07:05:05.806675Z",
     "start_time": "2019-03-11T07:05:05.796720Z"
    },
    "scrolled": true
   },
   "outputs": [
    {
     "data": {
      "text/plain": [
       "NASNetAMobile(\n",
       "  (conv0): Sequential(\n",
       "    (conv): Conv2d(3, 32, kernel_size=(3, 3), stride=(2, 2), bias=False)\n",
       "    (bn): BatchNorm2d(32, eps=0.001, momentum=0.1, affine=True, track_running_stats=True)\n",
       "  )\n",
       "  (cell_stem_0): CellStem0(\n",
       "    (conv_1x1): Sequential(\n",
       "      (relu): ReLU()\n",
       "      (conv): Conv2d(32, 11, kernel_size=(1, 1), stride=(1, 1), bias=False)\n",
       "      (bn): BatchNorm2d(11, eps=0.001, momentum=0.1, affine=True, track_running_stats=True)\n",
       "    )\n",
       "    (comb_iter_0_left): BranchSeparables(\n",
       "      (relu): ReLU()\n",
       "      (separable_1): SeparableConv2d(\n",
       "        (depthwise_conv2d): Conv2d(11, 11, kernel_size=(5, 5), stride=(2, 2), padding=(2, 2), groups=11, bias=False)\n",
       "        (pointwise_conv2d): Conv2d(11, 11, kernel_size=(1, 1), stride=(1, 1), bias=False)\n",
       "      )\n",
       "      (bn_sep_1): BatchNorm2d(11, eps=0.001, momentum=0.1, affine=True, track_running_stats=True)\n",
       "      (relu1): ReLU()\n",
       "      (separable_2): SeparableConv2d(\n",
       "        (depthwise_conv2d): Conv2d(11, 11, kernel_size=(5, 5), stride=(1, 1), padding=(2, 2), groups=11, bias=False)\n",
       "        (pointwise_conv2d): Conv2d(11, 11, kernel_size=(1, 1), stride=(1, 1), bias=False)\n",
       "      )\n",
       "      (bn_sep_2): BatchNorm2d(11, eps=0.001, momentum=0.1, affine=True, track_running_stats=True)\n",
       "    )\n",
       "    (comb_iter_0_right): BranchSeparablesStem(\n",
       "      (relu): ReLU()\n",
       "      (separable_1): SeparableConv2d(\n",
       "        (depthwise_conv2d): Conv2d(32, 32, kernel_size=(7, 7), stride=(2, 2), padding=(3, 3), groups=32, bias=False)\n",
       "        (pointwise_conv2d): Conv2d(32, 11, kernel_size=(1, 1), stride=(1, 1), bias=False)\n",
       "      )\n",
       "      (bn_sep_1): BatchNorm2d(11, eps=0.001, momentum=0.1, affine=True, track_running_stats=True)\n",
       "      (relu1): ReLU()\n",
       "      (separable_2): SeparableConv2d(\n",
       "        (depthwise_conv2d): Conv2d(11, 11, kernel_size=(7, 7), stride=(1, 1), padding=(3, 3), groups=11, bias=False)\n",
       "        (pointwise_conv2d): Conv2d(11, 11, kernel_size=(1, 1), stride=(1, 1), bias=False)\n",
       "      )\n",
       "      (bn_sep_2): BatchNorm2d(11, eps=0.001, momentum=0.1, affine=True, track_running_stats=True)\n",
       "    )\n",
       "    (comb_iter_1_left): MaxPool2d(kernel_size=3, stride=2, padding=1, dilation=1, ceil_mode=False)\n",
       "    (comb_iter_1_right): BranchSeparablesStem(\n",
       "      (relu): ReLU()\n",
       "      (separable_1): SeparableConv2d(\n",
       "        (depthwise_conv2d): Conv2d(32, 32, kernel_size=(7, 7), stride=(2, 2), padding=(3, 3), groups=32, bias=False)\n",
       "        (pointwise_conv2d): Conv2d(32, 11, kernel_size=(1, 1), stride=(1, 1), bias=False)\n",
       "      )\n",
       "      (bn_sep_1): BatchNorm2d(11, eps=0.001, momentum=0.1, affine=True, track_running_stats=True)\n",
       "      (relu1): ReLU()\n",
       "      (separable_2): SeparableConv2d(\n",
       "        (depthwise_conv2d): Conv2d(11, 11, kernel_size=(7, 7), stride=(1, 1), padding=(3, 3), groups=11, bias=False)\n",
       "        (pointwise_conv2d): Conv2d(11, 11, kernel_size=(1, 1), stride=(1, 1), bias=False)\n",
       "      )\n",
       "      (bn_sep_2): BatchNorm2d(11, eps=0.001, momentum=0.1, affine=True, track_running_stats=True)\n",
       "    )\n",
       "    (comb_iter_2_left): AvgPool2d(kernel_size=3, stride=2, padding=1)\n",
       "    (comb_iter_2_right): BranchSeparablesStem(\n",
       "      (relu): ReLU()\n",
       "      (separable_1): SeparableConv2d(\n",
       "        (depthwise_conv2d): Conv2d(32, 32, kernel_size=(5, 5), stride=(2, 2), padding=(2, 2), groups=32, bias=False)\n",
       "        (pointwise_conv2d): Conv2d(32, 11, kernel_size=(1, 1), stride=(1, 1), bias=False)\n",
       "      )\n",
       "      (bn_sep_1): BatchNorm2d(11, eps=0.001, momentum=0.1, affine=True, track_running_stats=True)\n",
       "      (relu1): ReLU()\n",
       "      (separable_2): SeparableConv2d(\n",
       "        (depthwise_conv2d): Conv2d(11, 11, kernel_size=(5, 5), stride=(1, 1), padding=(2, 2), groups=11, bias=False)\n",
       "        (pointwise_conv2d): Conv2d(11, 11, kernel_size=(1, 1), stride=(1, 1), bias=False)\n",
       "      )\n",
       "      (bn_sep_2): BatchNorm2d(11, eps=0.001, momentum=0.1, affine=True, track_running_stats=True)\n",
       "    )\n",
       "    (comb_iter_3_right): AvgPool2d(kernel_size=3, stride=1, padding=1)\n",
       "    (comb_iter_4_left): BranchSeparables(\n",
       "      (relu): ReLU()\n",
       "      (separable_1): SeparableConv2d(\n",
       "        (depthwise_conv2d): Conv2d(11, 11, kernel_size=(3, 3), stride=(1, 1), padding=(1, 1), groups=11, bias=False)\n",
       "        (pointwise_conv2d): Conv2d(11, 11, kernel_size=(1, 1), stride=(1, 1), bias=False)\n",
       "      )\n",
       "      (bn_sep_1): BatchNorm2d(11, eps=0.001, momentum=0.1, affine=True, track_running_stats=True)\n",
       "      (relu1): ReLU()\n",
       "      (separable_2): SeparableConv2d(\n",
       "        (depthwise_conv2d): Conv2d(11, 11, kernel_size=(3, 3), stride=(1, 1), padding=(1, 1), groups=11, bias=False)\n",
       "        (pointwise_conv2d): Conv2d(11, 11, kernel_size=(1, 1), stride=(1, 1), bias=False)\n",
       "      )\n",
       "      (bn_sep_2): BatchNorm2d(11, eps=0.001, momentum=0.1, affine=True, track_running_stats=True)\n",
       "    )\n",
       "    (comb_iter_4_right): MaxPool2d(kernel_size=3, stride=2, padding=1, dilation=1, ceil_mode=False)\n",
       "  )\n",
       "  (cell_stem_1): CellStem1(\n",
       "    (conv_1x1): Sequential(\n",
       "      (relu): ReLU()\n",
       "      (conv): Conv2d(44, 22, kernel_size=(1, 1), stride=(1, 1), bias=False)\n",
       "      (bn): BatchNorm2d(22, eps=0.001, momentum=0.1, affine=True, track_running_stats=True)\n",
       "    )\n",
       "    (relu): ReLU()\n",
       "    (path_1): Sequential(\n",
       "      (avgpool): AvgPool2d(kernel_size=1, stride=2, padding=0)\n",
       "      (conv): Conv2d(32, 11, kernel_size=(1, 1), stride=(1, 1), bias=False)\n",
       "    )\n",
       "    (path_2): ModuleList(\n",
       "      (pad): ZeroPad2d(padding=(0, 1, 0, 1), value=0.0)\n",
       "      (avgpool): AvgPool2d(kernel_size=1, stride=2, padding=0)\n",
       "      (conv): Conv2d(32, 11, kernel_size=(1, 1), stride=(1, 1), bias=False)\n",
       "    )\n",
       "    (final_path_bn): BatchNorm2d(22, eps=0.001, momentum=0.1, affine=True, track_running_stats=True)\n",
       "    (comb_iter_0_left): BranchSeparables(\n",
       "      (relu): ReLU()\n",
       "      (separable_1): SeparableConv2d(\n",
       "        (depthwise_conv2d): Conv2d(22, 22, kernel_size=(5, 5), stride=(2, 2), padding=(2, 2), groups=22, bias=False)\n",
       "        (pointwise_conv2d): Conv2d(22, 22, kernel_size=(1, 1), stride=(1, 1), bias=False)\n",
       "      )\n",
       "      (bn_sep_1): BatchNorm2d(22, eps=0.001, momentum=0.1, affine=True, track_running_stats=True)\n",
       "      (relu1): ReLU()\n",
       "      (separable_2): SeparableConv2d(\n",
       "        (depthwise_conv2d): Conv2d(22, 22, kernel_size=(5, 5), stride=(1, 1), padding=(2, 2), groups=22, bias=False)\n",
       "        (pointwise_conv2d): Conv2d(22, 22, kernel_size=(1, 1), stride=(1, 1), bias=False)\n",
       "      )\n",
       "      (bn_sep_2): BatchNorm2d(22, eps=0.001, momentum=0.1, affine=True, track_running_stats=True)\n",
       "    )\n",
       "    (comb_iter_0_right): BranchSeparables(\n",
       "      (relu): ReLU()\n",
       "      (separable_1): SeparableConv2d(\n",
       "        (depthwise_conv2d): Conv2d(22, 22, kernel_size=(7, 7), stride=(2, 2), padding=(3, 3), groups=22, bias=False)\n",
       "        (pointwise_conv2d): Conv2d(22, 22, kernel_size=(1, 1), stride=(1, 1), bias=False)\n",
       "      )\n",
       "      (bn_sep_1): BatchNorm2d(22, eps=0.001, momentum=0.1, affine=True, track_running_stats=True)\n",
       "      (relu1): ReLU()\n",
       "      (separable_2): SeparableConv2d(\n",
       "        (depthwise_conv2d): Conv2d(22, 22, kernel_size=(7, 7), stride=(1, 1), padding=(3, 3), groups=22, bias=False)\n",
       "        (pointwise_conv2d): Conv2d(22, 22, kernel_size=(1, 1), stride=(1, 1), bias=False)\n",
       "      )\n",
       "      (bn_sep_2): BatchNorm2d(22, eps=0.001, momentum=0.1, affine=True, track_running_stats=True)\n",
       "    )\n",
       "    (comb_iter_1_left): MaxPoolPad(\n",
       "      (pad): ZeroPad2d(padding=(1, 0, 1, 0), value=0.0)\n",
       "      (pool): MaxPool2d(kernel_size=3, stride=2, padding=1, dilation=1, ceil_mode=False)\n",
       "    )\n",
       "    (comb_iter_1_right): BranchSeparables(\n",
       "      (relu): ReLU()\n",
       "      (separable_1): SeparableConv2d(\n",
       "        (depthwise_conv2d): Conv2d(22, 22, kernel_size=(7, 7), stride=(2, 2), padding=(3, 3), groups=22, bias=False)\n",
       "        (pointwise_conv2d): Conv2d(22, 22, kernel_size=(1, 1), stride=(1, 1), bias=False)\n",
       "      )\n",
       "      (bn_sep_1): BatchNorm2d(22, eps=0.001, momentum=0.1, affine=True, track_running_stats=True)\n",
       "      (relu1): ReLU()\n",
       "      (separable_2): SeparableConv2d(\n",
       "        (depthwise_conv2d): Conv2d(22, 22, kernel_size=(7, 7), stride=(1, 1), padding=(3, 3), groups=22, bias=False)\n",
       "        (pointwise_conv2d): Conv2d(22, 22, kernel_size=(1, 1), stride=(1, 1), bias=False)\n",
       "      )\n",
       "      (bn_sep_2): BatchNorm2d(22, eps=0.001, momentum=0.1, affine=True, track_running_stats=True)\n",
       "    )\n",
       "    (comb_iter_2_left): AvgPoolPad(\n",
       "      (pad): ZeroPad2d(padding=(1, 0, 1, 0), value=0.0)\n",
       "      (pool): AvgPool2d(kernel_size=3, stride=2, padding=1)\n",
       "    )\n",
       "    (comb_iter_2_right): BranchSeparables(\n",
       "      (relu): ReLU()\n",
       "      (separable_1): SeparableConv2d(\n",
       "        (depthwise_conv2d): Conv2d(22, 22, kernel_size=(5, 5), stride=(2, 2), padding=(2, 2), groups=22, bias=False)\n",
       "        (pointwise_conv2d): Conv2d(22, 22, kernel_size=(1, 1), stride=(1, 1), bias=False)\n",
       "      )\n",
       "      (bn_sep_1): BatchNorm2d(22, eps=0.001, momentum=0.1, affine=True, track_running_stats=True)\n",
       "      (relu1): ReLU()\n",
       "      (separable_2): SeparableConv2d(\n",
       "        (depthwise_conv2d): Conv2d(22, 22, kernel_size=(5, 5), stride=(1, 1), padding=(2, 2), groups=22, bias=False)\n",
       "        (pointwise_conv2d): Conv2d(22, 22, kernel_size=(1, 1), stride=(1, 1), bias=False)\n",
       "      )\n",
       "      (bn_sep_2): BatchNorm2d(22, eps=0.001, momentum=0.1, affine=True, track_running_stats=True)\n",
       "    )\n",
       "    (comb_iter_3_right): AvgPool2d(kernel_size=3, stride=1, padding=1)\n",
       "    (comb_iter_4_left): BranchSeparables(\n",
       "      (relu): ReLU()\n",
       "      (separable_1): SeparableConv2d(\n",
       "        (depthwise_conv2d): Conv2d(22, 22, kernel_size=(3, 3), stride=(1, 1), padding=(1, 1), groups=22, bias=False)\n",
       "        (pointwise_conv2d): Conv2d(22, 22, kernel_size=(1, 1), stride=(1, 1), bias=False)\n",
       "      )\n",
       "      (bn_sep_1): BatchNorm2d(22, eps=0.001, momentum=0.1, affine=True, track_running_stats=True)\n",
       "      (relu1): ReLU()\n",
       "      (separable_2): SeparableConv2d(\n",
       "        (depthwise_conv2d): Conv2d(22, 22, kernel_size=(3, 3), stride=(1, 1), padding=(1, 1), groups=22, bias=False)\n",
       "        (pointwise_conv2d): Conv2d(22, 22, kernel_size=(1, 1), stride=(1, 1), bias=False)\n",
       "      )\n",
       "      (bn_sep_2): BatchNorm2d(22, eps=0.001, momentum=0.1, affine=True, track_running_stats=True)\n",
       "    )\n",
       "    (comb_iter_4_right): MaxPoolPad(\n",
       "      (pad): ZeroPad2d(padding=(1, 0, 1, 0), value=0.0)\n",
       "      (pool): MaxPool2d(kernel_size=3, stride=2, padding=1, dilation=1, ceil_mode=False)\n",
       "    )\n",
       "  )\n",
       "  (cell_0): FirstCell(\n",
       "    (conv_1x1): Sequential(\n",
       "      (relu): ReLU()\n",
       "      (conv): Conv2d(88, 44, kernel_size=(1, 1), stride=(1, 1), bias=False)\n",
       "      (bn): BatchNorm2d(44, eps=0.001, momentum=0.1, affine=True, track_running_stats=True)\n",
       "    )\n",
       "    (relu): ReLU()\n",
       "    (path_1): Sequential(\n",
       "      (avgpool): AvgPool2d(kernel_size=1, stride=2, padding=0)\n",
       "      (conv): Conv2d(44, 22, kernel_size=(1, 1), stride=(1, 1), bias=False)\n",
       "    )\n",
       "    (path_2): ModuleList(\n",
       "      (pad): ZeroPad2d(padding=(0, 1, 0, 1), value=0.0)\n",
       "      (avgpool): AvgPool2d(kernel_size=1, stride=2, padding=0)\n",
       "      (conv): Conv2d(44, 22, kernel_size=(1, 1), stride=(1, 1), bias=False)\n",
       "    )\n",
       "    (final_path_bn): BatchNorm2d(44, eps=0.001, momentum=0.1, affine=True, track_running_stats=True)\n",
       "    (comb_iter_0_left): BranchSeparables(\n",
       "      (relu): ReLU()\n",
       "      (separable_1): SeparableConv2d(\n",
       "        (depthwise_conv2d): Conv2d(44, 44, kernel_size=(5, 5), stride=(1, 1), padding=(2, 2), groups=44, bias=False)\n",
       "        (pointwise_conv2d): Conv2d(44, 44, kernel_size=(1, 1), stride=(1, 1), bias=False)\n",
       "      )\n",
       "      (bn_sep_1): BatchNorm2d(44, eps=0.001, momentum=0.1, affine=True, track_running_stats=True)\n",
       "      (relu1): ReLU()\n",
       "      (separable_2): SeparableConv2d(\n",
       "        (depthwise_conv2d): Conv2d(44, 44, kernel_size=(5, 5), stride=(1, 1), padding=(2, 2), groups=44, bias=False)\n",
       "        (pointwise_conv2d): Conv2d(44, 44, kernel_size=(1, 1), stride=(1, 1), bias=False)\n",
       "      )\n",
       "      (bn_sep_2): BatchNorm2d(44, eps=0.001, momentum=0.1, affine=True, track_running_stats=True)\n",
       "    )\n",
       "    (comb_iter_0_right): BranchSeparables(\n",
       "      (relu): ReLU()\n",
       "      (separable_1): SeparableConv2d(\n",
       "        (depthwise_conv2d): Conv2d(44, 44, kernel_size=(3, 3), stride=(1, 1), padding=(1, 1), groups=44, bias=False)\n",
       "        (pointwise_conv2d): Conv2d(44, 44, kernel_size=(1, 1), stride=(1, 1), bias=False)\n",
       "      )\n",
       "      (bn_sep_1): BatchNorm2d(44, eps=0.001, momentum=0.1, affine=True, track_running_stats=True)\n",
       "      (relu1): ReLU()\n",
       "      (separable_2): SeparableConv2d(\n",
       "        (depthwise_conv2d): Conv2d(44, 44, kernel_size=(3, 3), stride=(1, 1), padding=(1, 1), groups=44, bias=False)\n",
       "        (pointwise_conv2d): Conv2d(44, 44, kernel_size=(1, 1), stride=(1, 1), bias=False)\n",
       "      )\n",
       "      (bn_sep_2): BatchNorm2d(44, eps=0.001, momentum=0.1, affine=True, track_running_stats=True)\n",
       "    )\n",
       "    (comb_iter_1_left): BranchSeparables(\n",
       "      (relu): ReLU()\n",
       "      (separable_1): SeparableConv2d(\n",
       "        (depthwise_conv2d): Conv2d(44, 44, kernel_size=(5, 5), stride=(1, 1), padding=(2, 2), groups=44, bias=False)\n",
       "        (pointwise_conv2d): Conv2d(44, 44, kernel_size=(1, 1), stride=(1, 1), bias=False)\n",
       "      )\n",
       "      (bn_sep_1): BatchNorm2d(44, eps=0.001, momentum=0.1, affine=True, track_running_stats=True)\n",
       "      (relu1): ReLU()\n",
       "      (separable_2): SeparableConv2d(\n",
       "        (depthwise_conv2d): Conv2d(44, 44, kernel_size=(5, 5), stride=(1, 1), padding=(2, 2), groups=44, bias=False)\n",
       "        (pointwise_conv2d): Conv2d(44, 44, kernel_size=(1, 1), stride=(1, 1), bias=False)\n",
       "      )\n",
       "      (bn_sep_2): BatchNorm2d(44, eps=0.001, momentum=0.1, affine=True, track_running_stats=True)\n",
       "    )\n",
       "    (comb_iter_1_right): BranchSeparables(\n",
       "      (relu): ReLU()\n",
       "      (separable_1): SeparableConv2d(\n",
       "        (depthwise_conv2d): Conv2d(44, 44, kernel_size=(3, 3), stride=(1, 1), padding=(1, 1), groups=44, bias=False)\n",
       "        (pointwise_conv2d): Conv2d(44, 44, kernel_size=(1, 1), stride=(1, 1), bias=False)\n",
       "      )\n",
       "      (bn_sep_1): BatchNorm2d(44, eps=0.001, momentum=0.1, affine=True, track_running_stats=True)\n",
       "      (relu1): ReLU()\n",
       "      (separable_2): SeparableConv2d(\n",
       "        (depthwise_conv2d): Conv2d(44, 44, kernel_size=(3, 3), stride=(1, 1), padding=(1, 1), groups=44, bias=False)\n",
       "        (pointwise_conv2d): Conv2d(44, 44, kernel_size=(1, 1), stride=(1, 1), bias=False)\n",
       "      )\n",
       "      (bn_sep_2): BatchNorm2d(44, eps=0.001, momentum=0.1, affine=True, track_running_stats=True)\n",
       "    )\n",
       "    (comb_iter_2_left): AvgPool2d(kernel_size=3, stride=1, padding=1)\n",
       "    (comb_iter_3_left): AvgPool2d(kernel_size=3, stride=1, padding=1)\n",
       "    (comb_iter_3_right): AvgPool2d(kernel_size=3, stride=1, padding=1)\n",
       "    (comb_iter_4_left): BranchSeparables(\n",
       "      (relu): ReLU()\n",
       "      (separable_1): SeparableConv2d(\n",
       "        (depthwise_conv2d): Conv2d(44, 44, kernel_size=(3, 3), stride=(1, 1), padding=(1, 1), groups=44, bias=False)\n",
       "        (pointwise_conv2d): Conv2d(44, 44, kernel_size=(1, 1), stride=(1, 1), bias=False)\n",
       "      )\n",
       "      (bn_sep_1): BatchNorm2d(44, eps=0.001, momentum=0.1, affine=True, track_running_stats=True)\n",
       "      (relu1): ReLU()\n",
       "      (separable_2): SeparableConv2d(\n",
       "        (depthwise_conv2d): Conv2d(44, 44, kernel_size=(3, 3), stride=(1, 1), padding=(1, 1), groups=44, bias=False)\n",
       "        (pointwise_conv2d): Conv2d(44, 44, kernel_size=(1, 1), stride=(1, 1), bias=False)\n",
       "      )\n",
       "      (bn_sep_2): BatchNorm2d(44, eps=0.001, momentum=0.1, affine=True, track_running_stats=True)\n",
       "    )\n",
       "  )\n",
       "  (cell_1): NormalCell(\n",
       "    (conv_prev_1x1): Sequential(\n",
       "      (relu): ReLU()\n",
       "      (conv): Conv2d(88, 44, kernel_size=(1, 1), stride=(1, 1), bias=False)\n",
       "      (bn): BatchNorm2d(44, eps=0.001, momentum=0.1, affine=True, track_running_stats=True)\n",
       "    )\n",
       "    (conv_1x1): Sequential(\n",
       "      (relu): ReLU()\n",
       "      (conv): Conv2d(264, 44, kernel_size=(1, 1), stride=(1, 1), bias=False)\n",
       "      (bn): BatchNorm2d(44, eps=0.001, momentum=0.1, affine=True, track_running_stats=True)\n",
       "    )\n",
       "    (comb_iter_0_left): BranchSeparables(\n",
       "      (relu): ReLU()\n",
       "      (separable_1): SeparableConv2d(\n",
       "        (depthwise_conv2d): Conv2d(44, 44, kernel_size=(5, 5), stride=(1, 1), padding=(2, 2), groups=44, bias=False)\n",
       "        (pointwise_conv2d): Conv2d(44, 44, kernel_size=(1, 1), stride=(1, 1), bias=False)\n",
       "      )\n",
       "      (bn_sep_1): BatchNorm2d(44, eps=0.001, momentum=0.1, affine=True, track_running_stats=True)\n",
       "      (relu1): ReLU()\n",
       "      (separable_2): SeparableConv2d(\n",
       "        (depthwise_conv2d): Conv2d(44, 44, kernel_size=(5, 5), stride=(1, 1), padding=(2, 2), groups=44, bias=False)\n",
       "        (pointwise_conv2d): Conv2d(44, 44, kernel_size=(1, 1), stride=(1, 1), bias=False)\n",
       "      )\n",
       "      (bn_sep_2): BatchNorm2d(44, eps=0.001, momentum=0.1, affine=True, track_running_stats=True)\n",
       "    )\n",
       "    (comb_iter_0_right): BranchSeparables(\n",
       "      (relu): ReLU()\n",
       "      (separable_1): SeparableConv2d(\n",
       "        (depthwise_conv2d): Conv2d(44, 44, kernel_size=(3, 3), stride=(1, 1), padding=(1, 1), groups=44, bias=False)\n",
       "        (pointwise_conv2d): Conv2d(44, 44, kernel_size=(1, 1), stride=(1, 1), bias=False)\n",
       "      )\n",
       "      (bn_sep_1): BatchNorm2d(44, eps=0.001, momentum=0.1, affine=True, track_running_stats=True)\n",
       "      (relu1): ReLU()\n",
       "      (separable_2): SeparableConv2d(\n",
       "        (depthwise_conv2d): Conv2d(44, 44, kernel_size=(3, 3), stride=(1, 1), padding=(1, 1), groups=44, bias=False)\n",
       "        (pointwise_conv2d): Conv2d(44, 44, kernel_size=(1, 1), stride=(1, 1), bias=False)\n",
       "      )\n",
       "      (bn_sep_2): BatchNorm2d(44, eps=0.001, momentum=0.1, affine=True, track_running_stats=True)\n",
       "    )\n",
       "    (comb_iter_1_left): BranchSeparables(\n",
       "      (relu): ReLU()\n",
       "      (separable_1): SeparableConv2d(\n",
       "        (depthwise_conv2d): Conv2d(44, 44, kernel_size=(5, 5), stride=(1, 1), padding=(2, 2), groups=44, bias=False)\n",
       "        (pointwise_conv2d): Conv2d(44, 44, kernel_size=(1, 1), stride=(1, 1), bias=False)\n",
       "      )\n",
       "      (bn_sep_1): BatchNorm2d(44, eps=0.001, momentum=0.1, affine=True, track_running_stats=True)\n",
       "      (relu1): ReLU()\n",
       "      (separable_2): SeparableConv2d(\n",
       "        (depthwise_conv2d): Conv2d(44, 44, kernel_size=(5, 5), stride=(1, 1), padding=(2, 2), groups=44, bias=False)\n",
       "        (pointwise_conv2d): Conv2d(44, 44, kernel_size=(1, 1), stride=(1, 1), bias=False)\n",
       "      )\n",
       "      (bn_sep_2): BatchNorm2d(44, eps=0.001, momentum=0.1, affine=True, track_running_stats=True)\n",
       "    )\n",
       "    (comb_iter_1_right): BranchSeparables(\n",
       "      (relu): ReLU()\n",
       "      (separable_1): SeparableConv2d(\n",
       "        (depthwise_conv2d): Conv2d(44, 44, kernel_size=(3, 3), stride=(1, 1), padding=(1, 1), groups=44, bias=False)\n",
       "        (pointwise_conv2d): Conv2d(44, 44, kernel_size=(1, 1), stride=(1, 1), bias=False)\n",
       "      )\n",
       "      (bn_sep_1): BatchNorm2d(44, eps=0.001, momentum=0.1, affine=True, track_running_stats=True)\n",
       "      (relu1): ReLU()\n",
       "      (separable_2): SeparableConv2d(\n",
       "        (depthwise_conv2d): Conv2d(44, 44, kernel_size=(3, 3), stride=(1, 1), padding=(1, 1), groups=44, bias=False)\n",
       "        (pointwise_conv2d): Conv2d(44, 44, kernel_size=(1, 1), stride=(1, 1), bias=False)\n",
       "      )\n",
       "      (bn_sep_2): BatchNorm2d(44, eps=0.001, momentum=0.1, affine=True, track_running_stats=True)\n",
       "    )\n",
       "    (comb_iter_2_left): AvgPool2d(kernel_size=3, stride=1, padding=1)\n",
       "    (comb_iter_3_left): AvgPool2d(kernel_size=3, stride=1, padding=1)\n",
       "    (comb_iter_3_right): AvgPool2d(kernel_size=3, stride=1, padding=1)\n",
       "    (comb_iter_4_left): BranchSeparables(\n",
       "      (relu): ReLU()\n",
       "      (separable_1): SeparableConv2d(\n",
       "        (depthwise_conv2d): Conv2d(44, 44, kernel_size=(3, 3), stride=(1, 1), padding=(1, 1), groups=44, bias=False)\n",
       "        (pointwise_conv2d): Conv2d(44, 44, kernel_size=(1, 1), stride=(1, 1), bias=False)\n",
       "      )\n",
       "      (bn_sep_1): BatchNorm2d(44, eps=0.001, momentum=0.1, affine=True, track_running_stats=True)\n",
       "      (relu1): ReLU()\n",
       "      (separable_2): SeparableConv2d(\n",
       "        (depthwise_conv2d): Conv2d(44, 44, kernel_size=(3, 3), stride=(1, 1), padding=(1, 1), groups=44, bias=False)\n",
       "        (pointwise_conv2d): Conv2d(44, 44, kernel_size=(1, 1), stride=(1, 1), bias=False)\n",
       "      )\n",
       "      (bn_sep_2): BatchNorm2d(44, eps=0.001, momentum=0.1, affine=True, track_running_stats=True)\n",
       "    )\n",
       "  )\n",
       "  (cell_2): NormalCell(\n",
       "    (conv_prev_1x1): Sequential(\n",
       "      (relu): ReLU()\n",
       "      (conv): Conv2d(264, 44, kernel_size=(1, 1), stride=(1, 1), bias=False)\n",
       "      (bn): BatchNorm2d(44, eps=0.001, momentum=0.1, affine=True, track_running_stats=True)\n",
       "    )\n",
       "    (conv_1x1): Sequential(\n",
       "      (relu): ReLU()\n",
       "      (conv): Conv2d(264, 44, kernel_size=(1, 1), stride=(1, 1), bias=False)\n",
       "      (bn): BatchNorm2d(44, eps=0.001, momentum=0.1, affine=True, track_running_stats=True)\n",
       "    )\n",
       "    (comb_iter_0_left): BranchSeparables(\n",
       "      (relu): ReLU()\n",
       "      (separable_1): SeparableConv2d(\n",
       "        (depthwise_conv2d): Conv2d(44, 44, kernel_size=(5, 5), stride=(1, 1), padding=(2, 2), groups=44, bias=False)\n",
       "        (pointwise_conv2d): Conv2d(44, 44, kernel_size=(1, 1), stride=(1, 1), bias=False)\n",
       "      )\n",
       "      (bn_sep_1): BatchNorm2d(44, eps=0.001, momentum=0.1, affine=True, track_running_stats=True)\n",
       "      (relu1): ReLU()\n",
       "      (separable_2): SeparableConv2d(\n",
       "        (depthwise_conv2d): Conv2d(44, 44, kernel_size=(5, 5), stride=(1, 1), padding=(2, 2), groups=44, bias=False)\n",
       "        (pointwise_conv2d): Conv2d(44, 44, kernel_size=(1, 1), stride=(1, 1), bias=False)\n",
       "      )\n",
       "      (bn_sep_2): BatchNorm2d(44, eps=0.001, momentum=0.1, affine=True, track_running_stats=True)\n",
       "    )\n",
       "    (comb_iter_0_right): BranchSeparables(\n",
       "      (relu): ReLU()\n",
       "      (separable_1): SeparableConv2d(\n",
       "        (depthwise_conv2d): Conv2d(44, 44, kernel_size=(3, 3), stride=(1, 1), padding=(1, 1), groups=44, bias=False)\n",
       "        (pointwise_conv2d): Conv2d(44, 44, kernel_size=(1, 1), stride=(1, 1), bias=False)\n",
       "      )\n",
       "      (bn_sep_1): BatchNorm2d(44, eps=0.001, momentum=0.1, affine=True, track_running_stats=True)\n",
       "      (relu1): ReLU()\n",
       "      (separable_2): SeparableConv2d(\n",
       "        (depthwise_conv2d): Conv2d(44, 44, kernel_size=(3, 3), stride=(1, 1), padding=(1, 1), groups=44, bias=False)\n",
       "        (pointwise_conv2d): Conv2d(44, 44, kernel_size=(1, 1), stride=(1, 1), bias=False)\n",
       "      )\n",
       "      (bn_sep_2): BatchNorm2d(44, eps=0.001, momentum=0.1, affine=True, track_running_stats=True)\n",
       "    )\n",
       "    (comb_iter_1_left): BranchSeparables(\n",
       "      (relu): ReLU()\n",
       "      (separable_1): SeparableConv2d(\n",
       "        (depthwise_conv2d): Conv2d(44, 44, kernel_size=(5, 5), stride=(1, 1), padding=(2, 2), groups=44, bias=False)\n",
       "        (pointwise_conv2d): Conv2d(44, 44, kernel_size=(1, 1), stride=(1, 1), bias=False)\n",
       "      )\n",
       "      (bn_sep_1): BatchNorm2d(44, eps=0.001, momentum=0.1, affine=True, track_running_stats=True)\n",
       "      (relu1): ReLU()\n",
       "      (separable_2): SeparableConv2d(\n",
       "        (depthwise_conv2d): Conv2d(44, 44, kernel_size=(5, 5), stride=(1, 1), padding=(2, 2), groups=44, bias=False)\n",
       "        (pointwise_conv2d): Conv2d(44, 44, kernel_size=(1, 1), stride=(1, 1), bias=False)\n",
       "      )\n",
       "      (bn_sep_2): BatchNorm2d(44, eps=0.001, momentum=0.1, affine=True, track_running_stats=True)\n",
       "    )\n",
       "    (comb_iter_1_right): BranchSeparables(\n",
       "      (relu): ReLU()\n",
       "      (separable_1): SeparableConv2d(\n",
       "        (depthwise_conv2d): Conv2d(44, 44, kernel_size=(3, 3), stride=(1, 1), padding=(1, 1), groups=44, bias=False)\n",
       "        (pointwise_conv2d): Conv2d(44, 44, kernel_size=(1, 1), stride=(1, 1), bias=False)\n",
       "      )\n",
       "      (bn_sep_1): BatchNorm2d(44, eps=0.001, momentum=0.1, affine=True, track_running_stats=True)\n",
       "      (relu1): ReLU()\n",
       "      (separable_2): SeparableConv2d(\n",
       "        (depthwise_conv2d): Conv2d(44, 44, kernel_size=(3, 3), stride=(1, 1), padding=(1, 1), groups=44, bias=False)\n",
       "        (pointwise_conv2d): Conv2d(44, 44, kernel_size=(1, 1), stride=(1, 1), bias=False)\n",
       "      )\n",
       "      (bn_sep_2): BatchNorm2d(44, eps=0.001, momentum=0.1, affine=True, track_running_stats=True)\n",
       "    )\n",
       "    (comb_iter_2_left): AvgPool2d(kernel_size=3, stride=1, padding=1)\n",
       "    (comb_iter_3_left): AvgPool2d(kernel_size=3, stride=1, padding=1)\n",
       "    (comb_iter_3_right): AvgPool2d(kernel_size=3, stride=1, padding=1)\n",
       "    (comb_iter_4_left): BranchSeparables(\n",
       "      (relu): ReLU()\n",
       "      (separable_1): SeparableConv2d(\n",
       "        (depthwise_conv2d): Conv2d(44, 44, kernel_size=(3, 3), stride=(1, 1), padding=(1, 1), groups=44, bias=False)\n",
       "        (pointwise_conv2d): Conv2d(44, 44, kernel_size=(1, 1), stride=(1, 1), bias=False)\n",
       "      )\n",
       "      (bn_sep_1): BatchNorm2d(44, eps=0.001, momentum=0.1, affine=True, track_running_stats=True)\n",
       "      (relu1): ReLU()\n",
       "      (separable_2): SeparableConv2d(\n",
       "        (depthwise_conv2d): Conv2d(44, 44, kernel_size=(3, 3), stride=(1, 1), padding=(1, 1), groups=44, bias=False)\n",
       "        (pointwise_conv2d): Conv2d(44, 44, kernel_size=(1, 1), stride=(1, 1), bias=False)\n",
       "      )\n",
       "      (bn_sep_2): BatchNorm2d(44, eps=0.001, momentum=0.1, affine=True, track_running_stats=True)\n",
       "    )\n",
       "  )\n",
       "  (cell_3): NormalCell(\n",
       "    (conv_prev_1x1): Sequential(\n",
       "      (relu): ReLU()\n",
       "      (conv): Conv2d(264, 44, kernel_size=(1, 1), stride=(1, 1), bias=False)\n",
       "      (bn): BatchNorm2d(44, eps=0.001, momentum=0.1, affine=True, track_running_stats=True)\n",
       "    )\n",
       "    (conv_1x1): Sequential(\n",
       "      (relu): ReLU()\n",
       "      (conv): Conv2d(264, 44, kernel_size=(1, 1), stride=(1, 1), bias=False)\n",
       "      (bn): BatchNorm2d(44, eps=0.001, momentum=0.1, affine=True, track_running_stats=True)\n",
       "    )\n",
       "    (comb_iter_0_left): BranchSeparables(\n",
       "      (relu): ReLU()\n",
       "      (separable_1): SeparableConv2d(\n",
       "        (depthwise_conv2d): Conv2d(44, 44, kernel_size=(5, 5), stride=(1, 1), padding=(2, 2), groups=44, bias=False)\n",
       "        (pointwise_conv2d): Conv2d(44, 44, kernel_size=(1, 1), stride=(1, 1), bias=False)\n",
       "      )\n",
       "      (bn_sep_1): BatchNorm2d(44, eps=0.001, momentum=0.1, affine=True, track_running_stats=True)\n",
       "      (relu1): ReLU()\n",
       "      (separable_2): SeparableConv2d(\n",
       "        (depthwise_conv2d): Conv2d(44, 44, kernel_size=(5, 5), stride=(1, 1), padding=(2, 2), groups=44, bias=False)\n",
       "        (pointwise_conv2d): Conv2d(44, 44, kernel_size=(1, 1), stride=(1, 1), bias=False)\n",
       "      )\n",
       "      (bn_sep_2): BatchNorm2d(44, eps=0.001, momentum=0.1, affine=True, track_running_stats=True)\n",
       "    )\n",
       "    (comb_iter_0_right): BranchSeparables(\n",
       "      (relu): ReLU()\n",
       "      (separable_1): SeparableConv2d(\n",
       "        (depthwise_conv2d): Conv2d(44, 44, kernel_size=(3, 3), stride=(1, 1), padding=(1, 1), groups=44, bias=False)\n",
       "        (pointwise_conv2d): Conv2d(44, 44, kernel_size=(1, 1), stride=(1, 1), bias=False)\n",
       "      )\n",
       "      (bn_sep_1): BatchNorm2d(44, eps=0.001, momentum=0.1, affine=True, track_running_stats=True)\n",
       "      (relu1): ReLU()\n",
       "      (separable_2): SeparableConv2d(\n",
       "        (depthwise_conv2d): Conv2d(44, 44, kernel_size=(3, 3), stride=(1, 1), padding=(1, 1), groups=44, bias=False)\n",
       "        (pointwise_conv2d): Conv2d(44, 44, kernel_size=(1, 1), stride=(1, 1), bias=False)\n",
       "      )\n",
       "      (bn_sep_2): BatchNorm2d(44, eps=0.001, momentum=0.1, affine=True, track_running_stats=True)\n",
       "    )\n",
       "    (comb_iter_1_left): BranchSeparables(\n",
       "      (relu): ReLU()\n",
       "      (separable_1): SeparableConv2d(\n",
       "        (depthwise_conv2d): Conv2d(44, 44, kernel_size=(5, 5), stride=(1, 1), padding=(2, 2), groups=44, bias=False)\n",
       "        (pointwise_conv2d): Conv2d(44, 44, kernel_size=(1, 1), stride=(1, 1), bias=False)\n",
       "      )\n",
       "      (bn_sep_1): BatchNorm2d(44, eps=0.001, momentum=0.1, affine=True, track_running_stats=True)\n",
       "      (relu1): ReLU()\n",
       "      (separable_2): SeparableConv2d(\n",
       "        (depthwise_conv2d): Conv2d(44, 44, kernel_size=(5, 5), stride=(1, 1), padding=(2, 2), groups=44, bias=False)\n",
       "        (pointwise_conv2d): Conv2d(44, 44, kernel_size=(1, 1), stride=(1, 1), bias=False)\n",
       "      )\n",
       "      (bn_sep_2): BatchNorm2d(44, eps=0.001, momentum=0.1, affine=True, track_running_stats=True)\n",
       "    )\n",
       "    (comb_iter_1_right): BranchSeparables(\n",
       "      (relu): ReLU()\n",
       "      (separable_1): SeparableConv2d(\n",
       "        (depthwise_conv2d): Conv2d(44, 44, kernel_size=(3, 3), stride=(1, 1), padding=(1, 1), groups=44, bias=False)\n",
       "        (pointwise_conv2d): Conv2d(44, 44, kernel_size=(1, 1), stride=(1, 1), bias=False)\n",
       "      )\n",
       "      (bn_sep_1): BatchNorm2d(44, eps=0.001, momentum=0.1, affine=True, track_running_stats=True)\n",
       "      (relu1): ReLU()\n",
       "      (separable_2): SeparableConv2d(\n",
       "        (depthwise_conv2d): Conv2d(44, 44, kernel_size=(3, 3), stride=(1, 1), padding=(1, 1), groups=44, bias=False)\n",
       "        (pointwise_conv2d): Conv2d(44, 44, kernel_size=(1, 1), stride=(1, 1), bias=False)\n",
       "      )\n",
       "      (bn_sep_2): BatchNorm2d(44, eps=0.001, momentum=0.1, affine=True, track_running_stats=True)\n",
       "    )\n",
       "    (comb_iter_2_left): AvgPool2d(kernel_size=3, stride=1, padding=1)\n",
       "    (comb_iter_3_left): AvgPool2d(kernel_size=3, stride=1, padding=1)\n",
       "    (comb_iter_3_right): AvgPool2d(kernel_size=3, stride=1, padding=1)\n",
       "    (comb_iter_4_left): BranchSeparables(\n",
       "      (relu): ReLU()\n",
       "      (separable_1): SeparableConv2d(\n",
       "        (depthwise_conv2d): Conv2d(44, 44, kernel_size=(3, 3), stride=(1, 1), padding=(1, 1), groups=44, bias=False)\n",
       "        (pointwise_conv2d): Conv2d(44, 44, kernel_size=(1, 1), stride=(1, 1), bias=False)\n",
       "      )\n",
       "      (bn_sep_1): BatchNorm2d(44, eps=0.001, momentum=0.1, affine=True, track_running_stats=True)\n",
       "      (relu1): ReLU()\n",
       "      (separable_2): SeparableConv2d(\n",
       "        (depthwise_conv2d): Conv2d(44, 44, kernel_size=(3, 3), stride=(1, 1), padding=(1, 1), groups=44, bias=False)\n",
       "        (pointwise_conv2d): Conv2d(44, 44, kernel_size=(1, 1), stride=(1, 1), bias=False)\n",
       "      )\n",
       "      (bn_sep_2): BatchNorm2d(44, eps=0.001, momentum=0.1, affine=True, track_running_stats=True)\n",
       "    )\n",
       "  )\n",
       "  (reduction_cell_0): ReductionCell0(\n",
       "    (conv_prev_1x1): Sequential(\n",
       "      (relu): ReLU()\n",
       "      (conv): Conv2d(264, 88, kernel_size=(1, 1), stride=(1, 1), bias=False)\n",
       "      (bn): BatchNorm2d(88, eps=0.001, momentum=0.1, affine=True, track_running_stats=True)\n",
       "    )\n",
       "    (conv_1x1): Sequential(\n",
       "      (relu): ReLU()\n",
       "      (conv): Conv2d(264, 88, kernel_size=(1, 1), stride=(1, 1), bias=False)\n",
       "      (bn): BatchNorm2d(88, eps=0.001, momentum=0.1, affine=True, track_running_stats=True)\n",
       "    )\n",
       "    (comb_iter_0_left): BranchSeparablesReduction(\n",
       "      (relu): ReLU()\n",
       "      (separable_1): SeparableConv2d(\n",
       "        (depthwise_conv2d): Conv2d(88, 88, kernel_size=(5, 5), stride=(2, 2), padding=(2, 2), groups=88, bias=False)\n",
       "        (pointwise_conv2d): Conv2d(88, 88, kernel_size=(1, 1), stride=(1, 1), bias=False)\n",
       "      )\n",
       "      (bn_sep_1): BatchNorm2d(88, eps=0.001, momentum=0.1, affine=True, track_running_stats=True)\n",
       "      (relu1): ReLU()\n",
       "      (separable_2): SeparableConv2d(\n",
       "        (depthwise_conv2d): Conv2d(88, 88, kernel_size=(5, 5), stride=(1, 1), padding=(2, 2), groups=88, bias=False)\n",
       "        (pointwise_conv2d): Conv2d(88, 88, kernel_size=(1, 1), stride=(1, 1), bias=False)\n",
       "      )\n",
       "      (bn_sep_2): BatchNorm2d(88, eps=0.001, momentum=0.1, affine=True, track_running_stats=True)\n",
       "      (padding): ZeroPad2d(padding=(1, 0, 1, 0), value=0.0)\n",
       "    )\n",
       "    (comb_iter_0_right): BranchSeparablesReduction(\n",
       "      (relu): ReLU()\n",
       "      (separable_1): SeparableConv2d(\n",
       "        (depthwise_conv2d): Conv2d(88, 88, kernel_size=(7, 7), stride=(2, 2), padding=(3, 3), groups=88, bias=False)\n",
       "        (pointwise_conv2d): Conv2d(88, 88, kernel_size=(1, 1), stride=(1, 1), bias=False)\n",
       "      )\n",
       "      (bn_sep_1): BatchNorm2d(88, eps=0.001, momentum=0.1, affine=True, track_running_stats=True)\n",
       "      (relu1): ReLU()\n",
       "      (separable_2): SeparableConv2d(\n",
       "        (depthwise_conv2d): Conv2d(88, 88, kernel_size=(7, 7), stride=(1, 1), padding=(3, 3), groups=88, bias=False)\n",
       "        (pointwise_conv2d): Conv2d(88, 88, kernel_size=(1, 1), stride=(1, 1), bias=False)\n",
       "      )\n",
       "      (bn_sep_2): BatchNorm2d(88, eps=0.001, momentum=0.1, affine=True, track_running_stats=True)\n",
       "      (padding): ZeroPad2d(padding=(1, 0, 1, 0), value=0.0)\n",
       "    )\n",
       "    (comb_iter_1_left): MaxPoolPad(\n",
       "      (pad): ZeroPad2d(padding=(1, 0, 1, 0), value=0.0)\n",
       "      (pool): MaxPool2d(kernel_size=3, stride=2, padding=1, dilation=1, ceil_mode=False)\n",
       "    )\n",
       "    (comb_iter_1_right): BranchSeparablesReduction(\n",
       "      (relu): ReLU()\n",
       "      (separable_1): SeparableConv2d(\n",
       "        (depthwise_conv2d): Conv2d(88, 88, kernel_size=(7, 7), stride=(2, 2), padding=(3, 3), groups=88, bias=False)\n",
       "        (pointwise_conv2d): Conv2d(88, 88, kernel_size=(1, 1), stride=(1, 1), bias=False)\n",
       "      )\n",
       "      (bn_sep_1): BatchNorm2d(88, eps=0.001, momentum=0.1, affine=True, track_running_stats=True)\n",
       "      (relu1): ReLU()\n",
       "      (separable_2): SeparableConv2d(\n",
       "        (depthwise_conv2d): Conv2d(88, 88, kernel_size=(7, 7), stride=(1, 1), padding=(3, 3), groups=88, bias=False)\n",
       "        (pointwise_conv2d): Conv2d(88, 88, kernel_size=(1, 1), stride=(1, 1), bias=False)\n",
       "      )\n",
       "      (bn_sep_2): BatchNorm2d(88, eps=0.001, momentum=0.1, affine=True, track_running_stats=True)\n",
       "      (padding): ZeroPad2d(padding=(1, 0, 1, 0), value=0.0)\n",
       "    )\n",
       "    (comb_iter_2_left): AvgPoolPad(\n",
       "      (pad): ZeroPad2d(padding=(1, 0, 1, 0), value=0.0)\n",
       "      (pool): AvgPool2d(kernel_size=3, stride=2, padding=1)\n",
       "    )\n",
       "    (comb_iter_2_right): BranchSeparablesReduction(\n",
       "      (relu): ReLU()\n",
       "      (separable_1): SeparableConv2d(\n",
       "        (depthwise_conv2d): Conv2d(88, 88, kernel_size=(5, 5), stride=(2, 2), padding=(2, 2), groups=88, bias=False)\n",
       "        (pointwise_conv2d): Conv2d(88, 88, kernel_size=(1, 1), stride=(1, 1), bias=False)\n",
       "      )\n",
       "      (bn_sep_1): BatchNorm2d(88, eps=0.001, momentum=0.1, affine=True, track_running_stats=True)\n",
       "      (relu1): ReLU()\n",
       "      (separable_2): SeparableConv2d(\n",
       "        (depthwise_conv2d): Conv2d(88, 88, kernel_size=(5, 5), stride=(1, 1), padding=(2, 2), groups=88, bias=False)\n",
       "        (pointwise_conv2d): Conv2d(88, 88, kernel_size=(1, 1), stride=(1, 1), bias=False)\n",
       "      )\n",
       "      (bn_sep_2): BatchNorm2d(88, eps=0.001, momentum=0.1, affine=True, track_running_stats=True)\n",
       "      (padding): ZeroPad2d(padding=(1, 0, 1, 0), value=0.0)\n",
       "    )\n",
       "    (comb_iter_3_right): AvgPool2d(kernel_size=3, stride=1, padding=1)\n",
       "    (comb_iter_4_left): BranchSeparablesReduction(\n",
       "      (relu): ReLU()\n",
       "      (separable_1): SeparableConv2d(\n",
       "        (depthwise_conv2d): Conv2d(88, 88, kernel_size=(3, 3), stride=(1, 1), padding=(1, 1), groups=88, bias=False)\n",
       "        (pointwise_conv2d): Conv2d(88, 88, kernel_size=(1, 1), stride=(1, 1), bias=False)\n",
       "      )\n",
       "      (bn_sep_1): BatchNorm2d(88, eps=0.001, momentum=0.1, affine=True, track_running_stats=True)\n",
       "      (relu1): ReLU()\n",
       "      (separable_2): SeparableConv2d(\n",
       "        (depthwise_conv2d): Conv2d(88, 88, kernel_size=(3, 3), stride=(1, 1), padding=(1, 1), groups=88, bias=False)\n",
       "        (pointwise_conv2d): Conv2d(88, 88, kernel_size=(1, 1), stride=(1, 1), bias=False)\n",
       "      )\n",
       "      (bn_sep_2): BatchNorm2d(88, eps=0.001, momentum=0.1, affine=True, track_running_stats=True)\n",
       "      (padding): ZeroPad2d(padding=(1, 0, 1, 0), value=0.0)\n",
       "    )\n",
       "    (comb_iter_4_right): MaxPoolPad(\n",
       "      (pad): ZeroPad2d(padding=(1, 0, 1, 0), value=0.0)\n",
       "      (pool): MaxPool2d(kernel_size=3, stride=2, padding=1, dilation=1, ceil_mode=False)\n",
       "    )\n",
       "  )\n",
       "  (cell_6): FirstCell(\n",
       "    (conv_1x1): Sequential(\n",
       "      (relu): ReLU()\n",
       "      (conv): Conv2d(352, 88, kernel_size=(1, 1), stride=(1, 1), bias=False)\n",
       "      (bn): BatchNorm2d(88, eps=0.001, momentum=0.1, affine=True, track_running_stats=True)\n",
       "    )\n",
       "    (relu): ReLU()\n",
       "    (path_1): Sequential(\n",
       "      (avgpool): AvgPool2d(kernel_size=1, stride=2, padding=0)\n",
       "      (conv): Conv2d(264, 44, kernel_size=(1, 1), stride=(1, 1), bias=False)\n",
       "    )\n",
       "    (path_2): ModuleList(\n",
       "      (pad): ZeroPad2d(padding=(0, 1, 0, 1), value=0.0)\n",
       "      (avgpool): AvgPool2d(kernel_size=1, stride=2, padding=0)\n",
       "      (conv): Conv2d(264, 44, kernel_size=(1, 1), stride=(1, 1), bias=False)\n",
       "    )\n",
       "    (final_path_bn): BatchNorm2d(88, eps=0.001, momentum=0.1, affine=True, track_running_stats=True)\n",
       "    (comb_iter_0_left): BranchSeparables(\n",
       "      (relu): ReLU()\n",
       "      (separable_1): SeparableConv2d(\n",
       "        (depthwise_conv2d): Conv2d(88, 88, kernel_size=(5, 5), stride=(1, 1), padding=(2, 2), groups=88, bias=False)\n",
       "        (pointwise_conv2d): Conv2d(88, 88, kernel_size=(1, 1), stride=(1, 1), bias=False)\n",
       "      )\n",
       "      (bn_sep_1): BatchNorm2d(88, eps=0.001, momentum=0.1, affine=True, track_running_stats=True)\n",
       "      (relu1): ReLU()\n",
       "      (separable_2): SeparableConv2d(\n",
       "        (depthwise_conv2d): Conv2d(88, 88, kernel_size=(5, 5), stride=(1, 1), padding=(2, 2), groups=88, bias=False)\n",
       "        (pointwise_conv2d): Conv2d(88, 88, kernel_size=(1, 1), stride=(1, 1), bias=False)\n",
       "      )\n",
       "      (bn_sep_2): BatchNorm2d(88, eps=0.001, momentum=0.1, affine=True, track_running_stats=True)\n",
       "    )\n",
       "    (comb_iter_0_right): BranchSeparables(\n",
       "      (relu): ReLU()\n",
       "      (separable_1): SeparableConv2d(\n",
       "        (depthwise_conv2d): Conv2d(88, 88, kernel_size=(3, 3), stride=(1, 1), padding=(1, 1), groups=88, bias=False)\n",
       "        (pointwise_conv2d): Conv2d(88, 88, kernel_size=(1, 1), stride=(1, 1), bias=False)\n",
       "      )\n",
       "      (bn_sep_1): BatchNorm2d(88, eps=0.001, momentum=0.1, affine=True, track_running_stats=True)\n",
       "      (relu1): ReLU()\n",
       "      (separable_2): SeparableConv2d(\n",
       "        (depthwise_conv2d): Conv2d(88, 88, kernel_size=(3, 3), stride=(1, 1), padding=(1, 1), groups=88, bias=False)\n",
       "        (pointwise_conv2d): Conv2d(88, 88, kernel_size=(1, 1), stride=(1, 1), bias=False)\n",
       "      )\n",
       "      (bn_sep_2): BatchNorm2d(88, eps=0.001, momentum=0.1, affine=True, track_running_stats=True)\n",
       "    )\n",
       "    (comb_iter_1_left): BranchSeparables(\n",
       "      (relu): ReLU()\n",
       "      (separable_1): SeparableConv2d(\n",
       "        (depthwise_conv2d): Conv2d(88, 88, kernel_size=(5, 5), stride=(1, 1), padding=(2, 2), groups=88, bias=False)\n",
       "        (pointwise_conv2d): Conv2d(88, 88, kernel_size=(1, 1), stride=(1, 1), bias=False)\n",
       "      )\n",
       "      (bn_sep_1): BatchNorm2d(88, eps=0.001, momentum=0.1, affine=True, track_running_stats=True)\n",
       "      (relu1): ReLU()\n",
       "      (separable_2): SeparableConv2d(\n",
       "        (depthwise_conv2d): Conv2d(88, 88, kernel_size=(5, 5), stride=(1, 1), padding=(2, 2), groups=88, bias=False)\n",
       "        (pointwise_conv2d): Conv2d(88, 88, kernel_size=(1, 1), stride=(1, 1), bias=False)\n",
       "      )\n",
       "      (bn_sep_2): BatchNorm2d(88, eps=0.001, momentum=0.1, affine=True, track_running_stats=True)\n",
       "    )\n",
       "    (comb_iter_1_right): BranchSeparables(\n",
       "      (relu): ReLU()\n",
       "      (separable_1): SeparableConv2d(\n",
       "        (depthwise_conv2d): Conv2d(88, 88, kernel_size=(3, 3), stride=(1, 1), padding=(1, 1), groups=88, bias=False)\n",
       "        (pointwise_conv2d): Conv2d(88, 88, kernel_size=(1, 1), stride=(1, 1), bias=False)\n",
       "      )\n",
       "      (bn_sep_1): BatchNorm2d(88, eps=0.001, momentum=0.1, affine=True, track_running_stats=True)\n",
       "      (relu1): ReLU()\n",
       "      (separable_2): SeparableConv2d(\n",
       "        (depthwise_conv2d): Conv2d(88, 88, kernel_size=(3, 3), stride=(1, 1), padding=(1, 1), groups=88, bias=False)\n",
       "        (pointwise_conv2d): Conv2d(88, 88, kernel_size=(1, 1), stride=(1, 1), bias=False)\n",
       "      )\n",
       "      (bn_sep_2): BatchNorm2d(88, eps=0.001, momentum=0.1, affine=True, track_running_stats=True)\n",
       "    )\n",
       "    (comb_iter_2_left): AvgPool2d(kernel_size=3, stride=1, padding=1)\n",
       "    (comb_iter_3_left): AvgPool2d(kernel_size=3, stride=1, padding=1)\n",
       "    (comb_iter_3_right): AvgPool2d(kernel_size=3, stride=1, padding=1)\n",
       "    (comb_iter_4_left): BranchSeparables(\n",
       "      (relu): ReLU()\n",
       "      (separable_1): SeparableConv2d(\n",
       "        (depthwise_conv2d): Conv2d(88, 88, kernel_size=(3, 3), stride=(1, 1), padding=(1, 1), groups=88, bias=False)\n",
       "        (pointwise_conv2d): Conv2d(88, 88, kernel_size=(1, 1), stride=(1, 1), bias=False)\n",
       "      )\n",
       "      (bn_sep_1): BatchNorm2d(88, eps=0.001, momentum=0.1, affine=True, track_running_stats=True)\n",
       "      (relu1): ReLU()\n",
       "      (separable_2): SeparableConv2d(\n",
       "        (depthwise_conv2d): Conv2d(88, 88, kernel_size=(3, 3), stride=(1, 1), padding=(1, 1), groups=88, bias=False)\n",
       "        (pointwise_conv2d): Conv2d(88, 88, kernel_size=(1, 1), stride=(1, 1), bias=False)\n",
       "      )\n",
       "      (bn_sep_2): BatchNorm2d(88, eps=0.001, momentum=0.1, affine=True, track_running_stats=True)\n",
       "    )\n",
       "  )\n",
       "  (cell_7): NormalCell(\n",
       "    (conv_prev_1x1): Sequential(\n",
       "      (relu): ReLU()\n",
       "      (conv): Conv2d(352, 88, kernel_size=(1, 1), stride=(1, 1), bias=False)\n",
       "      (bn): BatchNorm2d(88, eps=0.001, momentum=0.1, affine=True, track_running_stats=True)\n",
       "    )\n",
       "    (conv_1x1): Sequential(\n",
       "      (relu): ReLU()\n",
       "      (conv): Conv2d(528, 88, kernel_size=(1, 1), stride=(1, 1), bias=False)\n",
       "      (bn): BatchNorm2d(88, eps=0.001, momentum=0.1, affine=True, track_running_stats=True)\n",
       "    )\n",
       "    (comb_iter_0_left): BranchSeparables(\n",
       "      (relu): ReLU()\n",
       "      (separable_1): SeparableConv2d(\n",
       "        (depthwise_conv2d): Conv2d(88, 88, kernel_size=(5, 5), stride=(1, 1), padding=(2, 2), groups=88, bias=False)\n",
       "        (pointwise_conv2d): Conv2d(88, 88, kernel_size=(1, 1), stride=(1, 1), bias=False)\n",
       "      )\n",
       "      (bn_sep_1): BatchNorm2d(88, eps=0.001, momentum=0.1, affine=True, track_running_stats=True)\n",
       "      (relu1): ReLU()\n",
       "      (separable_2): SeparableConv2d(\n",
       "        (depthwise_conv2d): Conv2d(88, 88, kernel_size=(5, 5), stride=(1, 1), padding=(2, 2), groups=88, bias=False)\n",
       "        (pointwise_conv2d): Conv2d(88, 88, kernel_size=(1, 1), stride=(1, 1), bias=False)\n",
       "      )\n",
       "      (bn_sep_2): BatchNorm2d(88, eps=0.001, momentum=0.1, affine=True, track_running_stats=True)\n",
       "    )\n",
       "    (comb_iter_0_right): BranchSeparables(\n",
       "      (relu): ReLU()\n",
       "      (separable_1): SeparableConv2d(\n",
       "        (depthwise_conv2d): Conv2d(88, 88, kernel_size=(3, 3), stride=(1, 1), padding=(1, 1), groups=88, bias=False)\n",
       "        (pointwise_conv2d): Conv2d(88, 88, kernel_size=(1, 1), stride=(1, 1), bias=False)\n",
       "      )\n",
       "      (bn_sep_1): BatchNorm2d(88, eps=0.001, momentum=0.1, affine=True, track_running_stats=True)\n",
       "      (relu1): ReLU()\n",
       "      (separable_2): SeparableConv2d(\n",
       "        (depthwise_conv2d): Conv2d(88, 88, kernel_size=(3, 3), stride=(1, 1), padding=(1, 1), groups=88, bias=False)\n",
       "        (pointwise_conv2d): Conv2d(88, 88, kernel_size=(1, 1), stride=(1, 1), bias=False)\n",
       "      )\n",
       "      (bn_sep_2): BatchNorm2d(88, eps=0.001, momentum=0.1, affine=True, track_running_stats=True)\n",
       "    )\n",
       "    (comb_iter_1_left): BranchSeparables(\n",
       "      (relu): ReLU()\n",
       "      (separable_1): SeparableConv2d(\n",
       "        (depthwise_conv2d): Conv2d(88, 88, kernel_size=(5, 5), stride=(1, 1), padding=(2, 2), groups=88, bias=False)\n",
       "        (pointwise_conv2d): Conv2d(88, 88, kernel_size=(1, 1), stride=(1, 1), bias=False)\n",
       "      )\n",
       "      (bn_sep_1): BatchNorm2d(88, eps=0.001, momentum=0.1, affine=True, track_running_stats=True)\n",
       "      (relu1): ReLU()\n",
       "      (separable_2): SeparableConv2d(\n",
       "        (depthwise_conv2d): Conv2d(88, 88, kernel_size=(5, 5), stride=(1, 1), padding=(2, 2), groups=88, bias=False)\n",
       "        (pointwise_conv2d): Conv2d(88, 88, kernel_size=(1, 1), stride=(1, 1), bias=False)\n",
       "      )\n",
       "      (bn_sep_2): BatchNorm2d(88, eps=0.001, momentum=0.1, affine=True, track_running_stats=True)\n",
       "    )\n",
       "    (comb_iter_1_right): BranchSeparables(\n",
       "      (relu): ReLU()\n",
       "      (separable_1): SeparableConv2d(\n",
       "        (depthwise_conv2d): Conv2d(88, 88, kernel_size=(3, 3), stride=(1, 1), padding=(1, 1), groups=88, bias=False)\n",
       "        (pointwise_conv2d): Conv2d(88, 88, kernel_size=(1, 1), stride=(1, 1), bias=False)\n",
       "      )\n",
       "      (bn_sep_1): BatchNorm2d(88, eps=0.001, momentum=0.1, affine=True, track_running_stats=True)\n",
       "      (relu1): ReLU()\n",
       "      (separable_2): SeparableConv2d(\n",
       "        (depthwise_conv2d): Conv2d(88, 88, kernel_size=(3, 3), stride=(1, 1), padding=(1, 1), groups=88, bias=False)\n",
       "        (pointwise_conv2d): Conv2d(88, 88, kernel_size=(1, 1), stride=(1, 1), bias=False)\n",
       "      )\n",
       "      (bn_sep_2): BatchNorm2d(88, eps=0.001, momentum=0.1, affine=True, track_running_stats=True)\n",
       "    )\n",
       "    (comb_iter_2_left): AvgPool2d(kernel_size=3, stride=1, padding=1)\n",
       "    (comb_iter_3_left): AvgPool2d(kernel_size=3, stride=1, padding=1)\n",
       "    (comb_iter_3_right): AvgPool2d(kernel_size=3, stride=1, padding=1)\n",
       "    (comb_iter_4_left): BranchSeparables(\n",
       "      (relu): ReLU()\n",
       "      (separable_1): SeparableConv2d(\n",
       "        (depthwise_conv2d): Conv2d(88, 88, kernel_size=(3, 3), stride=(1, 1), padding=(1, 1), groups=88, bias=False)\n",
       "        (pointwise_conv2d): Conv2d(88, 88, kernel_size=(1, 1), stride=(1, 1), bias=False)\n",
       "      )\n",
       "      (bn_sep_1): BatchNorm2d(88, eps=0.001, momentum=0.1, affine=True, track_running_stats=True)\n",
       "      (relu1): ReLU()\n",
       "      (separable_2): SeparableConv2d(\n",
       "        (depthwise_conv2d): Conv2d(88, 88, kernel_size=(3, 3), stride=(1, 1), padding=(1, 1), groups=88, bias=False)\n",
       "        (pointwise_conv2d): Conv2d(88, 88, kernel_size=(1, 1), stride=(1, 1), bias=False)\n",
       "      )\n",
       "      (bn_sep_2): BatchNorm2d(88, eps=0.001, momentum=0.1, affine=True, track_running_stats=True)\n",
       "    )\n",
       "  )\n",
       "  (cell_8): NormalCell(\n",
       "    (conv_prev_1x1): Sequential(\n",
       "      (relu): ReLU()\n",
       "      (conv): Conv2d(528, 88, kernel_size=(1, 1), stride=(1, 1), bias=False)\n",
       "      (bn): BatchNorm2d(88, eps=0.001, momentum=0.1, affine=True, track_running_stats=True)\n",
       "    )\n",
       "    (conv_1x1): Sequential(\n",
       "      (relu): ReLU()\n",
       "      (conv): Conv2d(528, 88, kernel_size=(1, 1), stride=(1, 1), bias=False)\n",
       "      (bn): BatchNorm2d(88, eps=0.001, momentum=0.1, affine=True, track_running_stats=True)\n",
       "    )\n",
       "    (comb_iter_0_left): BranchSeparables(\n",
       "      (relu): ReLU()\n",
       "      (separable_1): SeparableConv2d(\n",
       "        (depthwise_conv2d): Conv2d(88, 88, kernel_size=(5, 5), stride=(1, 1), padding=(2, 2), groups=88, bias=False)\n",
       "        (pointwise_conv2d): Conv2d(88, 88, kernel_size=(1, 1), stride=(1, 1), bias=False)\n",
       "      )\n",
       "      (bn_sep_1): BatchNorm2d(88, eps=0.001, momentum=0.1, affine=True, track_running_stats=True)\n",
       "      (relu1): ReLU()\n",
       "      (separable_2): SeparableConv2d(\n",
       "        (depthwise_conv2d): Conv2d(88, 88, kernel_size=(5, 5), stride=(1, 1), padding=(2, 2), groups=88, bias=False)\n",
       "        (pointwise_conv2d): Conv2d(88, 88, kernel_size=(1, 1), stride=(1, 1), bias=False)\n",
       "      )\n",
       "      (bn_sep_2): BatchNorm2d(88, eps=0.001, momentum=0.1, affine=True, track_running_stats=True)\n",
       "    )\n",
       "    (comb_iter_0_right): BranchSeparables(\n",
       "      (relu): ReLU()\n",
       "      (separable_1): SeparableConv2d(\n",
       "        (depthwise_conv2d): Conv2d(88, 88, kernel_size=(3, 3), stride=(1, 1), padding=(1, 1), groups=88, bias=False)\n",
       "        (pointwise_conv2d): Conv2d(88, 88, kernel_size=(1, 1), stride=(1, 1), bias=False)\n",
       "      )\n",
       "      (bn_sep_1): BatchNorm2d(88, eps=0.001, momentum=0.1, affine=True, track_running_stats=True)\n",
       "      (relu1): ReLU()\n",
       "      (separable_2): SeparableConv2d(\n",
       "        (depthwise_conv2d): Conv2d(88, 88, kernel_size=(3, 3), stride=(1, 1), padding=(1, 1), groups=88, bias=False)\n",
       "        (pointwise_conv2d): Conv2d(88, 88, kernel_size=(1, 1), stride=(1, 1), bias=False)\n",
       "      )\n",
       "      (bn_sep_2): BatchNorm2d(88, eps=0.001, momentum=0.1, affine=True, track_running_stats=True)\n",
       "    )\n",
       "    (comb_iter_1_left): BranchSeparables(\n",
       "      (relu): ReLU()\n",
       "      (separable_1): SeparableConv2d(\n",
       "        (depthwise_conv2d): Conv2d(88, 88, kernel_size=(5, 5), stride=(1, 1), padding=(2, 2), groups=88, bias=False)\n",
       "        (pointwise_conv2d): Conv2d(88, 88, kernel_size=(1, 1), stride=(1, 1), bias=False)\n",
       "      )\n",
       "      (bn_sep_1): BatchNorm2d(88, eps=0.001, momentum=0.1, affine=True, track_running_stats=True)\n",
       "      (relu1): ReLU()\n",
       "      (separable_2): SeparableConv2d(\n",
       "        (depthwise_conv2d): Conv2d(88, 88, kernel_size=(5, 5), stride=(1, 1), padding=(2, 2), groups=88, bias=False)\n",
       "        (pointwise_conv2d): Conv2d(88, 88, kernel_size=(1, 1), stride=(1, 1), bias=False)\n",
       "      )\n",
       "      (bn_sep_2): BatchNorm2d(88, eps=0.001, momentum=0.1, affine=True, track_running_stats=True)\n",
       "    )\n",
       "    (comb_iter_1_right): BranchSeparables(\n",
       "      (relu): ReLU()\n",
       "      (separable_1): SeparableConv2d(\n",
       "        (depthwise_conv2d): Conv2d(88, 88, kernel_size=(3, 3), stride=(1, 1), padding=(1, 1), groups=88, bias=False)\n",
       "        (pointwise_conv2d): Conv2d(88, 88, kernel_size=(1, 1), stride=(1, 1), bias=False)\n",
       "      )\n",
       "      (bn_sep_1): BatchNorm2d(88, eps=0.001, momentum=0.1, affine=True, track_running_stats=True)\n",
       "      (relu1): ReLU()\n",
       "      (separable_2): SeparableConv2d(\n",
       "        (depthwise_conv2d): Conv2d(88, 88, kernel_size=(3, 3), stride=(1, 1), padding=(1, 1), groups=88, bias=False)\n",
       "        (pointwise_conv2d): Conv2d(88, 88, kernel_size=(1, 1), stride=(1, 1), bias=False)\n",
       "      )\n",
       "      (bn_sep_2): BatchNorm2d(88, eps=0.001, momentum=0.1, affine=True, track_running_stats=True)\n",
       "    )\n",
       "    (comb_iter_2_left): AvgPool2d(kernel_size=3, stride=1, padding=1)\n",
       "    (comb_iter_3_left): AvgPool2d(kernel_size=3, stride=1, padding=1)\n",
       "    (comb_iter_3_right): AvgPool2d(kernel_size=3, stride=1, padding=1)\n",
       "    (comb_iter_4_left): BranchSeparables(\n",
       "      (relu): ReLU()\n",
       "      (separable_1): SeparableConv2d(\n",
       "        (depthwise_conv2d): Conv2d(88, 88, kernel_size=(3, 3), stride=(1, 1), padding=(1, 1), groups=88, bias=False)\n",
       "        (pointwise_conv2d): Conv2d(88, 88, kernel_size=(1, 1), stride=(1, 1), bias=False)\n",
       "      )\n",
       "      (bn_sep_1): BatchNorm2d(88, eps=0.001, momentum=0.1, affine=True, track_running_stats=True)\n",
       "      (relu1): ReLU()\n",
       "      (separable_2): SeparableConv2d(\n",
       "        (depthwise_conv2d): Conv2d(88, 88, kernel_size=(3, 3), stride=(1, 1), padding=(1, 1), groups=88, bias=False)\n",
       "        (pointwise_conv2d): Conv2d(88, 88, kernel_size=(1, 1), stride=(1, 1), bias=False)\n",
       "      )\n",
       "      (bn_sep_2): BatchNorm2d(88, eps=0.001, momentum=0.1, affine=True, track_running_stats=True)\n",
       "    )\n",
       "  )\n",
       "  (cell_9): NormalCell(\n",
       "    (conv_prev_1x1): Sequential(\n",
       "      (relu): ReLU()\n",
       "      (conv): Conv2d(528, 88, kernel_size=(1, 1), stride=(1, 1), bias=False)\n",
       "      (bn): BatchNorm2d(88, eps=0.001, momentum=0.1, affine=True, track_running_stats=True)\n",
       "    )\n",
       "    (conv_1x1): Sequential(\n",
       "      (relu): ReLU()\n",
       "      (conv): Conv2d(528, 88, kernel_size=(1, 1), stride=(1, 1), bias=False)\n",
       "      (bn): BatchNorm2d(88, eps=0.001, momentum=0.1, affine=True, track_running_stats=True)\n",
       "    )\n",
       "    (comb_iter_0_left): BranchSeparables(\n",
       "      (relu): ReLU()\n",
       "      (separable_1): SeparableConv2d(\n",
       "        (depthwise_conv2d): Conv2d(88, 88, kernel_size=(5, 5), stride=(1, 1), padding=(2, 2), groups=88, bias=False)\n",
       "        (pointwise_conv2d): Conv2d(88, 88, kernel_size=(1, 1), stride=(1, 1), bias=False)\n",
       "      )\n",
       "      (bn_sep_1): BatchNorm2d(88, eps=0.001, momentum=0.1, affine=True, track_running_stats=True)\n",
       "      (relu1): ReLU()\n",
       "      (separable_2): SeparableConv2d(\n",
       "        (depthwise_conv2d): Conv2d(88, 88, kernel_size=(5, 5), stride=(1, 1), padding=(2, 2), groups=88, bias=False)\n",
       "        (pointwise_conv2d): Conv2d(88, 88, kernel_size=(1, 1), stride=(1, 1), bias=False)\n",
       "      )\n",
       "      (bn_sep_2): BatchNorm2d(88, eps=0.001, momentum=0.1, affine=True, track_running_stats=True)\n",
       "    )\n",
       "    (comb_iter_0_right): BranchSeparables(\n",
       "      (relu): ReLU()\n",
       "      (separable_1): SeparableConv2d(\n",
       "        (depthwise_conv2d): Conv2d(88, 88, kernel_size=(3, 3), stride=(1, 1), padding=(1, 1), groups=88, bias=False)\n",
       "        (pointwise_conv2d): Conv2d(88, 88, kernel_size=(1, 1), stride=(1, 1), bias=False)\n",
       "      )\n",
       "      (bn_sep_1): BatchNorm2d(88, eps=0.001, momentum=0.1, affine=True, track_running_stats=True)\n",
       "      (relu1): ReLU()\n",
       "      (separable_2): SeparableConv2d(\n",
       "        (depthwise_conv2d): Conv2d(88, 88, kernel_size=(3, 3), stride=(1, 1), padding=(1, 1), groups=88, bias=False)\n",
       "        (pointwise_conv2d): Conv2d(88, 88, kernel_size=(1, 1), stride=(1, 1), bias=False)\n",
       "      )\n",
       "      (bn_sep_2): BatchNorm2d(88, eps=0.001, momentum=0.1, affine=True, track_running_stats=True)\n",
       "    )\n",
       "    (comb_iter_1_left): BranchSeparables(\n",
       "      (relu): ReLU()\n",
       "      (separable_1): SeparableConv2d(\n",
       "        (depthwise_conv2d): Conv2d(88, 88, kernel_size=(5, 5), stride=(1, 1), padding=(2, 2), groups=88, bias=False)\n",
       "        (pointwise_conv2d): Conv2d(88, 88, kernel_size=(1, 1), stride=(1, 1), bias=False)\n",
       "      )\n",
       "      (bn_sep_1): BatchNorm2d(88, eps=0.001, momentum=0.1, affine=True, track_running_stats=True)\n",
       "      (relu1): ReLU()\n",
       "      (separable_2): SeparableConv2d(\n",
       "        (depthwise_conv2d): Conv2d(88, 88, kernel_size=(5, 5), stride=(1, 1), padding=(2, 2), groups=88, bias=False)\n",
       "        (pointwise_conv2d): Conv2d(88, 88, kernel_size=(1, 1), stride=(1, 1), bias=False)\n",
       "      )\n",
       "      (bn_sep_2): BatchNorm2d(88, eps=0.001, momentum=0.1, affine=True, track_running_stats=True)\n",
       "    )\n",
       "    (comb_iter_1_right): BranchSeparables(\n",
       "      (relu): ReLU()\n",
       "      (separable_1): SeparableConv2d(\n",
       "        (depthwise_conv2d): Conv2d(88, 88, kernel_size=(3, 3), stride=(1, 1), padding=(1, 1), groups=88, bias=False)\n",
       "        (pointwise_conv2d): Conv2d(88, 88, kernel_size=(1, 1), stride=(1, 1), bias=False)\n",
       "      )\n",
       "      (bn_sep_1): BatchNorm2d(88, eps=0.001, momentum=0.1, affine=True, track_running_stats=True)\n",
       "      (relu1): ReLU()\n",
       "      (separable_2): SeparableConv2d(\n",
       "        (depthwise_conv2d): Conv2d(88, 88, kernel_size=(3, 3), stride=(1, 1), padding=(1, 1), groups=88, bias=False)\n",
       "        (pointwise_conv2d): Conv2d(88, 88, kernel_size=(1, 1), stride=(1, 1), bias=False)\n",
       "      )\n",
       "      (bn_sep_2): BatchNorm2d(88, eps=0.001, momentum=0.1, affine=True, track_running_stats=True)\n",
       "    )\n",
       "    (comb_iter_2_left): AvgPool2d(kernel_size=3, stride=1, padding=1)\n",
       "    (comb_iter_3_left): AvgPool2d(kernel_size=3, stride=1, padding=1)\n",
       "    (comb_iter_3_right): AvgPool2d(kernel_size=3, stride=1, padding=1)\n",
       "    (comb_iter_4_left): BranchSeparables(\n",
       "      (relu): ReLU()\n",
       "      (separable_1): SeparableConv2d(\n",
       "        (depthwise_conv2d): Conv2d(88, 88, kernel_size=(3, 3), stride=(1, 1), padding=(1, 1), groups=88, bias=False)\n",
       "        (pointwise_conv2d): Conv2d(88, 88, kernel_size=(1, 1), stride=(1, 1), bias=False)\n",
       "      )\n",
       "      (bn_sep_1): BatchNorm2d(88, eps=0.001, momentum=0.1, affine=True, track_running_stats=True)\n",
       "      (relu1): ReLU()\n",
       "      (separable_2): SeparableConv2d(\n",
       "        (depthwise_conv2d): Conv2d(88, 88, kernel_size=(3, 3), stride=(1, 1), padding=(1, 1), groups=88, bias=False)\n",
       "        (pointwise_conv2d): Conv2d(88, 88, kernel_size=(1, 1), stride=(1, 1), bias=False)\n",
       "      )\n",
       "      (bn_sep_2): BatchNorm2d(88, eps=0.001, momentum=0.1, affine=True, track_running_stats=True)\n",
       "    )\n",
       "  )\n",
       "  (reduction_cell_1): ReductionCell1(\n",
       "    (conv_prev_1x1): Sequential(\n",
       "      (relu): ReLU()\n",
       "      (conv): Conv2d(528, 176, kernel_size=(1, 1), stride=(1, 1), bias=False)\n",
       "      (bn): BatchNorm2d(176, eps=0.001, momentum=0.1, affine=True, track_running_stats=True)\n",
       "    )\n",
       "    (conv_1x1): Sequential(\n",
       "      (relu): ReLU()\n",
       "      (conv): Conv2d(528, 176, kernel_size=(1, 1), stride=(1, 1), bias=False)\n",
       "      (bn): BatchNorm2d(176, eps=0.001, momentum=0.1, affine=True, track_running_stats=True)\n",
       "    )\n",
       "    (comb_iter_0_left): BranchSeparables(\n",
       "      (relu): ReLU()\n",
       "      (separable_1): SeparableConv2d(\n",
       "        (depthwise_conv2d): Conv2d(176, 176, kernel_size=(5, 5), stride=(2, 2), padding=(2, 2), groups=176, bias=False)\n",
       "        (pointwise_conv2d): Conv2d(176, 176, kernel_size=(1, 1), stride=(1, 1), bias=False)\n",
       "      )\n",
       "      (bn_sep_1): BatchNorm2d(176, eps=0.001, momentum=0.1, affine=True, track_running_stats=True)\n",
       "      (relu1): ReLU()\n",
       "      (separable_2): SeparableConv2d(\n",
       "        (depthwise_conv2d): Conv2d(176, 176, kernel_size=(5, 5), stride=(1, 1), padding=(2, 2), groups=176, bias=False)\n",
       "        (pointwise_conv2d): Conv2d(176, 176, kernel_size=(1, 1), stride=(1, 1), bias=False)\n",
       "      )\n",
       "      (bn_sep_2): BatchNorm2d(176, eps=0.001, momentum=0.1, affine=True, track_running_stats=True)\n",
       "    )\n",
       "    (comb_iter_0_right): BranchSeparables(\n",
       "      (relu): ReLU()\n",
       "      (separable_1): SeparableConv2d(\n",
       "        (depthwise_conv2d): Conv2d(176, 176, kernel_size=(7, 7), stride=(2, 2), padding=(3, 3), groups=176, bias=False)\n",
       "        (pointwise_conv2d): Conv2d(176, 176, kernel_size=(1, 1), stride=(1, 1), bias=False)\n",
       "      )\n",
       "      (bn_sep_1): BatchNorm2d(176, eps=0.001, momentum=0.1, affine=True, track_running_stats=True)\n",
       "      (relu1): ReLU()\n",
       "      (separable_2): SeparableConv2d(\n",
       "        (depthwise_conv2d): Conv2d(176, 176, kernel_size=(7, 7), stride=(1, 1), padding=(3, 3), groups=176, bias=False)\n",
       "        (pointwise_conv2d): Conv2d(176, 176, kernel_size=(1, 1), stride=(1, 1), bias=False)\n",
       "      )\n",
       "      (bn_sep_2): BatchNorm2d(176, eps=0.001, momentum=0.1, affine=True, track_running_stats=True)\n",
       "    )\n",
       "    (comb_iter_1_left): MaxPoolPad(\n",
       "      (pad): ZeroPad2d(padding=(1, 0, 1, 0), value=0.0)\n",
       "      (pool): MaxPool2d(kernel_size=3, stride=2, padding=1, dilation=1, ceil_mode=False)\n",
       "    )\n",
       "    (comb_iter_1_right): BranchSeparables(\n",
       "      (relu): ReLU()\n",
       "      (separable_1): SeparableConv2d(\n",
       "        (depthwise_conv2d): Conv2d(176, 176, kernel_size=(7, 7), stride=(2, 2), padding=(3, 3), groups=176, bias=False)\n",
       "        (pointwise_conv2d): Conv2d(176, 176, kernel_size=(1, 1), stride=(1, 1), bias=False)\n",
       "      )\n",
       "      (bn_sep_1): BatchNorm2d(176, eps=0.001, momentum=0.1, affine=True, track_running_stats=True)\n",
       "      (relu1): ReLU()\n",
       "      (separable_2): SeparableConv2d(\n",
       "        (depthwise_conv2d): Conv2d(176, 176, kernel_size=(7, 7), stride=(1, 1), padding=(3, 3), groups=176, bias=False)\n",
       "        (pointwise_conv2d): Conv2d(176, 176, kernel_size=(1, 1), stride=(1, 1), bias=False)\n",
       "      )\n",
       "      (bn_sep_2): BatchNorm2d(176, eps=0.001, momentum=0.1, affine=True, track_running_stats=True)\n",
       "    )\n",
       "    (comb_iter_2_left): AvgPoolPad(\n",
       "      (pad): ZeroPad2d(padding=(1, 0, 1, 0), value=0.0)\n",
       "      (pool): AvgPool2d(kernel_size=3, stride=2, padding=1)\n",
       "    )\n",
       "    (comb_iter_2_right): BranchSeparables(\n",
       "      (relu): ReLU()\n",
       "      (separable_1): SeparableConv2d(\n",
       "        (depthwise_conv2d): Conv2d(176, 176, kernel_size=(5, 5), stride=(2, 2), padding=(2, 2), groups=176, bias=False)\n",
       "        (pointwise_conv2d): Conv2d(176, 176, kernel_size=(1, 1), stride=(1, 1), bias=False)\n",
       "      )\n",
       "      (bn_sep_1): BatchNorm2d(176, eps=0.001, momentum=0.1, affine=True, track_running_stats=True)\n",
       "      (relu1): ReLU()\n",
       "      (separable_2): SeparableConv2d(\n",
       "        (depthwise_conv2d): Conv2d(176, 176, kernel_size=(5, 5), stride=(1, 1), padding=(2, 2), groups=176, bias=False)\n",
       "        (pointwise_conv2d): Conv2d(176, 176, kernel_size=(1, 1), stride=(1, 1), bias=False)\n",
       "      )\n",
       "      (bn_sep_2): BatchNorm2d(176, eps=0.001, momentum=0.1, affine=True, track_running_stats=True)\n",
       "    )\n",
       "    (comb_iter_3_right): AvgPool2d(kernel_size=3, stride=1, padding=1)\n",
       "    (comb_iter_4_left): BranchSeparables(\n",
       "      (relu): ReLU()\n",
       "      (separable_1): SeparableConv2d(\n",
       "        (depthwise_conv2d): Conv2d(176, 176, kernel_size=(3, 3), stride=(1, 1), padding=(1, 1), groups=176, bias=False)\n",
       "        (pointwise_conv2d): Conv2d(176, 176, kernel_size=(1, 1), stride=(1, 1), bias=False)\n",
       "      )\n",
       "      (bn_sep_1): BatchNorm2d(176, eps=0.001, momentum=0.1, affine=True, track_running_stats=True)\n",
       "      (relu1): ReLU()\n",
       "      (separable_2): SeparableConv2d(\n",
       "        (depthwise_conv2d): Conv2d(176, 176, kernel_size=(3, 3), stride=(1, 1), padding=(1, 1), groups=176, bias=False)\n",
       "        (pointwise_conv2d): Conv2d(176, 176, kernel_size=(1, 1), stride=(1, 1), bias=False)\n",
       "      )\n",
       "      (bn_sep_2): BatchNorm2d(176, eps=0.001, momentum=0.1, affine=True, track_running_stats=True)\n",
       "    )\n",
       "    (comb_iter_4_right): MaxPoolPad(\n",
       "      (pad): ZeroPad2d(padding=(1, 0, 1, 0), value=0.0)\n",
       "      (pool): MaxPool2d(kernel_size=3, stride=2, padding=1, dilation=1, ceil_mode=False)\n",
       "    )\n",
       "  )\n",
       "  (cell_12): FirstCell(\n",
       "    (conv_1x1): Sequential(\n",
       "      (relu): ReLU()\n",
       "      (conv): Conv2d(704, 176, kernel_size=(1, 1), stride=(1, 1), bias=False)\n",
       "      (bn): BatchNorm2d(176, eps=0.001, momentum=0.1, affine=True, track_running_stats=True)\n",
       "    )\n",
       "    (relu): ReLU()\n",
       "    (path_1): Sequential(\n",
       "      (avgpool): AvgPool2d(kernel_size=1, stride=2, padding=0)\n",
       "      (conv): Conv2d(528, 88, kernel_size=(1, 1), stride=(1, 1), bias=False)\n",
       "    )\n",
       "    (path_2): ModuleList(\n",
       "      (pad): ZeroPad2d(padding=(0, 1, 0, 1), value=0.0)\n",
       "      (avgpool): AvgPool2d(kernel_size=1, stride=2, padding=0)\n",
       "      (conv): Conv2d(528, 88, kernel_size=(1, 1), stride=(1, 1), bias=False)\n",
       "    )\n",
       "    (final_path_bn): BatchNorm2d(176, eps=0.001, momentum=0.1, affine=True, track_running_stats=True)\n",
       "    (comb_iter_0_left): BranchSeparables(\n",
       "      (relu): ReLU()\n",
       "      (separable_1): SeparableConv2d(\n",
       "        (depthwise_conv2d): Conv2d(176, 176, kernel_size=(5, 5), stride=(1, 1), padding=(2, 2), groups=176, bias=False)\n",
       "        (pointwise_conv2d): Conv2d(176, 176, kernel_size=(1, 1), stride=(1, 1), bias=False)\n",
       "      )\n",
       "      (bn_sep_1): BatchNorm2d(176, eps=0.001, momentum=0.1, affine=True, track_running_stats=True)\n",
       "      (relu1): ReLU()\n",
       "      (separable_2): SeparableConv2d(\n",
       "        (depthwise_conv2d): Conv2d(176, 176, kernel_size=(5, 5), stride=(1, 1), padding=(2, 2), groups=176, bias=False)\n",
       "        (pointwise_conv2d): Conv2d(176, 176, kernel_size=(1, 1), stride=(1, 1), bias=False)\n",
       "      )\n",
       "      (bn_sep_2): BatchNorm2d(176, eps=0.001, momentum=0.1, affine=True, track_running_stats=True)\n",
       "    )\n",
       "    (comb_iter_0_right): BranchSeparables(\n",
       "      (relu): ReLU()\n",
       "      (separable_1): SeparableConv2d(\n",
       "        (depthwise_conv2d): Conv2d(176, 176, kernel_size=(3, 3), stride=(1, 1), padding=(1, 1), groups=176, bias=False)\n",
       "        (pointwise_conv2d): Conv2d(176, 176, kernel_size=(1, 1), stride=(1, 1), bias=False)\n",
       "      )\n",
       "      (bn_sep_1): BatchNorm2d(176, eps=0.001, momentum=0.1, affine=True, track_running_stats=True)\n",
       "      (relu1): ReLU()\n",
       "      (separable_2): SeparableConv2d(\n",
       "        (depthwise_conv2d): Conv2d(176, 176, kernel_size=(3, 3), stride=(1, 1), padding=(1, 1), groups=176, bias=False)\n",
       "        (pointwise_conv2d): Conv2d(176, 176, kernel_size=(1, 1), stride=(1, 1), bias=False)\n",
       "      )\n",
       "      (bn_sep_2): BatchNorm2d(176, eps=0.001, momentum=0.1, affine=True, track_running_stats=True)\n",
       "    )\n",
       "    (comb_iter_1_left): BranchSeparables(\n",
       "      (relu): ReLU()\n",
       "      (separable_1): SeparableConv2d(\n",
       "        (depthwise_conv2d): Conv2d(176, 176, kernel_size=(5, 5), stride=(1, 1), padding=(2, 2), groups=176, bias=False)\n",
       "        (pointwise_conv2d): Conv2d(176, 176, kernel_size=(1, 1), stride=(1, 1), bias=False)\n",
       "      )\n",
       "      (bn_sep_1): BatchNorm2d(176, eps=0.001, momentum=0.1, affine=True, track_running_stats=True)\n",
       "      (relu1): ReLU()\n",
       "      (separable_2): SeparableConv2d(\n",
       "        (depthwise_conv2d): Conv2d(176, 176, kernel_size=(5, 5), stride=(1, 1), padding=(2, 2), groups=176, bias=False)\n",
       "        (pointwise_conv2d): Conv2d(176, 176, kernel_size=(1, 1), stride=(1, 1), bias=False)\n",
       "      )\n",
       "      (bn_sep_2): BatchNorm2d(176, eps=0.001, momentum=0.1, affine=True, track_running_stats=True)\n",
       "    )\n",
       "    (comb_iter_1_right): BranchSeparables(\n",
       "      (relu): ReLU()\n",
       "      (separable_1): SeparableConv2d(\n",
       "        (depthwise_conv2d): Conv2d(176, 176, kernel_size=(3, 3), stride=(1, 1), padding=(1, 1), groups=176, bias=False)\n",
       "        (pointwise_conv2d): Conv2d(176, 176, kernel_size=(1, 1), stride=(1, 1), bias=False)\n",
       "      )\n",
       "      (bn_sep_1): BatchNorm2d(176, eps=0.001, momentum=0.1, affine=True, track_running_stats=True)\n",
       "      (relu1): ReLU()\n",
       "      (separable_2): SeparableConv2d(\n",
       "        (depthwise_conv2d): Conv2d(176, 176, kernel_size=(3, 3), stride=(1, 1), padding=(1, 1), groups=176, bias=False)\n",
       "        (pointwise_conv2d): Conv2d(176, 176, kernel_size=(1, 1), stride=(1, 1), bias=False)\n",
       "      )\n",
       "      (bn_sep_2): BatchNorm2d(176, eps=0.001, momentum=0.1, affine=True, track_running_stats=True)\n",
       "    )\n",
       "    (comb_iter_2_left): AvgPool2d(kernel_size=3, stride=1, padding=1)\n",
       "    (comb_iter_3_left): AvgPool2d(kernel_size=3, stride=1, padding=1)\n",
       "    (comb_iter_3_right): AvgPool2d(kernel_size=3, stride=1, padding=1)\n",
       "    (comb_iter_4_left): BranchSeparables(\n",
       "      (relu): ReLU()\n",
       "      (separable_1): SeparableConv2d(\n",
       "        (depthwise_conv2d): Conv2d(176, 176, kernel_size=(3, 3), stride=(1, 1), padding=(1, 1), groups=176, bias=False)\n",
       "        (pointwise_conv2d): Conv2d(176, 176, kernel_size=(1, 1), stride=(1, 1), bias=False)\n",
       "      )\n",
       "      (bn_sep_1): BatchNorm2d(176, eps=0.001, momentum=0.1, affine=True, track_running_stats=True)\n",
       "      (relu1): ReLU()\n",
       "      (separable_2): SeparableConv2d(\n",
       "        (depthwise_conv2d): Conv2d(176, 176, kernel_size=(3, 3), stride=(1, 1), padding=(1, 1), groups=176, bias=False)\n",
       "        (pointwise_conv2d): Conv2d(176, 176, kernel_size=(1, 1), stride=(1, 1), bias=False)\n",
       "      )\n",
       "      (bn_sep_2): BatchNorm2d(176, eps=0.001, momentum=0.1, affine=True, track_running_stats=True)\n",
       "    )\n",
       "  )\n",
       "  (cell_13): NormalCell(\n",
       "    (conv_prev_1x1): Sequential(\n",
       "      (relu): ReLU()\n",
       "      (conv): Conv2d(704, 176, kernel_size=(1, 1), stride=(1, 1), bias=False)\n",
       "      (bn): BatchNorm2d(176, eps=0.001, momentum=0.1, affine=True, track_running_stats=True)\n",
       "    )\n",
       "    (conv_1x1): Sequential(\n",
       "      (relu): ReLU()\n",
       "      (conv): Conv2d(1056, 176, kernel_size=(1, 1), stride=(1, 1), bias=False)\n",
       "      (bn): BatchNorm2d(176, eps=0.001, momentum=0.1, affine=True, track_running_stats=True)\n",
       "    )\n",
       "    (comb_iter_0_left): BranchSeparables(\n",
       "      (relu): ReLU()\n",
       "      (separable_1): SeparableConv2d(\n",
       "        (depthwise_conv2d): Conv2d(176, 176, kernel_size=(5, 5), stride=(1, 1), padding=(2, 2), groups=176, bias=False)\n",
       "        (pointwise_conv2d): Conv2d(176, 176, kernel_size=(1, 1), stride=(1, 1), bias=False)\n",
       "      )\n",
       "      (bn_sep_1): BatchNorm2d(176, eps=0.001, momentum=0.1, affine=True, track_running_stats=True)\n",
       "      (relu1): ReLU()\n",
       "      (separable_2): SeparableConv2d(\n",
       "        (depthwise_conv2d): Conv2d(176, 176, kernel_size=(5, 5), stride=(1, 1), padding=(2, 2), groups=176, bias=False)\n",
       "        (pointwise_conv2d): Conv2d(176, 176, kernel_size=(1, 1), stride=(1, 1), bias=False)\n",
       "      )\n",
       "      (bn_sep_2): BatchNorm2d(176, eps=0.001, momentum=0.1, affine=True, track_running_stats=True)\n",
       "    )\n",
       "    (comb_iter_0_right): BranchSeparables(\n",
       "      (relu): ReLU()\n",
       "      (separable_1): SeparableConv2d(\n",
       "        (depthwise_conv2d): Conv2d(176, 176, kernel_size=(3, 3), stride=(1, 1), padding=(1, 1), groups=176, bias=False)\n",
       "        (pointwise_conv2d): Conv2d(176, 176, kernel_size=(1, 1), stride=(1, 1), bias=False)\n",
       "      )\n",
       "      (bn_sep_1): BatchNorm2d(176, eps=0.001, momentum=0.1, affine=True, track_running_stats=True)\n",
       "      (relu1): ReLU()\n",
       "      (separable_2): SeparableConv2d(\n",
       "        (depthwise_conv2d): Conv2d(176, 176, kernel_size=(3, 3), stride=(1, 1), padding=(1, 1), groups=176, bias=False)\n",
       "        (pointwise_conv2d): Conv2d(176, 176, kernel_size=(1, 1), stride=(1, 1), bias=False)\n",
       "      )\n",
       "      (bn_sep_2): BatchNorm2d(176, eps=0.001, momentum=0.1, affine=True, track_running_stats=True)\n",
       "    )\n",
       "    (comb_iter_1_left): BranchSeparables(\n",
       "      (relu): ReLU()\n",
       "      (separable_1): SeparableConv2d(\n",
       "        (depthwise_conv2d): Conv2d(176, 176, kernel_size=(5, 5), stride=(1, 1), padding=(2, 2), groups=176, bias=False)\n",
       "        (pointwise_conv2d): Conv2d(176, 176, kernel_size=(1, 1), stride=(1, 1), bias=False)\n",
       "      )\n",
       "      (bn_sep_1): BatchNorm2d(176, eps=0.001, momentum=0.1, affine=True, track_running_stats=True)\n",
       "      (relu1): ReLU()\n",
       "      (separable_2): SeparableConv2d(\n",
       "        (depthwise_conv2d): Conv2d(176, 176, kernel_size=(5, 5), stride=(1, 1), padding=(2, 2), groups=176, bias=False)\n",
       "        (pointwise_conv2d): Conv2d(176, 176, kernel_size=(1, 1), stride=(1, 1), bias=False)\n",
       "      )\n",
       "      (bn_sep_2): BatchNorm2d(176, eps=0.001, momentum=0.1, affine=True, track_running_stats=True)\n",
       "    )\n",
       "    (comb_iter_1_right): BranchSeparables(\n",
       "      (relu): ReLU()\n",
       "      (separable_1): SeparableConv2d(\n",
       "        (depthwise_conv2d): Conv2d(176, 176, kernel_size=(3, 3), stride=(1, 1), padding=(1, 1), groups=176, bias=False)\n",
       "        (pointwise_conv2d): Conv2d(176, 176, kernel_size=(1, 1), stride=(1, 1), bias=False)\n",
       "      )\n",
       "      (bn_sep_1): BatchNorm2d(176, eps=0.001, momentum=0.1, affine=True, track_running_stats=True)\n",
       "      (relu1): ReLU()\n",
       "      (separable_2): SeparableConv2d(\n",
       "        (depthwise_conv2d): Conv2d(176, 176, kernel_size=(3, 3), stride=(1, 1), padding=(1, 1), groups=176, bias=False)\n",
       "        (pointwise_conv2d): Conv2d(176, 176, kernel_size=(1, 1), stride=(1, 1), bias=False)\n",
       "      )\n",
       "      (bn_sep_2): BatchNorm2d(176, eps=0.001, momentum=0.1, affine=True, track_running_stats=True)\n",
       "    )\n",
       "    (comb_iter_2_left): AvgPool2d(kernel_size=3, stride=1, padding=1)\n",
       "    (comb_iter_3_left): AvgPool2d(kernel_size=3, stride=1, padding=1)\n",
       "    (comb_iter_3_right): AvgPool2d(kernel_size=3, stride=1, padding=1)\n",
       "    (comb_iter_4_left): BranchSeparables(\n",
       "      (relu): ReLU()\n",
       "      (separable_1): SeparableConv2d(\n",
       "        (depthwise_conv2d): Conv2d(176, 176, kernel_size=(3, 3), stride=(1, 1), padding=(1, 1), groups=176, bias=False)\n",
       "        (pointwise_conv2d): Conv2d(176, 176, kernel_size=(1, 1), stride=(1, 1), bias=False)\n",
       "      )\n",
       "      (bn_sep_1): BatchNorm2d(176, eps=0.001, momentum=0.1, affine=True, track_running_stats=True)\n",
       "      (relu1): ReLU()\n",
       "      (separable_2): SeparableConv2d(\n",
       "        (depthwise_conv2d): Conv2d(176, 176, kernel_size=(3, 3), stride=(1, 1), padding=(1, 1), groups=176, bias=False)\n",
       "        (pointwise_conv2d): Conv2d(176, 176, kernel_size=(1, 1), stride=(1, 1), bias=False)\n",
       "      )\n",
       "      (bn_sep_2): BatchNorm2d(176, eps=0.001, momentum=0.1, affine=True, track_running_stats=True)\n",
       "    )\n",
       "  )\n",
       "  (cell_14): NormalCell(\n",
       "    (conv_prev_1x1): Sequential(\n",
       "      (relu): ReLU()\n",
       "      (conv): Conv2d(1056, 176, kernel_size=(1, 1), stride=(1, 1), bias=False)\n",
       "      (bn): BatchNorm2d(176, eps=0.001, momentum=0.1, affine=True, track_running_stats=True)\n",
       "    )\n",
       "    (conv_1x1): Sequential(\n",
       "      (relu): ReLU()\n",
       "      (conv): Conv2d(1056, 176, kernel_size=(1, 1), stride=(1, 1), bias=False)\n",
       "      (bn): BatchNorm2d(176, eps=0.001, momentum=0.1, affine=True, track_running_stats=True)\n",
       "    )\n",
       "    (comb_iter_0_left): BranchSeparables(\n",
       "      (relu): ReLU()\n",
       "      (separable_1): SeparableConv2d(\n",
       "        (depthwise_conv2d): Conv2d(176, 176, kernel_size=(5, 5), stride=(1, 1), padding=(2, 2), groups=176, bias=False)\n",
       "        (pointwise_conv2d): Conv2d(176, 176, kernel_size=(1, 1), stride=(1, 1), bias=False)\n",
       "      )\n",
       "      (bn_sep_1): BatchNorm2d(176, eps=0.001, momentum=0.1, affine=True, track_running_stats=True)\n",
       "      (relu1): ReLU()\n",
       "      (separable_2): SeparableConv2d(\n",
       "        (depthwise_conv2d): Conv2d(176, 176, kernel_size=(5, 5), stride=(1, 1), padding=(2, 2), groups=176, bias=False)\n",
       "        (pointwise_conv2d): Conv2d(176, 176, kernel_size=(1, 1), stride=(1, 1), bias=False)\n",
       "      )\n",
       "      (bn_sep_2): BatchNorm2d(176, eps=0.001, momentum=0.1, affine=True, track_running_stats=True)\n",
       "    )\n",
       "    (comb_iter_0_right): BranchSeparables(\n",
       "      (relu): ReLU()\n",
       "      (separable_1): SeparableConv2d(\n",
       "        (depthwise_conv2d): Conv2d(176, 176, kernel_size=(3, 3), stride=(1, 1), padding=(1, 1), groups=176, bias=False)\n",
       "        (pointwise_conv2d): Conv2d(176, 176, kernel_size=(1, 1), stride=(1, 1), bias=False)\n",
       "      )\n",
       "      (bn_sep_1): BatchNorm2d(176, eps=0.001, momentum=0.1, affine=True, track_running_stats=True)\n",
       "      (relu1): ReLU()\n",
       "      (separable_2): SeparableConv2d(\n",
       "        (depthwise_conv2d): Conv2d(176, 176, kernel_size=(3, 3), stride=(1, 1), padding=(1, 1), groups=176, bias=False)\n",
       "        (pointwise_conv2d): Conv2d(176, 176, kernel_size=(1, 1), stride=(1, 1), bias=False)\n",
       "      )\n",
       "      (bn_sep_2): BatchNorm2d(176, eps=0.001, momentum=0.1, affine=True, track_running_stats=True)\n",
       "    )\n",
       "    (comb_iter_1_left): BranchSeparables(\n",
       "      (relu): ReLU()\n",
       "      (separable_1): SeparableConv2d(\n",
       "        (depthwise_conv2d): Conv2d(176, 176, kernel_size=(5, 5), stride=(1, 1), padding=(2, 2), groups=176, bias=False)\n",
       "        (pointwise_conv2d): Conv2d(176, 176, kernel_size=(1, 1), stride=(1, 1), bias=False)\n",
       "      )\n",
       "      (bn_sep_1): BatchNorm2d(176, eps=0.001, momentum=0.1, affine=True, track_running_stats=True)\n",
       "      (relu1): ReLU()\n",
       "      (separable_2): SeparableConv2d(\n",
       "        (depthwise_conv2d): Conv2d(176, 176, kernel_size=(5, 5), stride=(1, 1), padding=(2, 2), groups=176, bias=False)\n",
       "        (pointwise_conv2d): Conv2d(176, 176, kernel_size=(1, 1), stride=(1, 1), bias=False)\n",
       "      )\n",
       "      (bn_sep_2): BatchNorm2d(176, eps=0.001, momentum=0.1, affine=True, track_running_stats=True)\n",
       "    )\n",
       "    (comb_iter_1_right): BranchSeparables(\n",
       "      (relu): ReLU()\n",
       "      (separable_1): SeparableConv2d(\n",
       "        (depthwise_conv2d): Conv2d(176, 176, kernel_size=(3, 3), stride=(1, 1), padding=(1, 1), groups=176, bias=False)\n",
       "        (pointwise_conv2d): Conv2d(176, 176, kernel_size=(1, 1), stride=(1, 1), bias=False)\n",
       "      )\n",
       "      (bn_sep_1): BatchNorm2d(176, eps=0.001, momentum=0.1, affine=True, track_running_stats=True)\n",
       "      (relu1): ReLU()\n",
       "      (separable_2): SeparableConv2d(\n",
       "        (depthwise_conv2d): Conv2d(176, 176, kernel_size=(3, 3), stride=(1, 1), padding=(1, 1), groups=176, bias=False)\n",
       "        (pointwise_conv2d): Conv2d(176, 176, kernel_size=(1, 1), stride=(1, 1), bias=False)\n",
       "      )\n",
       "      (bn_sep_2): BatchNorm2d(176, eps=0.001, momentum=0.1, affine=True, track_running_stats=True)\n",
       "    )\n",
       "    (comb_iter_2_left): AvgPool2d(kernel_size=3, stride=1, padding=1)\n",
       "    (comb_iter_3_left): AvgPool2d(kernel_size=3, stride=1, padding=1)\n",
       "    (comb_iter_3_right): AvgPool2d(kernel_size=3, stride=1, padding=1)\n",
       "    (comb_iter_4_left): BranchSeparables(\n",
       "      (relu): ReLU()\n",
       "      (separable_1): SeparableConv2d(\n",
       "        (depthwise_conv2d): Conv2d(176, 176, kernel_size=(3, 3), stride=(1, 1), padding=(1, 1), groups=176, bias=False)\n",
       "        (pointwise_conv2d): Conv2d(176, 176, kernel_size=(1, 1), stride=(1, 1), bias=False)\n",
       "      )\n",
       "      (bn_sep_1): BatchNorm2d(176, eps=0.001, momentum=0.1, affine=True, track_running_stats=True)\n",
       "      (relu1): ReLU()\n",
       "      (separable_2): SeparableConv2d(\n",
       "        (depthwise_conv2d): Conv2d(176, 176, kernel_size=(3, 3), stride=(1, 1), padding=(1, 1), groups=176, bias=False)\n",
       "        (pointwise_conv2d): Conv2d(176, 176, kernel_size=(1, 1), stride=(1, 1), bias=False)\n",
       "      )\n",
       "      (bn_sep_2): BatchNorm2d(176, eps=0.001, momentum=0.1, affine=True, track_running_stats=True)\n",
       "    )\n",
       "  )\n",
       "  (cell_15): NormalCell(\n",
       "    (conv_prev_1x1): Sequential(\n",
       "      (relu): ReLU()\n",
       "      (conv): Conv2d(1056, 176, kernel_size=(1, 1), stride=(1, 1), bias=False)\n",
       "      (bn): BatchNorm2d(176, eps=0.001, momentum=0.1, affine=True, track_running_stats=True)\n",
       "    )\n",
       "    (conv_1x1): Sequential(\n",
       "      (relu): ReLU()\n",
       "      (conv): Conv2d(1056, 176, kernel_size=(1, 1), stride=(1, 1), bias=False)\n",
       "      (bn): BatchNorm2d(176, eps=0.001, momentum=0.1, affine=True, track_running_stats=True)\n",
       "    )\n",
       "    (comb_iter_0_left): BranchSeparables(\n",
       "      (relu): ReLU()\n",
       "      (separable_1): SeparableConv2d(\n",
       "        (depthwise_conv2d): Conv2d(176, 176, kernel_size=(5, 5), stride=(1, 1), padding=(2, 2), groups=176, bias=False)\n",
       "        (pointwise_conv2d): Conv2d(176, 176, kernel_size=(1, 1), stride=(1, 1), bias=False)\n",
       "      )\n",
       "      (bn_sep_1): BatchNorm2d(176, eps=0.001, momentum=0.1, affine=True, track_running_stats=True)\n",
       "      (relu1): ReLU()\n",
       "      (separable_2): SeparableConv2d(\n",
       "        (depthwise_conv2d): Conv2d(176, 176, kernel_size=(5, 5), stride=(1, 1), padding=(2, 2), groups=176, bias=False)\n",
       "        (pointwise_conv2d): Conv2d(176, 176, kernel_size=(1, 1), stride=(1, 1), bias=False)\n",
       "      )\n",
       "      (bn_sep_2): BatchNorm2d(176, eps=0.001, momentum=0.1, affine=True, track_running_stats=True)\n",
       "    )\n",
       "    (comb_iter_0_right): BranchSeparables(\n",
       "      (relu): ReLU()\n",
       "      (separable_1): SeparableConv2d(\n",
       "        (depthwise_conv2d): Conv2d(176, 176, kernel_size=(3, 3), stride=(1, 1), padding=(1, 1), groups=176, bias=False)\n",
       "        (pointwise_conv2d): Conv2d(176, 176, kernel_size=(1, 1), stride=(1, 1), bias=False)\n",
       "      )\n",
       "      (bn_sep_1): BatchNorm2d(176, eps=0.001, momentum=0.1, affine=True, track_running_stats=True)\n",
       "      (relu1): ReLU()\n",
       "      (separable_2): SeparableConv2d(\n",
       "        (depthwise_conv2d): Conv2d(176, 176, kernel_size=(3, 3), stride=(1, 1), padding=(1, 1), groups=176, bias=False)\n",
       "        (pointwise_conv2d): Conv2d(176, 176, kernel_size=(1, 1), stride=(1, 1), bias=False)\n",
       "      )\n",
       "      (bn_sep_2): BatchNorm2d(176, eps=0.001, momentum=0.1, affine=True, track_running_stats=True)\n",
       "    )\n",
       "    (comb_iter_1_left): BranchSeparables(\n",
       "      (relu): ReLU()\n",
       "      (separable_1): SeparableConv2d(\n",
       "        (depthwise_conv2d): Conv2d(176, 176, kernel_size=(5, 5), stride=(1, 1), padding=(2, 2), groups=176, bias=False)\n",
       "        (pointwise_conv2d): Conv2d(176, 176, kernel_size=(1, 1), stride=(1, 1), bias=False)\n",
       "      )\n",
       "      (bn_sep_1): BatchNorm2d(176, eps=0.001, momentum=0.1, affine=True, track_running_stats=True)\n",
       "      (relu1): ReLU()\n",
       "      (separable_2): SeparableConv2d(\n",
       "        (depthwise_conv2d): Conv2d(176, 176, kernel_size=(5, 5), stride=(1, 1), padding=(2, 2), groups=176, bias=False)\n",
       "        (pointwise_conv2d): Conv2d(176, 176, kernel_size=(1, 1), stride=(1, 1), bias=False)\n",
       "      )\n",
       "      (bn_sep_2): BatchNorm2d(176, eps=0.001, momentum=0.1, affine=True, track_running_stats=True)\n",
       "    )\n",
       "    (comb_iter_1_right): BranchSeparables(\n",
       "      (relu): ReLU()\n",
       "      (separable_1): SeparableConv2d(\n",
       "        (depthwise_conv2d): Conv2d(176, 176, kernel_size=(3, 3), stride=(1, 1), padding=(1, 1), groups=176, bias=False)\n",
       "        (pointwise_conv2d): Conv2d(176, 176, kernel_size=(1, 1), stride=(1, 1), bias=False)\n",
       "      )\n",
       "      (bn_sep_1): BatchNorm2d(176, eps=0.001, momentum=0.1, affine=True, track_running_stats=True)\n",
       "      (relu1): ReLU()\n",
       "      (separable_2): SeparableConv2d(\n",
       "        (depthwise_conv2d): Conv2d(176, 176, kernel_size=(3, 3), stride=(1, 1), padding=(1, 1), groups=176, bias=False)\n",
       "        (pointwise_conv2d): Conv2d(176, 176, kernel_size=(1, 1), stride=(1, 1), bias=False)\n",
       "      )\n",
       "      (bn_sep_2): BatchNorm2d(176, eps=0.001, momentum=0.1, affine=True, track_running_stats=True)\n",
       "    )\n",
       "    (comb_iter_2_left): AvgPool2d(kernel_size=3, stride=1, padding=1)\n",
       "    (comb_iter_3_left): AvgPool2d(kernel_size=3, stride=1, padding=1)\n",
       "    (comb_iter_3_right): AvgPool2d(kernel_size=3, stride=1, padding=1)\n",
       "    (comb_iter_4_left): BranchSeparables(\n",
       "      (relu): ReLU()\n",
       "      (separable_1): SeparableConv2d(\n",
       "        (depthwise_conv2d): Conv2d(176, 176, kernel_size=(3, 3), stride=(1, 1), padding=(1, 1), groups=176, bias=False)\n",
       "        (pointwise_conv2d): Conv2d(176, 176, kernel_size=(1, 1), stride=(1, 1), bias=False)\n",
       "      )\n",
       "      (bn_sep_1): BatchNorm2d(176, eps=0.001, momentum=0.1, affine=True, track_running_stats=True)\n",
       "      (relu1): ReLU()\n",
       "      (separable_2): SeparableConv2d(\n",
       "        (depthwise_conv2d): Conv2d(176, 176, kernel_size=(3, 3), stride=(1, 1), padding=(1, 1), groups=176, bias=False)\n",
       "        (pointwise_conv2d): Conv2d(176, 176, kernel_size=(1, 1), stride=(1, 1), bias=False)\n",
       "      )\n",
       "      (bn_sep_2): BatchNorm2d(176, eps=0.001, momentum=0.1, affine=True, track_running_stats=True)\n",
       "    )\n",
       "  )\n",
       "  (relu): ReLU()\n",
       "  (avg_pool): AvgPool2d(kernel_size=7, stride=1, padding=0)\n",
       "  (dropout): Dropout(p=0.5)\n",
       "  (last_linear): Linear(in_features=1056, out_features=1000, bias=True)\n",
       ")"
      ]
     },
     "execution_count": 17,
     "metadata": {},
     "output_type": "execute_result"
    }
   ],
   "source": [
    "blocks = list(model.children())\n",
    "# blocks[:-3]\n",
    "model"
   ]
  },
  {
   "cell_type": "code",
   "execution_count": null,
   "metadata": {
    "ExecuteTime": {
     "end_time": "2019-03-07T17:06:13.683246Z",
     "start_time": "2019-03-07T17:06:13.676205Z"
    }
   },
   "outputs": [],
   "source": [
    "model.layer0.parameters()\n",
    "model.layer1.parameters()\n",
    "model.layer2.parameters()\n",
    "model.layer3.parameters()\n",
    "model.layer4.parameters()\n",
    "#list(model.children())[0]#.parameterss()\n",
    "model.avg_pool"
   ]
  },
  {
   "cell_type": "code",
   "execution_count": null,
   "metadata": {
    "ExecuteTime": {
     "end_time": "2019-03-07T17:02:57.356724Z",
     "start_time": "2019-03-07T17:02:57.355091Z"
    }
   },
   "outputs": [],
   "source": [
    "[\n",
    "    {\"params\": model.layer0.paramters()},\n",
    "    {\"params\": model.layer1.paramters()},\n",
    "    {\"params\": model.layer2.paramters()},\n",
    "    {\"params\": model.layer3.paramters()},\n",
    "    {\"params\": model.layer4.paramters()},\n",
    "    {\"params\": model.avg_pool.paramters()},\n",
    "    {\"params\": model.last_linear.parameters(), \"lr\": 3e-5}\n",
    "], lr=3e-5*0.001,\n",
    "\n",
    "import torch"
   ]
  },
  {
   "cell_type": "code",
   "execution_count": 26,
   "metadata": {
    "ExecuteTime": {
     "end_time": "2019-03-11T07:13:10.902635Z",
     "start_time": "2019-03-11T07:13:10.895929Z"
    }
   },
   "outputs": [],
   "source": [
    "class classifier(torch.nn.Module):\n",
    "    def __init__(self):\n",
    "        self.gmp = torch.nn.functional.max_pool2d()\n",
    "        self.aap = torch.nn.functional.adaptive_avg_pool2d()\n",
    "        self.conc = torch.nn.conc()\n",
    "        self.dp = torch.nn.Dropout(0.5)\n",
    "        self.lin = torch.nn.Linear(1056, 1, bias=True) \n",
    "    def forward(self, x):\n",
    "        pdb.set_trace()\n",
    "        out1 = self.gmp(x)\n",
    "        out2 = self.aap(x)\n",
    "        flat = x.view(x.size[0], -1)\n",
    "        out = self.conc(out1, out2, flat)\n",
    "        out = self.dp(out)\n",
    "        out = self.lin(out)\n",
    "        return out"
   ]
  },
  {
   "cell_type": "code",
   "execution_count": 32,
   "metadata": {
    "ExecuteTime": {
     "end_time": "2019-03-11T07:16:10.087047Z",
     "start_time": "2019-03-11T07:16:10.082661Z"
    },
    "scrolled": false
   },
   "outputs": [],
   "source": [
    "blocks = list(model.children())\n",
    "head = torch.nn.Sequential(*list(model.children())[:-3])\n",
    "# model._modules['layer0'] = head\n",
    "#model._modules['avg_pool'] = torch.nn.AvgPool2d(kernel_size=5, stride=1, padding=0) \n",
    "#model._modules['avg_pool'] = torch.nn.Sequential(*[torch.nn.ConstantPad2d((0,1,0,1), 0), torch.nn.AvgPool2d(kernel_size=7, stride=1, padding=0)])\n",
    "# model._modules['avg_pool'] = torch.nn.Sequential(torch.nn.AdaptiveAvgPool2d((1, 1)))\n",
    "# model._modules['last_linear'] = torch.nn.Linear(in_features=2048, out_features=1, bias=True)\n",
    "# model._modules['last_layer'] = classifier"
   ]
  },
  {
   "cell_type": "code",
   "execution_count": 12,
   "metadata": {
    "ExecuteTime": {
     "end_time": "2019-03-09T06:14:19.979600Z",
     "start_time": "2019-03-09T06:14:19.950807Z"
    }
   },
   "outputs": [],
   "source": [
    "torch.nn.AdaptiveAvgPool2d?"
   ]
  },
  {
   "cell_type": "code",
   "execution_count": 44,
   "metadata": {
    "ExecuteTime": {
     "end_time": "2019-03-08T14:35:34.758872Z",
     "start_time": "2019-03-08T14:35:34.725552Z"
    },
    "scrolled": true
   },
   "outputs": [],
   "source": [
    "#head.parameters()\n",
    "#for block in blocks:\n",
    "base = list(blocks[0].children())[:-1] + blocks[1:-2]\n",
    "torch.nn.Sequential(*base)\n",
    "torch.nn.Dropout?\n",
    "#    print(block)\n",
    "#    print('*'*100)"
   ]
  },
  {
   "cell_type": "code",
   "execution_count": 46,
   "metadata": {
    "ExecuteTime": {
     "end_time": "2019-03-08T14:36:44.812582Z",
     "start_time": "2019-03-08T14:36:44.809699Z"
    }
   },
   "outputs": [],
   "source": [
    "\n",
    "torch.nn.Linear?"
   ]
  },
  {
   "cell_type": "code",
   "execution_count": null,
   "metadata": {
    "ExecuteTime": {
     "end_time": "2019-03-06T18:40:10.089244Z",
     "start_time": "2019-03-06T18:40:10.083820Z"
    }
   },
   "outputs": [],
   "source": [
    "#blocks[0] = head"
   ]
  },
  {
   "cell_type": "code",
   "execution_count": null,
   "metadata": {
    "ExecuteTime": {
     "end_time": "2019-03-06T18:40:11.163991Z",
     "start_time": "2019-03-06T18:40:11.156193Z"
    }
   },
   "outputs": [],
   "source": [
    "#blocks[-1] = torch.nn.Linear(in_features=2048, out_features=1, bias=True)"
   ]
  },
  {
   "cell_type": "code",
   "execution_count": null,
   "metadata": {
    "ExecuteTime": {
     "end_time": "2019-03-06T18:41:12.150285Z",
     "start_time": "2019-03-06T18:41:12.146092Z"
    }
   },
   "outputs": [],
   "source": [
    "#model = torch.nn.Sequential(*blocks)"
   ]
  },
  {
   "cell_type": "code",
   "execution_count": null,
   "metadata": {
    "ExecuteTime": {
     "end_time": "2019-03-08T09:57:42.790101Z",
     "start_time": "2019-03-08T09:57:42.788435Z"
    },
    "scrolled": true
   },
   "outputs": [],
   "source": [
    "#model._modules"
   ]
  },
  {
   "cell_type": "code",
   "execution_count": 9,
   "metadata": {
    "ExecuteTime": {
     "end_time": "2019-03-11T06:54:16.138375Z",
     "start_time": "2019-03-11T06:54:16.134906Z"
    }
   },
   "outputs": [],
   "source": [
    "#img = torch.Tensor(1, 3, 224, 224)#.to('cuda')\n",
    "img = torch.Tensor(1, 3, 112, 112)\n",
    "img = torch.Tensor(1, 3, 96, 96)"
   ]
  },
  {
   "cell_type": "code",
   "execution_count": 15,
   "metadata": {
    "ExecuteTime": {
     "end_time": "2019-03-09T06:15:01.125582Z",
     "start_time": "2019-03-09T06:15:01.019034Z"
    }
   },
   "outputs": [
    {
     "name": "stdout",
     "output_type": "stream",
     "text": [
      "tensor([[-0.2230]], grad_fn=<AddmmBackward>)\n"
     ]
    }
   ],
   "source": [
    "out = model(img)\n",
    "\n",
    "print(out)"
   ]
  },
  {
   "cell_type": "code",
   "execution_count": 18,
   "metadata": {
    "ExecuteTime": {
     "end_time": "2019-03-11T07:05:31.396882Z",
     "start_time": "2019-03-11T07:05:31.365700Z"
    }
   },
   "outputs": [
    {
     "name": "stdout",
     "output_type": "stream",
     "text": [
      "Sequential(\n",
      "  (conv): Conv2d(3, 32, kernel_size=(3, 3), stride=(2, 2), bias=False)\n",
      "  (bn): BatchNorm2d(32, eps=0.001, momentum=0.1, affine=True, track_running_stats=True)\n",
      ")\n",
      "torch.Size([1, 32, 47, 47])\n",
      "CellStem0(\n",
      "  (conv_1x1): Sequential(\n",
      "    (relu): ReLU()\n",
      "    (conv): Conv2d(32, 11, kernel_size=(1, 1), stride=(1, 1), bias=False)\n",
      "    (bn): BatchNorm2d(11, eps=0.001, momentum=0.1, affine=True, track_running_stats=True)\n",
      "  )\n",
      "  (comb_iter_0_left): BranchSeparables(\n",
      "    (relu): ReLU()\n",
      "    (separable_1): SeparableConv2d(\n",
      "      (depthwise_conv2d): Conv2d(11, 11, kernel_size=(5, 5), stride=(2, 2), padding=(2, 2), groups=11, bias=False)\n",
      "      (pointwise_conv2d): Conv2d(11, 11, kernel_size=(1, 1), stride=(1, 1), bias=False)\n",
      "    )\n",
      "    (bn_sep_1): BatchNorm2d(11, eps=0.001, momentum=0.1, affine=True, track_running_stats=True)\n",
      "    (relu1): ReLU()\n",
      "    (separable_2): SeparableConv2d(\n",
      "      (depthwise_conv2d): Conv2d(11, 11, kernel_size=(5, 5), stride=(1, 1), padding=(2, 2), groups=11, bias=False)\n",
      "      (pointwise_conv2d): Conv2d(11, 11, kernel_size=(1, 1), stride=(1, 1), bias=False)\n",
      "    )\n",
      "    (bn_sep_2): BatchNorm2d(11, eps=0.001, momentum=0.1, affine=True, track_running_stats=True)\n",
      "  )\n",
      "  (comb_iter_0_right): BranchSeparablesStem(\n",
      "    (relu): ReLU()\n",
      "    (separable_1): SeparableConv2d(\n",
      "      (depthwise_conv2d): Conv2d(32, 32, kernel_size=(7, 7), stride=(2, 2), padding=(3, 3), groups=32, bias=False)\n",
      "      (pointwise_conv2d): Conv2d(32, 11, kernel_size=(1, 1), stride=(1, 1), bias=False)\n",
      "    )\n",
      "    (bn_sep_1): BatchNorm2d(11, eps=0.001, momentum=0.1, affine=True, track_running_stats=True)\n",
      "    (relu1): ReLU()\n",
      "    (separable_2): SeparableConv2d(\n",
      "      (depthwise_conv2d): Conv2d(11, 11, kernel_size=(7, 7), stride=(1, 1), padding=(3, 3), groups=11, bias=False)\n",
      "      (pointwise_conv2d): Conv2d(11, 11, kernel_size=(1, 1), stride=(1, 1), bias=False)\n",
      "    )\n",
      "    (bn_sep_2): BatchNorm2d(11, eps=0.001, momentum=0.1, affine=True, track_running_stats=True)\n",
      "  )\n",
      "  (comb_iter_1_left): MaxPool2d(kernel_size=3, stride=2, padding=1, dilation=1, ceil_mode=False)\n",
      "  (comb_iter_1_right): BranchSeparablesStem(\n",
      "    (relu): ReLU()\n",
      "    (separable_1): SeparableConv2d(\n",
      "      (depthwise_conv2d): Conv2d(32, 32, kernel_size=(7, 7), stride=(2, 2), padding=(3, 3), groups=32, bias=False)\n",
      "      (pointwise_conv2d): Conv2d(32, 11, kernel_size=(1, 1), stride=(1, 1), bias=False)\n",
      "    )\n",
      "    (bn_sep_1): BatchNorm2d(11, eps=0.001, momentum=0.1, affine=True, track_running_stats=True)\n",
      "    (relu1): ReLU()\n",
      "    (separable_2): SeparableConv2d(\n",
      "      (depthwise_conv2d): Conv2d(11, 11, kernel_size=(7, 7), stride=(1, 1), padding=(3, 3), groups=11, bias=False)\n",
      "      (pointwise_conv2d): Conv2d(11, 11, kernel_size=(1, 1), stride=(1, 1), bias=False)\n",
      "    )\n",
      "    (bn_sep_2): BatchNorm2d(11, eps=0.001, momentum=0.1, affine=True, track_running_stats=True)\n",
      "  )\n",
      "  (comb_iter_2_left): AvgPool2d(kernel_size=3, stride=2, padding=1)\n",
      "  (comb_iter_2_right): BranchSeparablesStem(\n",
      "    (relu): ReLU()\n",
      "    (separable_1): SeparableConv2d(\n",
      "      (depthwise_conv2d): Conv2d(32, 32, kernel_size=(5, 5), stride=(2, 2), padding=(2, 2), groups=32, bias=False)\n",
      "      (pointwise_conv2d): Conv2d(32, 11, kernel_size=(1, 1), stride=(1, 1), bias=False)\n",
      "    )\n",
      "    (bn_sep_1): BatchNorm2d(11, eps=0.001, momentum=0.1, affine=True, track_running_stats=True)\n",
      "    (relu1): ReLU()\n",
      "    (separable_2): SeparableConv2d(\n",
      "      (depthwise_conv2d): Conv2d(11, 11, kernel_size=(5, 5), stride=(1, 1), padding=(2, 2), groups=11, bias=False)\n",
      "      (pointwise_conv2d): Conv2d(11, 11, kernel_size=(1, 1), stride=(1, 1), bias=False)\n",
      "    )\n",
      "    (bn_sep_2): BatchNorm2d(11, eps=0.001, momentum=0.1, affine=True, track_running_stats=True)\n",
      "  )\n",
      "  (comb_iter_3_right): AvgPool2d(kernel_size=3, stride=1, padding=1)\n",
      "  (comb_iter_4_left): BranchSeparables(\n",
      "    (relu): ReLU()\n",
      "    (separable_1): SeparableConv2d(\n",
      "      (depthwise_conv2d): Conv2d(11, 11, kernel_size=(3, 3), stride=(1, 1), padding=(1, 1), groups=11, bias=False)\n",
      "      (pointwise_conv2d): Conv2d(11, 11, kernel_size=(1, 1), stride=(1, 1), bias=False)\n",
      "    )\n",
      "    (bn_sep_1): BatchNorm2d(11, eps=0.001, momentum=0.1, affine=True, track_running_stats=True)\n",
      "    (relu1): ReLU()\n",
      "    (separable_2): SeparableConv2d(\n",
      "      (depthwise_conv2d): Conv2d(11, 11, kernel_size=(3, 3), stride=(1, 1), padding=(1, 1), groups=11, bias=False)\n",
      "      (pointwise_conv2d): Conv2d(11, 11, kernel_size=(1, 1), stride=(1, 1), bias=False)\n",
      "    )\n",
      "    (bn_sep_2): BatchNorm2d(11, eps=0.001, momentum=0.1, affine=True, track_running_stats=True)\n",
      "  )\n",
      "  (comb_iter_4_right): MaxPool2d(kernel_size=3, stride=2, padding=1, dilation=1, ceil_mode=False)\n",
      ")\n",
      "torch.Size([1, 44, 24, 24])\n",
      "CellStem1(\n",
      "  (conv_1x1): Sequential(\n",
      "    (relu): ReLU()\n",
      "    (conv): Conv2d(44, 22, kernel_size=(1, 1), stride=(1, 1), bias=False)\n",
      "    (bn): BatchNorm2d(22, eps=0.001, momentum=0.1, affine=True, track_running_stats=True)\n",
      "  )\n",
      "  (relu): ReLU()\n",
      "  (path_1): Sequential(\n",
      "    (avgpool): AvgPool2d(kernel_size=1, stride=2, padding=0)\n",
      "    (conv): Conv2d(32, 11, kernel_size=(1, 1), stride=(1, 1), bias=False)\n",
      "  )\n",
      "  (path_2): ModuleList(\n",
      "    (pad): ZeroPad2d(padding=(0, 1, 0, 1), value=0.0)\n",
      "    (avgpool): AvgPool2d(kernel_size=1, stride=2, padding=0)\n",
      "    (conv): Conv2d(32, 11, kernel_size=(1, 1), stride=(1, 1), bias=False)\n",
      "  )\n",
      "  (final_path_bn): BatchNorm2d(22, eps=0.001, momentum=0.1, affine=True, track_running_stats=True)\n",
      "  (comb_iter_0_left): BranchSeparables(\n",
      "    (relu): ReLU()\n",
      "    (separable_1): SeparableConv2d(\n",
      "      (depthwise_conv2d): Conv2d(22, 22, kernel_size=(5, 5), stride=(2, 2), padding=(2, 2), groups=22, bias=False)\n",
      "      (pointwise_conv2d): Conv2d(22, 22, kernel_size=(1, 1), stride=(1, 1), bias=False)\n",
      "    )\n",
      "    (bn_sep_1): BatchNorm2d(22, eps=0.001, momentum=0.1, affine=True, track_running_stats=True)\n",
      "    (relu1): ReLU()\n",
      "    (separable_2): SeparableConv2d(\n",
      "      (depthwise_conv2d): Conv2d(22, 22, kernel_size=(5, 5), stride=(1, 1), padding=(2, 2), groups=22, bias=False)\n",
      "      (pointwise_conv2d): Conv2d(22, 22, kernel_size=(1, 1), stride=(1, 1), bias=False)\n",
      "    )\n",
      "    (bn_sep_2): BatchNorm2d(22, eps=0.001, momentum=0.1, affine=True, track_running_stats=True)\n",
      "  )\n",
      "  (comb_iter_0_right): BranchSeparables(\n",
      "    (relu): ReLU()\n",
      "    (separable_1): SeparableConv2d(\n",
      "      (depthwise_conv2d): Conv2d(22, 22, kernel_size=(7, 7), stride=(2, 2), padding=(3, 3), groups=22, bias=False)\n",
      "      (pointwise_conv2d): Conv2d(22, 22, kernel_size=(1, 1), stride=(1, 1), bias=False)\n",
      "    )\n",
      "    (bn_sep_1): BatchNorm2d(22, eps=0.001, momentum=0.1, affine=True, track_running_stats=True)\n",
      "    (relu1): ReLU()\n",
      "    (separable_2): SeparableConv2d(\n",
      "      (depthwise_conv2d): Conv2d(22, 22, kernel_size=(7, 7), stride=(1, 1), padding=(3, 3), groups=22, bias=False)\n",
      "      (pointwise_conv2d): Conv2d(22, 22, kernel_size=(1, 1), stride=(1, 1), bias=False)\n",
      "    )\n",
      "    (bn_sep_2): BatchNorm2d(22, eps=0.001, momentum=0.1, affine=True, track_running_stats=True)\n",
      "  )\n",
      "  (comb_iter_1_left): MaxPoolPad(\n",
      "    (pad): ZeroPad2d(padding=(1, 0, 1, 0), value=0.0)\n",
      "    (pool): MaxPool2d(kernel_size=3, stride=2, padding=1, dilation=1, ceil_mode=False)\n",
      "  )\n",
      "  (comb_iter_1_right): BranchSeparables(\n",
      "    (relu): ReLU()\n",
      "    (separable_1): SeparableConv2d(\n",
      "      (depthwise_conv2d): Conv2d(22, 22, kernel_size=(7, 7), stride=(2, 2), padding=(3, 3), groups=22, bias=False)\n",
      "      (pointwise_conv2d): Conv2d(22, 22, kernel_size=(1, 1), stride=(1, 1), bias=False)\n",
      "    )\n",
      "    (bn_sep_1): BatchNorm2d(22, eps=0.001, momentum=0.1, affine=True, track_running_stats=True)\n",
      "    (relu1): ReLU()\n",
      "    (separable_2): SeparableConv2d(\n",
      "      (depthwise_conv2d): Conv2d(22, 22, kernel_size=(7, 7), stride=(1, 1), padding=(3, 3), groups=22, bias=False)\n",
      "      (pointwise_conv2d): Conv2d(22, 22, kernel_size=(1, 1), stride=(1, 1), bias=False)\n",
      "    )\n",
      "    (bn_sep_2): BatchNorm2d(22, eps=0.001, momentum=0.1, affine=True, track_running_stats=True)\n",
      "  )\n",
      "  (comb_iter_2_left): AvgPoolPad(\n",
      "    (pad): ZeroPad2d(padding=(1, 0, 1, 0), value=0.0)\n",
      "    (pool): AvgPool2d(kernel_size=3, stride=2, padding=1)\n",
      "  )\n",
      "  (comb_iter_2_right): BranchSeparables(\n",
      "    (relu): ReLU()\n",
      "    (separable_1): SeparableConv2d(\n",
      "      (depthwise_conv2d): Conv2d(22, 22, kernel_size=(5, 5), stride=(2, 2), padding=(2, 2), groups=22, bias=False)\n",
      "      (pointwise_conv2d): Conv2d(22, 22, kernel_size=(1, 1), stride=(1, 1), bias=False)\n",
      "    )\n",
      "    (bn_sep_1): BatchNorm2d(22, eps=0.001, momentum=0.1, affine=True, track_running_stats=True)\n",
      "    (relu1): ReLU()\n",
      "    (separable_2): SeparableConv2d(\n",
      "      (depthwise_conv2d): Conv2d(22, 22, kernel_size=(5, 5), stride=(1, 1), padding=(2, 2), groups=22, bias=False)\n",
      "      (pointwise_conv2d): Conv2d(22, 22, kernel_size=(1, 1), stride=(1, 1), bias=False)\n",
      "    )\n",
      "    (bn_sep_2): BatchNorm2d(22, eps=0.001, momentum=0.1, affine=True, track_running_stats=True)\n",
      "  )\n",
      "  (comb_iter_3_right): AvgPool2d(kernel_size=3, stride=1, padding=1)\n",
      "  (comb_iter_4_left): BranchSeparables(\n",
      "    (relu): ReLU()\n",
      "    (separable_1): SeparableConv2d(\n",
      "      (depthwise_conv2d): Conv2d(22, 22, kernel_size=(3, 3), stride=(1, 1), padding=(1, 1), groups=22, bias=False)\n",
      "      (pointwise_conv2d): Conv2d(22, 22, kernel_size=(1, 1), stride=(1, 1), bias=False)\n",
      "    )\n",
      "    (bn_sep_1): BatchNorm2d(22, eps=0.001, momentum=0.1, affine=True, track_running_stats=True)\n",
      "    (relu1): ReLU()\n",
      "    (separable_2): SeparableConv2d(\n",
      "      (depthwise_conv2d): Conv2d(22, 22, kernel_size=(3, 3), stride=(1, 1), padding=(1, 1), groups=22, bias=False)\n",
      "      (pointwise_conv2d): Conv2d(22, 22, kernel_size=(1, 1), stride=(1, 1), bias=False)\n",
      "    )\n",
      "    (bn_sep_2): BatchNorm2d(22, eps=0.001, momentum=0.1, affine=True, track_running_stats=True)\n",
      "  )\n",
      "  (comb_iter_4_right): MaxPoolPad(\n",
      "    (pad): ZeroPad2d(padding=(1, 0, 1, 0), value=0.0)\n",
      "    (pool): MaxPool2d(kernel_size=3, stride=2, padding=1, dilation=1, ceil_mode=False)\n",
      "  )\n",
      ")\n"
     ]
    },
    {
     "ename": "TypeError",
     "evalue": "forward() missing 1 required positional argument: 'x_stem_0'",
     "output_type": "error",
     "traceback": [
      "\u001b[0;31m---------------------------------------------------------------------------\u001b[0m",
      "\u001b[0;31mTypeError\u001b[0m                                 Traceback (most recent call last)",
      "\u001b[0;32m<ipython-input-18-71482f4b9a9a>\u001b[0m in \u001b[0;36m<module>\u001b[0;34m\u001b[0m\n\u001b[1;32m      6\u001b[0m         \u001b[0mx\u001b[0m \u001b[0;34m=\u001b[0m \u001b[0mparam\u001b[0m\u001b[0;34m(\u001b[0m\u001b[0mimg\u001b[0m\u001b[0;34m)\u001b[0m\u001b[0;34m\u001b[0m\u001b[0;34m\u001b[0m\u001b[0m\n\u001b[1;32m      7\u001b[0m     \u001b[0;32melse\u001b[0m\u001b[0;34m:\u001b[0m\u001b[0;34m\u001b[0m\u001b[0;34m\u001b[0m\u001b[0m\n\u001b[0;32m----> 8\u001b[0;31m         \u001b[0mx\u001b[0m \u001b[0;34m=\u001b[0m \u001b[0mparam\u001b[0m\u001b[0;34m(\u001b[0m\u001b[0mx\u001b[0m\u001b[0;34m)\u001b[0m\u001b[0;34m\u001b[0m\u001b[0;34m\u001b[0m\u001b[0m\n\u001b[0m\u001b[1;32m      9\u001b[0m     \u001b[0mprint\u001b[0m\u001b[0;34m(\u001b[0m\u001b[0mx\u001b[0m\u001b[0;34m.\u001b[0m\u001b[0mshape\u001b[0m\u001b[0;34m)\u001b[0m\u001b[0;34m\u001b[0m\u001b[0;34m\u001b[0m\u001b[0m\n",
      "\u001b[0;32m~/miniconda3/envs/ML/lib/python3.7/site-packages/torch/nn/modules/module.py\u001b[0m in \u001b[0;36m__call__\u001b[0;34m(self, *input, **kwargs)\u001b[0m\n\u001b[1;32m    487\u001b[0m             \u001b[0mresult\u001b[0m \u001b[0;34m=\u001b[0m \u001b[0mself\u001b[0m\u001b[0;34m.\u001b[0m\u001b[0m_slow_forward\u001b[0m\u001b[0;34m(\u001b[0m\u001b[0;34m*\u001b[0m\u001b[0minput\u001b[0m\u001b[0;34m,\u001b[0m \u001b[0;34m**\u001b[0m\u001b[0mkwargs\u001b[0m\u001b[0;34m)\u001b[0m\u001b[0;34m\u001b[0m\u001b[0;34m\u001b[0m\u001b[0m\n\u001b[1;32m    488\u001b[0m         \u001b[0;32melse\u001b[0m\u001b[0;34m:\u001b[0m\u001b[0;34m\u001b[0m\u001b[0;34m\u001b[0m\u001b[0m\n\u001b[0;32m--> 489\u001b[0;31m             \u001b[0mresult\u001b[0m \u001b[0;34m=\u001b[0m \u001b[0mself\u001b[0m\u001b[0;34m.\u001b[0m\u001b[0mforward\u001b[0m\u001b[0;34m(\u001b[0m\u001b[0;34m*\u001b[0m\u001b[0minput\u001b[0m\u001b[0;34m,\u001b[0m \u001b[0;34m**\u001b[0m\u001b[0mkwargs\u001b[0m\u001b[0;34m)\u001b[0m\u001b[0;34m\u001b[0m\u001b[0;34m\u001b[0m\u001b[0m\n\u001b[0m\u001b[1;32m    490\u001b[0m         \u001b[0;32mfor\u001b[0m \u001b[0mhook\u001b[0m \u001b[0;32min\u001b[0m \u001b[0mself\u001b[0m\u001b[0;34m.\u001b[0m\u001b[0m_forward_hooks\u001b[0m\u001b[0;34m.\u001b[0m\u001b[0mvalues\u001b[0m\u001b[0;34m(\u001b[0m\u001b[0;34m)\u001b[0m\u001b[0;34m:\u001b[0m\u001b[0;34m\u001b[0m\u001b[0;34m\u001b[0m\u001b[0m\n\u001b[1;32m    491\u001b[0m             \u001b[0mhook_result\u001b[0m \u001b[0;34m=\u001b[0m \u001b[0mhook\u001b[0m\u001b[0;34m(\u001b[0m\u001b[0mself\u001b[0m\u001b[0;34m,\u001b[0m \u001b[0minput\u001b[0m\u001b[0;34m,\u001b[0m \u001b[0mresult\u001b[0m\u001b[0;34m)\u001b[0m\u001b[0;34m\u001b[0m\u001b[0;34m\u001b[0m\u001b[0m\n",
      "\u001b[0;31mTypeError\u001b[0m: forward() missing 1 required positional argument: 'x_stem_0'"
     ]
    }
   ],
   "source": [
    "x = None\n",
    "for param in model.children():\n",
    "    \n",
    "    print(param)\n",
    "    if x is None:\n",
    "        x = param(img)\n",
    "    else:\n",
    "        x = param(x)\n",
    "    print(x.shape)"
   ]
  },
  {
   "cell_type": "code",
   "execution_count": null,
   "metadata": {
    "ExecuteTime": {
     "end_time": "2019-03-08T11:35:18.787790Z",
     "start_time": "2019-03-08T11:35:18.785323Z"
    }
   },
   "outputs": [],
   "source": []
  },
  {
   "cell_type": "code",
   "execution_count": 26,
   "metadata": {
    "ExecuteTime": {
     "end_time": "2019-03-11T15:15:23.935768Z",
     "start_time": "2019-03-11T15:15:23.923824Z"
    }
   },
   "outputs": [
    {
     "ename": "AttributeError",
     "evalue": "'function' object has no attribute 'apply'",
     "output_type": "error",
     "traceback": [
      "\u001b[0;31m---------------------------------------------------------------------------\u001b[0m",
      "\u001b[0;31mAttributeError\u001b[0m                            Traceback (most recent call last)",
      "\u001b[0;32m<ipython-input-26-257bb5653cbf>\u001b[0m in \u001b[0;36m<module>\u001b[0;34m\u001b[0m\n\u001b[1;32m      1\u001b[0m \u001b[0;31m# summary(model, input_size=(3, 96, 96))\u001b[0m\u001b[0;34m\u001b[0m\u001b[0;34m\u001b[0m\u001b[0;34m\u001b[0m\u001b[0m\n\u001b[1;32m      2\u001b[0m \u001b[0;31m# summary(model, input_size=(3, 112, 112))\u001b[0m\u001b[0;34m\u001b[0m\u001b[0;34m\u001b[0m\u001b[0;34m\u001b[0m\u001b[0m\n\u001b[0;32m----> 3\u001b[0;31m \u001b[0msummary\u001b[0m\u001b[0;34m(\u001b[0m\u001b[0mmodel\u001b[0m\u001b[0;34m.\u001b[0m\u001b[0mfeatures\u001b[0m\u001b[0;34m,\u001b[0m \u001b[0minput_size\u001b[0m\u001b[0;34m=\u001b[0m\u001b[0;34m(\u001b[0m\u001b[0;36m3\u001b[0m\u001b[0;34m,\u001b[0m \u001b[0;36m224\u001b[0m\u001b[0;34m,\u001b[0m \u001b[0;36m224\u001b[0m\u001b[0;34m)\u001b[0m\u001b[0;34m)\u001b[0m\u001b[0;34m\u001b[0m\u001b[0;34m\u001b[0m\u001b[0m\n\u001b[0m",
      "\u001b[0;32m~/miniconda3/envs/ML/lib/python3.7/site-packages/torchsummary/torchsummary.py\u001b[0m in \u001b[0;36msummary\u001b[0;34m(model, input_size, batch_size, device)\u001b[0m\n\u001b[1;32m     66\u001b[0m \u001b[0;34m\u001b[0m\u001b[0m\n\u001b[1;32m     67\u001b[0m     \u001b[0;31m# register hook\u001b[0m\u001b[0;34m\u001b[0m\u001b[0;34m\u001b[0m\u001b[0;34m\u001b[0m\u001b[0m\n\u001b[0;32m---> 68\u001b[0;31m     \u001b[0mmodel\u001b[0m\u001b[0;34m.\u001b[0m\u001b[0mapply\u001b[0m\u001b[0;34m(\u001b[0m\u001b[0mregister_hook\u001b[0m\u001b[0;34m)\u001b[0m\u001b[0;34m\u001b[0m\u001b[0;34m\u001b[0m\u001b[0m\n\u001b[0m\u001b[1;32m     69\u001b[0m \u001b[0;34m\u001b[0m\u001b[0m\n\u001b[1;32m     70\u001b[0m     \u001b[0;31m# make a forward pass\u001b[0m\u001b[0;34m\u001b[0m\u001b[0;34m\u001b[0m\u001b[0;34m\u001b[0m\u001b[0m\n",
      "\u001b[0;31mAttributeError\u001b[0m: 'function' object has no attribute 'apply'"
     ]
    }
   ],
   "source": [
    "# summary(model, input_size=(3, 96, 96))\n",
    "# summary(model, input_size=(3, 112, 112))\n",
    "summary(model.features, input_size=(3, 224, 224))"
   ]
  },
  {
   "cell_type": "code",
   "execution_count": null,
   "metadata": {},
   "outputs": [],
   "source": [
    "torch.nn.functional.max_pool2d\n",
    "torch.nn.functional.adaptive_avg_pool2d()"
   ]
  },
  {
   "cell_type": "code",
   "execution_count": 32,
   "metadata": {
    "ExecuteTime": {
     "end_time": "2019-03-11T15:46:57.035580Z",
     "start_time": "2019-03-11T15:46:57.031531Z"
    }
   },
   "outputs": [],
   "source": [
    "# torch.nn.Dropout?\n",
    "\n",
    "class Flatten(nn.Module):\n",
    "    def forward(self, x):\n",
    "        return x.view(x.size()[0], -1)\n",
    "\n",
    "\n"
   ]
  },
  {
   "cell_type": "code",
   "execution_count": 34,
   "metadata": {
    "ExecuteTime": {
     "end_time": "2019-03-11T15:47:18.366460Z",
     "start_time": "2019-03-11T15:47:18.118874Z"
    }
   },
   "outputs": [],
   "source": [
    "model = pretrainedmodels.__dict__[model_name](num_classes=1000, pretrained=\"imagenet\")\n",
    "backbone = model.features\n",
    "classifier = nn.Sequential(\n",
    "        nn.AdaptiveAvgPool2d((1, 1)),\n",
    "        Flatten(),\n",
    "        nn.Dropout(0.5),\n",
    "        nn.Linear(in_features=1056, out_features=1, bias=True)\n",
    "        )\n",
    "\n"
   ]
  },
  {
   "cell_type": "code",
   "execution_count": 38,
   "metadata": {
    "ExecuteTime": {
     "end_time": "2019-03-11T15:48:04.010034Z",
     "start_time": "2019-03-11T15:48:03.895379Z"
    }
   },
   "outputs": [
    {
     "ename": "RuntimeError",
     "evalue": "The size of tensor a (3) must match the size of tensor b (4) at non-singleton dimension 3",
     "output_type": "error",
     "traceback": [
      "\u001b[0;31m---------------------------------------------------------------------------\u001b[0m",
      "\u001b[0;31mRuntimeError\u001b[0m                              Traceback (most recent call last)",
      "\u001b[0;32m<ipython-input-38-816786b01ed4>\u001b[0m in \u001b[0;36m<module>\u001b[0;34m\u001b[0m\n\u001b[1;32m      1\u001b[0m \u001b[0mimg\u001b[0m \u001b[0;34m=\u001b[0m \u001b[0mtorch\u001b[0m\u001b[0;34m.\u001b[0m\u001b[0mTensor\u001b[0m\u001b[0;34m(\u001b[0m\u001b[0;36m1\u001b[0m\u001b[0;34m,\u001b[0m \u001b[0;36m3\u001b[0m\u001b[0;34m,\u001b[0m \u001b[0;36m112\u001b[0m\u001b[0;34m,\u001b[0m \u001b[0;36m112\u001b[0m\u001b[0;34m)\u001b[0m\u001b[0;34m\u001b[0m\u001b[0;34m\u001b[0m\u001b[0m\n\u001b[0;32m----> 2\u001b[0;31m \u001b[0mfeatures\u001b[0m \u001b[0;34m=\u001b[0m \u001b[0mbackbone\u001b[0m\u001b[0;34m(\u001b[0m\u001b[0mimg\u001b[0m\u001b[0;34m)\u001b[0m\u001b[0;34m\u001b[0m\u001b[0;34m\u001b[0m\u001b[0m\n\u001b[0m",
      "\u001b[0;32m~/miniconda3/envs/ML/lib/python3.7/site-packages/pretrainedmodels/models/nasnet_mobile.py\u001b[0m in \u001b[0;36mfeatures\u001b[0;34m(self, input)\u001b[0m\n\u001b[1;32m    596\u001b[0m         \u001b[0mx_reduction_cell_1\u001b[0m \u001b[0;34m=\u001b[0m \u001b[0mself\u001b[0m\u001b[0;34m.\u001b[0m\u001b[0mreduction_cell_1\u001b[0m\u001b[0;34m(\u001b[0m\u001b[0mx_cell_9\u001b[0m\u001b[0;34m,\u001b[0m \u001b[0mx_cell_8\u001b[0m\u001b[0;34m)\u001b[0m\u001b[0;34m\u001b[0m\u001b[0;34m\u001b[0m\u001b[0m\n\u001b[1;32m    597\u001b[0m \u001b[0;34m\u001b[0m\u001b[0m\n\u001b[0;32m--> 598\u001b[0;31m         \u001b[0mx_cell_12\u001b[0m \u001b[0;34m=\u001b[0m \u001b[0mself\u001b[0m\u001b[0;34m.\u001b[0m\u001b[0mcell_12\u001b[0m\u001b[0;34m(\u001b[0m\u001b[0mx_reduction_cell_1\u001b[0m\u001b[0;34m,\u001b[0m \u001b[0mx_cell_9\u001b[0m\u001b[0;34m)\u001b[0m\u001b[0;34m\u001b[0m\u001b[0;34m\u001b[0m\u001b[0m\n\u001b[0m\u001b[1;32m    599\u001b[0m         \u001b[0mx_cell_13\u001b[0m \u001b[0;34m=\u001b[0m \u001b[0mself\u001b[0m\u001b[0;34m.\u001b[0m\u001b[0mcell_13\u001b[0m\u001b[0;34m(\u001b[0m\u001b[0mx_cell_12\u001b[0m\u001b[0;34m,\u001b[0m \u001b[0mx_reduction_cell_1\u001b[0m\u001b[0;34m)\u001b[0m\u001b[0;34m\u001b[0m\u001b[0;34m\u001b[0m\u001b[0m\n\u001b[1;32m    600\u001b[0m         \u001b[0mx_cell_14\u001b[0m \u001b[0;34m=\u001b[0m \u001b[0mself\u001b[0m\u001b[0;34m.\u001b[0m\u001b[0mcell_14\u001b[0m\u001b[0;34m(\u001b[0m\u001b[0mx_cell_13\u001b[0m\u001b[0;34m,\u001b[0m \u001b[0mx_cell_12\u001b[0m\u001b[0;34m)\u001b[0m\u001b[0;34m\u001b[0m\u001b[0;34m\u001b[0m\u001b[0m\n",
      "\u001b[0;32m~/miniconda3/envs/ML/lib/python3.7/site-packages/torch/nn/modules/module.py\u001b[0m in \u001b[0;36m__call__\u001b[0;34m(self, *input, **kwargs)\u001b[0m\n\u001b[1;32m    487\u001b[0m             \u001b[0mresult\u001b[0m \u001b[0;34m=\u001b[0m \u001b[0mself\u001b[0m\u001b[0;34m.\u001b[0m\u001b[0m_slow_forward\u001b[0m\u001b[0;34m(\u001b[0m\u001b[0;34m*\u001b[0m\u001b[0minput\u001b[0m\u001b[0;34m,\u001b[0m \u001b[0;34m**\u001b[0m\u001b[0mkwargs\u001b[0m\u001b[0;34m)\u001b[0m\u001b[0;34m\u001b[0m\u001b[0;34m\u001b[0m\u001b[0m\n\u001b[1;32m    488\u001b[0m         \u001b[0;32melse\u001b[0m\u001b[0;34m:\u001b[0m\u001b[0;34m\u001b[0m\u001b[0;34m\u001b[0m\u001b[0m\n\u001b[0;32m--> 489\u001b[0;31m             \u001b[0mresult\u001b[0m \u001b[0;34m=\u001b[0m \u001b[0mself\u001b[0m\u001b[0;34m.\u001b[0m\u001b[0mforward\u001b[0m\u001b[0;34m(\u001b[0m\u001b[0;34m*\u001b[0m\u001b[0minput\u001b[0m\u001b[0;34m,\u001b[0m \u001b[0;34m**\u001b[0m\u001b[0mkwargs\u001b[0m\u001b[0;34m)\u001b[0m\u001b[0;34m\u001b[0m\u001b[0;34m\u001b[0m\u001b[0m\n\u001b[0m\u001b[1;32m    490\u001b[0m         \u001b[0;32mfor\u001b[0m \u001b[0mhook\u001b[0m \u001b[0;32min\u001b[0m \u001b[0mself\u001b[0m\u001b[0;34m.\u001b[0m\u001b[0m_forward_hooks\u001b[0m\u001b[0;34m.\u001b[0m\u001b[0mvalues\u001b[0m\u001b[0;34m(\u001b[0m\u001b[0;34m)\u001b[0m\u001b[0;34m:\u001b[0m\u001b[0;34m\u001b[0m\u001b[0;34m\u001b[0m\u001b[0m\n\u001b[1;32m    491\u001b[0m             \u001b[0mhook_result\u001b[0m \u001b[0;34m=\u001b[0m \u001b[0mhook\u001b[0m\u001b[0;34m(\u001b[0m\u001b[0mself\u001b[0m\u001b[0;34m,\u001b[0m \u001b[0minput\u001b[0m\u001b[0;34m,\u001b[0m \u001b[0mresult\u001b[0m\u001b[0;34m)\u001b[0m\u001b[0;34m\u001b[0m\u001b[0;34m\u001b[0m\u001b[0m\n",
      "\u001b[0;32m~/miniconda3/envs/ML/lib/python3.7/site-packages/pretrainedmodels/models/nasnet_mobile.py\u001b[0m in \u001b[0;36mforward\u001b[0;34m(self, x, x_prev)\u001b[0m\n\u001b[1;32m    332\u001b[0m         \u001b[0mx_comb_iter_0_left\u001b[0m \u001b[0;34m=\u001b[0m \u001b[0mself\u001b[0m\u001b[0;34m.\u001b[0m\u001b[0mcomb_iter_0_left\u001b[0m\u001b[0;34m(\u001b[0m\u001b[0mx_right\u001b[0m\u001b[0;34m)\u001b[0m\u001b[0;34m\u001b[0m\u001b[0;34m\u001b[0m\u001b[0m\n\u001b[1;32m    333\u001b[0m         \u001b[0mx_comb_iter_0_right\u001b[0m \u001b[0;34m=\u001b[0m \u001b[0mself\u001b[0m\u001b[0;34m.\u001b[0m\u001b[0mcomb_iter_0_right\u001b[0m\u001b[0;34m(\u001b[0m\u001b[0mx_left\u001b[0m\u001b[0;34m)\u001b[0m\u001b[0;34m\u001b[0m\u001b[0;34m\u001b[0m\u001b[0m\n\u001b[0;32m--> 334\u001b[0;31m         \u001b[0mx_comb_iter_0\u001b[0m \u001b[0;34m=\u001b[0m \u001b[0mx_comb_iter_0_left\u001b[0m \u001b[0;34m+\u001b[0m \u001b[0mx_comb_iter_0_right\u001b[0m\u001b[0;34m\u001b[0m\u001b[0;34m\u001b[0m\u001b[0m\n\u001b[0m\u001b[1;32m    335\u001b[0m \u001b[0;34m\u001b[0m\u001b[0m\n\u001b[1;32m    336\u001b[0m         \u001b[0mx_comb_iter_1_left\u001b[0m \u001b[0;34m=\u001b[0m \u001b[0mself\u001b[0m\u001b[0;34m.\u001b[0m\u001b[0mcomb_iter_1_left\u001b[0m\u001b[0;34m(\u001b[0m\u001b[0mx_left\u001b[0m\u001b[0;34m)\u001b[0m\u001b[0;34m\u001b[0m\u001b[0;34m\u001b[0m\u001b[0m\n",
      "\u001b[0;31mRuntimeError\u001b[0m: The size of tensor a (3) must match the size of tensor b (4) at non-singleton dimension 3"
     ]
    }
   ],
   "source": [
    "img = torch.Tensor(1, 3, 112, 112)\n",
    "features = backbone(img)\n"
   ]
  },
  {
   "cell_type": "code",
   "execution_count": 39,
   "metadata": {
    "ExecuteTime": {
     "end_time": "2019-03-11T16:27:30.993565Z",
     "start_time": "2019-03-11T16:27:30.991372Z"
    }
   },
   "outputs": [
    {
     "data": {
      "text/plain": [
       "<generator object Module.parameters at 0x7f961f946a20>"
      ]
     },
     "execution_count": 39,
     "metadata": {},
     "output_type": "execute_result"
    }
   ],
   "source": [
    "model.parameters()"
   ]
  },
  {
   "cell_type": "code",
   "execution_count": null,
   "metadata": {},
   "outputs": [],
   "source": []
  },
  {
   "cell_type": "code",
   "execution_count": null,
   "metadata": {},
   "outputs": [],
   "source": []
  },
  {
   "cell_type": "code",
   "execution_count": null,
   "metadata": {},
   "outputs": [],
   "source": []
  },
  {
   "cell_type": "code",
   "execution_count": 22,
   "metadata": {
    "ExecuteTime": {
     "end_time": "2019-03-10T08:10:07.164081Z",
     "start_time": "2019-03-10T08:10:07.162484Z"
    }
   },
   "outputs": [],
   "source": [
    " \n",
    "from albumentations import *"
   ]
  },
  {
   "cell_type": "code",
   "execution_count": null,
   "metadata": {},
   "outputs": [],
   "source": []
  },
  {
   "cell_type": "code",
   "execution_count": 23,
   "metadata": {
    "ExecuteTime": {
     "end_time": "2019-03-10T08:10:07.620226Z",
     "start_time": "2019-03-10T08:10:07.616861Z"
    }
   },
   "outputs": [],
   "source": [
    "train_aug = Compose([\n",
    "    Resize(224, 224),\n",
    "    RandomRotate90(p=0.5),\n",
    "    Transpose(p=0.5),\n",
    "    Flip(p=0.5),\n",
    "    OneOf([CLAHE(clip_limit=2), IAASharpen(), IAAEmboss(), RandomBrightnessContrast(), JpegCompression(), Blur(), GaussNoise() ], p=0.5), \n",
    "    HueSaturationValue(p=0.5), \n",
    "    ShiftScaleRotate(shift_limit=0.15, scale_limit=0.15, rotate_limit=45, p=0.5),\n",
    "    Normalize(p=1)\n",
    "])\n",
    "val_aug = Compose([\n",
    "    Normalize(p=1)\n",
    "])\n"
   ]
  },
  {
   "cell_type": "code",
   "execution_count": 24,
   "metadata": {
    "ExecuteTime": {
     "end_time": "2019-03-10T08:10:07.912008Z",
     "start_time": "2019-03-10T08:10:07.897516Z"
    }
   },
   "outputs": [],
   "source": [
    "ShiftScaleRotate?"
   ]
  },
  {
   "cell_type": "code",
   "execution_count": 25,
   "metadata": {
    "ExecuteTime": {
     "end_time": "2019-03-10T08:10:08.282455Z",
     "start_time": "2019-03-10T08:10:08.277887Z"
    }
   },
   "outputs": [],
   "source": [
    "Normalize?"
   ]
  },
  {
   "cell_type": "code",
   "execution_count": null,
   "metadata": {
    "ExecuteTime": {
     "end_time": "2019-03-06T19:53:46.931709Z",
     "start_time": "2019-03-06T19:53:46.926445Z"
    }
   },
   "outputs": [],
   "source": [
    "train_aug?"
   ]
  },
  {
   "cell_type": "code",
   "execution_count": 27,
   "metadata": {
    "ExecuteTime": {
     "end_time": "2019-03-10T08:10:23.270399Z",
     "start_time": "2019-03-10T08:10:23.268554Z"
    }
   },
   "outputs": [],
   "source": [
    "flip = Flip(p=1)"
   ]
  },
  {
   "cell_type": "code",
   "execution_count": 31,
   "metadata": {
    "ExecuteTime": {
     "end_time": "2019-03-10T08:11:16.673190Z",
     "start_time": "2019-03-10T08:11:16.670185Z"
    }
   },
   "outputs": [],
   "source": [
    "flip.apply?"
   ]
  },
  {
   "cell_type": "code",
   "execution_count": null,
   "metadata": {},
   "outputs": [],
   "source": []
  },
  {
   "cell_type": "code",
   "execution_count": null,
   "metadata": {},
   "outputs": [],
   "source": []
  },
  {
   "cell_type": "markdown",
   "metadata": {},
   "source": [
    "##### AUC ROC"
   ]
  },
  {
   "cell_type": "code",
   "execution_count": null,
   "metadata": {
    "ExecuteTime": {
     "end_time": "2019-03-08T10:02:30.215552Z",
     "start_time": "2019-03-08T10:02:30.153939Z"
    }
   },
   "outputs": [],
   "source": [
    "# roc curve and auc\n",
    "from sklearn.datasets import make_classification\n",
    "from sklearn.neighbors import KNeighborsClassifier\n",
    "from sklearn.model_selection import train_test_split\n",
    "from sklearn.metrics import roc_curve\n",
    "from sklearn.metrics import roc_auc_score\n",
    "from matplotlib import pyplot\n",
    "# generate 2 class dataset\n",
    "X, y = make_classification(n_samples=1000, n_classes=2, weights=[1,1], random_state=1)\n",
    "# split into train/test sets\n",
    "trainX, testX, trainy, testy = train_test_split(X, y, test_size=0.5, random_state=2)\n",
    "# fit a model\n",
    "model = KNeighborsClassifier(n_neighbors=3)\n",
    "model.fit(trainX, trainy)\n",
    "# predict probabilities\n",
    "probs = model.predict_proba(testX)\n",
    "# keep probabilities for the positive outcome only\n",
    "probs = probs[:, 1]\n"
   ]
  },
  {
   "cell_type": "code",
   "execution_count": null,
   "metadata": {
    "ExecuteTime": {
     "end_time": "2019-03-08T10:02:30.465574Z",
     "start_time": "2019-03-08T10:02:30.463109Z"
    }
   },
   "outputs": [],
   "source": [
    "testy.shape, probs.shape"
   ]
  },
  {
   "cell_type": "code",
   "execution_count": null,
   "metadata": {
    "ExecuteTime": {
     "end_time": "2019-03-08T10:02:30.845448Z",
     "start_time": "2019-03-08T10:02:30.836471Z"
    }
   },
   "outputs": [],
   "source": [
    "fpr, tpr, thresholds"
   ]
  },
  {
   "cell_type": "code",
   "execution_count": null,
   "metadata": {
    "ExecuteTime": {
     "end_time": "2019-03-08T10:02:31.264875Z",
     "start_time": "2019-03-08T10:02:31.146065Z"
    }
   },
   "outputs": [],
   "source": [
    "# calculate AUC\n",
    "auc = roc_auc_score(testy, probs)\n",
    "print('AUC: %.3f' % auc)\n",
    "# calculate roc curve\n",
    "fpr, tpr, thresholds = roc_curve(testy, probs)\n",
    "# plot no skill\n",
    "pyplot.plot([0, 1], [0, 1], linestyle='--')\n",
    "pyplot.plot([0, 1], [0, 1], linestyle='--')\n",
    "# plot the roc curve for the model\n",
    "pyplot.plot(fpr, tpr, marker='.')\n",
    "# show the plot\n",
    "pyplot.show()"
   ]
  },
  {
   "cell_type": "code",
   "execution_count": null,
   "metadata": {
    "ExecuteTime": {
     "end_time": "2019-03-08T10:02:56.747940Z",
     "start_time": "2019-03-08T10:02:56.730493Z"
    }
   },
   "outputs": [],
   "source": [
    "pyplot.savefig('lol.png')"
   ]
  },
  {
   "cell_type": "code",
   "execution_count": null,
   "metadata": {
    "ExecuteTime": {
     "end_time": "2019-03-08T10:09:53.385157Z",
     "start_time": "2019-03-08T10:09:53.383301Z"
    }
   },
   "outputs": [],
   "source": [
    "pyplot.close('all')"
   ]
  },
  {
   "cell_type": "code",
   "execution_count": null,
   "metadata": {},
   "outputs": [],
   "source": []
  },
  {
   "cell_type": "code",
   "execution_count": null,
   "metadata": {},
   "outputs": [],
   "source": []
  },
  {
   "cell_type": "code",
   "execution_count": 47,
   "metadata": {
    "ExecuteTime": {
     "end_time": "2019-03-08T15:51:37.862255Z",
     "start_time": "2019-03-08T15:51:37.842994Z"
    }
   },
   "outputs": [],
   "source": [
    "import apex"
   ]
  },
  {
   "cell_type": "code",
   "execution_count": 48,
   "metadata": {
    "ExecuteTime": {
     "end_time": "2019-03-08T15:51:44.186094Z",
     "start_time": "2019-03-08T15:51:44.182599Z"
    }
   },
   "outputs": [],
   "source": [
    "apex.amp.?"
   ]
  },
  {
   "cell_type": "code",
   "execution_count": 17,
   "metadata": {
    "ExecuteTime": {
     "end_time": "2019-03-11T14:41:04.830802Z",
     "start_time": "2019-03-11T14:41:04.733229Z"
    }
   },
   "outputs": [],
   "source": [
    "df1 = pd.read_csv('weights/ensemble/11Mar_nasnetamobile_fold0_ckpt17.csv')\n",
    "df2 = pd.read_csv('weights/ensemble/9Mar_se_resnext50_32x4d_v3_fold0_1_2_allckpt17.csv')\n",
    "df= df1.copy()\n",
    "df['label'] = (df1['label'] + 3* df2['label'])/4"
   ]
  },
  {
   "cell_type": "code",
   "execution_count": 18,
   "metadata": {
    "ExecuteTime": {
     "end_time": "2019-03-11T14:41:07.380202Z",
     "start_time": "2019-03-11T14:41:07.375339Z"
    }
   },
   "outputs": [
    {
     "data": {
      "text/html": [
       "<div>\n",
       "<style scoped>\n",
       "    .dataframe tbody tr th:only-of-type {\n",
       "        vertical-align: middle;\n",
       "    }\n",
       "\n",
       "    .dataframe tbody tr th {\n",
       "        vertical-align: top;\n",
       "    }\n",
       "\n",
       "    .dataframe thead th {\n",
       "        text-align: right;\n",
       "    }\n",
       "</style>\n",
       "<table border=\"1\" class=\"dataframe\">\n",
       "  <thead>\n",
       "    <tr style=\"text-align: right;\">\n",
       "      <th></th>\n",
       "      <th>id</th>\n",
       "      <th>label</th>\n",
       "    </tr>\n",
       "  </thead>\n",
       "  <tbody>\n",
       "    <tr>\n",
       "      <th>0</th>\n",
       "      <td>0b2ea2a822ad23fdb1b5dd26653da899fbd2c0d5</td>\n",
       "      <td>0.031749</td>\n",
       "    </tr>\n",
       "    <tr>\n",
       "      <th>1</th>\n",
       "      <td>95596b92e5066c5c52466c90b69ff089b39f2737</td>\n",
       "      <td>0.046642</td>\n",
       "    </tr>\n",
       "    <tr>\n",
       "      <th>2</th>\n",
       "      <td>248e6738860e2ebcf6258cdc1f32f299e0c76914</td>\n",
       "      <td>0.001457</td>\n",
       "    </tr>\n",
       "    <tr>\n",
       "      <th>3</th>\n",
       "      <td>2c35657e312966e9294eac6841726ff3a748febf</td>\n",
       "      <td>0.005296</td>\n",
       "    </tr>\n",
       "    <tr>\n",
       "      <th>4</th>\n",
       "      <td>145782eb7caa1c516acbe2eda34d9a3f31c41fd6</td>\n",
       "      <td>0.030917</td>\n",
       "    </tr>\n",
       "  </tbody>\n",
       "</table>\n",
       "</div>"
      ],
      "text/plain": [
       "                                         id     label\n",
       "0  0b2ea2a822ad23fdb1b5dd26653da899fbd2c0d5  0.031749\n",
       "1  95596b92e5066c5c52466c90b69ff089b39f2737  0.046642\n",
       "2  248e6738860e2ebcf6258cdc1f32f299e0c76914  0.001457\n",
       "3  2c35657e312966e9294eac6841726ff3a748febf  0.005296\n",
       "4  145782eb7caa1c516acbe2eda34d9a3f31c41fd6  0.030917"
      ]
     },
     "execution_count": 18,
     "metadata": {},
     "output_type": "execute_result"
    }
   ],
   "source": [
    "df.head()"
   ]
  },
  {
   "cell_type": "code",
   "execution_count": 19,
   "metadata": {
    "ExecuteTime": {
     "end_time": "2019-03-11T14:41:26.805521Z",
     "start_time": "2019-03-11T14:41:26.693140Z"
    }
   },
   "outputs": [],
   "source": [
    "df.to_csv('weights/ensemble/resnextfold012ckpt17+nasnetmobileckpt17.csv', index=False)"
   ]
  }
 ],
 "metadata": {
  "kernelspec": {
   "display_name": "ML",
   "language": "python",
   "name": "ml"
  },
  "language_info": {
   "codemirror_mode": {
    "name": "ipython",
    "version": 3
   },
   "file_extension": ".py",
   "mimetype": "text/x-python",
   "name": "python",
   "nbconvert_exporter": "python",
   "pygments_lexer": "ipython3",
   "version": "3.7.2"
  }
 },
 "nbformat": 4,
 "nbformat_minor": 2
}
