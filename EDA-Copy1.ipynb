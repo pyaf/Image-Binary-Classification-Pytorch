{
 "cells": [
  {
   "cell_type": "code",
   "execution_count": 68,
   "metadata": {
    "ExecuteTime": {
     "end_time": "2019-03-07T17:02:12.950727Z",
     "start_time": "2019-03-07T17:02:12.943713Z"
    }
   },
   "outputs": [],
   "source": [
    "import pdb\n",
    "import torch\n",
    "import cv2\n",
    "import os\n",
    "from PIL import Image\n",
    "from skimage import io, transform\n",
    "import matplotlib.pyplot as plt\n",
    "import matplotlib.image as mpimg\n",
    "import pandas as pd\n",
    "from torchvision.datasets.folder import pil_loader\n",
    "import random\n",
    "import numpy as np\n",
    "from torchsummary import summary\n",
    "from sklearn.model_selection import KFold, StratifiedKFold\n",
    "\n",
    "\n",
    "from albumentations import torch as AT\n",
    "os.environ['CUDA_VISIBLE_DEVICES']=\"\"\n",
    "%matplotlib inline"
   ]
  },
  {
   "cell_type": "code",
   "execution_count": 2,
   "metadata": {
    "ExecuteTime": {
     "end_time": "2019-03-07T09:32:44.836725Z",
     "start_time": "2019-03-07T09:32:44.724238Z"
    }
   },
   "outputs": [
    {
     "name": "stdout",
     "output_type": "stream",
     "text": [
      "sample_submission.csv  test  train  train_labels.csv\r\n"
     ]
    }
   ],
   "source": [
    "!ls data"
   ]
  },
  {
   "cell_type": "code",
   "execution_count": 11,
   "metadata": {
    "ExecuteTime": {
     "end_time": "2019-03-07T16:20:31.963195Z",
     "start_time": "2019-03-07T16:20:31.771492Z"
    }
   },
   "outputs": [],
   "source": [
    "train_df = pd.read_csv('data/train_labels.csv')\n",
    "test_df = pd.read_csv('data/sample_submission.csv')"
   ]
  },
  {
   "cell_type": "code",
   "execution_count": 12,
   "metadata": {
    "ExecuteTime": {
     "end_time": "2019-03-07T16:20:33.368979Z",
     "start_time": "2019-03-07T16:20:33.358936Z"
    }
   },
   "outputs": [
    {
     "data": {
      "text/html": [
       "<div>\n",
       "<style scoped>\n",
       "    .dataframe tbody tr th:only-of-type {\n",
       "        vertical-align: middle;\n",
       "    }\n",
       "\n",
       "    .dataframe tbody tr th {\n",
       "        vertical-align: top;\n",
       "    }\n",
       "\n",
       "    .dataframe thead th {\n",
       "        text-align: right;\n",
       "    }\n",
       "</style>\n",
       "<table border=\"1\" class=\"dataframe\">\n",
       "  <thead>\n",
       "    <tr style=\"text-align: right;\">\n",
       "      <th></th>\n",
       "      <th>id</th>\n",
       "      <th>label</th>\n",
       "    </tr>\n",
       "  </thead>\n",
       "  <tbody>\n",
       "    <tr>\n",
       "      <th>0</th>\n",
       "      <td>f38a6374c348f90b587e046aac6079959adf3835</td>\n",
       "      <td>0</td>\n",
       "    </tr>\n",
       "    <tr>\n",
       "      <th>1</th>\n",
       "      <td>c18f2d887b7ae4f6742ee445113fa1aef383ed77</td>\n",
       "      <td>1</td>\n",
       "    </tr>\n",
       "    <tr>\n",
       "      <th>2</th>\n",
       "      <td>755db6279dae599ebb4d39a9123cce439965282d</td>\n",
       "      <td>0</td>\n",
       "    </tr>\n",
       "    <tr>\n",
       "      <th>3</th>\n",
       "      <td>bc3f0c64fb968ff4a8bd33af6971ecae77c75e08</td>\n",
       "      <td>0</td>\n",
       "    </tr>\n",
       "    <tr>\n",
       "      <th>4</th>\n",
       "      <td>068aba587a4950175d04c680d38943fd488d6a9d</td>\n",
       "      <td>0</td>\n",
       "    </tr>\n",
       "  </tbody>\n",
       "</table>\n",
       "</div>"
      ],
      "text/plain": [
       "                                         id  label\n",
       "0  f38a6374c348f90b587e046aac6079959adf3835      0\n",
       "1  c18f2d887b7ae4f6742ee445113fa1aef383ed77      1\n",
       "2  755db6279dae599ebb4d39a9123cce439965282d      0\n",
       "3  bc3f0c64fb968ff4a8bd33af6971ecae77c75e08      0\n",
       "4  068aba587a4950175d04c680d38943fd488d6a9d      0"
      ]
     },
     "execution_count": 12,
     "metadata": {},
     "output_type": "execute_result"
    }
   ],
   "source": [
    "train_df.head()"
   ]
  },
  {
   "cell_type": "code",
   "execution_count": 5,
   "metadata": {
    "ExecuteTime": {
     "end_time": "2019-03-07T09:32:48.405418Z",
     "start_time": "2019-03-07T09:32:48.396805Z"
    }
   },
   "outputs": [],
   "source": [
    "train_df.at[0, 'label'] = 1"
   ]
  },
  {
   "cell_type": "code",
   "execution_count": 27,
   "metadata": {
    "ExecuteTime": {
     "end_time": "2019-03-07T16:29:09.918369Z",
     "start_time": "2019-03-07T16:29:09.914229Z"
    }
   },
   "outputs": [],
   "source": [
    "kfold = StratifiedKFold(20, shuffle=True, random_state=69)"
   ]
  },
  {
   "cell_type": "code",
   "execution_count": 36,
   "metadata": {
    "ExecuteTime": {
     "end_time": "2019-03-07T16:31:05.650363Z",
     "start_time": "2019-03-07T16:31:05.645424Z"
    }
   },
   "outputs": [
    {
     "data": {
      "text/plain": [
       "<generator object _BaseKFold.split at 0x7f93120189a8>"
      ]
     },
     "execution_count": 36,
     "metadata": {},
     "output_type": "execute_result"
    }
   ],
   "source": [
    "kfold.split(train_df['id'], train_df['label'])"
   ]
  },
  {
   "cell_type": "code",
   "execution_count": 46,
   "metadata": {
    "ExecuteTime": {
     "end_time": "2019-03-07T16:34:36.649834Z",
     "start_time": "2019-03-07T16:34:36.640371Z"
    }
   },
   "outputs": [
    {
     "data": {
      "text/html": [
       "<div>\n",
       "<style scoped>\n",
       "    .dataframe tbody tr th:only-of-type {\n",
       "        vertical-align: middle;\n",
       "    }\n",
       "\n",
       "    .dataframe tbody tr th {\n",
       "        vertical-align: top;\n",
       "    }\n",
       "\n",
       "    .dataframe thead th {\n",
       "        text-align: right;\n",
       "    }\n",
       "</style>\n",
       "<table border=\"1\" class=\"dataframe\">\n",
       "  <thead>\n",
       "    <tr style=\"text-align: right;\">\n",
       "      <th></th>\n",
       "      <th>id</th>\n",
       "      <th>label</th>\n",
       "    </tr>\n",
       "  </thead>\n",
       "  <tbody>\n",
       "    <tr>\n",
       "      <th>26</th>\n",
       "      <td>4e491f0beca3cc68b5013cbe726a9b358bf0f668</td>\n",
       "      <td>0</td>\n",
       "    </tr>\n",
       "    <tr>\n",
       "      <th>31</th>\n",
       "      <td>3fd6d45524adefa2b1210123b672fc84c9680f9e</td>\n",
       "      <td>0</td>\n",
       "    </tr>\n",
       "    <tr>\n",
       "      <th>64</th>\n",
       "      <td>0c9048efaa80ab8813fde3b649cfc54f02dabe56</td>\n",
       "      <td>1</td>\n",
       "    </tr>\n",
       "    <tr>\n",
       "      <th>72</th>\n",
       "      <td>9e4f48c0bbaf3beec183fc2892e07888952515c5</td>\n",
       "      <td>1</td>\n",
       "    </tr>\n",
       "    <tr>\n",
       "      <th>73</th>\n",
       "      <td>07f17b07fb6bb9639f96e5e78a8e04f287df9e84</td>\n",
       "      <td>0</td>\n",
       "    </tr>\n",
       "    <tr>\n",
       "      <th>74</th>\n",
       "      <td>729a7cfbcb7f50ecc89cb8661f0a80871c924d05</td>\n",
       "      <td>0</td>\n",
       "    </tr>\n",
       "    <tr>\n",
       "      <th>101</th>\n",
       "      <td>d155dd4f340d21a77a9bdb90455a67f5ce969e80</td>\n",
       "      <td>0</td>\n",
       "    </tr>\n",
       "    <tr>\n",
       "      <th>112</th>\n",
       "      <td>1bb23b52c53abdfb8105a5dda50bf6d5fa7b14fc</td>\n",
       "      <td>0</td>\n",
       "    </tr>\n",
       "    <tr>\n",
       "      <th>138</th>\n",
       "      <td>7c25a1131492328ca26c655dc7c75429e21c03f9</td>\n",
       "      <td>1</td>\n",
       "    </tr>\n",
       "    <tr>\n",
       "      <th>139</th>\n",
       "      <td>2d75ed4471e5f85662b4a14fbcca208b328f22a7</td>\n",
       "      <td>1</td>\n",
       "    </tr>\n",
       "    <tr>\n",
       "      <th>165</th>\n",
       "      <td>4ba0d1c62230781533c2df1d95e5b4c8f5b650a3</td>\n",
       "      <td>1</td>\n",
       "    </tr>\n",
       "    <tr>\n",
       "      <th>171</th>\n",
       "      <td>0a08e17083f91e83c0bbbc64479d263f58d12143</td>\n",
       "      <td>0</td>\n",
       "    </tr>\n",
       "    <tr>\n",
       "      <th>185</th>\n",
       "      <td>c5f71e76be5ae90ddd5a93fb3f9690c2bed47ed8</td>\n",
       "      <td>1</td>\n",
       "    </tr>\n",
       "    <tr>\n",
       "      <th>224</th>\n",
       "      <td>73aa14acfa4ce578a551187848ef18ea44d019db</td>\n",
       "      <td>0</td>\n",
       "    </tr>\n",
       "    <tr>\n",
       "      <th>231</th>\n",
       "      <td>baf498c731611c822aad3b6f6758d71730709c35</td>\n",
       "      <td>0</td>\n",
       "    </tr>\n",
       "    <tr>\n",
       "      <th>250</th>\n",
       "      <td>8fdb283064463a4fb362a0b0634de889252543cb</td>\n",
       "      <td>0</td>\n",
       "    </tr>\n",
       "    <tr>\n",
       "      <th>255</th>\n",
       "      <td>7fdbfdeda14984853ec0da4cf41b7d03ad601933</td>\n",
       "      <td>1</td>\n",
       "    </tr>\n",
       "    <tr>\n",
       "      <th>264</th>\n",
       "      <td>831aa5865b61c51b62d2c57ed130ba7003ccae76</td>\n",
       "      <td>0</td>\n",
       "    </tr>\n",
       "    <tr>\n",
       "      <th>323</th>\n",
       "      <td>a9b1d696a56a455f489305f00b39e85b48062e7b</td>\n",
       "      <td>1</td>\n",
       "    </tr>\n",
       "    <tr>\n",
       "      <th>333</th>\n",
       "      <td>031e556928af7c23f19135760020ec88fcad2392</td>\n",
       "      <td>1</td>\n",
       "    </tr>\n",
       "    <tr>\n",
       "      <th>347</th>\n",
       "      <td>b483c24234ab331877e373a6d87c2e5ca2f62b9c</td>\n",
       "      <td>0</td>\n",
       "    </tr>\n",
       "    <tr>\n",
       "      <th>360</th>\n",
       "      <td>ee428b099f4a6999bdbf3bbcd62fa4cbd61bc3a5</td>\n",
       "      <td>1</td>\n",
       "    </tr>\n",
       "    <tr>\n",
       "      <th>377</th>\n",
       "      <td>0984f55a23ac4731adcc5d94fe38682d48caea4d</td>\n",
       "      <td>0</td>\n",
       "    </tr>\n",
       "    <tr>\n",
       "      <th>378</th>\n",
       "      <td>23dc094f9fb63ad76f0399ef33aed494691f0016</td>\n",
       "      <td>0</td>\n",
       "    </tr>\n",
       "    <tr>\n",
       "      <th>381</th>\n",
       "      <td>3fcc8a9fa71df2b58ed24325d8d2d074e8e1cdda</td>\n",
       "      <td>1</td>\n",
       "    </tr>\n",
       "    <tr>\n",
       "      <th>435</th>\n",
       "      <td>14965e09cb0e4fefb37f5ebd637445ab66409a5b</td>\n",
       "      <td>0</td>\n",
       "    </tr>\n",
       "    <tr>\n",
       "      <th>438</th>\n",
       "      <td>e597d6c0ce26ad5140860e0fab25bc622d445eab</td>\n",
       "      <td>0</td>\n",
       "    </tr>\n",
       "    <tr>\n",
       "      <th>451</th>\n",
       "      <td>1a22c29af53369dbb0daf577c29700c9d0f62707</td>\n",
       "      <td>0</td>\n",
       "    </tr>\n",
       "    <tr>\n",
       "      <th>473</th>\n",
       "      <td>01f8a431e754fbe53469729f3912496454e0904b</td>\n",
       "      <td>0</td>\n",
       "    </tr>\n",
       "    <tr>\n",
       "      <th>488</th>\n",
       "      <td>8f1719bee514feb19fd1cd4245005d4d918af534</td>\n",
       "      <td>0</td>\n",
       "    </tr>\n",
       "    <tr>\n",
       "      <th>...</th>\n",
       "      <td>...</td>\n",
       "      <td>...</td>\n",
       "    </tr>\n",
       "    <tr>\n",
       "      <th>219453</th>\n",
       "      <td>5ccc5dc43b6de531031445717e21a0f41db3bef4</td>\n",
       "      <td>0</td>\n",
       "    </tr>\n",
       "    <tr>\n",
       "      <th>219459</th>\n",
       "      <td>dcd4b62adc0148a2b1a5096d65389e76c715a919</td>\n",
       "      <td>0</td>\n",
       "    </tr>\n",
       "    <tr>\n",
       "      <th>219486</th>\n",
       "      <td>1c43fc5c5463dbefecbe3ee064296f4b632e027d</td>\n",
       "      <td>1</td>\n",
       "    </tr>\n",
       "    <tr>\n",
       "      <th>219488</th>\n",
       "      <td>913272e956bfcbd4dd164315b1a4cd6448ec71d8</td>\n",
       "      <td>1</td>\n",
       "    </tr>\n",
       "    <tr>\n",
       "      <th>219494</th>\n",
       "      <td>19af84ac3a973494cdbee15ec2e58245cdc4c12c</td>\n",
       "      <td>0</td>\n",
       "    </tr>\n",
       "    <tr>\n",
       "      <th>219497</th>\n",
       "      <td>68af5e052aa022b965c65528bcb22a293de203a8</td>\n",
       "      <td>0</td>\n",
       "    </tr>\n",
       "    <tr>\n",
       "      <th>219514</th>\n",
       "      <td>4be15ce0d363f3044e337c78d8e746d774a0cde2</td>\n",
       "      <td>0</td>\n",
       "    </tr>\n",
       "    <tr>\n",
       "      <th>219531</th>\n",
       "      <td>5ca146f8d1f7cd31e118f0bb9e520a9de84b26a8</td>\n",
       "      <td>0</td>\n",
       "    </tr>\n",
       "    <tr>\n",
       "      <th>219543</th>\n",
       "      <td>4f0f2208b96a57ffb4c473488f75da9a5c259258</td>\n",
       "      <td>1</td>\n",
       "    </tr>\n",
       "    <tr>\n",
       "      <th>219550</th>\n",
       "      <td>2f166e15f32c5bed868a38538e883d1dc416b929</td>\n",
       "      <td>0</td>\n",
       "    </tr>\n",
       "    <tr>\n",
       "      <th>219650</th>\n",
       "      <td>0cc7ccf58497c17dea68cba6c127a998b7a4e9b2</td>\n",
       "      <td>1</td>\n",
       "    </tr>\n",
       "    <tr>\n",
       "      <th>219655</th>\n",
       "      <td>69b47aa098d0c530017d70642456ecdf306a403f</td>\n",
       "      <td>0</td>\n",
       "    </tr>\n",
       "    <tr>\n",
       "      <th>219657</th>\n",
       "      <td>57a2e409000f75fc62e580fb21c7a6682fd18d72</td>\n",
       "      <td>1</td>\n",
       "    </tr>\n",
       "    <tr>\n",
       "      <th>219659</th>\n",
       "      <td>5964f2d3ee6eab5d70076544c3f513b02f52a7db</td>\n",
       "      <td>0</td>\n",
       "    </tr>\n",
       "    <tr>\n",
       "      <th>219692</th>\n",
       "      <td>f6015ed5a2579098304a3ddd21292654d518a12e</td>\n",
       "      <td>1</td>\n",
       "    </tr>\n",
       "    <tr>\n",
       "      <th>219693</th>\n",
       "      <td>741ecb7db945189227b2f3be2cee8d9e43e62884</td>\n",
       "      <td>0</td>\n",
       "    </tr>\n",
       "    <tr>\n",
       "      <th>219695</th>\n",
       "      <td>113ffd22a92f588c4343b4016af7fffba1f8aa8c</td>\n",
       "      <td>0</td>\n",
       "    </tr>\n",
       "    <tr>\n",
       "      <th>219699</th>\n",
       "      <td>8c0398723af68b0fb3dc18821110e8a470fedba8</td>\n",
       "      <td>0</td>\n",
       "    </tr>\n",
       "    <tr>\n",
       "      <th>219752</th>\n",
       "      <td>65bf9eab5d1625520567c7f3bcf405d8ef1c17b5</td>\n",
       "      <td>0</td>\n",
       "    </tr>\n",
       "    <tr>\n",
       "      <th>219754</th>\n",
       "      <td>509e9bba33b9f1e62b0ed67b210f0f82d28c99b6</td>\n",
       "      <td>0</td>\n",
       "    </tr>\n",
       "    <tr>\n",
       "      <th>219770</th>\n",
       "      <td>7a5b9206d4fce6350fd4c98627d4a2c06f473275</td>\n",
       "      <td>1</td>\n",
       "    </tr>\n",
       "    <tr>\n",
       "      <th>219826</th>\n",
       "      <td>96d16f9b47081e2b4f5d1e9ec4019b9ee192f25d</td>\n",
       "      <td>0</td>\n",
       "    </tr>\n",
       "    <tr>\n",
       "      <th>219856</th>\n",
       "      <td>6f9c1b7a5dedfa6124ed174b1a51cf035e41ca53</td>\n",
       "      <td>0</td>\n",
       "    </tr>\n",
       "    <tr>\n",
       "      <th>219869</th>\n",
       "      <td>0e07712bf1f2d344894d59966b268d2e844475fd</td>\n",
       "      <td>1</td>\n",
       "    </tr>\n",
       "    <tr>\n",
       "      <th>219889</th>\n",
       "      <td>5c0c6952a3cd2d7e7de343832f917b4910cf3a03</td>\n",
       "      <td>0</td>\n",
       "    </tr>\n",
       "    <tr>\n",
       "      <th>219936</th>\n",
       "      <td>f6162ca7459d13f2e6286f60e62c9fe2de054d00</td>\n",
       "      <td>0</td>\n",
       "    </tr>\n",
       "    <tr>\n",
       "      <th>219938</th>\n",
       "      <td>149306e591a7d1d4f8ca0d4ef6b8fe995b39af8d</td>\n",
       "      <td>1</td>\n",
       "    </tr>\n",
       "    <tr>\n",
       "      <th>219986</th>\n",
       "      <td>c5a09ca0e71645b3ae0540cc0b311fb9bd983e97</td>\n",
       "      <td>0</td>\n",
       "    </tr>\n",
       "    <tr>\n",
       "      <th>219988</th>\n",
       "      <td>5ff2a9afa0aed1fde1e59692661ea86a373eae01</td>\n",
       "      <td>1</td>\n",
       "    </tr>\n",
       "    <tr>\n",
       "      <th>219991</th>\n",
       "      <td>91e03eaaea6c8ce1bf57a2b651c9c0055643a6e7</td>\n",
       "      <td>0</td>\n",
       "    </tr>\n",
       "  </tbody>\n",
       "</table>\n",
       "<p>11000 rows × 2 columns</p>\n",
       "</div>"
      ],
      "text/plain": [
       "                                              id  label\n",
       "26      4e491f0beca3cc68b5013cbe726a9b358bf0f668      0\n",
       "31      3fd6d45524adefa2b1210123b672fc84c9680f9e      0\n",
       "64      0c9048efaa80ab8813fde3b649cfc54f02dabe56      1\n",
       "72      9e4f48c0bbaf3beec183fc2892e07888952515c5      1\n",
       "73      07f17b07fb6bb9639f96e5e78a8e04f287df9e84      0\n",
       "74      729a7cfbcb7f50ecc89cb8661f0a80871c924d05      0\n",
       "101     d155dd4f340d21a77a9bdb90455a67f5ce969e80      0\n",
       "112     1bb23b52c53abdfb8105a5dda50bf6d5fa7b14fc      0\n",
       "138     7c25a1131492328ca26c655dc7c75429e21c03f9      1\n",
       "139     2d75ed4471e5f85662b4a14fbcca208b328f22a7      1\n",
       "165     4ba0d1c62230781533c2df1d95e5b4c8f5b650a3      1\n",
       "171     0a08e17083f91e83c0bbbc64479d263f58d12143      0\n",
       "185     c5f71e76be5ae90ddd5a93fb3f9690c2bed47ed8      1\n",
       "224     73aa14acfa4ce578a551187848ef18ea44d019db      0\n",
       "231     baf498c731611c822aad3b6f6758d71730709c35      0\n",
       "250     8fdb283064463a4fb362a0b0634de889252543cb      0\n",
       "255     7fdbfdeda14984853ec0da4cf41b7d03ad601933      1\n",
       "264     831aa5865b61c51b62d2c57ed130ba7003ccae76      0\n",
       "323     a9b1d696a56a455f489305f00b39e85b48062e7b      1\n",
       "333     031e556928af7c23f19135760020ec88fcad2392      1\n",
       "347     b483c24234ab331877e373a6d87c2e5ca2f62b9c      0\n",
       "360     ee428b099f4a6999bdbf3bbcd62fa4cbd61bc3a5      1\n",
       "377     0984f55a23ac4731adcc5d94fe38682d48caea4d      0\n",
       "378     23dc094f9fb63ad76f0399ef33aed494691f0016      0\n",
       "381     3fcc8a9fa71df2b58ed24325d8d2d074e8e1cdda      1\n",
       "435     14965e09cb0e4fefb37f5ebd637445ab66409a5b      0\n",
       "438     e597d6c0ce26ad5140860e0fab25bc622d445eab      0\n",
       "451     1a22c29af53369dbb0daf577c29700c9d0f62707      0\n",
       "473     01f8a431e754fbe53469729f3912496454e0904b      0\n",
       "488     8f1719bee514feb19fd1cd4245005d4d918af534      0\n",
       "...                                          ...    ...\n",
       "219453  5ccc5dc43b6de531031445717e21a0f41db3bef4      0\n",
       "219459  dcd4b62adc0148a2b1a5096d65389e76c715a919      0\n",
       "219486  1c43fc5c5463dbefecbe3ee064296f4b632e027d      1\n",
       "219488  913272e956bfcbd4dd164315b1a4cd6448ec71d8      1\n",
       "219494  19af84ac3a973494cdbee15ec2e58245cdc4c12c      0\n",
       "219497  68af5e052aa022b965c65528bcb22a293de203a8      0\n",
       "219514  4be15ce0d363f3044e337c78d8e746d774a0cde2      0\n",
       "219531  5ca146f8d1f7cd31e118f0bb9e520a9de84b26a8      0\n",
       "219543  4f0f2208b96a57ffb4c473488f75da9a5c259258      1\n",
       "219550  2f166e15f32c5bed868a38538e883d1dc416b929      0\n",
       "219650  0cc7ccf58497c17dea68cba6c127a998b7a4e9b2      1\n",
       "219655  69b47aa098d0c530017d70642456ecdf306a403f      0\n",
       "219657  57a2e409000f75fc62e580fb21c7a6682fd18d72      1\n",
       "219659  5964f2d3ee6eab5d70076544c3f513b02f52a7db      0\n",
       "219692  f6015ed5a2579098304a3ddd21292654d518a12e      1\n",
       "219693  741ecb7db945189227b2f3be2cee8d9e43e62884      0\n",
       "219695  113ffd22a92f588c4343b4016af7fffba1f8aa8c      0\n",
       "219699  8c0398723af68b0fb3dc18821110e8a470fedba8      0\n",
       "219752  65bf9eab5d1625520567c7f3bcf405d8ef1c17b5      0\n",
       "219754  509e9bba33b9f1e62b0ed67b210f0f82d28c99b6      0\n",
       "219770  7a5b9206d4fce6350fd4c98627d4a2c06f473275      1\n",
       "219826  96d16f9b47081e2b4f5d1e9ec4019b9ee192f25d      0\n",
       "219856  6f9c1b7a5dedfa6124ed174b1a51cf035e41ca53      0\n",
       "219869  0e07712bf1f2d344894d59966b268d2e844475fd      1\n",
       "219889  5c0c6952a3cd2d7e7de343832f917b4910cf3a03      0\n",
       "219936  f6162ca7459d13f2e6286f60e62c9fe2de054d00      0\n",
       "219938  149306e591a7d1d4f8ca0d4ef6b8fe995b39af8d      1\n",
       "219986  c5a09ca0e71645b3ae0540cc0b311fb9bd983e97      0\n",
       "219988  5ff2a9afa0aed1fde1e59692661ea86a373eae01      1\n",
       "219991  91e03eaaea6c8ce1bf57a2b651c9c0055643a6e7      0\n",
       "\n",
       "[11000 rows x 2 columns]"
      ]
     },
     "execution_count": 46,
     "metadata": {},
     "output_type": "execute_result"
    }
   ],
   "source": [
    "train_df.iloc[test]"
   ]
  },
  {
   "cell_type": "code",
   "execution_count": 8,
   "metadata": {
    "ExecuteTime": {
     "end_time": "2019-03-07T09:34:38.338190Z",
     "start_time": "2019-03-07T09:34:38.331865Z"
    }
   },
   "outputs": [
    {
     "data": {
      "text/html": [
       "<div>\n",
       "<style scoped>\n",
       "    .dataframe tbody tr th:only-of-type {\n",
       "        vertical-align: middle;\n",
       "    }\n",
       "\n",
       "    .dataframe tbody tr th {\n",
       "        vertical-align: top;\n",
       "    }\n",
       "\n",
       "    .dataframe thead th {\n",
       "        text-align: right;\n",
       "    }\n",
       "</style>\n",
       "<table border=\"1\" class=\"dataframe\">\n",
       "  <thead>\n",
       "    <tr style=\"text-align: right;\">\n",
       "      <th></th>\n",
       "      <th>id</th>\n",
       "      <th>label</th>\n",
       "    </tr>\n",
       "  </thead>\n",
       "  <tbody>\n",
       "    <tr>\n",
       "      <th>0</th>\n",
       "      <td>f38a6374c348f90b587e046aac6079959adf3835</td>\n",
       "      <td>1</td>\n",
       "    </tr>\n",
       "    <tr>\n",
       "      <th>1</th>\n",
       "      <td>c18f2d887b7ae4f6742ee445113fa1aef383ed77</td>\n",
       "      <td>1</td>\n",
       "    </tr>\n",
       "    <tr>\n",
       "      <th>2</th>\n",
       "      <td>755db6279dae599ebb4d39a9123cce439965282d</td>\n",
       "      <td>0</td>\n",
       "    </tr>\n",
       "    <tr>\n",
       "      <th>3</th>\n",
       "      <td>bc3f0c64fb968ff4a8bd33af6971ecae77c75e08</td>\n",
       "      <td>0</td>\n",
       "    </tr>\n",
       "    <tr>\n",
       "      <th>4</th>\n",
       "      <td>068aba587a4950175d04c680d38943fd488d6a9d</td>\n",
       "      <td>0</td>\n",
       "    </tr>\n",
       "  </tbody>\n",
       "</table>\n",
       "</div>"
      ],
      "text/plain": [
       "                                         id  label\n",
       "0  f38a6374c348f90b587e046aac6079959adf3835      1\n",
       "1  c18f2d887b7ae4f6742ee445113fa1aef383ed77      1\n",
       "2  755db6279dae599ebb4d39a9123cce439965282d      0\n",
       "3  bc3f0c64fb968ff4a8bd33af6971ecae77c75e08      0\n",
       "4  068aba587a4950175d04c680d38943fd488d6a9d      0"
      ]
     },
     "execution_count": 8,
     "metadata": {},
     "output_type": "execute_result"
    }
   ],
   "source": [
    "train_df.head()"
   ]
  },
  {
   "cell_type": "code",
   "execution_count": 22,
   "metadata": {
    "ExecuteTime": {
     "end_time": "2019-03-07T16:27:30.114486Z",
     "start_time": "2019-03-07T16:27:30.087180Z"
    }
   },
   "outputs": [
    {
     "name": "stdout",
     "output_type": "stream",
     "text": [
      "<class 'pandas.core.frame.DataFrame'>\n",
      "RangeIndex: 220025 entries, 0 to 220024\n",
      "Data columns (total 2 columns):\n",
      "id       220025 non-null object\n",
      "label    220025 non-null int64\n",
      "dtypes: int64(1), object(1)\n",
      "memory usage: 3.4+ MB\n",
      "<class 'pandas.core.frame.DataFrame'>\n",
      "RangeIndex: 57458 entries, 0 to 57457\n",
      "Data columns (total 2 columns):\n",
      "id       57458 non-null object\n",
      "label    57458 non-null int64\n",
      "dtypes: int64(1), object(1)\n",
      "memory usage: 897.9+ KB\n"
     ]
    },
    {
     "data": {
      "text/plain": [
       "(None, None)"
      ]
     },
     "execution_count": 22,
     "metadata": {},
     "output_type": "execute_result"
    }
   ],
   "source": [
    "train_df.info(), test_df.info()"
   ]
  },
  {
   "cell_type": "code",
   "execution_count": 23,
   "metadata": {
    "ExecuteTime": {
     "end_time": "2019-03-07T16:27:30.883394Z",
     "start_time": "2019-03-07T16:27:30.875437Z"
    }
   },
   "outputs": [
    {
     "name": "stdout",
     "output_type": "stream",
     "text": [
      "CPU times: user 4.72 ms, sys: 0 ns, total: 4.72 ms\n",
      "Wall time: 4.12 ms\n"
     ]
    }
   ],
   "source": [
    "%%time\n",
    "img = mpimg.imread('data/train/00001b2b5609af42ab0ab276dd4cd41c3e7745b5.tif')"
   ]
  },
  {
   "cell_type": "code",
   "execution_count": 24,
   "metadata": {
    "ExecuteTime": {
     "end_time": "2019-03-07T16:27:46.298430Z",
     "start_time": "2019-03-07T16:27:31.630732Z"
    }
   },
   "outputs": [
    {
     "name": "stdout",
     "output_type": "stream",
     "text": [
      "180 µs ± 1.29 µs per loop (mean ± std. dev. of 7 runs, 10000 loops each)\n"
     ]
    }
   ],
   "source": [
    "timeit mpimg.imread('data/train/00001b2b5609af42ab0ab276dd4cd41c3e7745b5.tif')"
   ]
  },
  {
   "cell_type": "code",
   "execution_count": 25,
   "metadata": {
    "ExecuteTime": {
     "end_time": "2019-03-07T16:27:58.535990Z",
     "start_time": "2019-03-07T16:27:46.299666Z"
    }
   },
   "outputs": [
    {
     "name": "stdout",
     "output_type": "stream",
     "text": [
      "151 µs ± 2.39 µs per loop (mean ± std. dev. of 7 runs, 10000 loops each)\n"
     ]
    }
   ],
   "source": [
    "timeit pil_loader('data/train/00001b2b5609af42ab0ab276dd4cd41c3e7745b5.tif')"
   ]
  },
  {
   "cell_type": "code",
   "execution_count": 182,
   "metadata": {
    "ExecuteTime": {
     "end_time": "2019-03-06T15:12:50.961133Z",
     "start_time": "2019-03-06T15:12:47.191514Z"
    }
   },
   "outputs": [
    {
     "name": "stdout",
     "output_type": "stream",
     "text": [
      "46.4 µs ± 975 ns per loop (mean ± std. dev. of 7 runs, 10000 loops each)\n"
     ]
    }
   ],
   "source": [
    "timeit cv2.imread('data/train/00001b2b5609af42ab0ab276dd4cd41c3e7745b5.tif', flags=cv2.IMREAD_COLOR)"
   ]
  },
  {
   "cell_type": "code",
   "execution_count": 185,
   "metadata": {
    "ExecuteTime": {
     "end_time": "2019-03-06T15:18:21.212233Z",
     "start_time": "2019-03-06T15:18:19.341059Z"
    }
   },
   "outputs": [
    {
     "name": "stdout",
     "output_type": "stream",
     "text": [
      "225 µs ± 373 ns per loop (mean ± std. dev. of 7 runs, 1000 loops each)\n"
     ]
    }
   ],
   "source": [
    "timeit io.imread(\"data/train/00001b2b5609af42ab0ab276dd4cd41c3e7745b5.tif\")"
   ]
  },
  {
   "cell_type": "markdown",
   "metadata": {},
   "source": [
    "##### use cv2.imread for reading images "
   ]
  },
  {
   "cell_type": "code",
   "execution_count": 8,
   "metadata": {
    "ExecuteTime": {
     "end_time": "2019-03-04T14:35:01.494063Z",
     "start_time": "2019-03-04T14:35:01.490754Z"
    }
   },
   "outputs": [
    {
     "data": {
      "text/plain": [
       "(96, 96, 3)"
      ]
     },
     "execution_count": 8,
     "metadata": {},
     "output_type": "execute_result"
    }
   ],
   "source": [
    "img.shape\n"
   ]
  },
  {
   "cell_type": "code",
   "execution_count": 173,
   "metadata": {
    "ExecuteTime": {
     "end_time": "2019-03-06T15:03:55.009058Z",
     "start_time": "2019-03-06T15:03:54.893133Z"
    }
   },
   "outputs": [
    {
     "data": {
      "text/plain": [
       "<matplotlib.image.AxesImage at 0x7ff9fddfe6a0>"
      ]
     },
     "execution_count": 173,
     "metadata": {},
     "output_type": "execute_result"
    },
    {
     "data": {
      "image/png": "[encoded data removed]",
      "text/plain": [
       "<Figure size 432x288 with 1 Axes>"
      ]
     },
     "metadata": {
      "needs_background": "light"
     },
     "output_type": "display_data"
    }
   ],
   "source": [
    "plt.imshow(img)"
   ]
  },
  {
   "cell_type": "code",
   "execution_count": 10,
   "metadata": {
    "ExecuteTime": {
     "end_time": "2019-03-04T14:35:02.359686Z",
     "start_time": "2019-03-04T14:35:02.264286Z"
    }
   },
   "outputs": [
    {
     "data": {
      "image/png": "[encoded data removed]",
      "text/plain": [
       "<Figure size 432x288 with 1 Axes>"
      ]
     },
     "metadata": {
      "needs_background": "light"
     },
     "output_type": "display_data"
    }
   ],
   "source": [
    "# plot some random training images with their ground truth labels\n",
    "i = random.choice(range(train_df.shape[0]))\n",
    "img = mpimg.imread('data/train/' + train_df.iloc[i]['id'] + '.tif')\n",
    "plt.imshow(img)\n",
    "plt.title(train_df.iloc[i]['label'])\n",
    "plt.show()"
   ]
  },
  {
   "cell_type": "code",
   "execution_count": 11,
   "metadata": {
    "ExecuteTime": {
     "end_time": "2019-03-04T14:35:02.474089Z",
     "start_time": "2019-03-04T14:35:02.468284Z"
    }
   },
   "outputs": [
    {
     "data": {
      "text/plain": [
       "0    130908\n",
       "1     89117\n",
       "Name: label, dtype: int64"
      ]
     },
     "execution_count": 11,
     "metadata": {},
     "output_type": "execute_result"
    }
   ],
   "source": [
    "train_df['label'].value_counts()"
   ]
  },
  {
   "cell_type": "code",
   "execution_count": 12,
   "metadata": {
    "ExecuteTime": {
     "end_time": "2019-03-04T14:35:02.723464Z",
     "start_time": "2019-03-04T14:35:02.718236Z"
    }
   },
   "outputs": [
    {
     "data": {
      "text/plain": [
       "<bound method hist_series of 0         0\n",
       "1         1\n",
       "2         0\n",
       "3         0\n",
       "4         0\n",
       "5         0\n",
       "6         1\n",
       "7         1\n",
       "8         0\n",
       "9         0\n",
       "10        0\n",
       "11        1\n",
       "12        0\n",
       "13        0\n",
       "14        1\n",
       "15        0\n",
       "16        0\n",
       "17        1\n",
       "18        0\n",
       "19        1\n",
       "20        0\n",
       "21        0\n",
       "22        0\n",
       "23        1\n",
       "24        1\n",
       "25        0\n",
       "26        0\n",
       "27        0\n",
       "28        1\n",
       "29        1\n",
       "         ..\n",
       "219995    1\n",
       "219996    0\n",
       "219997    1\n",
       "219998    1\n",
       "219999    0\n",
       "220000    0\n",
       "220001    1\n",
       "220002    1\n",
       "220003    0\n",
       "220004    0\n",
       "220005    1\n",
       "220006    0\n",
       "220007    1\n",
       "220008    0\n",
       "220009    1\n",
       "220010    1\n",
       "220011    0\n",
       "220012    1\n",
       "220013    0\n",
       "220014    1\n",
       "220015    0\n",
       "220016    0\n",
       "220017    0\n",
       "220018    0\n",
       "220019    0\n",
       "220020    0\n",
       "220021    1\n",
       "220022    0\n",
       "220023    0\n",
       "220024    1\n",
       "Name: label, Length: 220025, dtype: int64>"
      ]
     },
     "execution_count": 12,
     "metadata": {},
     "output_type": "execute_result"
    }
   ],
   "source": [
    "train_df['label'].hist"
   ]
  },
  {
   "cell_type": "code",
   "execution_count": 48,
   "metadata": {
    "ExecuteTime": {
     "end_time": "2019-03-06T19:56:24.770069Z",
     "start_time": "2019-03-06T19:56:24.574486Z"
    }
   },
   "outputs": [
    {
     "data": {
      "image/png": "[encoded data removed]",
      "text/plain": [
       "<Figure size 432x288 with 1 Axes>"
      ]
     },
     "metadata": {
      "needs_background": "light"
     },
     "output_type": "display_data"
    },
    {
     "name": "stderr",
     "output_type": "stream",
     "text": [
      "Clipping input data to the valid range for imshow with RGB data ([0..1] for floats or [0..255] for integers).\n"
     ]
    },
    {
     "data": {
      "image/png": "[encoded data removed]",
      "text/plain": [
       "<Figure size 432x288 with 1 Axes>"
      ]
     },
     "metadata": {
      "needs_background": "light"
     },
     "output_type": "display_data"
    }
   ],
   "source": [
    "img = mpimg.imread('data/train/dd6dfed324f9fcb6f93f46f32fc800f2ec196be2.tif')\n",
    "plt.imshow(img)\n",
    "plt.show();\n",
    "aug_img = train_aug(image=img)\n",
    "plt.imshow(aug_img['image'])\n",
    "plt.show();"
   ]
  },
  {
   "cell_type": "markdown",
   "metadata": {},
   "source": [
    "#### Dataloader analysis\n"
   ]
  },
  {
   "cell_type": "code",
   "execution_count": 14,
   "metadata": {
    "ExecuteTime": {
     "end_time": "2019-03-04T15:04:35.660823Z",
     "start_time": "2019-03-04T15:04:35.658468Z"
    }
   },
   "outputs": [],
   "source": [
    "from dataloader import get_dataloader"
   ]
  },
  {
   "cell_type": "code",
   "execution_count": 197,
   "metadata": {
    "ExecuteTime": {
     "end_time": "2019-03-04T15:19:40.947455Z",
     "start_time": "2019-03-04T15:19:40.945006Z"
    }
   },
   "outputs": [],
   "source": [
    "def unnormalize(img):\n",
    "    mean = torch.as_tensor([0.485, 0.456, 0.406])\n",
    "    std = torch.as_tensor([0.229, 0.224, 0.225])\n",
    "    #return (img * std) + mean\n",
    "    for t, m, s in zip(img, mean, std):    \n",
    "        t.mul_(s).add_(m)\n",
    "    return img"
   ]
  },
  {
   "cell_type": "code",
   "execution_count": 198,
   "metadata": {
    "ExecuteTime": {
     "end_time": "2019-03-04T15:19:41.612809Z",
     "start_time": "2019-03-04T15:19:41.407453Z"
    }
   },
   "outputs": [],
   "source": [
    "phase = \"train\"\n",
    "dataloader = get_dataloader(phase)"
   ]
  },
  {
   "cell_type": "code",
   "execution_count": 242,
   "metadata": {
    "ExecuteTime": {
     "end_time": "2019-03-04T15:20:17.195944Z",
     "start_time": "2019-03-04T15:20:17.036183Z"
    }
   },
   "outputs": [],
   "source": [
    "batch = next(iter(dataloader))"
   ]
  },
  {
   "cell_type": "code",
   "execution_count": 243,
   "metadata": {
    "ExecuteTime": {
     "end_time": "2019-03-04T15:20:17.523118Z",
     "start_time": "2019-03-04T15:20:17.516120Z"
    }
   },
   "outputs": [
    {
     "data": {
      "text/plain": [
       "tensor([1, 1, 0, 0, 0, 1, 1, 0])"
      ]
     },
     "execution_count": 243,
     "metadata": {},
     "output_type": "execute_result"
    }
   ],
   "source": [
    "images, labels = batch\n",
    "labels"
   ]
  },
  {
   "cell_type": "code",
   "execution_count": 246,
   "metadata": {
    "ExecuteTime": {
     "end_time": "2019-03-04T15:20:21.861098Z",
     "start_time": "2019-03-04T15:20:21.728257Z"
    }
   },
   "outputs": [
    {
     "data": {
      "image/png": "[encoded data removed]",
      "text/plain": [
       "<Figure size 432x288 with 1 Axes>"
      ]
     },
     "metadata": {
      "needs_background": "light"
     },
     "output_type": "display_data"
    }
   ],
   "source": [
    "# plot some random training images with their ground truth labels\n",
    "i = random.choice(range(len(images)))\n",
    "img = images[i].clone()\n",
    "img = unnormalize(img)\n",
    "plt.imshow(img.permute(1, 2, 0))\n",
    "plt.title(labels[i].item())\n",
    "plt.show()"
   ]
  },
  {
   "cell_type": "code",
   "execution_count": null,
   "metadata": {},
   "outputs": [],
   "source": []
  },
  {
   "cell_type": "code",
   "execution_count": null,
   "metadata": {},
   "outputs": [],
   "source": []
  },
  {
   "cell_type": "code",
   "execution_count": null,
   "metadata": {},
   "outputs": [],
   "source": []
  },
  {
   "cell_type": "code",
   "execution_count": null,
   "metadata": {},
   "outputs": [],
   "source": []
  },
  {
   "cell_type": "code",
   "execution_count": null,
   "metadata": {},
   "outputs": [],
   "source": []
  },
  {
   "cell_type": "code",
   "execution_count": 245,
   "metadata": {
    "ExecuteTime": {
     "end_time": "2019-03-04T15:20:19.088630Z",
     "start_time": "2019-03-04T15:20:19.077897Z"
    }
   },
   "outputs": [
    {
     "data": {
      "text/plain": [
       "1"
      ]
     },
     "execution_count": 245,
     "metadata": {},
     "output_type": "execute_result"
    }
   ],
   "source": [
    "mean = torch.as_tensor([0.485, 0.456, 0.406])\n",
    "std = torch.as_tensor([0.229, 0.224, 0.225])\n",
    "#return (img * std) + mean\n",
    "#return img.mul_(std).add_(mean)\n",
    "labels[i].item()"
   ]
  },
  {
   "cell_type": "code",
   "execution_count": 52,
   "metadata": {
    "ExecuteTime": {
     "end_time": "2019-03-04T15:15:32.950081Z",
     "start_time": "2019-03-04T15:15:32.946752Z"
    }
   },
   "outputs": [
    {
     "data": {
      "text/plain": [
       "(tensor([0.4850, 0.4560, 0.4060]),\n",
       " tensor([0.2290, 0.2240, 0.2250]),\n",
       " torch.Size([3]),\n",
       " torch.Size([3]))"
      ]
     },
     "execution_count": 52,
     "metadata": {},
     "output_type": "execute_result"
    }
   ],
   "source": [
    "mean, std, mean.shape, std.shape"
   ]
  },
  {
   "cell_type": "code",
   "execution_count": 53,
   "metadata": {
    "ExecuteTime": {
     "end_time": "2019-03-04T15:15:40.550792Z",
     "start_time": "2019-03-04T15:15:40.545982Z"
    }
   },
   "outputs": [
    {
     "data": {
      "text/plain": [
       "torch.Size([3, 224, 224])"
      ]
     },
     "execution_count": 53,
     "metadata": {},
     "output_type": "execute_result"
    }
   ],
   "source": []
  },
  {
   "cell_type": "raw",
   "metadata": {},
   "source": [
    "Model testing"
   ]
  },
  {
   "cell_type": "code",
   "execution_count": 51,
   "metadata": {
    "ExecuteTime": {
     "end_time": "2019-03-07T16:49:32.356439Z",
     "start_time": "2019-03-07T16:49:31.631521Z"
    }
   },
   "outputs": [
    {
     "data": {
      "text/plain": [
       "['fbresnet152',\n",
       " 'bninception',\n",
       " 'resnext101_32x4d',\n",
       " 'resnext101_64x4d',\n",
       " 'inceptionv4',\n",
       " 'inceptionresnetv2',\n",
       " 'alexnet',\n",
       " 'densenet121',\n",
       " 'densenet169',\n",
       " 'densenet201',\n",
       " 'densenet161',\n",
       " 'resnet18',\n",
       " 'resnet34',\n",
       " 'resnet50',\n",
       " 'resnet101',\n",
       " 'resnet152',\n",
       " 'inceptionv3',\n",
       " 'squeezenet1_0',\n",
       " 'squeezenet1_1',\n",
       " 'vgg11',\n",
       " 'vgg11_bn',\n",
       " 'vgg13',\n",
       " 'vgg13_bn',\n",
       " 'vgg16',\n",
       " 'vgg16_bn',\n",
       " 'vgg19_bn',\n",
       " 'vgg19',\n",
       " 'nasnetamobile',\n",
       " 'nasnetalarge',\n",
       " 'dpn68',\n",
       " 'dpn68b',\n",
       " 'dpn92',\n",
       " 'dpn98',\n",
       " 'dpn131',\n",
       " 'dpn107',\n",
       " 'xception',\n",
       " 'senet154',\n",
       " 'se_resnet50',\n",
       " 'se_resnet101',\n",
       " 'se_resnet152',\n",
       " 'se_resnext50_32x4d',\n",
       " 'se_resnext101_32x4d',\n",
       " 'cafferesnet101',\n",
       " 'pnasnet5large',\n",
       " 'polynet']"
      ]
     },
     "execution_count": 51,
     "metadata": {},
     "output_type": "execute_result"
    }
   ],
   "source": [
    "import pretrainedmodels\n",
    "pretrainedmodels.model_names"
   ]
  },
  {
   "cell_type": "code",
   "execution_count": 52,
   "metadata": {
    "ExecuteTime": {
     "end_time": "2019-03-07T16:49:34.893983Z",
     "start_time": "2019-03-07T16:49:34.618905Z"
    }
   },
   "outputs": [],
   "source": [
    "model_name='se_resnext50_32x4d'\n",
    "model = pretrainedmodels.__dict__[model_name](num_classes=1000, pretrained='imagenet')"
   ]
  },
  {
   "cell_type": "code",
   "execution_count": 53,
   "metadata": {
    "ExecuteTime": {
     "end_time": "2019-03-07T16:49:36.159007Z",
     "start_time": "2019-03-07T16:49:36.154799Z"
    },
    "scrolled": false
   },
   "outputs": [
    {
     "data": {
      "text/plain": [
       "SENet(\n",
       "  (layer0): Sequential(\n",
       "    (conv1): Conv2d(3, 64, kernel_size=(7, 7), stride=(2, 2), padding=(3, 3), bias=False)\n",
       "    (bn1): BatchNorm2d(64, eps=1e-05, momentum=0.1, affine=True, track_running_stats=True)\n",
       "    (relu1): ReLU(inplace)\n",
       "    (pool): MaxPool2d(kernel_size=3, stride=2, padding=0, dilation=1, ceil_mode=True)\n",
       "  )\n",
       "  (layer1): Sequential(\n",
       "    (0): SEResNeXtBottleneck(\n",
       "      (conv1): Conv2d(64, 128, kernel_size=(1, 1), stride=(1, 1), bias=False)\n",
       "      (bn1): BatchNorm2d(128, eps=1e-05, momentum=0.1, affine=True, track_running_stats=True)\n",
       "      (conv2): Conv2d(128, 128, kernel_size=(3, 3), stride=(1, 1), padding=(1, 1), groups=32, bias=False)\n",
       "      (bn2): BatchNorm2d(128, eps=1e-05, momentum=0.1, affine=True, track_running_stats=True)\n",
       "      (conv3): Conv2d(128, 256, kernel_size=(1, 1), stride=(1, 1), bias=False)\n",
       "      (bn3): BatchNorm2d(256, eps=1e-05, momentum=0.1, affine=True, track_running_stats=True)\n",
       "      (relu): ReLU(inplace)\n",
       "      (se_module): SEModule(\n",
       "        (avg_pool): AdaptiveAvgPool2d(output_size=1)\n",
       "        (fc1): Conv2d(256, 16, kernel_size=(1, 1), stride=(1, 1))\n",
       "        (relu): ReLU(inplace)\n",
       "        (fc2): Conv2d(16, 256, kernel_size=(1, 1), stride=(1, 1))\n",
       "        (sigmoid): Sigmoid()\n",
       "      )\n",
       "      (downsample): Sequential(\n",
       "        (0): Conv2d(64, 256, kernel_size=(1, 1), stride=(1, 1), bias=False)\n",
       "        (1): BatchNorm2d(256, eps=1e-05, momentum=0.1, affine=True, track_running_stats=True)\n",
       "      )\n",
       "    )\n",
       "    (1): SEResNeXtBottleneck(\n",
       "      (conv1): Conv2d(256, 128, kernel_size=(1, 1), stride=(1, 1), bias=False)\n",
       "      (bn1): BatchNorm2d(128, eps=1e-05, momentum=0.1, affine=True, track_running_stats=True)\n",
       "      (conv2): Conv2d(128, 128, kernel_size=(3, 3), stride=(1, 1), padding=(1, 1), groups=32, bias=False)\n",
       "      (bn2): BatchNorm2d(128, eps=1e-05, momentum=0.1, affine=True, track_running_stats=True)\n",
       "      (conv3): Conv2d(128, 256, kernel_size=(1, 1), stride=(1, 1), bias=False)\n",
       "      (bn3): BatchNorm2d(256, eps=1e-05, momentum=0.1, affine=True, track_running_stats=True)\n",
       "      (relu): ReLU(inplace)\n",
       "      (se_module): SEModule(\n",
       "        (avg_pool): AdaptiveAvgPool2d(output_size=1)\n",
       "        (fc1): Conv2d(256, 16, kernel_size=(1, 1), stride=(1, 1))\n",
       "        (relu): ReLU(inplace)\n",
       "        (fc2): Conv2d(16, 256, kernel_size=(1, 1), stride=(1, 1))\n",
       "        (sigmoid): Sigmoid()\n",
       "      )\n",
       "    )\n",
       "    (2): SEResNeXtBottleneck(\n",
       "      (conv1): Conv2d(256, 128, kernel_size=(1, 1), stride=(1, 1), bias=False)\n",
       "      (bn1): BatchNorm2d(128, eps=1e-05, momentum=0.1, affine=True, track_running_stats=True)\n",
       "      (conv2): Conv2d(128, 128, kernel_size=(3, 3), stride=(1, 1), padding=(1, 1), groups=32, bias=False)\n",
       "      (bn2): BatchNorm2d(128, eps=1e-05, momentum=0.1, affine=True, track_running_stats=True)\n",
       "      (conv3): Conv2d(128, 256, kernel_size=(1, 1), stride=(1, 1), bias=False)\n",
       "      (bn3): BatchNorm2d(256, eps=1e-05, momentum=0.1, affine=True, track_running_stats=True)\n",
       "      (relu): ReLU(inplace)\n",
       "      (se_module): SEModule(\n",
       "        (avg_pool): AdaptiveAvgPool2d(output_size=1)\n",
       "        (fc1): Conv2d(256, 16, kernel_size=(1, 1), stride=(1, 1))\n",
       "        (relu): ReLU(inplace)\n",
       "        (fc2): Conv2d(16, 256, kernel_size=(1, 1), stride=(1, 1))\n",
       "        (sigmoid): Sigmoid()\n",
       "      )\n",
       "    )\n",
       "  )\n",
       "  (layer2): Sequential(\n",
       "    (0): SEResNeXtBottleneck(\n",
       "      (conv1): Conv2d(256, 256, kernel_size=(1, 1), stride=(1, 1), bias=False)\n",
       "      (bn1): BatchNorm2d(256, eps=1e-05, momentum=0.1, affine=True, track_running_stats=True)\n",
       "      (conv2): Conv2d(256, 256, kernel_size=(3, 3), stride=(2, 2), padding=(1, 1), groups=32, bias=False)\n",
       "      (bn2): BatchNorm2d(256, eps=1e-05, momentum=0.1, affine=True, track_running_stats=True)\n",
       "      (conv3): Conv2d(256, 512, kernel_size=(1, 1), stride=(1, 1), bias=False)\n",
       "      (bn3): BatchNorm2d(512, eps=1e-05, momentum=0.1, affine=True, track_running_stats=True)\n",
       "      (relu): ReLU(inplace)\n",
       "      (se_module): SEModule(\n",
       "        (avg_pool): AdaptiveAvgPool2d(output_size=1)\n",
       "        (fc1): Conv2d(512, 32, kernel_size=(1, 1), stride=(1, 1))\n",
       "        (relu): ReLU(inplace)\n",
       "        (fc2): Conv2d(32, 512, kernel_size=(1, 1), stride=(1, 1))\n",
       "        (sigmoid): Sigmoid()\n",
       "      )\n",
       "      (downsample): Sequential(\n",
       "        (0): Conv2d(256, 512, kernel_size=(1, 1), stride=(2, 2), bias=False)\n",
       "        (1): BatchNorm2d(512, eps=1e-05, momentum=0.1, affine=True, track_running_stats=True)\n",
       "      )\n",
       "    )\n",
       "    (1): SEResNeXtBottleneck(\n",
       "      (conv1): Conv2d(512, 256, kernel_size=(1, 1), stride=(1, 1), bias=False)\n",
       "      (bn1): BatchNorm2d(256, eps=1e-05, momentum=0.1, affine=True, track_running_stats=True)\n",
       "      (conv2): Conv2d(256, 256, kernel_size=(3, 3), stride=(1, 1), padding=(1, 1), groups=32, bias=False)\n",
       "      (bn2): BatchNorm2d(256, eps=1e-05, momentum=0.1, affine=True, track_running_stats=True)\n",
       "      (conv3): Conv2d(256, 512, kernel_size=(1, 1), stride=(1, 1), bias=False)\n",
       "      (bn3): BatchNorm2d(512, eps=1e-05, momentum=0.1, affine=True, track_running_stats=True)\n",
       "      (relu): ReLU(inplace)\n",
       "      (se_module): SEModule(\n",
       "        (avg_pool): AdaptiveAvgPool2d(output_size=1)\n",
       "        (fc1): Conv2d(512, 32, kernel_size=(1, 1), stride=(1, 1))\n",
       "        (relu): ReLU(inplace)\n",
       "        (fc2): Conv2d(32, 512, kernel_size=(1, 1), stride=(1, 1))\n",
       "        (sigmoid): Sigmoid()\n",
       "      )\n",
       "    )\n",
       "    (2): SEResNeXtBottleneck(\n",
       "      (conv1): Conv2d(512, 256, kernel_size=(1, 1), stride=(1, 1), bias=False)\n",
       "      (bn1): BatchNorm2d(256, eps=1e-05, momentum=0.1, affine=True, track_running_stats=True)\n",
       "      (conv2): Conv2d(256, 256, kernel_size=(3, 3), stride=(1, 1), padding=(1, 1), groups=32, bias=False)\n",
       "      (bn2): BatchNorm2d(256, eps=1e-05, momentum=0.1, affine=True, track_running_stats=True)\n",
       "      (conv3): Conv2d(256, 512, kernel_size=(1, 1), stride=(1, 1), bias=False)\n",
       "      (bn3): BatchNorm2d(512, eps=1e-05, momentum=0.1, affine=True, track_running_stats=True)\n",
       "      (relu): ReLU(inplace)\n",
       "      (se_module): SEModule(\n",
       "        (avg_pool): AdaptiveAvgPool2d(output_size=1)\n",
       "        (fc1): Conv2d(512, 32, kernel_size=(1, 1), stride=(1, 1))\n",
       "        (relu): ReLU(inplace)\n",
       "        (fc2): Conv2d(32, 512, kernel_size=(1, 1), stride=(1, 1))\n",
       "        (sigmoid): Sigmoid()\n",
       "      )\n",
       "    )\n",
       "    (3): SEResNeXtBottleneck(\n",
       "      (conv1): Conv2d(512, 256, kernel_size=(1, 1), stride=(1, 1), bias=False)\n",
       "      (bn1): BatchNorm2d(256, eps=1e-05, momentum=0.1, affine=True, track_running_stats=True)\n",
       "      (conv2): Conv2d(256, 256, kernel_size=(3, 3), stride=(1, 1), padding=(1, 1), groups=32, bias=False)\n",
       "      (bn2): BatchNorm2d(256, eps=1e-05, momentum=0.1, affine=True, track_running_stats=True)\n",
       "      (conv3): Conv2d(256, 512, kernel_size=(1, 1), stride=(1, 1), bias=False)\n",
       "      (bn3): BatchNorm2d(512, eps=1e-05, momentum=0.1, affine=True, track_running_stats=True)\n",
       "      (relu): ReLU(inplace)\n",
       "      (se_module): SEModule(\n",
       "        (avg_pool): AdaptiveAvgPool2d(output_size=1)\n",
       "        (fc1): Conv2d(512, 32, kernel_size=(1, 1), stride=(1, 1))\n",
       "        (relu): ReLU(inplace)\n",
       "        (fc2): Conv2d(32, 512, kernel_size=(1, 1), stride=(1, 1))\n",
       "        (sigmoid): Sigmoid()\n",
       "      )\n",
       "    )\n",
       "  )\n",
       "  (layer3): Sequential(\n",
       "    (0): SEResNeXtBottleneck(\n",
       "      (conv1): Conv2d(512, 512, kernel_size=(1, 1), stride=(1, 1), bias=False)\n",
       "      (bn1): BatchNorm2d(512, eps=1e-05, momentum=0.1, affine=True, track_running_stats=True)\n",
       "      (conv2): Conv2d(512, 512, kernel_size=(3, 3), stride=(2, 2), padding=(1, 1), groups=32, bias=False)\n",
       "      (bn2): BatchNorm2d(512, eps=1e-05, momentum=0.1, affine=True, track_running_stats=True)\n",
       "      (conv3): Conv2d(512, 1024, kernel_size=(1, 1), stride=(1, 1), bias=False)\n",
       "      (bn3): BatchNorm2d(1024, eps=1e-05, momentum=0.1, affine=True, track_running_stats=True)\n",
       "      (relu): ReLU(inplace)\n",
       "      (se_module): SEModule(\n",
       "        (avg_pool): AdaptiveAvgPool2d(output_size=1)\n",
       "        (fc1): Conv2d(1024, 64, kernel_size=(1, 1), stride=(1, 1))\n",
       "        (relu): ReLU(inplace)\n",
       "        (fc2): Conv2d(64, 1024, kernel_size=(1, 1), stride=(1, 1))\n",
       "        (sigmoid): Sigmoid()\n",
       "      )\n",
       "      (downsample): Sequential(\n",
       "        (0): Conv2d(512, 1024, kernel_size=(1, 1), stride=(2, 2), bias=False)\n",
       "        (1): BatchNorm2d(1024, eps=1e-05, momentum=0.1, affine=True, track_running_stats=True)\n",
       "      )\n",
       "    )\n",
       "    (1): SEResNeXtBottleneck(\n",
       "      (conv1): Conv2d(1024, 512, kernel_size=(1, 1), stride=(1, 1), bias=False)\n",
       "      (bn1): BatchNorm2d(512, eps=1e-05, momentum=0.1, affine=True, track_running_stats=True)\n",
       "      (conv2): Conv2d(512, 512, kernel_size=(3, 3), stride=(1, 1), padding=(1, 1), groups=32, bias=False)\n",
       "      (bn2): BatchNorm2d(512, eps=1e-05, momentum=0.1, affine=True, track_running_stats=True)\n",
       "      (conv3): Conv2d(512, 1024, kernel_size=(1, 1), stride=(1, 1), bias=False)\n",
       "      (bn3): BatchNorm2d(1024, eps=1e-05, momentum=0.1, affine=True, track_running_stats=True)\n",
       "      (relu): ReLU(inplace)\n",
       "      (se_module): SEModule(\n",
       "        (avg_pool): AdaptiveAvgPool2d(output_size=1)\n",
       "        (fc1): Conv2d(1024, 64, kernel_size=(1, 1), stride=(1, 1))\n",
       "        (relu): ReLU(inplace)\n",
       "        (fc2): Conv2d(64, 1024, kernel_size=(1, 1), stride=(1, 1))\n",
       "        (sigmoid): Sigmoid()\n",
       "      )\n",
       "    )\n",
       "    (2): SEResNeXtBottleneck(\n",
       "      (conv1): Conv2d(1024, 512, kernel_size=(1, 1), stride=(1, 1), bias=False)\n",
       "      (bn1): BatchNorm2d(512, eps=1e-05, momentum=0.1, affine=True, track_running_stats=True)\n",
       "      (conv2): Conv2d(512, 512, kernel_size=(3, 3), stride=(1, 1), padding=(1, 1), groups=32, bias=False)\n",
       "      (bn2): BatchNorm2d(512, eps=1e-05, momentum=0.1, affine=True, track_running_stats=True)\n",
       "      (conv3): Conv2d(512, 1024, kernel_size=(1, 1), stride=(1, 1), bias=False)\n",
       "      (bn3): BatchNorm2d(1024, eps=1e-05, momentum=0.1, affine=True, track_running_stats=True)\n",
       "      (relu): ReLU(inplace)\n",
       "      (se_module): SEModule(\n",
       "        (avg_pool): AdaptiveAvgPool2d(output_size=1)\n",
       "        (fc1): Conv2d(1024, 64, kernel_size=(1, 1), stride=(1, 1))\n",
       "        (relu): ReLU(inplace)\n",
       "        (fc2): Conv2d(64, 1024, kernel_size=(1, 1), stride=(1, 1))\n",
       "        (sigmoid): Sigmoid()\n",
       "      )\n",
       "    )\n",
       "    (3): SEResNeXtBottleneck(\n",
       "      (conv1): Conv2d(1024, 512, kernel_size=(1, 1), stride=(1, 1), bias=False)\n",
       "      (bn1): BatchNorm2d(512, eps=1e-05, momentum=0.1, affine=True, track_running_stats=True)\n",
       "      (conv2): Conv2d(512, 512, kernel_size=(3, 3), stride=(1, 1), padding=(1, 1), groups=32, bias=False)\n",
       "      (bn2): BatchNorm2d(512, eps=1e-05, momentum=0.1, affine=True, track_running_stats=True)\n",
       "      (conv3): Conv2d(512, 1024, kernel_size=(1, 1), stride=(1, 1), bias=False)\n",
       "      (bn3): BatchNorm2d(1024, eps=1e-05, momentum=0.1, affine=True, track_running_stats=True)\n",
       "      (relu): ReLU(inplace)\n",
       "      (se_module): SEModule(\n",
       "        (avg_pool): AdaptiveAvgPool2d(output_size=1)\n",
       "        (fc1): Conv2d(1024, 64, kernel_size=(1, 1), stride=(1, 1))\n",
       "        (relu): ReLU(inplace)\n",
       "        (fc2): Conv2d(64, 1024, kernel_size=(1, 1), stride=(1, 1))\n",
       "        (sigmoid): Sigmoid()\n",
       "      )\n",
       "    )\n",
       "    (4): SEResNeXtBottleneck(\n",
       "      (conv1): Conv2d(1024, 512, kernel_size=(1, 1), stride=(1, 1), bias=False)\n",
       "      (bn1): BatchNorm2d(512, eps=1e-05, momentum=0.1, affine=True, track_running_stats=True)\n",
       "      (conv2): Conv2d(512, 512, kernel_size=(3, 3), stride=(1, 1), padding=(1, 1), groups=32, bias=False)\n",
       "      (bn2): BatchNorm2d(512, eps=1e-05, momentum=0.1, affine=True, track_running_stats=True)\n",
       "      (conv3): Conv2d(512, 1024, kernel_size=(1, 1), stride=(1, 1), bias=False)\n",
       "      (bn3): BatchNorm2d(1024, eps=1e-05, momentum=0.1, affine=True, track_running_stats=True)\n",
       "      (relu): ReLU(inplace)\n",
       "      (se_module): SEModule(\n",
       "        (avg_pool): AdaptiveAvgPool2d(output_size=1)\n",
       "        (fc1): Conv2d(1024, 64, kernel_size=(1, 1), stride=(1, 1))\n",
       "        (relu): ReLU(inplace)\n",
       "        (fc2): Conv2d(64, 1024, kernel_size=(1, 1), stride=(1, 1))\n",
       "        (sigmoid): Sigmoid()\n",
       "      )\n",
       "    )\n",
       "    (5): SEResNeXtBottleneck(\n",
       "      (conv1): Conv2d(1024, 512, kernel_size=(1, 1), stride=(1, 1), bias=False)\n",
       "      (bn1): BatchNorm2d(512, eps=1e-05, momentum=0.1, affine=True, track_running_stats=True)\n",
       "      (conv2): Conv2d(512, 512, kernel_size=(3, 3), stride=(1, 1), padding=(1, 1), groups=32, bias=False)\n",
       "      (bn2): BatchNorm2d(512, eps=1e-05, momentum=0.1, affine=True, track_running_stats=True)\n",
       "      (conv3): Conv2d(512, 1024, kernel_size=(1, 1), stride=(1, 1), bias=False)\n",
       "      (bn3): BatchNorm2d(1024, eps=1e-05, momentum=0.1, affine=True, track_running_stats=True)\n",
       "      (relu): ReLU(inplace)\n",
       "      (se_module): SEModule(\n",
       "        (avg_pool): AdaptiveAvgPool2d(output_size=1)\n",
       "        (fc1): Conv2d(1024, 64, kernel_size=(1, 1), stride=(1, 1))\n",
       "        (relu): ReLU(inplace)\n",
       "        (fc2): Conv2d(64, 1024, kernel_size=(1, 1), stride=(1, 1))\n",
       "        (sigmoid): Sigmoid()\n",
       "      )\n",
       "    )\n",
       "  )\n",
       "  (layer4): Sequential(\n",
       "    (0): SEResNeXtBottleneck(\n",
       "      (conv1): Conv2d(1024, 1024, kernel_size=(1, 1), stride=(1, 1), bias=False)\n",
       "      (bn1): BatchNorm2d(1024, eps=1e-05, momentum=0.1, affine=True, track_running_stats=True)\n",
       "      (conv2): Conv2d(1024, 1024, kernel_size=(3, 3), stride=(2, 2), padding=(1, 1), groups=32, bias=False)\n",
       "      (bn2): BatchNorm2d(1024, eps=1e-05, momentum=0.1, affine=True, track_running_stats=True)\n",
       "      (conv3): Conv2d(1024, 2048, kernel_size=(1, 1), stride=(1, 1), bias=False)\n",
       "      (bn3): BatchNorm2d(2048, eps=1e-05, momentum=0.1, affine=True, track_running_stats=True)\n",
       "      (relu): ReLU(inplace)\n",
       "      (se_module): SEModule(\n",
       "        (avg_pool): AdaptiveAvgPool2d(output_size=1)\n",
       "        (fc1): Conv2d(2048, 128, kernel_size=(1, 1), stride=(1, 1))\n",
       "        (relu): ReLU(inplace)\n",
       "        (fc2): Conv2d(128, 2048, kernel_size=(1, 1), stride=(1, 1))\n",
       "        (sigmoid): Sigmoid()\n",
       "      )\n",
       "      (downsample): Sequential(\n",
       "        (0): Conv2d(1024, 2048, kernel_size=(1, 1), stride=(2, 2), bias=False)\n",
       "        (1): BatchNorm2d(2048, eps=1e-05, momentum=0.1, affine=True, track_running_stats=True)\n",
       "      )\n",
       "    )\n",
       "    (1): SEResNeXtBottleneck(\n",
       "      (conv1): Conv2d(2048, 1024, kernel_size=(1, 1), stride=(1, 1), bias=False)\n",
       "      (bn1): BatchNorm2d(1024, eps=1e-05, momentum=0.1, affine=True, track_running_stats=True)\n",
       "      (conv2): Conv2d(1024, 1024, kernel_size=(3, 3), stride=(1, 1), padding=(1, 1), groups=32, bias=False)\n",
       "      (bn2): BatchNorm2d(1024, eps=1e-05, momentum=0.1, affine=True, track_running_stats=True)\n",
       "      (conv3): Conv2d(1024, 2048, kernel_size=(1, 1), stride=(1, 1), bias=False)\n",
       "      (bn3): BatchNorm2d(2048, eps=1e-05, momentum=0.1, affine=True, track_running_stats=True)\n",
       "      (relu): ReLU(inplace)\n",
       "      (se_module): SEModule(\n",
       "        (avg_pool): AdaptiveAvgPool2d(output_size=1)\n",
       "        (fc1): Conv2d(2048, 128, kernel_size=(1, 1), stride=(1, 1))\n",
       "        (relu): ReLU(inplace)\n",
       "        (fc2): Conv2d(128, 2048, kernel_size=(1, 1), stride=(1, 1))\n",
       "        (sigmoid): Sigmoid()\n",
       "      )\n",
       "    )\n",
       "    (2): SEResNeXtBottleneck(\n",
       "      (conv1): Conv2d(2048, 1024, kernel_size=(1, 1), stride=(1, 1), bias=False)\n",
       "      (bn1): BatchNorm2d(1024, eps=1e-05, momentum=0.1, affine=True, track_running_stats=True)\n",
       "      (conv2): Conv2d(1024, 1024, kernel_size=(3, 3), stride=(1, 1), padding=(1, 1), groups=32, bias=False)\n",
       "      (bn2): BatchNorm2d(1024, eps=1e-05, momentum=0.1, affine=True, track_running_stats=True)\n",
       "      (conv3): Conv2d(1024, 2048, kernel_size=(1, 1), stride=(1, 1), bias=False)\n",
       "      (bn3): BatchNorm2d(2048, eps=1e-05, momentum=0.1, affine=True, track_running_stats=True)\n",
       "      (relu): ReLU(inplace)\n",
       "      (se_module): SEModule(\n",
       "        (avg_pool): AdaptiveAvgPool2d(output_size=1)\n",
       "        (fc1): Conv2d(2048, 128, kernel_size=(1, 1), stride=(1, 1))\n",
       "        (relu): ReLU(inplace)\n",
       "        (fc2): Conv2d(128, 2048, kernel_size=(1, 1), stride=(1, 1))\n",
       "        (sigmoid): Sigmoid()\n",
       "      )\n",
       "    )\n",
       "  )\n",
       "  (avg_pool): AvgPool2d(kernel_size=7, stride=1, padding=0)\n",
       "  (last_linear): Linear(in_features=2048, out_features=1000, bias=True)\n",
       ")"
      ]
     },
     "execution_count": 53,
     "metadata": {},
     "output_type": "execute_result"
    }
   ],
   "source": [
    "model"
   ]
  },
  {
   "cell_type": "code",
   "execution_count": 78,
   "metadata": {
    "ExecuteTime": {
     "end_time": "2019-03-07T17:06:13.683246Z",
     "start_time": "2019-03-07T17:06:13.676205Z"
    }
   },
   "outputs": [
    {
     "data": {
      "text/plain": [
       "AvgPool2d(kernel_size=7, stride=1, padding=0)"
      ]
     },
     "execution_count": 78,
     "metadata": {},
     "output_type": "execute_result"
    }
   ],
   "source": [
    "model.layer0.parameters()\n",
    "model.layer1.parameters()\n",
    "model.layer2.parameters()\n",
    "model.layer3.parameters()\n",
    "model.layer4.parameters()\n",
    "#list(model.children())[0]#.parameterss()\n",
    "model.avg_pool"
   ]
  },
  {
   "cell_type": "code",
   "execution_count": 71,
   "metadata": {
    "ExecuteTime": {
     "end_time": "2019-03-07T17:02:57.356724Z",
     "start_time": "2019-03-07T17:02:57.355091Z"
    }
   },
   "outputs": [],
   "source": [
    "[\n",
    "    {\"params\": model.layer0.paramters()},\n",
    "    {\"params\": model.layer1.paramters()},\n",
    "    {\"params\": model.layer2.paramters()},\n",
    "    {\"params\": model.layer3.paramters()},\n",
    "    {\"params\": model.layer4.paramters()},\n",
    "    {\"params\": model.avg_pool.paramters()},\n",
    "    {\"params\": model.last_linear.parameters(), \"lr\": 3e-5}\n",
    "], lr=3e-5*0.001,\n",
    "\n",
    "import torch"
   ]
  },
  {
   "cell_type": "code",
   "execution_count": 72,
   "metadata": {
    "ExecuteTime": {
     "end_time": "2019-03-07T17:03:57.305823Z",
     "start_time": "2019-03-07T17:03:57.302921Z"
    },
    "scrolled": false
   },
   "outputs": [],
   "source": [
    "blocks = list(model.children())\n",
    "head = torch.nn.Sequential(*list(blocks[0].children())[:-1])\n",
    "model._modules['layer0'] = head\n",
    "model._modules['last_linear'] = torch.nn.Linear(in_features=2048, out_features=1, bias=True)"
   ]
  },
  {
   "cell_type": "code",
   "execution_count": 73,
   "metadata": {
    "ExecuteTime": {
     "end_time": "2019-03-07T17:04:07.353246Z",
     "start_time": "2019-03-07T17:04:07.350938Z"
    },
    "scrolled": true
   },
   "outputs": [
    {
     "data": {
      "text/plain": [
       "<generator object Module.parameters at 0x7f931037b750>"
      ]
     },
     "execution_count": 73,
     "metadata": {},
     "output_type": "execute_result"
    }
   ],
   "source": [
    "head.parameters()\n",
    "#for block in blocks:\n",
    "#    print(block)\n",
    "#    print('*'*100)"
   ]
  },
  {
   "cell_type": "code",
   "execution_count": 15,
   "metadata": {
    "ExecuteTime": {
     "end_time": "2019-03-06T19:04:20.295907Z",
     "start_time": "2019-03-06T19:04:20.293625Z"
    }
   },
   "outputs": [],
   "source": [
    "\n"
   ]
  },
  {
   "cell_type": "code",
   "execution_count": 84,
   "metadata": {
    "ExecuteTime": {
     "end_time": "2019-03-06T18:40:10.089244Z",
     "start_time": "2019-03-06T18:40:10.083820Z"
    }
   },
   "outputs": [],
   "source": [
    "#blocks[0] = head"
   ]
  },
  {
   "cell_type": "code",
   "execution_count": 85,
   "metadata": {
    "ExecuteTime": {
     "end_time": "2019-03-06T18:40:11.163991Z",
     "start_time": "2019-03-06T18:40:11.156193Z"
    }
   },
   "outputs": [],
   "source": [
    "#blocks[-1] = torch.nn.Linear(in_features=2048, out_features=1, bias=True)"
   ]
  },
  {
   "cell_type": "code",
   "execution_count": 94,
   "metadata": {
    "ExecuteTime": {
     "end_time": "2019-03-06T18:41:12.150285Z",
     "start_time": "2019-03-06T18:41:12.146092Z"
    }
   },
   "outputs": [],
   "source": [
    "#model = torch.nn.Sequential(*blocks)"
   ]
  },
  {
   "cell_type": "code",
   "execution_count": 104,
   "metadata": {
    "ExecuteTime": {
     "end_time": "2019-03-06T18:46:13.511573Z",
     "start_time": "2019-03-06T18:46:13.505311Z"
    },
    "scrolled": true
   },
   "outputs": [
    {
     "data": {
      "text/plain": [
       "OrderedDict([('layer0', Sequential(\n",
       "                (conv1): Conv2d(3, 64, kernel_size=(7, 7), stride=(2, 2), padding=(3, 3), bias=False)\n",
       "                (bn1): BatchNorm2d(64, eps=1e-05, momentum=0.1, affine=True, track_running_stats=True)\n",
       "                (relu1): ReLU(inplace)\n",
       "                (pool): MaxPool2d(kernel_size=3, stride=2, padding=0, dilation=1, ceil_mode=True)\n",
       "              )), ('layer1', Sequential(\n",
       "                (0): SEResNetBottleneck(\n",
       "                  (conv1): Conv2d(64, 64, kernel_size=(1, 1), stride=(1, 1), bias=False)\n",
       "                  (bn1): BatchNorm2d(64, eps=1e-05, momentum=0.1, affine=True, track_running_stats=True)\n",
       "                  (conv2): Conv2d(64, 64, kernel_size=(3, 3), stride=(1, 1), padding=(1, 1), bias=False)\n",
       "                  (bn2): BatchNorm2d(64, eps=1e-05, momentum=0.1, affine=True, track_running_stats=True)\n",
       "                  (conv3): Conv2d(64, 256, kernel_size=(1, 1), stride=(1, 1), bias=False)\n",
       "                  (bn3): BatchNorm2d(256, eps=1e-05, momentum=0.1, affine=True, track_running_stats=True)\n",
       "                  (relu): ReLU(inplace)\n",
       "                  (se_module): SEModule(\n",
       "                    (avg_pool): AdaptiveAvgPool2d(output_size=1)\n",
       "                    (fc1): Conv2d(256, 16, kernel_size=(1, 1), stride=(1, 1))\n",
       "                    (relu): ReLU(inplace)\n",
       "                    (fc2): Conv2d(16, 256, kernel_size=(1, 1), stride=(1, 1))\n",
       "                    (sigmoid): Sigmoid()\n",
       "                  )\n",
       "                  (downsample): Sequential(\n",
       "                    (0): Conv2d(64, 256, kernel_size=(1, 1), stride=(1, 1), bias=False)\n",
       "                    (1): BatchNorm2d(256, eps=1e-05, momentum=0.1, affine=True, track_running_stats=True)\n",
       "                  )\n",
       "                )\n",
       "                (1): SEResNetBottleneck(\n",
       "                  (conv1): Conv2d(256, 64, kernel_size=(1, 1), stride=(1, 1), bias=False)\n",
       "                  (bn1): BatchNorm2d(64, eps=1e-05, momentum=0.1, affine=True, track_running_stats=True)\n",
       "                  (conv2): Conv2d(64, 64, kernel_size=(3, 3), stride=(1, 1), padding=(1, 1), bias=False)\n",
       "                  (bn2): BatchNorm2d(64, eps=1e-05, momentum=0.1, affine=True, track_running_stats=True)\n",
       "                  (conv3): Conv2d(64, 256, kernel_size=(1, 1), stride=(1, 1), bias=False)\n",
       "                  (bn3): BatchNorm2d(256, eps=1e-05, momentum=0.1, affine=True, track_running_stats=True)\n",
       "                  (relu): ReLU(inplace)\n",
       "                  (se_module): SEModule(\n",
       "                    (avg_pool): AdaptiveAvgPool2d(output_size=1)\n",
       "                    (fc1): Conv2d(256, 16, kernel_size=(1, 1), stride=(1, 1))\n",
       "                    (relu): ReLU(inplace)\n",
       "                    (fc2): Conv2d(16, 256, kernel_size=(1, 1), stride=(1, 1))\n",
       "                    (sigmoid): Sigmoid()\n",
       "                  )\n",
       "                )\n",
       "                (2): SEResNetBottleneck(\n",
       "                  (conv1): Conv2d(256, 64, kernel_size=(1, 1), stride=(1, 1), bias=False)\n",
       "                  (bn1): BatchNorm2d(64, eps=1e-05, momentum=0.1, affine=True, track_running_stats=True)\n",
       "                  (conv2): Conv2d(64, 64, kernel_size=(3, 3), stride=(1, 1), padding=(1, 1), bias=False)\n",
       "                  (bn2): BatchNorm2d(64, eps=1e-05, momentum=0.1, affine=True, track_running_stats=True)\n",
       "                  (conv3): Conv2d(64, 256, kernel_size=(1, 1), stride=(1, 1), bias=False)\n",
       "                  (bn3): BatchNorm2d(256, eps=1e-05, momentum=0.1, affine=True, track_running_stats=True)\n",
       "                  (relu): ReLU(inplace)\n",
       "                  (se_module): SEModule(\n",
       "                    (avg_pool): AdaptiveAvgPool2d(output_size=1)\n",
       "                    (fc1): Conv2d(256, 16, kernel_size=(1, 1), stride=(1, 1))\n",
       "                    (relu): ReLU(inplace)\n",
       "                    (fc2): Conv2d(16, 256, kernel_size=(1, 1), stride=(1, 1))\n",
       "                    (sigmoid): Sigmoid()\n",
       "                  )\n",
       "                )\n",
       "              )), ('layer2', Sequential(\n",
       "                (0): SEResNetBottleneck(\n",
       "                  (conv1): Conv2d(256, 128, kernel_size=(1, 1), stride=(2, 2), bias=False)\n",
       "                  (bn1): BatchNorm2d(128, eps=1e-05, momentum=0.1, affine=True, track_running_stats=True)\n",
       "                  (conv2): Conv2d(128, 128, kernel_size=(3, 3), stride=(1, 1), padding=(1, 1), bias=False)\n",
       "                  (bn2): BatchNorm2d(128, eps=1e-05, momentum=0.1, affine=True, track_running_stats=True)\n",
       "                  (conv3): Conv2d(128, 512, kernel_size=(1, 1), stride=(1, 1), bias=False)\n",
       "                  (bn3): BatchNorm2d(512, eps=1e-05, momentum=0.1, affine=True, track_running_stats=True)\n",
       "                  (relu): ReLU(inplace)\n",
       "                  (se_module): SEModule(\n",
       "                    (avg_pool): AdaptiveAvgPool2d(output_size=1)\n",
       "                    (fc1): Conv2d(512, 32, kernel_size=(1, 1), stride=(1, 1))\n",
       "                    (relu): ReLU(inplace)\n",
       "                    (fc2): Conv2d(32, 512, kernel_size=(1, 1), stride=(1, 1))\n",
       "                    (sigmoid): Sigmoid()\n",
       "                  )\n",
       "                  (downsample): Sequential(\n",
       "                    (0): Conv2d(256, 512, kernel_size=(1, 1), stride=(2, 2), bias=False)\n",
       "                    (1): BatchNorm2d(512, eps=1e-05, momentum=0.1, affine=True, track_running_stats=True)\n",
       "                  )\n",
       "                )\n",
       "                (1): SEResNetBottleneck(\n",
       "                  (conv1): Conv2d(512, 128, kernel_size=(1, 1), stride=(1, 1), bias=False)\n",
       "                  (bn1): BatchNorm2d(128, eps=1e-05, momentum=0.1, affine=True, track_running_stats=True)\n",
       "                  (conv2): Conv2d(128, 128, kernel_size=(3, 3), stride=(1, 1), padding=(1, 1), bias=False)\n",
       "                  (bn2): BatchNorm2d(128, eps=1e-05, momentum=0.1, affine=True, track_running_stats=True)\n",
       "                  (conv3): Conv2d(128, 512, kernel_size=(1, 1), stride=(1, 1), bias=False)\n",
       "                  (bn3): BatchNorm2d(512, eps=1e-05, momentum=0.1, affine=True, track_running_stats=True)\n",
       "                  (relu): ReLU(inplace)\n",
       "                  (se_module): SEModule(\n",
       "                    (avg_pool): AdaptiveAvgPool2d(output_size=1)\n",
       "                    (fc1): Conv2d(512, 32, kernel_size=(1, 1), stride=(1, 1))\n",
       "                    (relu): ReLU(inplace)\n",
       "                    (fc2): Conv2d(32, 512, kernel_size=(1, 1), stride=(1, 1))\n",
       "                    (sigmoid): Sigmoid()\n",
       "                  )\n",
       "                )\n",
       "                (2): SEResNetBottleneck(\n",
       "                  (conv1): Conv2d(512, 128, kernel_size=(1, 1), stride=(1, 1), bias=False)\n",
       "                  (bn1): BatchNorm2d(128, eps=1e-05, momentum=0.1, affine=True, track_running_stats=True)\n",
       "                  (conv2): Conv2d(128, 128, kernel_size=(3, 3), stride=(1, 1), padding=(1, 1), bias=False)\n",
       "                  (bn2): BatchNorm2d(128, eps=1e-05, momentum=0.1, affine=True, track_running_stats=True)\n",
       "                  (conv3): Conv2d(128, 512, kernel_size=(1, 1), stride=(1, 1), bias=False)\n",
       "                  (bn3): BatchNorm2d(512, eps=1e-05, momentum=0.1, affine=True, track_running_stats=True)\n",
       "                  (relu): ReLU(inplace)\n",
       "                  (se_module): SEModule(\n",
       "                    (avg_pool): AdaptiveAvgPool2d(output_size=1)\n",
       "                    (fc1): Conv2d(512, 32, kernel_size=(1, 1), stride=(1, 1))\n",
       "                    (relu): ReLU(inplace)\n",
       "                    (fc2): Conv2d(32, 512, kernel_size=(1, 1), stride=(1, 1))\n",
       "                    (sigmoid): Sigmoid()\n",
       "                  )\n",
       "                )\n",
       "                (3): SEResNetBottleneck(\n",
       "                  (conv1): Conv2d(512, 128, kernel_size=(1, 1), stride=(1, 1), bias=False)\n",
       "                  (bn1): BatchNorm2d(128, eps=1e-05, momentum=0.1, affine=True, track_running_stats=True)\n",
       "                  (conv2): Conv2d(128, 128, kernel_size=(3, 3), stride=(1, 1), padding=(1, 1), bias=False)\n",
       "                  (bn2): BatchNorm2d(128, eps=1e-05, momentum=0.1, affine=True, track_running_stats=True)\n",
       "                  (conv3): Conv2d(128, 512, kernel_size=(1, 1), stride=(1, 1), bias=False)\n",
       "                  (bn3): BatchNorm2d(512, eps=1e-05, momentum=0.1, affine=True, track_running_stats=True)\n",
       "                  (relu): ReLU(inplace)\n",
       "                  (se_module): SEModule(\n",
       "                    (avg_pool): AdaptiveAvgPool2d(output_size=1)\n",
       "                    (fc1): Conv2d(512, 32, kernel_size=(1, 1), stride=(1, 1))\n",
       "                    (relu): ReLU(inplace)\n",
       "                    (fc2): Conv2d(32, 512, kernel_size=(1, 1), stride=(1, 1))\n",
       "                    (sigmoid): Sigmoid()\n",
       "                  )\n",
       "                )\n",
       "              )), ('layer3', Sequential(\n",
       "                (0): SEResNetBottleneck(\n",
       "                  (conv1): Conv2d(512, 256, kernel_size=(1, 1), stride=(2, 2), bias=False)\n",
       "                  (bn1): BatchNorm2d(256, eps=1e-05, momentum=0.1, affine=True, track_running_stats=True)\n",
       "                  (conv2): Conv2d(256, 256, kernel_size=(3, 3), stride=(1, 1), padding=(1, 1), bias=False)\n",
       "                  (bn2): BatchNorm2d(256, eps=1e-05, momentum=0.1, affine=True, track_running_stats=True)\n",
       "                  (conv3): Conv2d(256, 1024, kernel_size=(1, 1), stride=(1, 1), bias=False)\n",
       "                  (bn3): BatchNorm2d(1024, eps=1e-05, momentum=0.1, affine=True, track_running_stats=True)\n",
       "                  (relu): ReLU(inplace)\n",
       "                  (se_module): SEModule(\n",
       "                    (avg_pool): AdaptiveAvgPool2d(output_size=1)\n",
       "                    (fc1): Conv2d(1024, 64, kernel_size=(1, 1), stride=(1, 1))\n",
       "                    (relu): ReLU(inplace)\n",
       "                    (fc2): Conv2d(64, 1024, kernel_size=(1, 1), stride=(1, 1))\n",
       "                    (sigmoid): Sigmoid()\n",
       "                  )\n",
       "                  (downsample): Sequential(\n",
       "                    (0): Conv2d(512, 1024, kernel_size=(1, 1), stride=(2, 2), bias=False)\n",
       "                    (1): BatchNorm2d(1024, eps=1e-05, momentum=0.1, affine=True, track_running_stats=True)\n",
       "                  )\n",
       "                )\n",
       "                (1): SEResNetBottleneck(\n",
       "                  (conv1): Conv2d(1024, 256, kernel_size=(1, 1), stride=(1, 1), bias=False)\n",
       "                  (bn1): BatchNorm2d(256, eps=1e-05, momentum=0.1, affine=True, track_running_stats=True)\n",
       "                  (conv2): Conv2d(256, 256, kernel_size=(3, 3), stride=(1, 1), padding=(1, 1), bias=False)\n",
       "                  (bn2): BatchNorm2d(256, eps=1e-05, momentum=0.1, affine=True, track_running_stats=True)\n",
       "                  (conv3): Conv2d(256, 1024, kernel_size=(1, 1), stride=(1, 1), bias=False)\n",
       "                  (bn3): BatchNorm2d(1024, eps=1e-05, momentum=0.1, affine=True, track_running_stats=True)\n",
       "                  (relu): ReLU(inplace)\n",
       "                  (se_module): SEModule(\n",
       "                    (avg_pool): AdaptiveAvgPool2d(output_size=1)\n",
       "                    (fc1): Conv2d(1024, 64, kernel_size=(1, 1), stride=(1, 1))\n",
       "                    (relu): ReLU(inplace)\n",
       "                    (fc2): Conv2d(64, 1024, kernel_size=(1, 1), stride=(1, 1))\n",
       "                    (sigmoid): Sigmoid()\n",
       "                  )\n",
       "                )\n",
       "                (2): SEResNetBottleneck(\n",
       "                  (conv1): Conv2d(1024, 256, kernel_size=(1, 1), stride=(1, 1), bias=False)\n",
       "                  (bn1): BatchNorm2d(256, eps=1e-05, momentum=0.1, affine=True, track_running_stats=True)\n",
       "                  (conv2): Conv2d(256, 256, kernel_size=(3, 3), stride=(1, 1), padding=(1, 1), bias=False)\n",
       "                  (bn2): BatchNorm2d(256, eps=1e-05, momentum=0.1, affine=True, track_running_stats=True)\n",
       "                  (conv3): Conv2d(256, 1024, kernel_size=(1, 1), stride=(1, 1), bias=False)\n",
       "                  (bn3): BatchNorm2d(1024, eps=1e-05, momentum=0.1, affine=True, track_running_stats=True)\n",
       "                  (relu): ReLU(inplace)\n",
       "                  (se_module): SEModule(\n",
       "                    (avg_pool): AdaptiveAvgPool2d(output_size=1)\n",
       "                    (fc1): Conv2d(1024, 64, kernel_size=(1, 1), stride=(1, 1))\n",
       "                    (relu): ReLU(inplace)\n",
       "                    (fc2): Conv2d(64, 1024, kernel_size=(1, 1), stride=(1, 1))\n",
       "                    (sigmoid): Sigmoid()\n",
       "                  )\n",
       "                )\n",
       "                (3): SEResNetBottleneck(\n",
       "                  (conv1): Conv2d(1024, 256, kernel_size=(1, 1), stride=(1, 1), bias=False)\n",
       "                  (bn1): BatchNorm2d(256, eps=1e-05, momentum=0.1, affine=True, track_running_stats=True)\n",
       "                  (conv2): Conv2d(256, 256, kernel_size=(3, 3), stride=(1, 1), padding=(1, 1), bias=False)\n",
       "                  (bn2): BatchNorm2d(256, eps=1e-05, momentum=0.1, affine=True, track_running_stats=True)\n",
       "                  (conv3): Conv2d(256, 1024, kernel_size=(1, 1), stride=(1, 1), bias=False)\n",
       "                  (bn3): BatchNorm2d(1024, eps=1e-05, momentum=0.1, affine=True, track_running_stats=True)\n",
       "                  (relu): ReLU(inplace)\n",
       "                  (se_module): SEModule(\n",
       "                    (avg_pool): AdaptiveAvgPool2d(output_size=1)\n",
       "                    (fc1): Conv2d(1024, 64, kernel_size=(1, 1), stride=(1, 1))\n",
       "                    (relu): ReLU(inplace)\n",
       "                    (fc2): Conv2d(64, 1024, kernel_size=(1, 1), stride=(1, 1))\n",
       "                    (sigmoid): Sigmoid()\n",
       "                  )\n",
       "                )\n",
       "                (4): SEResNetBottleneck(\n",
       "                  (conv1): Conv2d(1024, 256, kernel_size=(1, 1), stride=(1, 1), bias=False)\n",
       "                  (bn1): BatchNorm2d(256, eps=1e-05, momentum=0.1, affine=True, track_running_stats=True)\n",
       "                  (conv2): Conv2d(256, 256, kernel_size=(3, 3), stride=(1, 1), padding=(1, 1), bias=False)\n",
       "                  (bn2): BatchNorm2d(256, eps=1e-05, momentum=0.1, affine=True, track_running_stats=True)\n",
       "                  (conv3): Conv2d(256, 1024, kernel_size=(1, 1), stride=(1, 1), bias=False)\n",
       "                  (bn3): BatchNorm2d(1024, eps=1e-05, momentum=0.1, affine=True, track_running_stats=True)\n",
       "                  (relu): ReLU(inplace)\n",
       "                  (se_module): SEModule(\n",
       "                    (avg_pool): AdaptiveAvgPool2d(output_size=1)\n",
       "                    (fc1): Conv2d(1024, 64, kernel_size=(1, 1), stride=(1, 1))\n",
       "                    (relu): ReLU(inplace)\n",
       "                    (fc2): Conv2d(64, 1024, kernel_size=(1, 1), stride=(1, 1))\n",
       "                    (sigmoid): Sigmoid()\n",
       "                  )\n",
       "                )\n",
       "                (5): SEResNetBottleneck(\n",
       "                  (conv1): Conv2d(1024, 256, kernel_size=(1, 1), stride=(1, 1), bias=False)\n",
       "                  (bn1): BatchNorm2d(256, eps=1e-05, momentum=0.1, affine=True, track_running_stats=True)\n",
       "                  (conv2): Conv2d(256, 256, kernel_size=(3, 3), stride=(1, 1), padding=(1, 1), bias=False)\n",
       "                  (bn2): BatchNorm2d(256, eps=1e-05, momentum=0.1, affine=True, track_running_stats=True)\n",
       "                  (conv3): Conv2d(256, 1024, kernel_size=(1, 1), stride=(1, 1), bias=False)\n",
       "                  (bn3): BatchNorm2d(1024, eps=1e-05, momentum=0.1, affine=True, track_running_stats=True)\n",
       "                  (relu): ReLU(inplace)\n",
       "                  (se_module): SEModule(\n",
       "                    (avg_pool): AdaptiveAvgPool2d(output_size=1)\n",
       "                    (fc1): Conv2d(1024, 64, kernel_size=(1, 1), stride=(1, 1))\n",
       "                    (relu): ReLU(inplace)\n",
       "                    (fc2): Conv2d(64, 1024, kernel_size=(1, 1), stride=(1, 1))\n",
       "                    (sigmoid): Sigmoid()\n",
       "                  )\n",
       "                )\n",
       "              )), ('layer4', Sequential(\n",
       "                (0): SEResNetBottleneck(\n",
       "                  (conv1): Conv2d(1024, 512, kernel_size=(1, 1), stride=(2, 2), bias=False)\n",
       "                  (bn1): BatchNorm2d(512, eps=1e-05, momentum=0.1, affine=True, track_running_stats=True)\n",
       "                  (conv2): Conv2d(512, 512, kernel_size=(3, 3), stride=(1, 1), padding=(1, 1), bias=False)\n",
       "                  (bn2): BatchNorm2d(512, eps=1e-05, momentum=0.1, affine=True, track_running_stats=True)\n",
       "                  (conv3): Conv2d(512, 2048, kernel_size=(1, 1), stride=(1, 1), bias=False)\n",
       "                  (bn3): BatchNorm2d(2048, eps=1e-05, momentum=0.1, affine=True, track_running_stats=True)\n",
       "                  (relu): ReLU(inplace)\n",
       "                  (se_module): SEModule(\n",
       "                    (avg_pool): AdaptiveAvgPool2d(output_size=1)\n",
       "                    (fc1): Conv2d(2048, 128, kernel_size=(1, 1), stride=(1, 1))\n",
       "                    (relu): ReLU(inplace)\n",
       "                    (fc2): Conv2d(128, 2048, kernel_size=(1, 1), stride=(1, 1))\n",
       "                    (sigmoid): Sigmoid()\n",
       "                  )\n",
       "                  (downsample): Sequential(\n",
       "                    (0): Conv2d(1024, 2048, kernel_size=(1, 1), stride=(2, 2), bias=False)\n",
       "                    (1): BatchNorm2d(2048, eps=1e-05, momentum=0.1, affine=True, track_running_stats=True)\n",
       "                  )\n",
       "                )\n",
       "                (1): SEResNetBottleneck(\n",
       "                  (conv1): Conv2d(2048, 512, kernel_size=(1, 1), stride=(1, 1), bias=False)\n",
       "                  (bn1): BatchNorm2d(512, eps=1e-05, momentum=0.1, affine=True, track_running_stats=True)\n",
       "                  (conv2): Conv2d(512, 512, kernel_size=(3, 3), stride=(1, 1), padding=(1, 1), bias=False)\n",
       "                  (bn2): BatchNorm2d(512, eps=1e-05, momentum=0.1, affine=True, track_running_stats=True)\n",
       "                  (conv3): Conv2d(512, 2048, kernel_size=(1, 1), stride=(1, 1), bias=False)\n",
       "                  (bn3): BatchNorm2d(2048, eps=1e-05, momentum=0.1, affine=True, track_running_stats=True)\n",
       "                  (relu): ReLU(inplace)\n",
       "                  (se_module): SEModule(\n",
       "                    (avg_pool): AdaptiveAvgPool2d(output_size=1)\n",
       "                    (fc1): Conv2d(2048, 128, kernel_size=(1, 1), stride=(1, 1))\n",
       "                    (relu): ReLU(inplace)\n",
       "                    (fc2): Conv2d(128, 2048, kernel_size=(1, 1), stride=(1, 1))\n",
       "                    (sigmoid): Sigmoid()\n",
       "                  )\n",
       "                )\n",
       "                (2): SEResNetBottleneck(\n",
       "                  (conv1): Conv2d(2048, 512, kernel_size=(1, 1), stride=(1, 1), bias=False)\n",
       "                  (bn1): BatchNorm2d(512, eps=1e-05, momentum=0.1, affine=True, track_running_stats=True)\n",
       "                  (conv2): Conv2d(512, 512, kernel_size=(3, 3), stride=(1, 1), padding=(1, 1), bias=False)\n",
       "                  (bn2): BatchNorm2d(512, eps=1e-05, momentum=0.1, affine=True, track_running_stats=True)\n",
       "                  (conv3): Conv2d(512, 2048, kernel_size=(1, 1), stride=(1, 1), bias=False)\n",
       "                  (bn3): BatchNorm2d(2048, eps=1e-05, momentum=0.1, affine=True, track_running_stats=True)\n",
       "                  (relu): ReLU(inplace)\n",
       "                  (se_module): SEModule(\n",
       "                    (avg_pool): AdaptiveAvgPool2d(output_size=1)\n",
       "                    (fc1): Conv2d(2048, 128, kernel_size=(1, 1), stride=(1, 1))\n",
       "                    (relu): ReLU(inplace)\n",
       "                    (fc2): Conv2d(128, 2048, kernel_size=(1, 1), stride=(1, 1))\n",
       "                    (sigmoid): Sigmoid()\n",
       "                  )\n",
       "                )\n",
       "              )), ('avg_pool',\n",
       "              AvgPool2d(kernel_size=7, stride=1, padding=0)), ('last_linear',\n",
       "              Linear(in_features=2048, out_features=1, bias=True))])"
      ]
     },
     "execution_count": 104,
     "metadata": {},
     "output_type": "execute_result"
    }
   ],
   "source": [
    "#model._modules"
   ]
  },
  {
   "cell_type": "code",
   "execution_count": 16,
   "metadata": {
    "ExecuteTime": {
     "end_time": "2019-03-06T19:04:34.870216Z",
     "start_time": "2019-03-06T19:04:34.866501Z"
    }
   },
   "outputs": [],
   "source": [
    "#img = torch.Tensor(1, 3, 224, 224)#.to('cuda')\n",
    "img = torch.Tensor(1, 3, 112, 112)"
   ]
  },
  {
   "cell_type": "code",
   "execution_count": 17,
   "metadata": {
    "ExecuteTime": {
     "end_time": "2019-03-06T19:04:36.094326Z",
     "start_time": "2019-03-06T19:04:35.987122Z"
    }
   },
   "outputs": [
    {
     "name": "stdout",
     "output_type": "stream",
     "text": [
      "tensor([[0.1972]], grad_fn=<AddmmBackward>)\n"
     ]
    }
   ],
   "source": [
    "out = model(img)\n",
    "\n",
    "print(out)"
   ]
  },
  {
   "cell_type": "code",
   "execution_count": 19,
   "metadata": {
    "ExecuteTime": {
     "end_time": "2019-03-06T19:04:48.828724Z",
     "start_time": "2019-03-06T19:04:48.825923Z"
    }
   },
   "outputs": [],
   "source": [
    "# x = None\n",
    "# for param in model.children():\n",
    "    \n",
    "#     print(param)\n",
    "#     if x is None:\n",
    "#         x = param(img)\n",
    "#     else:\n",
    "#         x = param(x)\n",
    "#     print(x.shape)"
   ]
  },
  {
   "cell_type": "code",
   "execution_count": 14,
   "metadata": {
    "ExecuteTime": {
     "end_time": "2019-03-07T03:31:37.191630Z",
     "start_time": "2019-03-07T03:31:36.988411Z"
    }
   },
   "outputs": [
    {
     "name": "stdout",
     "output_type": "stream",
     "text": [
      "----------------------------------------------------------------\n",
      "        Layer (type)               Output Shape         Param #\n",
      "================================================================\n",
      "            Conv2d-1           [-1, 64, 56, 56]           9,408\n",
      "       BatchNorm2d-2           [-1, 64, 56, 56]             128\n",
      "              ReLU-3           [-1, 64, 56, 56]               0\n",
      "            Conv2d-4          [-1, 128, 56, 56]           8,192\n",
      "       BatchNorm2d-5          [-1, 128, 56, 56]             256\n",
      "              ReLU-6          [-1, 128, 56, 56]               0\n",
      "            Conv2d-7          [-1, 128, 56, 56]           4,608\n",
      "       BatchNorm2d-8          [-1, 128, 56, 56]             256\n",
      "              ReLU-9          [-1, 128, 56, 56]               0\n",
      "           Conv2d-10          [-1, 256, 56, 56]          32,768\n",
      "      BatchNorm2d-11          [-1, 256, 56, 56]             512\n",
      "           Conv2d-12          [-1, 256, 56, 56]          16,384\n",
      "      BatchNorm2d-13          [-1, 256, 56, 56]             512\n",
      "AdaptiveAvgPool2d-14            [-1, 256, 1, 1]               0\n",
      "           Conv2d-15             [-1, 16, 1, 1]           4,112\n",
      "             ReLU-16             [-1, 16, 1, 1]               0\n",
      "           Conv2d-17            [-1, 256, 1, 1]           4,352\n",
      "          Sigmoid-18            [-1, 256, 1, 1]               0\n",
      "         SEModule-19          [-1, 256, 56, 56]               0\n",
      "             ReLU-20          [-1, 256, 56, 56]               0\n",
      "SEResNeXtBottleneck-21          [-1, 256, 56, 56]               0\n",
      "           Conv2d-22          [-1, 128, 56, 56]          32,768\n",
      "      BatchNorm2d-23          [-1, 128, 56, 56]             256\n",
      "             ReLU-24          [-1, 128, 56, 56]               0\n",
      "           Conv2d-25          [-1, 128, 56, 56]           4,608\n",
      "      BatchNorm2d-26          [-1, 128, 56, 56]             256\n",
      "             ReLU-27          [-1, 128, 56, 56]               0\n",
      "           Conv2d-28          [-1, 256, 56, 56]          32,768\n",
      "      BatchNorm2d-29          [-1, 256, 56, 56]             512\n",
      "AdaptiveAvgPool2d-30            [-1, 256, 1, 1]               0\n",
      "           Conv2d-31             [-1, 16, 1, 1]           4,112\n",
      "             ReLU-32             [-1, 16, 1, 1]               0\n",
      "           Conv2d-33            [-1, 256, 1, 1]           4,352\n",
      "          Sigmoid-34            [-1, 256, 1, 1]               0\n",
      "         SEModule-35          [-1, 256, 56, 56]               0\n",
      "             ReLU-36          [-1, 256, 56, 56]               0\n",
      "SEResNeXtBottleneck-37          [-1, 256, 56, 56]               0\n",
      "           Conv2d-38          [-1, 128, 56, 56]          32,768\n",
      "      BatchNorm2d-39          [-1, 128, 56, 56]             256\n",
      "             ReLU-40          [-1, 128, 56, 56]               0\n",
      "           Conv2d-41          [-1, 128, 56, 56]           4,608\n",
      "      BatchNorm2d-42          [-1, 128, 56, 56]             256\n",
      "             ReLU-43          [-1, 128, 56, 56]               0\n",
      "           Conv2d-44          [-1, 256, 56, 56]          32,768\n",
      "      BatchNorm2d-45          [-1, 256, 56, 56]             512\n",
      "AdaptiveAvgPool2d-46            [-1, 256, 1, 1]               0\n",
      "           Conv2d-47             [-1, 16, 1, 1]           4,112\n",
      "             ReLU-48             [-1, 16, 1, 1]               0\n",
      "           Conv2d-49            [-1, 256, 1, 1]           4,352\n",
      "          Sigmoid-50            [-1, 256, 1, 1]               0\n",
      "         SEModule-51          [-1, 256, 56, 56]               0\n",
      "             ReLU-52          [-1, 256, 56, 56]               0\n",
      "SEResNeXtBottleneck-53          [-1, 256, 56, 56]               0\n",
      "           Conv2d-54          [-1, 256, 56, 56]          65,536\n",
      "      BatchNorm2d-55          [-1, 256, 56, 56]             512\n",
      "             ReLU-56          [-1, 256, 56, 56]               0\n",
      "           Conv2d-57          [-1, 256, 28, 28]          18,432\n",
      "      BatchNorm2d-58          [-1, 256, 28, 28]             512\n",
      "             ReLU-59          [-1, 256, 28, 28]               0\n",
      "           Conv2d-60          [-1, 512, 28, 28]         131,072\n",
      "      BatchNorm2d-61          [-1, 512, 28, 28]           1,024\n",
      "           Conv2d-62          [-1, 512, 28, 28]         131,072\n",
      "      BatchNorm2d-63          [-1, 512, 28, 28]           1,024\n",
      "AdaptiveAvgPool2d-64            [-1, 512, 1, 1]               0\n",
      "           Conv2d-65             [-1, 32, 1, 1]          16,416\n",
      "             ReLU-66             [-1, 32, 1, 1]               0\n",
      "           Conv2d-67            [-1, 512, 1, 1]          16,896\n",
      "          Sigmoid-68            [-1, 512, 1, 1]               0\n",
      "         SEModule-69          [-1, 512, 28, 28]               0\n",
      "             ReLU-70          [-1, 512, 28, 28]               0\n",
      "SEResNeXtBottleneck-71          [-1, 512, 28, 28]               0\n",
      "           Conv2d-72          [-1, 256, 28, 28]         131,072\n",
      "      BatchNorm2d-73          [-1, 256, 28, 28]             512\n",
      "             ReLU-74          [-1, 256, 28, 28]               0\n",
      "           Conv2d-75          [-1, 256, 28, 28]          18,432\n",
      "      BatchNorm2d-76          [-1, 256, 28, 28]             512\n",
      "             ReLU-77          [-1, 256, 28, 28]               0\n",
      "           Conv2d-78          [-1, 512, 28, 28]         131,072\n",
      "      BatchNorm2d-79          [-1, 512, 28, 28]           1,024\n",
      "AdaptiveAvgPool2d-80            [-1, 512, 1, 1]               0\n",
      "           Conv2d-81             [-1, 32, 1, 1]          16,416\n",
      "             ReLU-82             [-1, 32, 1, 1]               0\n",
      "           Conv2d-83            [-1, 512, 1, 1]          16,896\n",
      "          Sigmoid-84            [-1, 512, 1, 1]               0\n",
      "         SEModule-85          [-1, 512, 28, 28]               0\n",
      "             ReLU-86          [-1, 512, 28, 28]               0\n",
      "SEResNeXtBottleneck-87          [-1, 512, 28, 28]               0\n",
      "           Conv2d-88          [-1, 256, 28, 28]         131,072\n",
      "      BatchNorm2d-89          [-1, 256, 28, 28]             512\n",
      "             ReLU-90          [-1, 256, 28, 28]               0\n",
      "           Conv2d-91          [-1, 256, 28, 28]          18,432\n",
      "      BatchNorm2d-92          [-1, 256, 28, 28]             512\n",
      "             ReLU-93          [-1, 256, 28, 28]               0\n",
      "           Conv2d-94          [-1, 512, 28, 28]         131,072\n",
      "      BatchNorm2d-95          [-1, 512, 28, 28]           1,024\n",
      "AdaptiveAvgPool2d-96            [-1, 512, 1, 1]               0\n",
      "           Conv2d-97             [-1, 32, 1, 1]          16,416\n",
      "             ReLU-98             [-1, 32, 1, 1]               0\n",
      "           Conv2d-99            [-1, 512, 1, 1]          16,896\n",
      "         Sigmoid-100            [-1, 512, 1, 1]               0\n",
      "        SEModule-101          [-1, 512, 28, 28]               0\n",
      "            ReLU-102          [-1, 512, 28, 28]               0\n",
      "SEResNeXtBottleneck-103          [-1, 512, 28, 28]               0\n",
      "          Conv2d-104          [-1, 256, 28, 28]         131,072\n",
      "     BatchNorm2d-105          [-1, 256, 28, 28]             512\n",
      "            ReLU-106          [-1, 256, 28, 28]               0\n",
      "          Conv2d-107          [-1, 256, 28, 28]          18,432\n",
      "     BatchNorm2d-108          [-1, 256, 28, 28]             512\n",
      "            ReLU-109          [-1, 256, 28, 28]               0\n",
      "          Conv2d-110          [-1, 512, 28, 28]         131,072\n",
      "     BatchNorm2d-111          [-1, 512, 28, 28]           1,024\n",
      "AdaptiveAvgPool2d-112            [-1, 512, 1, 1]               0\n",
      "          Conv2d-113             [-1, 32, 1, 1]          16,416\n",
      "            ReLU-114             [-1, 32, 1, 1]               0\n",
      "          Conv2d-115            [-1, 512, 1, 1]          16,896\n",
      "         Sigmoid-116            [-1, 512, 1, 1]               0\n",
      "        SEModule-117          [-1, 512, 28, 28]               0\n",
      "            ReLU-118          [-1, 512, 28, 28]               0\n",
      "SEResNeXtBottleneck-119          [-1, 512, 28, 28]               0\n",
      "          Conv2d-120          [-1, 512, 28, 28]         262,144\n",
      "     BatchNorm2d-121          [-1, 512, 28, 28]           1,024\n",
      "            ReLU-122          [-1, 512, 28, 28]               0\n",
      "          Conv2d-123          [-1, 512, 14, 14]          73,728\n",
      "     BatchNorm2d-124          [-1, 512, 14, 14]           1,024\n",
      "            ReLU-125          [-1, 512, 14, 14]               0\n",
      "          Conv2d-126         [-1, 1024, 14, 14]         524,288\n",
      "     BatchNorm2d-127         [-1, 1024, 14, 14]           2,048\n",
      "          Conv2d-128         [-1, 1024, 14, 14]         524,288\n",
      "     BatchNorm2d-129         [-1, 1024, 14, 14]           2,048\n",
      "AdaptiveAvgPool2d-130           [-1, 1024, 1, 1]               0\n",
      "          Conv2d-131             [-1, 64, 1, 1]          65,600\n",
      "            ReLU-132             [-1, 64, 1, 1]               0\n",
      "          Conv2d-133           [-1, 1024, 1, 1]          66,560\n",
      "         Sigmoid-134           [-1, 1024, 1, 1]               0\n",
      "        SEModule-135         [-1, 1024, 14, 14]               0\n",
      "            ReLU-136         [-1, 1024, 14, 14]               0\n",
      "SEResNeXtBottleneck-137         [-1, 1024, 14, 14]               0\n",
      "          Conv2d-138          [-1, 512, 14, 14]         524,288\n",
      "     BatchNorm2d-139          [-1, 512, 14, 14]           1,024\n",
      "            ReLU-140          [-1, 512, 14, 14]               0\n",
      "          Conv2d-141          [-1, 512, 14, 14]          73,728\n",
      "     BatchNorm2d-142          [-1, 512, 14, 14]           1,024\n",
      "            ReLU-143          [-1, 512, 14, 14]               0\n",
      "          Conv2d-144         [-1, 1024, 14, 14]         524,288\n",
      "     BatchNorm2d-145         [-1, 1024, 14, 14]           2,048\n",
      "AdaptiveAvgPool2d-146           [-1, 1024, 1, 1]               0\n",
      "          Conv2d-147             [-1, 64, 1, 1]          65,600\n",
      "            ReLU-148             [-1, 64, 1, 1]               0\n",
      "          Conv2d-149           [-1, 1024, 1, 1]          66,560\n",
      "         Sigmoid-150           [-1, 1024, 1, 1]               0\n",
      "        SEModule-151         [-1, 1024, 14, 14]               0\n",
      "            ReLU-152         [-1, 1024, 14, 14]               0\n",
      "SEResNeXtBottleneck-153         [-1, 1024, 14, 14]               0\n",
      "          Conv2d-154          [-1, 512, 14, 14]         524,288\n",
      "     BatchNorm2d-155          [-1, 512, 14, 14]           1,024\n",
      "            ReLU-156          [-1, 512, 14, 14]               0\n",
      "          Conv2d-157          [-1, 512, 14, 14]          73,728\n",
      "     BatchNorm2d-158          [-1, 512, 14, 14]           1,024\n",
      "            ReLU-159          [-1, 512, 14, 14]               0\n",
      "          Conv2d-160         [-1, 1024, 14, 14]         524,288\n",
      "     BatchNorm2d-161         [-1, 1024, 14, 14]           2,048\n",
      "AdaptiveAvgPool2d-162           [-1, 1024, 1, 1]               0\n",
      "          Conv2d-163             [-1, 64, 1, 1]          65,600\n",
      "            ReLU-164             [-1, 64, 1, 1]               0\n",
      "          Conv2d-165           [-1, 1024, 1, 1]          66,560\n",
      "         Sigmoid-166           [-1, 1024, 1, 1]               0\n",
      "        SEModule-167         [-1, 1024, 14, 14]               0\n",
      "            ReLU-168         [-1, 1024, 14, 14]               0\n",
      "SEResNeXtBottleneck-169         [-1, 1024, 14, 14]               0\n",
      "          Conv2d-170          [-1, 512, 14, 14]         524,288\n",
      "     BatchNorm2d-171          [-1, 512, 14, 14]           1,024\n",
      "            ReLU-172          [-1, 512, 14, 14]               0\n",
      "          Conv2d-173          [-1, 512, 14, 14]          73,728\n",
      "     BatchNorm2d-174          [-1, 512, 14, 14]           1,024\n",
      "            ReLU-175          [-1, 512, 14, 14]               0\n",
      "          Conv2d-176         [-1, 1024, 14, 14]         524,288\n",
      "     BatchNorm2d-177         [-1, 1024, 14, 14]           2,048\n",
      "AdaptiveAvgPool2d-178           [-1, 1024, 1, 1]               0\n",
      "          Conv2d-179             [-1, 64, 1, 1]          65,600\n",
      "            ReLU-180             [-1, 64, 1, 1]               0\n",
      "          Conv2d-181           [-1, 1024, 1, 1]          66,560\n",
      "         Sigmoid-182           [-1, 1024, 1, 1]               0\n",
      "        SEModule-183         [-1, 1024, 14, 14]               0\n",
      "            ReLU-184         [-1, 1024, 14, 14]               0\n",
      "SEResNeXtBottleneck-185         [-1, 1024, 14, 14]               0\n",
      "          Conv2d-186          [-1, 512, 14, 14]         524,288\n",
      "     BatchNorm2d-187          [-1, 512, 14, 14]           1,024\n",
      "            ReLU-188          [-1, 512, 14, 14]               0\n",
      "          Conv2d-189          [-1, 512, 14, 14]          73,728\n",
      "     BatchNorm2d-190          [-1, 512, 14, 14]           1,024\n",
      "            ReLU-191          [-1, 512, 14, 14]               0\n",
      "          Conv2d-192         [-1, 1024, 14, 14]         524,288\n",
      "     BatchNorm2d-193         [-1, 1024, 14, 14]           2,048\n",
      "AdaptiveAvgPool2d-194           [-1, 1024, 1, 1]               0\n",
      "          Conv2d-195             [-1, 64, 1, 1]          65,600\n",
      "            ReLU-196             [-1, 64, 1, 1]               0\n",
      "          Conv2d-197           [-1, 1024, 1, 1]          66,560\n",
      "         Sigmoid-198           [-1, 1024, 1, 1]               0\n",
      "        SEModule-199         [-1, 1024, 14, 14]               0\n",
      "            ReLU-200         [-1, 1024, 14, 14]               0\n",
      "SEResNeXtBottleneck-201         [-1, 1024, 14, 14]               0\n",
      "          Conv2d-202          [-1, 512, 14, 14]         524,288\n",
      "     BatchNorm2d-203          [-1, 512, 14, 14]           1,024\n",
      "            ReLU-204          [-1, 512, 14, 14]               0\n",
      "          Conv2d-205          [-1, 512, 14, 14]          73,728\n",
      "     BatchNorm2d-206          [-1, 512, 14, 14]           1,024\n",
      "            ReLU-207          [-1, 512, 14, 14]               0\n",
      "          Conv2d-208         [-1, 1024, 14, 14]         524,288\n",
      "     BatchNorm2d-209         [-1, 1024, 14, 14]           2,048\n",
      "AdaptiveAvgPool2d-210           [-1, 1024, 1, 1]               0\n",
      "          Conv2d-211             [-1, 64, 1, 1]          65,600\n",
      "            ReLU-212             [-1, 64, 1, 1]               0\n",
      "          Conv2d-213           [-1, 1024, 1, 1]          66,560\n",
      "         Sigmoid-214           [-1, 1024, 1, 1]               0\n",
      "        SEModule-215         [-1, 1024, 14, 14]               0\n",
      "            ReLU-216         [-1, 1024, 14, 14]               0\n",
      "SEResNeXtBottleneck-217         [-1, 1024, 14, 14]               0\n",
      "          Conv2d-218         [-1, 1024, 14, 14]       1,048,576\n",
      "     BatchNorm2d-219         [-1, 1024, 14, 14]           2,048\n",
      "            ReLU-220         [-1, 1024, 14, 14]               0\n",
      "          Conv2d-221           [-1, 1024, 7, 7]         294,912\n",
      "     BatchNorm2d-222           [-1, 1024, 7, 7]           2,048\n",
      "            ReLU-223           [-1, 1024, 7, 7]               0\n",
      "          Conv2d-224           [-1, 2048, 7, 7]       2,097,152\n",
      "     BatchNorm2d-225           [-1, 2048, 7, 7]           4,096\n",
      "          Conv2d-226           [-1, 2048, 7, 7]       2,097,152\n",
      "     BatchNorm2d-227           [-1, 2048, 7, 7]           4,096\n",
      "AdaptiveAvgPool2d-228           [-1, 2048, 1, 1]               0\n",
      "          Conv2d-229            [-1, 128, 1, 1]         262,272\n",
      "            ReLU-230            [-1, 128, 1, 1]               0\n",
      "          Conv2d-231           [-1, 2048, 1, 1]         264,192\n",
      "         Sigmoid-232           [-1, 2048, 1, 1]               0\n",
      "        SEModule-233           [-1, 2048, 7, 7]               0\n",
      "            ReLU-234           [-1, 2048, 7, 7]               0\n",
      "SEResNeXtBottleneck-235           [-1, 2048, 7, 7]               0\n",
      "          Conv2d-236           [-1, 1024, 7, 7]       2,097,152\n",
      "     BatchNorm2d-237           [-1, 1024, 7, 7]           2,048\n",
      "            ReLU-238           [-1, 1024, 7, 7]               0\n",
      "          Conv2d-239           [-1, 1024, 7, 7]         294,912\n",
      "     BatchNorm2d-240           [-1, 1024, 7, 7]           2,048\n",
      "            ReLU-241           [-1, 1024, 7, 7]               0\n",
      "          Conv2d-242           [-1, 2048, 7, 7]       2,097,152\n",
      "     BatchNorm2d-243           [-1, 2048, 7, 7]           4,096\n",
      "AdaptiveAvgPool2d-244           [-1, 2048, 1, 1]               0\n",
      "          Conv2d-245            [-1, 128, 1, 1]         262,272\n",
      "            ReLU-246            [-1, 128, 1, 1]               0\n",
      "          Conv2d-247           [-1, 2048, 1, 1]         264,192\n",
      "         Sigmoid-248           [-1, 2048, 1, 1]               0\n",
      "        SEModule-249           [-1, 2048, 7, 7]               0\n",
      "            ReLU-250           [-1, 2048, 7, 7]               0\n",
      "SEResNeXtBottleneck-251           [-1, 2048, 7, 7]               0\n",
      "          Conv2d-252           [-1, 1024, 7, 7]       2,097,152\n",
      "     BatchNorm2d-253           [-1, 1024, 7, 7]           2,048\n",
      "            ReLU-254           [-1, 1024, 7, 7]               0\n",
      "          Conv2d-255           [-1, 1024, 7, 7]         294,912\n",
      "     BatchNorm2d-256           [-1, 1024, 7, 7]           2,048\n",
      "            ReLU-257           [-1, 1024, 7, 7]               0\n",
      "          Conv2d-258           [-1, 2048, 7, 7]       2,097,152\n",
      "     BatchNorm2d-259           [-1, 2048, 7, 7]           4,096\n",
      "AdaptiveAvgPool2d-260           [-1, 2048, 1, 1]               0\n",
      "          Conv2d-261            [-1, 128, 1, 1]         262,272\n",
      "            ReLU-262            [-1, 128, 1, 1]               0\n",
      "          Conv2d-263           [-1, 2048, 1, 1]         264,192\n",
      "         Sigmoid-264           [-1, 2048, 1, 1]               0\n",
      "        SEModule-265           [-1, 2048, 7, 7]               0\n",
      "            ReLU-266           [-1, 2048, 7, 7]               0\n",
      "SEResNeXtBottleneck-267           [-1, 2048, 7, 7]               0\n",
      "       AvgPool2d-268           [-1, 2048, 1, 1]               0\n",
      "          Linear-269                    [-1, 1]           2,049\n",
      "================================================================\n",
      "Total params: 25,512,945\n",
      "Trainable params: 25,512,945\n",
      "Non-trainable params: 0\n",
      "----------------------------------------------------------------\n",
      "Input size (MB): 0.14\n",
      "Forward/backward pass size (MB): 388.93\n",
      "Params size (MB): 97.32\n",
      "Estimated Total Size (MB): 486.40\n",
      "----------------------------------------------------------------\n"
     ]
    }
   ],
   "source": [
    "summary(model, input_size=(3, 112, 112))\n",
    "#summary(model, input_size=(3, 224, 224))"
   ]
  },
  {
   "cell_type": "code",
   "execution_count": 69,
   "metadata": {
    "ExecuteTime": {
     "end_time": "2019-03-07T17:02:41.321554Z",
     "start_time": "2019-03-07T17:02:41.319844Z"
    }
   },
   "outputs": [],
   "source": [
    " \n",
    "from albumentations import *"
   ]
  },
  {
   "cell_type": "code",
   "execution_count": 38,
   "metadata": {
    "ExecuteTime": {
     "end_time": "2019-03-06T19:49:56.133969Z",
     "start_time": "2019-03-06T19:49:56.121591Z"
    }
   },
   "outputs": [],
   "source": [
    "train_aug = Compose([\n",
    "    Resize(224, 224),\n",
    "    RandomRotate90(p=0.5),\n",
    "    Transpose(p=0.5),\n",
    "    Flip(p=0.5),\n",
    "    OneOf([CLAHE(clip_limit=2), IAASharpen(), IAAEmboss(), RandomBrightnessContrast(), JpegCompression(), Blur(), GaussNoise() ], p=0.5), \n",
    "    HueSaturationValue(p=0.5), \n",
    "    ShiftScaleRotate(shift_limit=0.15, scale_limit=0.15, rotate_limit=45, p=0.5),\n",
    "    Normalize(p=1)\n",
    "])\n",
    "val_aug = Compose([\n",
    "    Normalize(p=1)\n",
    "])\n"
   ]
  },
  {
   "cell_type": "code",
   "execution_count": 30,
   "metadata": {
    "ExecuteTime": {
     "end_time": "2019-03-06T19:31:03.163990Z",
     "start_time": "2019-03-06T19:31:03.157942Z"
    }
   },
   "outputs": [],
   "source": [
    "ShiftScaleRotate?"
   ]
  },
  {
   "cell_type": "code",
   "execution_count": 32,
   "metadata": {
    "ExecuteTime": {
     "end_time": "2019-03-06T19:44:45.537627Z",
     "start_time": "2019-03-06T19:44:45.529612Z"
    }
   },
   "outputs": [],
   "source": [
    "Normalize?"
   ]
  },
  {
   "cell_type": "code",
   "execution_count": 40,
   "metadata": {
    "ExecuteTime": {
     "end_time": "2019-03-06T19:53:46.931709Z",
     "start_time": "2019-03-06T19:53:46.926445Z"
    }
   },
   "outputs": [],
   "source": [
    "train_aug?"
   ]
  },
  {
   "cell_type": "code",
   "execution_count": null,
   "metadata": {},
   "outputs": [],
   "source": []
  },
  {
   "cell_type": "code",
   "execution_count": null,
   "metadata": {},
   "outputs": [],
   "source": []
  },
  {
   "cell_type": "code",
   "execution_count": null,
   "metadata": {},
   "outputs": [],
   "source": []
  },
  {
   "cell_type": "code",
   "execution_count": null,
   "metadata": {},
   "outputs": [],
   "source": []
  },
  {
   "cell_type": "markdown",
   "metadata": {},
   "source": [
    "##### AUC ROC"
   ]
  },
  {
   "cell_type": "code",
   "execution_count": 1,
   "metadata": {
    "ExecuteTime": {
     "end_time": "2019-03-07T13:58:43.783668Z",
     "start_time": "2019-03-07T13:58:43.187469Z"
    }
   },
   "outputs": [],
   "source": [
    "# roc curve and auc\n",
    "from sklearn.datasets import make_classification\n",
    "from sklearn.neighbors import KNeighborsClassifier\n",
    "from sklearn.model_selection import train_test_split\n",
    "from sklearn.metrics import roc_curve\n",
    "from sklearn.metrics import roc_auc_score\n",
    "from matplotlib import pyplot\n",
    "# generate 2 class dataset\n",
    "X, y = make_classification(n_samples=1000, n_classes=2, weights=[1,1], random_state=1)\n",
    "# split into train/test sets\n",
    "trainX, testX, trainy, testy = train_test_split(X, y, test_size=0.5, random_state=2)\n",
    "# fit a model\n",
    "model = KNeighborsClassifier(n_neighbors=3)\n",
    "model.fit(trainX, trainy)\n",
    "# predict probabilities\n",
    "probs = model.predict_proba(testX)\n",
    "# keep probabilities for the positive outcome only\n",
    "probs = probs[:, 1]\n"
   ]
  },
  {
   "cell_type": "code",
   "execution_count": 6,
   "metadata": {
    "ExecuteTime": {
     "end_time": "2019-03-07T13:59:41.873979Z",
     "start_time": "2019-03-07T13:59:41.871241Z"
    }
   },
   "outputs": [
    {
     "data": {
      "text/plain": [
       "((500,), (500,))"
      ]
     },
     "execution_count": 6,
     "metadata": {},
     "output_type": "execute_result"
    }
   ],
   "source": [
    "testy.shape, probs.shape"
   ]
  },
  {
   "cell_type": "code",
   "execution_count": 8,
   "metadata": {
    "ExecuteTime": {
     "end_time": "2019-03-07T14:01:21.213972Z",
     "start_time": "2019-03-07T14:01:21.211094Z"
    }
   },
   "outputs": [
    {
     "data": {
      "text/plain": [
       "(array([0.        , 0.05426357, 0.21705426, 0.40697674, 1.        ]),\n",
       " array([0.        , 0.56198347, 0.88429752, 0.97520661, 1.        ]),\n",
       " array([2.        , 1.        , 0.66666667, 0.33333333, 0.        ]))"
      ]
     },
     "execution_count": 8,
     "metadata": {},
     "output_type": "execute_result"
    }
   ],
   "source": [
    "fpr, tpr, thresholds"
   ]
  },
  {
   "cell_type": "code",
   "execution_count": 9,
   "metadata": {
    "ExecuteTime": {
     "end_time": "2019-03-07T15:51:18.837473Z",
     "start_time": "2019-03-07T15:51:18.741932Z"
    }
   },
   "outputs": [
    {
     "name": "stdout",
     "output_type": "stream",
     "text": [
      "AUC: 0.895\n"
     ]
    },
    {
     "data": {
      "image/png": "[encoded data removed]",
      "text/plain": [
       "<Figure size 432x288 with 1 Axes>"
      ]
     },
     "metadata": {
      "needs_background": "light"
     },
     "output_type": "display_data"
    }
   ],
   "source": [
    "# calculate AUC\n",
    "auc = roc_auc_score(testy, probs)\n",
    "print('AUC: %.3f' % auc)\n",
    "# calculate roc curve\n",
    "fpr, tpr, thresholds = roc_curve(testy, probs)\n",
    "# plot no skill\n",
    "pyplot.plot([0, 1], [0, 1], linestyle='--')\n",
    "pyplot.plot([0, 1], [0, 1], linestyle='--')\n",
    "# plot the roc curve for the model\n",
    "pyplot.plot(fpr, tpr, marker='.')\n",
    "# show the plot\n",
    "pyplot.show()"
   ]
  }
 ],
 "metadata": {
  "kernelspec": {
   "display_name": "ML",
   "language": "python",
   "name": "ml"
  },
  "language_info": {
   "codemirror_mode": {
    "name": "ipython",
    "version": 3
   },
   "file_extension": ".py",
   "mimetype": "text/x-python",
   "name": "python",
   "nbconvert_exporter": "python",
   "pygments_lexer": "ipython3",
   "version": "3.7.2"
  }
 },
 "nbformat": 4,
 "nbformat_minor": 2
}
