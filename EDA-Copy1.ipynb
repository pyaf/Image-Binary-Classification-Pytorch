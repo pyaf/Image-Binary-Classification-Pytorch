{
 "cells": [
  {
   "cell_type": "code",
   "execution_count": 1,
   "metadata": {
    "ExecuteTime": {
     "end_time": "2019-03-09T05:42:28.437136Z",
     "start_time": "2019-03-09T05:42:26.481124Z"
    }
   },
   "outputs": [],
   "source": [
    "import pdb\n",
    "import torch\n",
    "import cv2\n",
    "import os\n",
    "from PIL import Image\n",
    "from skimage import io, transform\n",
    "import matplotlib.pyplot as plt\n",
    "import matplotlib.image as mpimg\n",
    "import pandas as pd\n",
    "from torchvision.datasets.folder import pil_loader\n",
    "import random\n",
    "import numpy as np\n",
    "from torchsummary import summary\n",
    "import pretrainedmodels\n",
    "from sklearn.model_selection import KFold, StratifiedKFold\n",
    "\n",
    "\n",
    "from albumentations import torch as AT\n",
    "os.environ['CUDA_VISIBLE_DEVICES']=\"\"\n",
    "%matplotlib inline"
   ]
  },
  {
   "cell_type": "code",
   "execution_count": 2,
   "metadata": {
    "ExecuteTime": {
     "end_time": "2019-03-09T05:42:28.567758Z",
     "start_time": "2019-03-09T05:42:28.438550Z"
    }
   },
   "outputs": [
    {
     "name": "stdout",
     "output_type": "stream",
     "text": [
      "sample_submission.csv  test  train  train_labels.csv\r\n"
     ]
    }
   ],
   "source": [
    "!ls data"
   ]
  },
  {
   "cell_type": "code",
   "execution_count": 3,
   "metadata": {
    "ExecuteTime": {
     "end_time": "2019-03-09T05:42:28.787398Z",
     "start_time": "2019-03-09T05:42:28.568989Z"
    }
   },
   "outputs": [],
   "source": [
    "train_df = pd.read_csv('data/train_labels.csv')\n",
    "test_df = pd.read_csv('data/sample_submission.csv')"
   ]
  },
  {
   "cell_type": "code",
   "execution_count": 4,
   "metadata": {
    "ExecuteTime": {
     "end_time": "2019-03-09T05:42:35.173536Z",
     "start_time": "2019-03-09T05:42:35.169114Z"
    }
   },
   "outputs": [
    {
     "data": {
      "text/plain": [
       "(57458, 2)"
      ]
     },
     "execution_count": 4,
     "metadata": {},
     "output_type": "execute_result"
    }
   ],
   "source": [
    "test_df.shape"
   ]
  },
  {
   "cell_type": "code",
   "execution_count": null,
   "metadata": {
    "ExecuteTime": {
     "end_time": "2019-03-07T16:20:33.368979Z",
     "start_time": "2019-03-07T16:20:33.358936Z"
    }
   },
   "outputs": [],
   "source": [
    "train_df.head()"
   ]
  },
  {
   "cell_type": "code",
   "execution_count": null,
   "metadata": {
    "ExecuteTime": {
     "end_time": "2019-03-07T09:32:48.405418Z",
     "start_time": "2019-03-07T09:32:48.396805Z"
    }
   },
   "outputs": [],
   "source": [
    "train_df.at[0, 'label'] = 1"
   ]
  },
  {
   "cell_type": "code",
   "execution_count": null,
   "metadata": {
    "ExecuteTime": {
     "end_time": "2019-03-07T16:29:09.918369Z",
     "start_time": "2019-03-07T16:29:09.914229Z"
    }
   },
   "outputs": [],
   "source": [
    "kfold = StratifiedKFold(20, shuffle=True, random_state=69)"
   ]
  },
  {
   "cell_type": "code",
   "execution_count": null,
   "metadata": {
    "ExecuteTime": {
     "end_time": "2019-03-07T16:31:05.650363Z",
     "start_time": "2019-03-07T16:31:05.645424Z"
    }
   },
   "outputs": [],
   "source": [
    "kfold.split(train_df['id'], train_df['label'])"
   ]
  },
  {
   "cell_type": "code",
   "execution_count": null,
   "metadata": {
    "ExecuteTime": {
     "end_time": "2019-03-07T16:34:36.649834Z",
     "start_time": "2019-03-07T16:34:36.640371Z"
    }
   },
   "outputs": [],
   "source": [
    "train_df.iloc[test]"
   ]
  },
  {
   "cell_type": "code",
   "execution_count": null,
   "metadata": {
    "ExecuteTime": {
     "end_time": "2019-03-07T09:34:38.338190Z",
     "start_time": "2019-03-07T09:34:38.331865Z"
    }
   },
   "outputs": [],
   "source": [
    "train_df.head()"
   ]
  },
  {
   "cell_type": "code",
   "execution_count": null,
   "metadata": {
    "ExecuteTime": {
     "end_time": "2019-03-07T16:27:30.114486Z",
     "start_time": "2019-03-07T16:27:30.087180Z"
    }
   },
   "outputs": [],
   "source": [
    "train_df.info(), test_df.info()"
   ]
  },
  {
   "cell_type": "code",
   "execution_count": null,
   "metadata": {
    "ExecuteTime": {
     "end_time": "2019-03-07T16:27:30.883394Z",
     "start_time": "2019-03-07T16:27:30.875437Z"
    }
   },
   "outputs": [],
   "source": [
    "%%time\n",
    "img = mpimg.imread('data/train/00001b2b5609af42ab0ab276dd4cd41c3e7745b5.tif')"
   ]
  },
  {
   "cell_type": "code",
   "execution_count": null,
   "metadata": {
    "ExecuteTime": {
     "end_time": "2019-03-07T16:27:46.298430Z",
     "start_time": "2019-03-07T16:27:31.630732Z"
    }
   },
   "outputs": [],
   "source": [
    "timeit mpimg.imread('data/train/00001b2b5609af42ab0ab276dd4cd41c3e7745b5.tif')"
   ]
  },
  {
   "cell_type": "code",
   "execution_count": null,
   "metadata": {
    "ExecuteTime": {
     "end_time": "2019-03-07T16:27:58.535990Z",
     "start_time": "2019-03-07T16:27:46.299666Z"
    }
   },
   "outputs": [],
   "source": [
    "timeit pil_loader('data/train/00001b2b5609af42ab0ab276dd4cd41c3e7745b5.tif')"
   ]
  },
  {
   "cell_type": "code",
   "execution_count": null,
   "metadata": {
    "ExecuteTime": {
     "end_time": "2019-03-06T15:12:50.961133Z",
     "start_time": "2019-03-06T15:12:47.191514Z"
    }
   },
   "outputs": [],
   "source": [
    "timeit cv2.imread('data/train/00001b2b5609af42ab0ab276dd4cd41c3e7745b5.tif', flags=cv2.IMREAD_COLOR)"
   ]
  },
  {
   "cell_type": "code",
   "execution_count": null,
   "metadata": {
    "ExecuteTime": {
     "end_time": "2019-03-06T15:18:21.212233Z",
     "start_time": "2019-03-06T15:18:19.341059Z"
    }
   },
   "outputs": [],
   "source": [
    "timeit io.imread(\"data/train/00001b2b5609af42ab0ab276dd4cd41c3e7745b5.tif\")"
   ]
  },
  {
   "cell_type": "markdown",
   "metadata": {},
   "source": [
    "##### use cv2.imread for reading images "
   ]
  },
  {
   "cell_type": "code",
   "execution_count": null,
   "metadata": {
    "ExecuteTime": {
     "end_time": "2019-03-04T14:35:01.494063Z",
     "start_time": "2019-03-04T14:35:01.490754Z"
    }
   },
   "outputs": [],
   "source": [
    "img.shape\n"
   ]
  },
  {
   "cell_type": "code",
   "execution_count": null,
   "metadata": {
    "ExecuteTime": {
     "end_time": "2019-03-06T15:03:55.009058Z",
     "start_time": "2019-03-06T15:03:54.893133Z"
    }
   },
   "outputs": [],
   "source": [
    "plt.imshow(img)"
   ]
  },
  {
   "cell_type": "code",
   "execution_count": null,
   "metadata": {
    "ExecuteTime": {
     "end_time": "2019-03-04T14:35:02.359686Z",
     "start_time": "2019-03-04T14:35:02.264286Z"
    }
   },
   "outputs": [],
   "source": [
    "# plot some random training images with their ground truth labels\n",
    "i = random.choice(range(train_df.shape[0]))\n",
    "img = mpimg.imread('data/train/' + train_df.iloc[i]['id'] + '.tif')\n",
    "plt.imshow(img)\n",
    "plt.title(train_df.iloc[i]['label'])\n",
    "plt.show()"
   ]
  },
  {
   "cell_type": "code",
   "execution_count": null,
   "metadata": {
    "ExecuteTime": {
     "end_time": "2019-03-04T14:35:02.474089Z",
     "start_time": "2019-03-04T14:35:02.468284Z"
    }
   },
   "outputs": [],
   "source": [
    "train_df['label'].value_counts()"
   ]
  },
  {
   "cell_type": "code",
   "execution_count": null,
   "metadata": {
    "ExecuteTime": {
     "end_time": "2019-03-04T14:35:02.723464Z",
     "start_time": "2019-03-04T14:35:02.718236Z"
    }
   },
   "outputs": [],
   "source": [
    "train_df['label'].hist"
   ]
  },
  {
   "cell_type": "code",
   "execution_count": null,
   "metadata": {
    "ExecuteTime": {
     "end_time": "2019-03-06T19:56:24.770069Z",
     "start_time": "2019-03-06T19:56:24.574486Z"
    }
   },
   "outputs": [],
   "source": [
    "img = mpimg.imread('data/train/dd6dfed324f9fcb6f93f46f32fc800f2ec196be2.tif')\n",
    "plt.imshow(img)\n",
    "plt.show();\n",
    "aug_img = train_aug(image=img)\n",
    "plt.imshow(aug_img['image'])\n",
    "plt.show();"
   ]
  },
  {
   "cell_type": "markdown",
   "metadata": {},
   "source": [
    "#### Dataloader analysis\n"
   ]
  },
  {
   "cell_type": "code",
   "execution_count": null,
   "metadata": {
    "ExecuteTime": {
     "end_time": "2019-03-04T15:04:35.660823Z",
     "start_time": "2019-03-04T15:04:35.658468Z"
    }
   },
   "outputs": [],
   "source": [
    "from dataloader import get_dataloader"
   ]
  },
  {
   "cell_type": "code",
   "execution_count": null,
   "metadata": {
    "ExecuteTime": {
     "end_time": "2019-03-04T15:19:40.947455Z",
     "start_time": "2019-03-04T15:19:40.945006Z"
    }
   },
   "outputs": [],
   "source": [
    "def unnormalize(img):\n",
    "    mean = torch.as_tensor([0.485, 0.456, 0.406])\n",
    "    std = torch.as_tensor([0.229, 0.224, 0.225])\n",
    "    #return (img * std) + mean\n",
    "    for t, m, s in zip(img, mean, std):    \n",
    "        t.mul_(s).add_(m)\n",
    "    return img"
   ]
  },
  {
   "cell_type": "code",
   "execution_count": null,
   "metadata": {
    "ExecuteTime": {
     "end_time": "2019-03-04T15:19:41.612809Z",
     "start_time": "2019-03-04T15:19:41.407453Z"
    }
   },
   "outputs": [],
   "source": [
    "phase = \"train\"\n",
    "dataloader = get_dataloader(phase)"
   ]
  },
  {
   "cell_type": "code",
   "execution_count": null,
   "metadata": {
    "ExecuteTime": {
     "end_time": "2019-03-04T15:20:17.195944Z",
     "start_time": "2019-03-04T15:20:17.036183Z"
    }
   },
   "outputs": [],
   "source": [
    "batch = next(iter(dataloader))"
   ]
  },
  {
   "cell_type": "code",
   "execution_count": null,
   "metadata": {
    "ExecuteTime": {
     "end_time": "2019-03-04T15:20:17.523118Z",
     "start_time": "2019-03-04T15:20:17.516120Z"
    }
   },
   "outputs": [],
   "source": [
    "images, labels = batch\n",
    "labels"
   ]
  },
  {
   "cell_type": "code",
   "execution_count": null,
   "metadata": {
    "ExecuteTime": {
     "end_time": "2019-03-04T15:20:21.861098Z",
     "start_time": "2019-03-04T15:20:21.728257Z"
    }
   },
   "outputs": [],
   "source": [
    "# plot some random training images with their ground truth labels\n",
    "i = random.choice(range(len(images)))\n",
    "img = images[i].clone()\n",
    "img = unnormalize(img)\n",
    "plt.imshow(img.permute(1, 2, 0))\n",
    "plt.title(labels[i].item())\n",
    "plt.show()"
   ]
  },
  {
   "cell_type": "code",
   "execution_count": null,
   "metadata": {},
   "outputs": [],
   "source": []
  },
  {
   "cell_type": "code",
   "execution_count": null,
   "metadata": {},
   "outputs": [],
   "source": []
  },
  {
   "cell_type": "code",
   "execution_count": null,
   "metadata": {},
   "outputs": [],
   "source": []
  },
  {
   "cell_type": "code",
   "execution_count": null,
   "metadata": {},
   "outputs": [],
   "source": []
  },
  {
   "cell_type": "code",
   "execution_count": null,
   "metadata": {},
   "outputs": [],
   "source": []
  },
  {
   "cell_type": "code",
   "execution_count": null,
   "metadata": {
    "ExecuteTime": {
     "end_time": "2019-03-04T15:20:19.088630Z",
     "start_time": "2019-03-04T15:20:19.077897Z"
    }
   },
   "outputs": [],
   "source": [
    "mean = torch.as_tensor([0.485, 0.456, 0.406])\n",
    "std = torch.as_tensor([0.229, 0.224, 0.225])\n",
    "#return (img * std) + mean\n",
    "#return img.mul_(std).add_(mean)\n",
    "labels[i].item()"
   ]
  },
  {
   "cell_type": "code",
   "execution_count": null,
   "metadata": {
    "ExecuteTime": {
     "end_time": "2019-03-04T15:15:32.950081Z",
     "start_time": "2019-03-04T15:15:32.946752Z"
    }
   },
   "outputs": [],
   "source": [
    "mean, std, mean.shape, std.shape"
   ]
  },
  {
   "cell_type": "code",
   "execution_count": null,
   "metadata": {
    "ExecuteTime": {
     "end_time": "2019-03-04T15:15:40.550792Z",
     "start_time": "2019-03-04T15:15:40.545982Z"
    }
   },
   "outputs": [],
   "source": []
  },
  {
   "cell_type": "raw",
   "metadata": {},
   "source": [
    "Model testing"
   ]
  },
  {
   "cell_type": "code",
   "execution_count": 6,
   "metadata": {
    "ExecuteTime": {
     "end_time": "2019-03-09T06:13:41.619796Z",
     "start_time": "2019-03-09T06:13:41.611443Z"
    }
   },
   "outputs": [
    {
     "data": {
      "text/plain": [
       "['fbresnet152',\n",
       " 'bninception',\n",
       " 'resnext101_32x4d',\n",
       " 'resnext101_64x4d',\n",
       " 'inceptionv4',\n",
       " 'inceptionresnetv2',\n",
       " 'alexnet',\n",
       " 'densenet121',\n",
       " 'densenet169',\n",
       " 'densenet201',\n",
       " 'densenet161',\n",
       " 'resnet18',\n",
       " 'resnet34',\n",
       " 'resnet50',\n",
       " 'resnet101',\n",
       " 'resnet152',\n",
       " 'inceptionv3',\n",
       " 'squeezenet1_0',\n",
       " 'squeezenet1_1',\n",
       " 'vgg11',\n",
       " 'vgg11_bn',\n",
       " 'vgg13',\n",
       " 'vgg13_bn',\n",
       " 'vgg16',\n",
       " 'vgg16_bn',\n",
       " 'vgg19_bn',\n",
       " 'vgg19',\n",
       " 'nasnetamobile',\n",
       " 'nasnetalarge',\n",
       " 'dpn68',\n",
       " 'dpn68b',\n",
       " 'dpn92',\n",
       " 'dpn98',\n",
       " 'dpn131',\n",
       " 'dpn107',\n",
       " 'xception',\n",
       " 'senet154',\n",
       " 'se_resnet50',\n",
       " 'se_resnet101',\n",
       " 'se_resnet152',\n",
       " 'se_resnext50_32x4d',\n",
       " 'se_resnext101_32x4d',\n",
       " 'cafferesnet101',\n",
       " 'pnasnet5large',\n",
       " 'polynet']"
      ]
     },
     "execution_count": 6,
     "metadata": {},
     "output_type": "execute_result"
    }
   ],
   "source": [
    "import pretrainedmodels\n",
    "pretrainedmodels.model_names"
   ]
  },
  {
   "cell_type": "code",
   "execution_count": 7,
   "metadata": {
    "ExecuteTime": {
     "end_time": "2019-03-09T06:13:42.736042Z",
     "start_time": "2019-03-09T06:13:42.488335Z"
    }
   },
   "outputs": [],
   "source": [
    "model_name='se_resnext50_32x4d'\n",
    "model = pretrainedmodels.__dict__[model_name](num_classes=1000)"
   ]
  },
  {
   "cell_type": "code",
   "execution_count": null,
   "metadata": {
    "ExecuteTime": {
     "end_time": "2019-03-07T16:49:36.159007Z",
     "start_time": "2019-03-07T16:49:36.154799Z"
    },
    "scrolled": true
   },
   "outputs": [],
   "source": [
    "model"
   ]
  },
  {
   "cell_type": "code",
   "execution_count": null,
   "metadata": {
    "ExecuteTime": {
     "end_time": "2019-03-07T17:06:13.683246Z",
     "start_time": "2019-03-07T17:06:13.676205Z"
    }
   },
   "outputs": [],
   "source": [
    "model.layer0.parameters()\n",
    "model.layer1.parameters()\n",
    "model.layer2.parameters()\n",
    "model.layer3.parameters()\n",
    "model.layer4.parameters()\n",
    "#list(model.children())[0]#.parameterss()\n",
    "model.avg_pool"
   ]
  },
  {
   "cell_type": "code",
   "execution_count": null,
   "metadata": {
    "ExecuteTime": {
     "end_time": "2019-03-07T17:02:57.356724Z",
     "start_time": "2019-03-07T17:02:57.355091Z"
    }
   },
   "outputs": [],
   "source": [
    "[\n",
    "    {\"params\": model.layer0.paramters()},\n",
    "    {\"params\": model.layer1.paramters()},\n",
    "    {\"params\": model.layer2.paramters()},\n",
    "    {\"params\": model.layer3.paramters()},\n",
    "    {\"params\": model.layer4.paramters()},\n",
    "    {\"params\": model.avg_pool.paramters()},\n",
    "    {\"params\": model.last_linear.parameters(), \"lr\": 3e-5}\n",
    "], lr=3e-5*0.001,\n",
    "\n",
    "import torch"
   ]
  },
  {
   "cell_type": "code",
   "execution_count": 13,
   "metadata": {
    "ExecuteTime": {
     "end_time": "2019-03-09T06:14:40.508752Z",
     "start_time": "2019-03-09T06:14:40.505457Z"
    },
    "scrolled": false
   },
   "outputs": [],
   "source": [
    "blocks = list(model.children())\n",
    "head = torch.nn.Sequential(*list(blocks[0].children())[:-1])\n",
    "model._modules['layer0'] = head\n",
    "#model._modules['avg_pool'] = torch.nn.AvgPool2d(kernel_size=5, stride=1, padding=0) \n",
    "#model._modules['avg_pool'] = torch.nn.Sequential(*[torch.nn.ConstantPad2d((0,1,0,1), 0), torch.nn.AvgPool2d(kernel_size=7, stride=1, padding=0)])\n",
    "model._modules['avg_pool'] = torch.nn.Sequential(torch.nn.AdaptiveAvgPool2d((1, 1)))\n",
    "model._modules['last_linear'] = torch.nn.Linear(in_features=2048, out_features=1, bias=True)"
   ]
  },
  {
   "cell_type": "code",
   "execution_count": 12,
   "metadata": {
    "ExecuteTime": {
     "end_time": "2019-03-09T06:14:19.979600Z",
     "start_time": "2019-03-09T06:14:19.950807Z"
    }
   },
   "outputs": [],
   "source": [
    "torch.nn.AdaptiveAvgPool2d?"
   ]
  },
  {
   "cell_type": "code",
   "execution_count": 44,
   "metadata": {
    "ExecuteTime": {
     "end_time": "2019-03-08T14:35:34.758872Z",
     "start_time": "2019-03-08T14:35:34.725552Z"
    },
    "scrolled": true
   },
   "outputs": [],
   "source": [
    "#head.parameters()\n",
    "#for block in blocks:\n",
    "base = list(blocks[0].children())[:-1] + blocks[1:-2]\n",
    "torch.nn.Sequential(*base)\n",
    "torch.nn.Dropout?\n",
    "#    print(block)\n",
    "#    print('*'*100)"
   ]
  },
  {
   "cell_type": "code",
   "execution_count": 46,
   "metadata": {
    "ExecuteTime": {
     "end_time": "2019-03-08T14:36:44.812582Z",
     "start_time": "2019-03-08T14:36:44.809699Z"
    }
   },
   "outputs": [],
   "source": [
    "\n",
    "torch.nn.Linear?"
   ]
  },
  {
   "cell_type": "code",
   "execution_count": null,
   "metadata": {
    "ExecuteTime": {
     "end_time": "2019-03-06T18:40:10.089244Z",
     "start_time": "2019-03-06T18:40:10.083820Z"
    }
   },
   "outputs": [],
   "source": [
    "#blocks[0] = head"
   ]
  },
  {
   "cell_type": "code",
   "execution_count": null,
   "metadata": {
    "ExecuteTime": {
     "end_time": "2019-03-06T18:40:11.163991Z",
     "start_time": "2019-03-06T18:40:11.156193Z"
    }
   },
   "outputs": [],
   "source": [
    "#blocks[-1] = torch.nn.Linear(in_features=2048, out_features=1, bias=True)"
   ]
  },
  {
   "cell_type": "code",
   "execution_count": null,
   "metadata": {
    "ExecuteTime": {
     "end_time": "2019-03-06T18:41:12.150285Z",
     "start_time": "2019-03-06T18:41:12.146092Z"
    }
   },
   "outputs": [],
   "source": [
    "#model = torch.nn.Sequential(*blocks)"
   ]
  },
  {
   "cell_type": "code",
   "execution_count": null,
   "metadata": {
    "ExecuteTime": {
     "end_time": "2019-03-08T09:57:42.790101Z",
     "start_time": "2019-03-08T09:57:42.788435Z"
    },
    "scrolled": true
   },
   "outputs": [],
   "source": [
    "#model._modules"
   ]
  },
  {
   "cell_type": "code",
   "execution_count": 14,
   "metadata": {
    "ExecuteTime": {
     "end_time": "2019-03-09T06:15:00.648852Z",
     "start_time": "2019-03-09T06:15:00.646252Z"
    }
   },
   "outputs": [],
   "source": [
    "#img = torch.Tensor(1, 3, 224, 224)#.to('cuda')\n",
    "img = torch.Tensor(1, 3, 112, 112)\n",
    "img = torch.Tensor(1, 3, 96, 96)"
   ]
  },
  {
   "cell_type": "code",
   "execution_count": 15,
   "metadata": {
    "ExecuteTime": {
     "end_time": "2019-03-09T06:15:01.125582Z",
     "start_time": "2019-03-09T06:15:01.019034Z"
    }
   },
   "outputs": [
    {
     "name": "stdout",
     "output_type": "stream",
     "text": [
      "tensor([[-0.2230]], grad_fn=<AddmmBackward>)\n"
     ]
    }
   ],
   "source": [
    "out = model(img)\n",
    "\n",
    "print(out)"
   ]
  },
  {
   "cell_type": "code",
   "execution_count": 16,
   "metadata": {
    "ExecuteTime": {
     "end_time": "2019-03-09T06:15:02.125738Z",
     "start_time": "2019-03-09T06:15:02.013804Z"
    }
   },
   "outputs": [
    {
     "name": "stdout",
     "output_type": "stream",
     "text": [
      "Sequential(\n",
      "  (0): Conv2d(3, 64, kernel_size=(7, 7), stride=(2, 2), padding=(3, 3), bias=False)\n",
      ")\n",
      "torch.Size([1, 64, 48, 48])\n",
      "Sequential(\n",
      "  (0): SEResNeXtBottleneck(\n",
      "    (conv1): Conv2d(64, 128, kernel_size=(1, 1), stride=(1, 1), bias=False)\n",
      "    (bn1): BatchNorm2d(128, eps=1e-05, momentum=0.1, affine=True, track_running_stats=True)\n",
      "    (conv2): Conv2d(128, 128, kernel_size=(3, 3), stride=(1, 1), padding=(1, 1), groups=32, bias=False)\n",
      "    (bn2): BatchNorm2d(128, eps=1e-05, momentum=0.1, affine=True, track_running_stats=True)\n",
      "    (conv3): Conv2d(128, 256, kernel_size=(1, 1), stride=(1, 1), bias=False)\n",
      "    (bn3): BatchNorm2d(256, eps=1e-05, momentum=0.1, affine=True, track_running_stats=True)\n",
      "    (relu): ReLU(inplace)\n",
      "    (se_module): SEModule(\n",
      "      (avg_pool): AdaptiveAvgPool2d(output_size=1)\n",
      "      (fc1): Conv2d(256, 16, kernel_size=(1, 1), stride=(1, 1))\n",
      "      (relu): ReLU(inplace)\n",
      "      (fc2): Conv2d(16, 256, kernel_size=(1, 1), stride=(1, 1))\n",
      "      (sigmoid): Sigmoid()\n",
      "    )\n",
      "    (downsample): Sequential(\n",
      "      (0): Conv2d(64, 256, kernel_size=(1, 1), stride=(1, 1), bias=False)\n",
      "      (1): BatchNorm2d(256, eps=1e-05, momentum=0.1, affine=True, track_running_stats=True)\n",
      "    )\n",
      "  )\n",
      "  (1): SEResNeXtBottleneck(\n",
      "    (conv1): Conv2d(256, 128, kernel_size=(1, 1), stride=(1, 1), bias=False)\n",
      "    (bn1): BatchNorm2d(128, eps=1e-05, momentum=0.1, affine=True, track_running_stats=True)\n",
      "    (conv2): Conv2d(128, 128, kernel_size=(3, 3), stride=(1, 1), padding=(1, 1), groups=32, bias=False)\n",
      "    (bn2): BatchNorm2d(128, eps=1e-05, momentum=0.1, affine=True, track_running_stats=True)\n",
      "    (conv3): Conv2d(128, 256, kernel_size=(1, 1), stride=(1, 1), bias=False)\n",
      "    (bn3): BatchNorm2d(256, eps=1e-05, momentum=0.1, affine=True, track_running_stats=True)\n",
      "    (relu): ReLU(inplace)\n",
      "    (se_module): SEModule(\n",
      "      (avg_pool): AdaptiveAvgPool2d(output_size=1)\n",
      "      (fc1): Conv2d(256, 16, kernel_size=(1, 1), stride=(1, 1))\n",
      "      (relu): ReLU(inplace)\n",
      "      (fc2): Conv2d(16, 256, kernel_size=(1, 1), stride=(1, 1))\n",
      "      (sigmoid): Sigmoid()\n",
      "    )\n",
      "  )\n",
      "  (2): SEResNeXtBottleneck(\n",
      "    (conv1): Conv2d(256, 128, kernel_size=(1, 1), stride=(1, 1), bias=False)\n",
      "    (bn1): BatchNorm2d(128, eps=1e-05, momentum=0.1, affine=True, track_running_stats=True)\n",
      "    (conv2): Conv2d(128, 128, kernel_size=(3, 3), stride=(1, 1), padding=(1, 1), groups=32, bias=False)\n",
      "    (bn2): BatchNorm2d(128, eps=1e-05, momentum=0.1, affine=True, track_running_stats=True)\n",
      "    (conv3): Conv2d(128, 256, kernel_size=(1, 1), stride=(1, 1), bias=False)\n",
      "    (bn3): BatchNorm2d(256, eps=1e-05, momentum=0.1, affine=True, track_running_stats=True)\n",
      "    (relu): ReLU(inplace)\n",
      "    (se_module): SEModule(\n",
      "      (avg_pool): AdaptiveAvgPool2d(output_size=1)\n",
      "      (fc1): Conv2d(256, 16, kernel_size=(1, 1), stride=(1, 1))\n",
      "      (relu): ReLU(inplace)\n",
      "      (fc2): Conv2d(16, 256, kernel_size=(1, 1), stride=(1, 1))\n",
      "      (sigmoid): Sigmoid()\n",
      "    )\n",
      "  )\n",
      ")\n",
      "torch.Size([1, 256, 48, 48])\n",
      "Sequential(\n",
      "  (0): SEResNeXtBottleneck(\n",
      "    (conv1): Conv2d(256, 256, kernel_size=(1, 1), stride=(1, 1), bias=False)\n",
      "    (bn1): BatchNorm2d(256, eps=1e-05, momentum=0.1, affine=True, track_running_stats=True)\n",
      "    (conv2): Conv2d(256, 256, kernel_size=(3, 3), stride=(2, 2), padding=(1, 1), groups=32, bias=False)\n",
      "    (bn2): BatchNorm2d(256, eps=1e-05, momentum=0.1, affine=True, track_running_stats=True)\n",
      "    (conv3): Conv2d(256, 512, kernel_size=(1, 1), stride=(1, 1), bias=False)\n",
      "    (bn3): BatchNorm2d(512, eps=1e-05, momentum=0.1, affine=True, track_running_stats=True)\n",
      "    (relu): ReLU(inplace)\n",
      "    (se_module): SEModule(\n",
      "      (avg_pool): AdaptiveAvgPool2d(output_size=1)\n",
      "      (fc1): Conv2d(512, 32, kernel_size=(1, 1), stride=(1, 1))\n",
      "      (relu): ReLU(inplace)\n",
      "      (fc2): Conv2d(32, 512, kernel_size=(1, 1), stride=(1, 1))\n",
      "      (sigmoid): Sigmoid()\n",
      "    )\n",
      "    (downsample): Sequential(\n",
      "      (0): Conv2d(256, 512, kernel_size=(1, 1), stride=(2, 2), bias=False)\n",
      "      (1): BatchNorm2d(512, eps=1e-05, momentum=0.1, affine=True, track_running_stats=True)\n",
      "    )\n",
      "  )\n",
      "  (1): SEResNeXtBottleneck(\n",
      "    (conv1): Conv2d(512, 256, kernel_size=(1, 1), stride=(1, 1), bias=False)\n",
      "    (bn1): BatchNorm2d(256, eps=1e-05, momentum=0.1, affine=True, track_running_stats=True)\n",
      "    (conv2): Conv2d(256, 256, kernel_size=(3, 3), stride=(1, 1), padding=(1, 1), groups=32, bias=False)\n",
      "    (bn2): BatchNorm2d(256, eps=1e-05, momentum=0.1, affine=True, track_running_stats=True)\n",
      "    (conv3): Conv2d(256, 512, kernel_size=(1, 1), stride=(1, 1), bias=False)\n",
      "    (bn3): BatchNorm2d(512, eps=1e-05, momentum=0.1, affine=True, track_running_stats=True)\n",
      "    (relu): ReLU(inplace)\n",
      "    (se_module): SEModule(\n",
      "      (avg_pool): AdaptiveAvgPool2d(output_size=1)\n",
      "      (fc1): Conv2d(512, 32, kernel_size=(1, 1), stride=(1, 1))\n",
      "      (relu): ReLU(inplace)\n",
      "      (fc2): Conv2d(32, 512, kernel_size=(1, 1), stride=(1, 1))\n",
      "      (sigmoid): Sigmoid()\n",
      "    )\n",
      "  )\n",
      "  (2): SEResNeXtBottleneck(\n",
      "    (conv1): Conv2d(512, 256, kernel_size=(1, 1), stride=(1, 1), bias=False)\n",
      "    (bn1): BatchNorm2d(256, eps=1e-05, momentum=0.1, affine=True, track_running_stats=True)\n",
      "    (conv2): Conv2d(256, 256, kernel_size=(3, 3), stride=(1, 1), padding=(1, 1), groups=32, bias=False)\n",
      "    (bn2): BatchNorm2d(256, eps=1e-05, momentum=0.1, affine=True, track_running_stats=True)\n",
      "    (conv3): Conv2d(256, 512, kernel_size=(1, 1), stride=(1, 1), bias=False)\n",
      "    (bn3): BatchNorm2d(512, eps=1e-05, momentum=0.1, affine=True, track_running_stats=True)\n",
      "    (relu): ReLU(inplace)\n",
      "    (se_module): SEModule(\n",
      "      (avg_pool): AdaptiveAvgPool2d(output_size=1)\n",
      "      (fc1): Conv2d(512, 32, kernel_size=(1, 1), stride=(1, 1))\n",
      "      (relu): ReLU(inplace)\n",
      "      (fc2): Conv2d(32, 512, kernel_size=(1, 1), stride=(1, 1))\n",
      "      (sigmoid): Sigmoid()\n",
      "    )\n",
      "  )\n",
      "  (3): SEResNeXtBottleneck(\n",
      "    (conv1): Conv2d(512, 256, kernel_size=(1, 1), stride=(1, 1), bias=False)\n",
      "    (bn1): BatchNorm2d(256, eps=1e-05, momentum=0.1, affine=True, track_running_stats=True)\n",
      "    (conv2): Conv2d(256, 256, kernel_size=(3, 3), stride=(1, 1), padding=(1, 1), groups=32, bias=False)\n",
      "    (bn2): BatchNorm2d(256, eps=1e-05, momentum=0.1, affine=True, track_running_stats=True)\n",
      "    (conv3): Conv2d(256, 512, kernel_size=(1, 1), stride=(1, 1), bias=False)\n",
      "    (bn3): BatchNorm2d(512, eps=1e-05, momentum=0.1, affine=True, track_running_stats=True)\n",
      "    (relu): ReLU(inplace)\n",
      "    (se_module): SEModule(\n",
      "      (avg_pool): AdaptiveAvgPool2d(output_size=1)\n",
      "      (fc1): Conv2d(512, 32, kernel_size=(1, 1), stride=(1, 1))\n",
      "      (relu): ReLU(inplace)\n",
      "      (fc2): Conv2d(32, 512, kernel_size=(1, 1), stride=(1, 1))\n",
      "      (sigmoid): Sigmoid()\n",
      "    )\n",
      "  )\n",
      ")\n",
      "torch.Size([1, 512, 24, 24])\n",
      "Sequential(\n",
      "  (0): SEResNeXtBottleneck(\n",
      "    (conv1): Conv2d(512, 512, kernel_size=(1, 1), stride=(1, 1), bias=False)\n",
      "    (bn1): BatchNorm2d(512, eps=1e-05, momentum=0.1, affine=True, track_running_stats=True)\n",
      "    (conv2): Conv2d(512, 512, kernel_size=(3, 3), stride=(2, 2), padding=(1, 1), groups=32, bias=False)\n",
      "    (bn2): BatchNorm2d(512, eps=1e-05, momentum=0.1, affine=True, track_running_stats=True)\n",
      "    (conv3): Conv2d(512, 1024, kernel_size=(1, 1), stride=(1, 1), bias=False)\n",
      "    (bn3): BatchNorm2d(1024, eps=1e-05, momentum=0.1, affine=True, track_running_stats=True)\n",
      "    (relu): ReLU(inplace)\n",
      "    (se_module): SEModule(\n",
      "      (avg_pool): AdaptiveAvgPool2d(output_size=1)\n",
      "      (fc1): Conv2d(1024, 64, kernel_size=(1, 1), stride=(1, 1))\n",
      "      (relu): ReLU(inplace)\n",
      "      (fc2): Conv2d(64, 1024, kernel_size=(1, 1), stride=(1, 1))\n",
      "      (sigmoid): Sigmoid()\n",
      "    )\n",
      "    (downsample): Sequential(\n",
      "      (0): Conv2d(512, 1024, kernel_size=(1, 1), stride=(2, 2), bias=False)\n",
      "      (1): BatchNorm2d(1024, eps=1e-05, momentum=0.1, affine=True, track_running_stats=True)\n",
      "    )\n",
      "  )\n",
      "  (1): SEResNeXtBottleneck(\n",
      "    (conv1): Conv2d(1024, 512, kernel_size=(1, 1), stride=(1, 1), bias=False)\n",
      "    (bn1): BatchNorm2d(512, eps=1e-05, momentum=0.1, affine=True, track_running_stats=True)\n",
      "    (conv2): Conv2d(512, 512, kernel_size=(3, 3), stride=(1, 1), padding=(1, 1), groups=32, bias=False)\n",
      "    (bn2): BatchNorm2d(512, eps=1e-05, momentum=0.1, affine=True, track_running_stats=True)\n",
      "    (conv3): Conv2d(512, 1024, kernel_size=(1, 1), stride=(1, 1), bias=False)\n",
      "    (bn3): BatchNorm2d(1024, eps=1e-05, momentum=0.1, affine=True, track_running_stats=True)\n",
      "    (relu): ReLU(inplace)\n",
      "    (se_module): SEModule(\n",
      "      (avg_pool): AdaptiveAvgPool2d(output_size=1)\n",
      "      (fc1): Conv2d(1024, 64, kernel_size=(1, 1), stride=(1, 1))\n",
      "      (relu): ReLU(inplace)\n",
      "      (fc2): Conv2d(64, 1024, kernel_size=(1, 1), stride=(1, 1))\n",
      "      (sigmoid): Sigmoid()\n",
      "    )\n",
      "  )\n",
      "  (2): SEResNeXtBottleneck(\n",
      "    (conv1): Conv2d(1024, 512, kernel_size=(1, 1), stride=(1, 1), bias=False)\n",
      "    (bn1): BatchNorm2d(512, eps=1e-05, momentum=0.1, affine=True, track_running_stats=True)\n",
      "    (conv2): Conv2d(512, 512, kernel_size=(3, 3), stride=(1, 1), padding=(1, 1), groups=32, bias=False)\n",
      "    (bn2): BatchNorm2d(512, eps=1e-05, momentum=0.1, affine=True, track_running_stats=True)\n",
      "    (conv3): Conv2d(512, 1024, kernel_size=(1, 1), stride=(1, 1), bias=False)\n",
      "    (bn3): BatchNorm2d(1024, eps=1e-05, momentum=0.1, affine=True, track_running_stats=True)\n",
      "    (relu): ReLU(inplace)\n",
      "    (se_module): SEModule(\n",
      "      (avg_pool): AdaptiveAvgPool2d(output_size=1)\n",
      "      (fc1): Conv2d(1024, 64, kernel_size=(1, 1), stride=(1, 1))\n",
      "      (relu): ReLU(inplace)\n",
      "      (fc2): Conv2d(64, 1024, kernel_size=(1, 1), stride=(1, 1))\n",
      "      (sigmoid): Sigmoid()\n",
      "    )\n",
      "  )\n",
      "  (3): SEResNeXtBottleneck(\n",
      "    (conv1): Conv2d(1024, 512, kernel_size=(1, 1), stride=(1, 1), bias=False)\n",
      "    (bn1): BatchNorm2d(512, eps=1e-05, momentum=0.1, affine=True, track_running_stats=True)\n",
      "    (conv2): Conv2d(512, 512, kernel_size=(3, 3), stride=(1, 1), padding=(1, 1), groups=32, bias=False)\n",
      "    (bn2): BatchNorm2d(512, eps=1e-05, momentum=0.1, affine=True, track_running_stats=True)\n",
      "    (conv3): Conv2d(512, 1024, kernel_size=(1, 1), stride=(1, 1), bias=False)\n",
      "    (bn3): BatchNorm2d(1024, eps=1e-05, momentum=0.1, affine=True, track_running_stats=True)\n",
      "    (relu): ReLU(inplace)\n",
      "    (se_module): SEModule(\n",
      "      (avg_pool): AdaptiveAvgPool2d(output_size=1)\n",
      "      (fc1): Conv2d(1024, 64, kernel_size=(1, 1), stride=(1, 1))\n",
      "      (relu): ReLU(inplace)\n",
      "      (fc2): Conv2d(64, 1024, kernel_size=(1, 1), stride=(1, 1))\n",
      "      (sigmoid): Sigmoid()\n",
      "    )\n",
      "  )\n",
      "  (4): SEResNeXtBottleneck(\n",
      "    (conv1): Conv2d(1024, 512, kernel_size=(1, 1), stride=(1, 1), bias=False)\n",
      "    (bn1): BatchNorm2d(512, eps=1e-05, momentum=0.1, affine=True, track_running_stats=True)\n",
      "    (conv2): Conv2d(512, 512, kernel_size=(3, 3), stride=(1, 1), padding=(1, 1), groups=32, bias=False)\n",
      "    (bn2): BatchNorm2d(512, eps=1e-05, momentum=0.1, affine=True, track_running_stats=True)\n",
      "    (conv3): Conv2d(512, 1024, kernel_size=(1, 1), stride=(1, 1), bias=False)\n",
      "    (bn3): BatchNorm2d(1024, eps=1e-05, momentum=0.1, affine=True, track_running_stats=True)\n",
      "    (relu): ReLU(inplace)\n",
      "    (se_module): SEModule(\n",
      "      (avg_pool): AdaptiveAvgPool2d(output_size=1)\n",
      "      (fc1): Conv2d(1024, 64, kernel_size=(1, 1), stride=(1, 1))\n",
      "      (relu): ReLU(inplace)\n",
      "      (fc2): Conv2d(64, 1024, kernel_size=(1, 1), stride=(1, 1))\n",
      "      (sigmoid): Sigmoid()\n",
      "    )\n",
      "  )\n",
      "  (5): SEResNeXtBottleneck(\n",
      "    (conv1): Conv2d(1024, 512, kernel_size=(1, 1), stride=(1, 1), bias=False)\n",
      "    (bn1): BatchNorm2d(512, eps=1e-05, momentum=0.1, affine=True, track_running_stats=True)\n",
      "    (conv2): Conv2d(512, 512, kernel_size=(3, 3), stride=(1, 1), padding=(1, 1), groups=32, bias=False)\n",
      "    (bn2): BatchNorm2d(512, eps=1e-05, momentum=0.1, affine=True, track_running_stats=True)\n",
      "    (conv3): Conv2d(512, 1024, kernel_size=(1, 1), stride=(1, 1), bias=False)\n",
      "    (bn3): BatchNorm2d(1024, eps=1e-05, momentum=0.1, affine=True, track_running_stats=True)\n",
      "    (relu): ReLU(inplace)\n",
      "    (se_module): SEModule(\n",
      "      (avg_pool): AdaptiveAvgPool2d(output_size=1)\n",
      "      (fc1): Conv2d(1024, 64, kernel_size=(1, 1), stride=(1, 1))\n",
      "      (relu): ReLU(inplace)\n",
      "      (fc2): Conv2d(64, 1024, kernel_size=(1, 1), stride=(1, 1))\n",
      "      (sigmoid): Sigmoid()\n",
      "    )\n",
      "  )\n",
      ")\n",
      "torch.Size([1, 1024, 12, 12])\n",
      "Sequential(\n",
      "  (0): SEResNeXtBottleneck(\n",
      "    (conv1): Conv2d(1024, 1024, kernel_size=(1, 1), stride=(1, 1), bias=False)\n",
      "    (bn1): BatchNorm2d(1024, eps=1e-05, momentum=0.1, affine=True, track_running_stats=True)\n",
      "    (conv2): Conv2d(1024, 1024, kernel_size=(3, 3), stride=(2, 2), padding=(1, 1), groups=32, bias=False)\n",
      "    (bn2): BatchNorm2d(1024, eps=1e-05, momentum=0.1, affine=True, track_running_stats=True)\n",
      "    (conv3): Conv2d(1024, 2048, kernel_size=(1, 1), stride=(1, 1), bias=False)\n",
      "    (bn3): BatchNorm2d(2048, eps=1e-05, momentum=0.1, affine=True, track_running_stats=True)\n",
      "    (relu): ReLU(inplace)\n",
      "    (se_module): SEModule(\n",
      "      (avg_pool): AdaptiveAvgPool2d(output_size=1)\n",
      "      (fc1): Conv2d(2048, 128, kernel_size=(1, 1), stride=(1, 1))\n",
      "      (relu): ReLU(inplace)\n",
      "      (fc2): Conv2d(128, 2048, kernel_size=(1, 1), stride=(1, 1))\n",
      "      (sigmoid): Sigmoid()\n",
      "    )\n",
      "    (downsample): Sequential(\n",
      "      (0): Conv2d(1024, 2048, kernel_size=(1, 1), stride=(2, 2), bias=False)\n",
      "      (1): BatchNorm2d(2048, eps=1e-05, momentum=0.1, affine=True, track_running_stats=True)\n",
      "    )\n",
      "  )\n",
      "  (1): SEResNeXtBottleneck(\n",
      "    (conv1): Conv2d(2048, 1024, kernel_size=(1, 1), stride=(1, 1), bias=False)\n",
      "    (bn1): BatchNorm2d(1024, eps=1e-05, momentum=0.1, affine=True, track_running_stats=True)\n",
      "    (conv2): Conv2d(1024, 1024, kernel_size=(3, 3), stride=(1, 1), padding=(1, 1), groups=32, bias=False)\n",
      "    (bn2): BatchNorm2d(1024, eps=1e-05, momentum=0.1, affine=True, track_running_stats=True)\n",
      "    (conv3): Conv2d(1024, 2048, kernel_size=(1, 1), stride=(1, 1), bias=False)\n",
      "    (bn3): BatchNorm2d(2048, eps=1e-05, momentum=0.1, affine=True, track_running_stats=True)\n",
      "    (relu): ReLU(inplace)\n",
      "    (se_module): SEModule(\n",
      "      (avg_pool): AdaptiveAvgPool2d(output_size=1)\n",
      "      (fc1): Conv2d(2048, 128, kernel_size=(1, 1), stride=(1, 1))\n",
      "      (relu): ReLU(inplace)\n",
      "      (fc2): Conv2d(128, 2048, kernel_size=(1, 1), stride=(1, 1))\n",
      "      (sigmoid): Sigmoid()\n",
      "    )\n",
      "  )\n",
      "  (2): SEResNeXtBottleneck(\n",
      "    (conv1): Conv2d(2048, 1024, kernel_size=(1, 1), stride=(1, 1), bias=False)\n",
      "    (bn1): BatchNorm2d(1024, eps=1e-05, momentum=0.1, affine=True, track_running_stats=True)\n",
      "    (conv2): Conv2d(1024, 1024, kernel_size=(3, 3), stride=(1, 1), padding=(1, 1), groups=32, bias=False)\n",
      "    (bn2): BatchNorm2d(1024, eps=1e-05, momentum=0.1, affine=True, track_running_stats=True)\n",
      "    (conv3): Conv2d(1024, 2048, kernel_size=(1, 1), stride=(1, 1), bias=False)\n",
      "    (bn3): BatchNorm2d(2048, eps=1e-05, momentum=0.1, affine=True, track_running_stats=True)\n",
      "    (relu): ReLU(inplace)\n",
      "    (se_module): SEModule(\n",
      "      (avg_pool): AdaptiveAvgPool2d(output_size=1)\n",
      "      (fc1): Conv2d(2048, 128, kernel_size=(1, 1), stride=(1, 1))\n",
      "      (relu): ReLU(inplace)\n",
      "      (fc2): Conv2d(128, 2048, kernel_size=(1, 1), stride=(1, 1))\n",
      "      (sigmoid): Sigmoid()\n",
      "    )\n",
      "  )\n",
      ")\n",
      "torch.Size([1, 2048, 6, 6])\n",
      "Sequential(\n",
      "  (0): AdaptiveAvgPool2d(output_size=(1, 1))\n",
      ")\n",
      "torch.Size([1, 2048, 1, 1])\n",
      "Linear(in_features=2048, out_features=1, bias=True)\n"
     ]
    },
    {
     "ename": "RuntimeError",
     "evalue": "size mismatch, m1: [2048 x 1], m2: [2048 x 1] at /opt/conda/conda-bld/pytorch_1549636813070/work/aten/src/TH/generic/THTensorMath.cpp:940",
     "output_type": "error",
     "traceback": [
      "\u001b[0;31m---------------------------------------------------------------------------\u001b[0m",
      "\u001b[0;31mRuntimeError\u001b[0m                              Traceback (most recent call last)",
      "\u001b[0;32m<ipython-input-16-71482f4b9a9a>\u001b[0m in \u001b[0;36m<module>\u001b[0;34m\u001b[0m\n\u001b[1;32m      6\u001b[0m         \u001b[0mx\u001b[0m \u001b[0;34m=\u001b[0m \u001b[0mparam\u001b[0m\u001b[0;34m(\u001b[0m\u001b[0mimg\u001b[0m\u001b[0;34m)\u001b[0m\u001b[0;34m\u001b[0m\u001b[0;34m\u001b[0m\u001b[0m\n\u001b[1;32m      7\u001b[0m     \u001b[0;32melse\u001b[0m\u001b[0;34m:\u001b[0m\u001b[0;34m\u001b[0m\u001b[0;34m\u001b[0m\u001b[0m\n\u001b[0;32m----> 8\u001b[0;31m         \u001b[0mx\u001b[0m \u001b[0;34m=\u001b[0m \u001b[0mparam\u001b[0m\u001b[0;34m(\u001b[0m\u001b[0mx\u001b[0m\u001b[0;34m)\u001b[0m\u001b[0;34m\u001b[0m\u001b[0;34m\u001b[0m\u001b[0m\n\u001b[0m\u001b[1;32m      9\u001b[0m     \u001b[0mprint\u001b[0m\u001b[0;34m(\u001b[0m\u001b[0mx\u001b[0m\u001b[0;34m.\u001b[0m\u001b[0mshape\u001b[0m\u001b[0;34m)\u001b[0m\u001b[0;34m\u001b[0m\u001b[0;34m\u001b[0m\u001b[0m\n",
      "\u001b[0;32m~/miniconda3/envs/ML/lib/python3.7/site-packages/torch/nn/modules/module.py\u001b[0m in \u001b[0;36m__call__\u001b[0;34m(self, *input, **kwargs)\u001b[0m\n\u001b[1;32m    487\u001b[0m             \u001b[0mresult\u001b[0m \u001b[0;34m=\u001b[0m \u001b[0mself\u001b[0m\u001b[0;34m.\u001b[0m\u001b[0m_slow_forward\u001b[0m\u001b[0;34m(\u001b[0m\u001b[0;34m*\u001b[0m\u001b[0minput\u001b[0m\u001b[0;34m,\u001b[0m \u001b[0;34m**\u001b[0m\u001b[0mkwargs\u001b[0m\u001b[0;34m)\u001b[0m\u001b[0;34m\u001b[0m\u001b[0;34m\u001b[0m\u001b[0m\n\u001b[1;32m    488\u001b[0m         \u001b[0;32melse\u001b[0m\u001b[0;34m:\u001b[0m\u001b[0;34m\u001b[0m\u001b[0;34m\u001b[0m\u001b[0m\n\u001b[0;32m--> 489\u001b[0;31m             \u001b[0mresult\u001b[0m \u001b[0;34m=\u001b[0m \u001b[0mself\u001b[0m\u001b[0;34m.\u001b[0m\u001b[0mforward\u001b[0m\u001b[0;34m(\u001b[0m\u001b[0;34m*\u001b[0m\u001b[0minput\u001b[0m\u001b[0;34m,\u001b[0m \u001b[0;34m**\u001b[0m\u001b[0mkwargs\u001b[0m\u001b[0;34m)\u001b[0m\u001b[0;34m\u001b[0m\u001b[0;34m\u001b[0m\u001b[0m\n\u001b[0m\u001b[1;32m    490\u001b[0m         \u001b[0;32mfor\u001b[0m \u001b[0mhook\u001b[0m \u001b[0;32min\u001b[0m \u001b[0mself\u001b[0m\u001b[0;34m.\u001b[0m\u001b[0m_forward_hooks\u001b[0m\u001b[0;34m.\u001b[0m\u001b[0mvalues\u001b[0m\u001b[0;34m(\u001b[0m\u001b[0;34m)\u001b[0m\u001b[0;34m:\u001b[0m\u001b[0;34m\u001b[0m\u001b[0;34m\u001b[0m\u001b[0m\n\u001b[1;32m    491\u001b[0m             \u001b[0mhook_result\u001b[0m \u001b[0;34m=\u001b[0m \u001b[0mhook\u001b[0m\u001b[0;34m(\u001b[0m\u001b[0mself\u001b[0m\u001b[0;34m,\u001b[0m \u001b[0minput\u001b[0m\u001b[0;34m,\u001b[0m \u001b[0mresult\u001b[0m\u001b[0;34m)\u001b[0m\u001b[0;34m\u001b[0m\u001b[0;34m\u001b[0m\u001b[0m\n",
      "\u001b[0;32m~/miniconda3/envs/ML/lib/python3.7/site-packages/torch/nn/modules/linear.py\u001b[0m in \u001b[0;36mforward\u001b[0;34m(self, input)\u001b[0m\n\u001b[1;32m     65\u001b[0m     \u001b[0;34m@\u001b[0m\u001b[0mweak_script_method\u001b[0m\u001b[0;34m\u001b[0m\u001b[0;34m\u001b[0m\u001b[0m\n\u001b[1;32m     66\u001b[0m     \u001b[0;32mdef\u001b[0m \u001b[0mforward\u001b[0m\u001b[0;34m(\u001b[0m\u001b[0mself\u001b[0m\u001b[0;34m,\u001b[0m \u001b[0minput\u001b[0m\u001b[0;34m)\u001b[0m\u001b[0;34m:\u001b[0m\u001b[0;34m\u001b[0m\u001b[0;34m\u001b[0m\u001b[0m\n\u001b[0;32m---> 67\u001b[0;31m         \u001b[0;32mreturn\u001b[0m \u001b[0mF\u001b[0m\u001b[0;34m.\u001b[0m\u001b[0mlinear\u001b[0m\u001b[0;34m(\u001b[0m\u001b[0minput\u001b[0m\u001b[0;34m,\u001b[0m \u001b[0mself\u001b[0m\u001b[0;34m.\u001b[0m\u001b[0mweight\u001b[0m\u001b[0;34m,\u001b[0m \u001b[0mself\u001b[0m\u001b[0;34m.\u001b[0m\u001b[0mbias\u001b[0m\u001b[0;34m)\u001b[0m\u001b[0;34m\u001b[0m\u001b[0;34m\u001b[0m\u001b[0m\n\u001b[0m\u001b[1;32m     68\u001b[0m \u001b[0;34m\u001b[0m\u001b[0m\n\u001b[1;32m     69\u001b[0m     \u001b[0;32mdef\u001b[0m \u001b[0mextra_repr\u001b[0m\u001b[0;34m(\u001b[0m\u001b[0mself\u001b[0m\u001b[0;34m)\u001b[0m\u001b[0;34m:\u001b[0m\u001b[0;34m\u001b[0m\u001b[0;34m\u001b[0m\u001b[0m\n",
      "\u001b[0;32m~/miniconda3/envs/ML/lib/python3.7/site-packages/torch/nn/functional.py\u001b[0m in \u001b[0;36mlinear\u001b[0;34m(input, weight, bias)\u001b[0m\n\u001b[1;32m   1352\u001b[0m         \u001b[0mret\u001b[0m \u001b[0;34m=\u001b[0m \u001b[0mtorch\u001b[0m\u001b[0;34m.\u001b[0m\u001b[0maddmm\u001b[0m\u001b[0;34m(\u001b[0m\u001b[0mtorch\u001b[0m\u001b[0;34m.\u001b[0m\u001b[0mjit\u001b[0m\u001b[0;34m.\u001b[0m\u001b[0m_unwrap_optional\u001b[0m\u001b[0;34m(\u001b[0m\u001b[0mbias\u001b[0m\u001b[0;34m)\u001b[0m\u001b[0;34m,\u001b[0m \u001b[0minput\u001b[0m\u001b[0;34m,\u001b[0m \u001b[0mweight\u001b[0m\u001b[0;34m.\u001b[0m\u001b[0mt\u001b[0m\u001b[0;34m(\u001b[0m\u001b[0;34m)\u001b[0m\u001b[0;34m)\u001b[0m\u001b[0;34m\u001b[0m\u001b[0;34m\u001b[0m\u001b[0m\n\u001b[1;32m   1353\u001b[0m     \u001b[0;32melse\u001b[0m\u001b[0;34m:\u001b[0m\u001b[0;34m\u001b[0m\u001b[0;34m\u001b[0m\u001b[0m\n\u001b[0;32m-> 1354\u001b[0;31m         \u001b[0moutput\u001b[0m \u001b[0;34m=\u001b[0m \u001b[0minput\u001b[0m\u001b[0;34m.\u001b[0m\u001b[0mmatmul\u001b[0m\u001b[0;34m(\u001b[0m\u001b[0mweight\u001b[0m\u001b[0;34m.\u001b[0m\u001b[0mt\u001b[0m\u001b[0;34m(\u001b[0m\u001b[0;34m)\u001b[0m\u001b[0;34m)\u001b[0m\u001b[0;34m\u001b[0m\u001b[0;34m\u001b[0m\u001b[0m\n\u001b[0m\u001b[1;32m   1355\u001b[0m         \u001b[0;32mif\u001b[0m \u001b[0mbias\u001b[0m \u001b[0;32mis\u001b[0m \u001b[0;32mnot\u001b[0m \u001b[0;32mNone\u001b[0m\u001b[0;34m:\u001b[0m\u001b[0;34m\u001b[0m\u001b[0;34m\u001b[0m\u001b[0m\n\u001b[1;32m   1356\u001b[0m             \u001b[0moutput\u001b[0m \u001b[0;34m+=\u001b[0m \u001b[0mtorch\u001b[0m\u001b[0;34m.\u001b[0m\u001b[0mjit\u001b[0m\u001b[0;34m.\u001b[0m\u001b[0m_unwrap_optional\u001b[0m\u001b[0;34m(\u001b[0m\u001b[0mbias\u001b[0m\u001b[0;34m)\u001b[0m\u001b[0;34m\u001b[0m\u001b[0;34m\u001b[0m\u001b[0m\n",
      "\u001b[0;31mRuntimeError\u001b[0m: size mismatch, m1: [2048 x 1], m2: [2048 x 1] at /opt/conda/conda-bld/pytorch_1549636813070/work/aten/src/TH/generic/THTensorMath.cpp:940"
     ]
    }
   ],
   "source": [
    "x = None\n",
    "for param in model.children():\n",
    "    \n",
    "    print(param)\n",
    "    if x is None:\n",
    "        x = param(img)\n",
    "    else:\n",
    "        x = param(x)\n",
    "    print(x.shape)"
   ]
  },
  {
   "cell_type": "code",
   "execution_count": null,
   "metadata": {
    "ExecuteTime": {
     "end_time": "2019-03-08T11:35:18.787790Z",
     "start_time": "2019-03-08T11:35:18.785323Z"
    }
   },
   "outputs": [],
   "source": []
  },
  {
   "cell_type": "code",
   "execution_count": 17,
   "metadata": {
    "ExecuteTime": {
     "end_time": "2019-03-09T06:15:03.779701Z",
     "start_time": "2019-03-09T06:15:03.600793Z"
    }
   },
   "outputs": [
    {
     "name": "stdout",
     "output_type": "stream",
     "text": [
      "----------------------------------------------------------------\n",
      "        Layer (type)               Output Shape         Param #\n",
      "================================================================\n",
      "            Conv2d-1           [-1, 64, 48, 48]           9,408\n",
      "            Conv2d-2          [-1, 128, 48, 48]           8,192\n",
      "       BatchNorm2d-3          [-1, 128, 48, 48]             256\n",
      "              ReLU-4          [-1, 128, 48, 48]               0\n",
      "            Conv2d-5          [-1, 128, 48, 48]           4,608\n",
      "       BatchNorm2d-6          [-1, 128, 48, 48]             256\n",
      "              ReLU-7          [-1, 128, 48, 48]               0\n",
      "            Conv2d-8          [-1, 256, 48, 48]          32,768\n",
      "       BatchNorm2d-9          [-1, 256, 48, 48]             512\n",
      "           Conv2d-10          [-1, 256, 48, 48]          16,384\n",
      "      BatchNorm2d-11          [-1, 256, 48, 48]             512\n",
      "AdaptiveAvgPool2d-12            [-1, 256, 1, 1]               0\n",
      "           Conv2d-13             [-1, 16, 1, 1]           4,112\n",
      "             ReLU-14             [-1, 16, 1, 1]               0\n",
      "           Conv2d-15            [-1, 256, 1, 1]           4,352\n",
      "          Sigmoid-16            [-1, 256, 1, 1]               0\n",
      "         SEModule-17          [-1, 256, 48, 48]               0\n",
      "             ReLU-18          [-1, 256, 48, 48]               0\n",
      "SEResNeXtBottleneck-19          [-1, 256, 48, 48]               0\n",
      "           Conv2d-20          [-1, 128, 48, 48]          32,768\n",
      "      BatchNorm2d-21          [-1, 128, 48, 48]             256\n",
      "             ReLU-22          [-1, 128, 48, 48]               0\n",
      "           Conv2d-23          [-1, 128, 48, 48]           4,608\n",
      "      BatchNorm2d-24          [-1, 128, 48, 48]             256\n",
      "             ReLU-25          [-1, 128, 48, 48]               0\n",
      "           Conv2d-26          [-1, 256, 48, 48]          32,768\n",
      "      BatchNorm2d-27          [-1, 256, 48, 48]             512\n",
      "AdaptiveAvgPool2d-28            [-1, 256, 1, 1]               0\n",
      "           Conv2d-29             [-1, 16, 1, 1]           4,112\n",
      "             ReLU-30             [-1, 16, 1, 1]               0\n",
      "           Conv2d-31            [-1, 256, 1, 1]           4,352\n",
      "          Sigmoid-32            [-1, 256, 1, 1]               0\n",
      "         SEModule-33          [-1, 256, 48, 48]               0\n",
      "             ReLU-34          [-1, 256, 48, 48]               0\n",
      "SEResNeXtBottleneck-35          [-1, 256, 48, 48]               0\n",
      "           Conv2d-36          [-1, 128, 48, 48]          32,768\n",
      "      BatchNorm2d-37          [-1, 128, 48, 48]             256\n",
      "             ReLU-38          [-1, 128, 48, 48]               0\n",
      "           Conv2d-39          [-1, 128, 48, 48]           4,608\n",
      "      BatchNorm2d-40          [-1, 128, 48, 48]             256\n",
      "             ReLU-41          [-1, 128, 48, 48]               0\n",
      "           Conv2d-42          [-1, 256, 48, 48]          32,768\n",
      "      BatchNorm2d-43          [-1, 256, 48, 48]             512\n",
      "AdaptiveAvgPool2d-44            [-1, 256, 1, 1]               0\n",
      "           Conv2d-45             [-1, 16, 1, 1]           4,112\n",
      "             ReLU-46             [-1, 16, 1, 1]               0\n",
      "           Conv2d-47            [-1, 256, 1, 1]           4,352\n",
      "          Sigmoid-48            [-1, 256, 1, 1]               0\n",
      "         SEModule-49          [-1, 256, 48, 48]               0\n",
      "             ReLU-50          [-1, 256, 48, 48]               0\n",
      "SEResNeXtBottleneck-51          [-1, 256, 48, 48]               0\n",
      "           Conv2d-52          [-1, 256, 48, 48]          65,536\n",
      "      BatchNorm2d-53          [-1, 256, 48, 48]             512\n",
      "             ReLU-54          [-1, 256, 48, 48]               0\n",
      "           Conv2d-55          [-1, 256, 24, 24]          18,432\n",
      "      BatchNorm2d-56          [-1, 256, 24, 24]             512\n",
      "             ReLU-57          [-1, 256, 24, 24]               0\n",
      "           Conv2d-58          [-1, 512, 24, 24]         131,072\n",
      "      BatchNorm2d-59          [-1, 512, 24, 24]           1,024\n",
      "           Conv2d-60          [-1, 512, 24, 24]         131,072\n",
      "      BatchNorm2d-61          [-1, 512, 24, 24]           1,024\n",
      "AdaptiveAvgPool2d-62            [-1, 512, 1, 1]               0\n",
      "           Conv2d-63             [-1, 32, 1, 1]          16,416\n",
      "             ReLU-64             [-1, 32, 1, 1]               0\n",
      "           Conv2d-65            [-1, 512, 1, 1]          16,896\n",
      "          Sigmoid-66            [-1, 512, 1, 1]               0\n",
      "         SEModule-67          [-1, 512, 24, 24]               0\n",
      "             ReLU-68          [-1, 512, 24, 24]               0\n",
      "SEResNeXtBottleneck-69          [-1, 512, 24, 24]               0\n",
      "           Conv2d-70          [-1, 256, 24, 24]         131,072\n",
      "      BatchNorm2d-71          [-1, 256, 24, 24]             512\n",
      "             ReLU-72          [-1, 256, 24, 24]               0\n",
      "           Conv2d-73          [-1, 256, 24, 24]          18,432\n",
      "      BatchNorm2d-74          [-1, 256, 24, 24]             512\n",
      "             ReLU-75          [-1, 256, 24, 24]               0\n",
      "           Conv2d-76          [-1, 512, 24, 24]         131,072\n",
      "      BatchNorm2d-77          [-1, 512, 24, 24]           1,024\n",
      "AdaptiveAvgPool2d-78            [-1, 512, 1, 1]               0\n",
      "           Conv2d-79             [-1, 32, 1, 1]          16,416\n",
      "             ReLU-80             [-1, 32, 1, 1]               0\n",
      "           Conv2d-81            [-1, 512, 1, 1]          16,896\n",
      "          Sigmoid-82            [-1, 512, 1, 1]               0\n",
      "         SEModule-83          [-1, 512, 24, 24]               0\n",
      "             ReLU-84          [-1, 512, 24, 24]               0\n",
      "SEResNeXtBottleneck-85          [-1, 512, 24, 24]               0\n",
      "           Conv2d-86          [-1, 256, 24, 24]         131,072\n",
      "      BatchNorm2d-87          [-1, 256, 24, 24]             512\n",
      "             ReLU-88          [-1, 256, 24, 24]               0\n",
      "           Conv2d-89          [-1, 256, 24, 24]          18,432\n",
      "      BatchNorm2d-90          [-1, 256, 24, 24]             512\n",
      "             ReLU-91          [-1, 256, 24, 24]               0\n",
      "           Conv2d-92          [-1, 512, 24, 24]         131,072\n",
      "      BatchNorm2d-93          [-1, 512, 24, 24]           1,024\n",
      "AdaptiveAvgPool2d-94            [-1, 512, 1, 1]               0\n",
      "           Conv2d-95             [-1, 32, 1, 1]          16,416\n",
      "             ReLU-96             [-1, 32, 1, 1]               0\n",
      "           Conv2d-97            [-1, 512, 1, 1]          16,896\n",
      "          Sigmoid-98            [-1, 512, 1, 1]               0\n",
      "         SEModule-99          [-1, 512, 24, 24]               0\n",
      "            ReLU-100          [-1, 512, 24, 24]               0\n",
      "SEResNeXtBottleneck-101          [-1, 512, 24, 24]               0\n",
      "          Conv2d-102          [-1, 256, 24, 24]         131,072\n",
      "     BatchNorm2d-103          [-1, 256, 24, 24]             512\n",
      "            ReLU-104          [-1, 256, 24, 24]               0\n",
      "          Conv2d-105          [-1, 256, 24, 24]          18,432\n",
      "     BatchNorm2d-106          [-1, 256, 24, 24]             512\n",
      "            ReLU-107          [-1, 256, 24, 24]               0\n",
      "          Conv2d-108          [-1, 512, 24, 24]         131,072\n",
      "     BatchNorm2d-109          [-1, 512, 24, 24]           1,024\n",
      "AdaptiveAvgPool2d-110            [-1, 512, 1, 1]               0\n",
      "          Conv2d-111             [-1, 32, 1, 1]          16,416\n",
      "            ReLU-112             [-1, 32, 1, 1]               0\n",
      "          Conv2d-113            [-1, 512, 1, 1]          16,896\n",
      "         Sigmoid-114            [-1, 512, 1, 1]               0\n",
      "        SEModule-115          [-1, 512, 24, 24]               0\n",
      "            ReLU-116          [-1, 512, 24, 24]               0\n",
      "SEResNeXtBottleneck-117          [-1, 512, 24, 24]               0\n",
      "          Conv2d-118          [-1, 512, 24, 24]         262,144\n",
      "     BatchNorm2d-119          [-1, 512, 24, 24]           1,024\n",
      "            ReLU-120          [-1, 512, 24, 24]               0\n",
      "          Conv2d-121          [-1, 512, 12, 12]          73,728\n",
      "     BatchNorm2d-122          [-1, 512, 12, 12]           1,024\n",
      "            ReLU-123          [-1, 512, 12, 12]               0\n",
      "          Conv2d-124         [-1, 1024, 12, 12]         524,288\n",
      "     BatchNorm2d-125         [-1, 1024, 12, 12]           2,048\n",
      "          Conv2d-126         [-1, 1024, 12, 12]         524,288\n",
      "     BatchNorm2d-127         [-1, 1024, 12, 12]           2,048\n",
      "AdaptiveAvgPool2d-128           [-1, 1024, 1, 1]               0\n",
      "          Conv2d-129             [-1, 64, 1, 1]          65,600\n",
      "            ReLU-130             [-1, 64, 1, 1]               0\n",
      "          Conv2d-131           [-1, 1024, 1, 1]          66,560\n",
      "         Sigmoid-132           [-1, 1024, 1, 1]               0\n",
      "        SEModule-133         [-1, 1024, 12, 12]               0\n",
      "            ReLU-134         [-1, 1024, 12, 12]               0\n",
      "SEResNeXtBottleneck-135         [-1, 1024, 12, 12]               0\n",
      "          Conv2d-136          [-1, 512, 12, 12]         524,288\n",
      "     BatchNorm2d-137          [-1, 512, 12, 12]           1,024\n",
      "            ReLU-138          [-1, 512, 12, 12]               0\n",
      "          Conv2d-139          [-1, 512, 12, 12]          73,728\n",
      "     BatchNorm2d-140          [-1, 512, 12, 12]           1,024\n",
      "            ReLU-141          [-1, 512, 12, 12]               0\n",
      "          Conv2d-142         [-1, 1024, 12, 12]         524,288\n",
      "     BatchNorm2d-143         [-1, 1024, 12, 12]           2,048\n",
      "AdaptiveAvgPool2d-144           [-1, 1024, 1, 1]               0\n",
      "          Conv2d-145             [-1, 64, 1, 1]          65,600\n",
      "            ReLU-146             [-1, 64, 1, 1]               0\n",
      "          Conv2d-147           [-1, 1024, 1, 1]          66,560\n",
      "         Sigmoid-148           [-1, 1024, 1, 1]               0\n",
      "        SEModule-149         [-1, 1024, 12, 12]               0\n",
      "            ReLU-150         [-1, 1024, 12, 12]               0\n",
      "SEResNeXtBottleneck-151         [-1, 1024, 12, 12]               0\n",
      "          Conv2d-152          [-1, 512, 12, 12]         524,288\n",
      "     BatchNorm2d-153          [-1, 512, 12, 12]           1,024\n",
      "            ReLU-154          [-1, 512, 12, 12]               0\n",
      "          Conv2d-155          [-1, 512, 12, 12]          73,728\n",
      "     BatchNorm2d-156          [-1, 512, 12, 12]           1,024\n",
      "            ReLU-157          [-1, 512, 12, 12]               0\n",
      "          Conv2d-158         [-1, 1024, 12, 12]         524,288\n",
      "     BatchNorm2d-159         [-1, 1024, 12, 12]           2,048\n",
      "AdaptiveAvgPool2d-160           [-1, 1024, 1, 1]               0\n",
      "          Conv2d-161             [-1, 64, 1, 1]          65,600\n",
      "            ReLU-162             [-1, 64, 1, 1]               0\n",
      "          Conv2d-163           [-1, 1024, 1, 1]          66,560\n",
      "         Sigmoid-164           [-1, 1024, 1, 1]               0\n",
      "        SEModule-165         [-1, 1024, 12, 12]               0\n",
      "            ReLU-166         [-1, 1024, 12, 12]               0\n",
      "SEResNeXtBottleneck-167         [-1, 1024, 12, 12]               0\n",
      "          Conv2d-168          [-1, 512, 12, 12]         524,288\n",
      "     BatchNorm2d-169          [-1, 512, 12, 12]           1,024\n",
      "            ReLU-170          [-1, 512, 12, 12]               0\n",
      "          Conv2d-171          [-1, 512, 12, 12]          73,728\n",
      "     BatchNorm2d-172          [-1, 512, 12, 12]           1,024\n",
      "            ReLU-173          [-1, 512, 12, 12]               0\n",
      "          Conv2d-174         [-1, 1024, 12, 12]         524,288\n",
      "     BatchNorm2d-175         [-1, 1024, 12, 12]           2,048\n",
      "AdaptiveAvgPool2d-176           [-1, 1024, 1, 1]               0\n",
      "          Conv2d-177             [-1, 64, 1, 1]          65,600\n",
      "            ReLU-178             [-1, 64, 1, 1]               0\n",
      "          Conv2d-179           [-1, 1024, 1, 1]          66,560\n",
      "         Sigmoid-180           [-1, 1024, 1, 1]               0\n",
      "        SEModule-181         [-1, 1024, 12, 12]               0\n",
      "            ReLU-182         [-1, 1024, 12, 12]               0\n",
      "SEResNeXtBottleneck-183         [-1, 1024, 12, 12]               0\n",
      "          Conv2d-184          [-1, 512, 12, 12]         524,288\n",
      "     BatchNorm2d-185          [-1, 512, 12, 12]           1,024\n",
      "            ReLU-186          [-1, 512, 12, 12]               0\n",
      "          Conv2d-187          [-1, 512, 12, 12]          73,728\n",
      "     BatchNorm2d-188          [-1, 512, 12, 12]           1,024\n",
      "            ReLU-189          [-1, 512, 12, 12]               0\n",
      "          Conv2d-190         [-1, 1024, 12, 12]         524,288\n",
      "     BatchNorm2d-191         [-1, 1024, 12, 12]           2,048\n",
      "AdaptiveAvgPool2d-192           [-1, 1024, 1, 1]               0\n",
      "          Conv2d-193             [-1, 64, 1, 1]          65,600\n",
      "            ReLU-194             [-1, 64, 1, 1]               0\n",
      "          Conv2d-195           [-1, 1024, 1, 1]          66,560\n",
      "         Sigmoid-196           [-1, 1024, 1, 1]               0\n",
      "        SEModule-197         [-1, 1024, 12, 12]               0\n",
      "            ReLU-198         [-1, 1024, 12, 12]               0\n",
      "SEResNeXtBottleneck-199         [-1, 1024, 12, 12]               0\n",
      "          Conv2d-200          [-1, 512, 12, 12]         524,288\n",
      "     BatchNorm2d-201          [-1, 512, 12, 12]           1,024\n",
      "            ReLU-202          [-1, 512, 12, 12]               0\n",
      "          Conv2d-203          [-1, 512, 12, 12]          73,728\n",
      "     BatchNorm2d-204          [-1, 512, 12, 12]           1,024\n",
      "            ReLU-205          [-1, 512, 12, 12]               0\n",
      "          Conv2d-206         [-1, 1024, 12, 12]         524,288\n",
      "     BatchNorm2d-207         [-1, 1024, 12, 12]           2,048\n",
      "AdaptiveAvgPool2d-208           [-1, 1024, 1, 1]               0\n",
      "          Conv2d-209             [-1, 64, 1, 1]          65,600\n",
      "            ReLU-210             [-1, 64, 1, 1]               0\n",
      "          Conv2d-211           [-1, 1024, 1, 1]          66,560\n",
      "         Sigmoid-212           [-1, 1024, 1, 1]               0\n",
      "        SEModule-213         [-1, 1024, 12, 12]               0\n",
      "            ReLU-214         [-1, 1024, 12, 12]               0\n",
      "SEResNeXtBottleneck-215         [-1, 1024, 12, 12]               0\n",
      "          Conv2d-216         [-1, 1024, 12, 12]       1,048,576\n",
      "     BatchNorm2d-217         [-1, 1024, 12, 12]           2,048\n",
      "            ReLU-218         [-1, 1024, 12, 12]               0\n",
      "          Conv2d-219           [-1, 1024, 6, 6]         294,912\n",
      "     BatchNorm2d-220           [-1, 1024, 6, 6]           2,048\n",
      "            ReLU-221           [-1, 1024, 6, 6]               0\n",
      "          Conv2d-222           [-1, 2048, 6, 6]       2,097,152\n",
      "     BatchNorm2d-223           [-1, 2048, 6, 6]           4,096\n",
      "          Conv2d-224           [-1, 2048, 6, 6]       2,097,152\n",
      "     BatchNorm2d-225           [-1, 2048, 6, 6]           4,096\n",
      "AdaptiveAvgPool2d-226           [-1, 2048, 1, 1]               0\n",
      "          Conv2d-227            [-1, 128, 1, 1]         262,272\n",
      "            ReLU-228            [-1, 128, 1, 1]               0\n",
      "          Conv2d-229           [-1, 2048, 1, 1]         264,192\n",
      "         Sigmoid-230           [-1, 2048, 1, 1]               0\n",
      "        SEModule-231           [-1, 2048, 6, 6]               0\n",
      "            ReLU-232           [-1, 2048, 6, 6]               0\n",
      "SEResNeXtBottleneck-233           [-1, 2048, 6, 6]               0\n",
      "          Conv2d-234           [-1, 1024, 6, 6]       2,097,152\n",
      "     BatchNorm2d-235           [-1, 1024, 6, 6]           2,048\n",
      "            ReLU-236           [-1, 1024, 6, 6]               0\n",
      "          Conv2d-237           [-1, 1024, 6, 6]         294,912\n",
      "     BatchNorm2d-238           [-1, 1024, 6, 6]           2,048\n",
      "            ReLU-239           [-1, 1024, 6, 6]               0\n",
      "          Conv2d-240           [-1, 2048, 6, 6]       2,097,152\n",
      "     BatchNorm2d-241           [-1, 2048, 6, 6]           4,096\n",
      "AdaptiveAvgPool2d-242           [-1, 2048, 1, 1]               0\n",
      "          Conv2d-243            [-1, 128, 1, 1]         262,272\n",
      "            ReLU-244            [-1, 128, 1, 1]               0\n",
      "          Conv2d-245           [-1, 2048, 1, 1]         264,192\n",
      "         Sigmoid-246           [-1, 2048, 1, 1]               0\n",
      "        SEModule-247           [-1, 2048, 6, 6]               0\n",
      "            ReLU-248           [-1, 2048, 6, 6]               0\n",
      "SEResNeXtBottleneck-249           [-1, 2048, 6, 6]               0\n",
      "          Conv2d-250           [-1, 1024, 6, 6]       2,097,152\n",
      "     BatchNorm2d-251           [-1, 1024, 6, 6]           2,048\n",
      "            ReLU-252           [-1, 1024, 6, 6]               0\n",
      "          Conv2d-253           [-1, 1024, 6, 6]         294,912\n",
      "     BatchNorm2d-254           [-1, 1024, 6, 6]           2,048\n",
      "            ReLU-255           [-1, 1024, 6, 6]               0\n",
      "          Conv2d-256           [-1, 2048, 6, 6]       2,097,152\n",
      "     BatchNorm2d-257           [-1, 2048, 6, 6]           4,096\n",
      "AdaptiveAvgPool2d-258           [-1, 2048, 1, 1]               0\n",
      "          Conv2d-259            [-1, 128, 1, 1]         262,272\n",
      "            ReLU-260            [-1, 128, 1, 1]               0\n",
      "          Conv2d-261           [-1, 2048, 1, 1]         264,192\n",
      "         Sigmoid-262           [-1, 2048, 1, 1]               0\n",
      "        SEModule-263           [-1, 2048, 6, 6]               0\n",
      "            ReLU-264           [-1, 2048, 6, 6]               0\n",
      "SEResNeXtBottleneck-265           [-1, 2048, 6, 6]               0\n",
      "AdaptiveAvgPool2d-266           [-1, 2048, 1, 1]               0\n",
      "          Linear-267                    [-1, 1]           2,049\n",
      "================================================================\n",
      "Total params: 25,512,817\n",
      "Trainable params: 25,512,817\n",
      "Non-trainable params: 0\n",
      "----------------------------------------------------------------\n",
      "Input size (MB): 0.11\n",
      "Forward/backward pass size (MB): 283.59\n",
      "Params size (MB): 97.32\n",
      "Estimated Total Size (MB): 381.02\n",
      "----------------------------------------------------------------\n"
     ]
    }
   ],
   "source": [
    "summary(model, input_size=(3, 96, 96))\n",
    "#summary(model, input_size=(3, 112, 112))\n",
    "#summary(model, input_size=(3, 224, 224))"
   ]
  },
  {
   "cell_type": "code",
   "execution_count": null,
   "metadata": {
    "ExecuteTime": {
     "end_time": "2019-03-07T17:02:41.321554Z",
     "start_time": "2019-03-07T17:02:41.319844Z"
    }
   },
   "outputs": [],
   "source": [
    " \n",
    "from albumentations import *"
   ]
  },
  {
   "cell_type": "code",
   "execution_count": null,
   "metadata": {
    "ExecuteTime": {
     "end_time": "2019-03-06T19:49:56.133969Z",
     "start_time": "2019-03-06T19:49:56.121591Z"
    }
   },
   "outputs": [],
   "source": [
    "train_aug = Compose([\n",
    "    Resize(224, 224),\n",
    "    RandomRotate90(p=0.5),\n",
    "    Transpose(p=0.5),\n",
    "    Flip(p=0.5),\n",
    "    OneOf([CLAHE(clip_limit=2), IAASharpen(), IAAEmboss(), RandomBrightnessContrast(), JpegCompression(), Blur(), GaussNoise() ], p=0.5), \n",
    "    HueSaturationValue(p=0.5), \n",
    "    ShiftScaleRotate(shift_limit=0.15, scale_limit=0.15, rotate_limit=45, p=0.5),\n",
    "    Normalize(p=1)\n",
    "])\n",
    "val_aug = Compose([\n",
    "    Normalize(p=1)\n",
    "])\n"
   ]
  },
  {
   "cell_type": "code",
   "execution_count": null,
   "metadata": {
    "ExecuteTime": {
     "end_time": "2019-03-06T19:31:03.163990Z",
     "start_time": "2019-03-06T19:31:03.157942Z"
    }
   },
   "outputs": [],
   "source": [
    "ShiftScaleRotate?"
   ]
  },
  {
   "cell_type": "code",
   "execution_count": null,
   "metadata": {
    "ExecuteTime": {
     "end_time": "2019-03-06T19:44:45.537627Z",
     "start_time": "2019-03-06T19:44:45.529612Z"
    }
   },
   "outputs": [],
   "source": [
    "Normalize?"
   ]
  },
  {
   "cell_type": "code",
   "execution_count": null,
   "metadata": {
    "ExecuteTime": {
     "end_time": "2019-03-06T19:53:46.931709Z",
     "start_time": "2019-03-06T19:53:46.926445Z"
    }
   },
   "outputs": [],
   "source": [
    "train_aug?"
   ]
  },
  {
   "cell_type": "code",
   "execution_count": null,
   "metadata": {},
   "outputs": [],
   "source": []
  },
  {
   "cell_type": "code",
   "execution_count": null,
   "metadata": {},
   "outputs": [],
   "source": []
  },
  {
   "cell_type": "code",
   "execution_count": null,
   "metadata": {},
   "outputs": [],
   "source": []
  },
  {
   "cell_type": "code",
   "execution_count": null,
   "metadata": {},
   "outputs": [],
   "source": []
  },
  {
   "cell_type": "markdown",
   "metadata": {},
   "source": [
    "##### AUC ROC"
   ]
  },
  {
   "cell_type": "code",
   "execution_count": null,
   "metadata": {
    "ExecuteTime": {
     "end_time": "2019-03-08T10:02:30.215552Z",
     "start_time": "2019-03-08T10:02:30.153939Z"
    }
   },
   "outputs": [],
   "source": [
    "# roc curve and auc\n",
    "from sklearn.datasets import make_classification\n",
    "from sklearn.neighbors import KNeighborsClassifier\n",
    "from sklearn.model_selection import train_test_split\n",
    "from sklearn.metrics import roc_curve\n",
    "from sklearn.metrics import roc_auc_score\n",
    "from matplotlib import pyplot\n",
    "# generate 2 class dataset\n",
    "X, y = make_classification(n_samples=1000, n_classes=2, weights=[1,1], random_state=1)\n",
    "# split into train/test sets\n",
    "trainX, testX, trainy, testy = train_test_split(X, y, test_size=0.5, random_state=2)\n",
    "# fit a model\n",
    "model = KNeighborsClassifier(n_neighbors=3)\n",
    "model.fit(trainX, trainy)\n",
    "# predict probabilities\n",
    "probs = model.predict_proba(testX)\n",
    "# keep probabilities for the positive outcome only\n",
    "probs = probs[:, 1]\n"
   ]
  },
  {
   "cell_type": "code",
   "execution_count": null,
   "metadata": {
    "ExecuteTime": {
     "end_time": "2019-03-08T10:02:30.465574Z",
     "start_time": "2019-03-08T10:02:30.463109Z"
    }
   },
   "outputs": [],
   "source": [
    "testy.shape, probs.shape"
   ]
  },
  {
   "cell_type": "code",
   "execution_count": null,
   "metadata": {
    "ExecuteTime": {
     "end_time": "2019-03-08T10:02:30.845448Z",
     "start_time": "2019-03-08T10:02:30.836471Z"
    }
   },
   "outputs": [],
   "source": [
    "fpr, tpr, thresholds"
   ]
  },
  {
   "cell_type": "code",
   "execution_count": null,
   "metadata": {
    "ExecuteTime": {
     "end_time": "2019-03-08T10:02:31.264875Z",
     "start_time": "2019-03-08T10:02:31.146065Z"
    }
   },
   "outputs": [],
   "source": [
    "# calculate AUC\n",
    "auc = roc_auc_score(testy, probs)\n",
    "print('AUC: %.3f' % auc)\n",
    "# calculate roc curve\n",
    "fpr, tpr, thresholds = roc_curve(testy, probs)\n",
    "# plot no skill\n",
    "pyplot.plot([0, 1], [0, 1], linestyle='--')\n",
    "pyplot.plot([0, 1], [0, 1], linestyle='--')\n",
    "# plot the roc curve for the model\n",
    "pyplot.plot(fpr, tpr, marker='.')\n",
    "# show the plot\n",
    "pyplot.show()"
   ]
  },
  {
   "cell_type": "code",
   "execution_count": null,
   "metadata": {
    "ExecuteTime": {
     "end_time": "2019-03-08T10:02:56.747940Z",
     "start_time": "2019-03-08T10:02:56.730493Z"
    }
   },
   "outputs": [],
   "source": [
    "pyplot.savefig('lol.png')"
   ]
  },
  {
   "cell_type": "code",
   "execution_count": null,
   "metadata": {
    "ExecuteTime": {
     "end_time": "2019-03-08T10:09:53.385157Z",
     "start_time": "2019-03-08T10:09:53.383301Z"
    }
   },
   "outputs": [],
   "source": [
    "pyplot.close('all')"
   ]
  },
  {
   "cell_type": "code",
   "execution_count": null,
   "metadata": {},
   "outputs": [],
   "source": []
  },
  {
   "cell_type": "code",
   "execution_count": null,
   "metadata": {},
   "outputs": [],
   "source": []
  },
  {
   "cell_type": "code",
   "execution_count": 47,
   "metadata": {
    "ExecuteTime": {
     "end_time": "2019-03-08T15:51:37.862255Z",
     "start_time": "2019-03-08T15:51:37.842994Z"
    }
   },
   "outputs": [],
   "source": [
    "import apex"
   ]
  },
  {
   "cell_type": "code",
   "execution_count": 48,
   "metadata": {
    "ExecuteTime": {
     "end_time": "2019-03-08T15:51:44.186094Z",
     "start_time": "2019-03-08T15:51:44.182599Z"
    }
   },
   "outputs": [],
   "source": [
    "apex.amp.?"
   ]
  },
  {
   "cell_type": "code",
   "execution_count": null,
   "metadata": {},
   "outputs": [],
   "source": []
  }
 ],
 "metadata": {
  "kernelspec": {
   "display_name": "ML",
   "language": "python",
   "name": "ml"
  },
  "language_info": {
   "codemirror_mode": {
    "name": "ipython",
    "version": 3
   },
   "file_extension": ".py",
   "mimetype": "text/x-python",
   "name": "python",
   "nbconvert_exporter": "python",
   "pygments_lexer": "ipython3",
   "version": "3.7.2"
  }
 },
 "nbformat": 4,
 "nbformat_minor": 2
}
